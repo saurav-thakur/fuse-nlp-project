{
 "cells": [
  {
   "cell_type": "code",
   "execution_count": 22,
   "metadata": {},
   "outputs": [],
   "source": [
    "import numpy as np\n",
    "import pandas as pd\n",
    "import matplotlib.pyplot as plt\n",
    "import os\n",
    "from collections import defaultdict\n",
    "from typing import List"
   ]
  },
  {
   "cell_type": "code",
   "execution_count": 9,
   "metadata": {},
   "outputs": [
    {
     "data": {
      "text/plain": [
       "[' \\n',\n",
       " '\\n',\n",
       " 'Aneto Pi eth Asin\\n',\n",
       " '\\n',\n",
       " ' \\n',\n",
       " '\\n',\n",
       " '15 Fieerih Sie, WW\\n',\n",
       " 'Washing, DEP,\\n',\n",
       " '\\n',\n",
       " 'Mecvyn Sasser: MI\\n',\n",
       " 'Pvt In\\n',\n",
       " '\\n',\n",
       " 'December 30, 1992\\n',\n",
       " '\\n',\n",
       " '‘Mr. Brennan M. Dawson\\n',\n",
       " '\\n',\n",
       " '‘The Tobacco Institute\\n',\n",
       " '\\n',\n",
       " '1875 I Street, NW\\n',\n",
       " '\\n',\n",
       " 'Washington, DC 20006\\n',\n",
       " '\\n',\n",
       " \"Re: #92/92L Leuter re: The Tobacco Institute's ‘I's the Law’ Campaign,\\n\",\n",
       " 'Dear Mr. Dawson:\\n',\n",
       " '\\n',\n",
       " 'This note acknowledges the receipt ofthe revised version of your paper.\\n',\n",
       " '\\n',\n",
       " 'Please note that its number remains the same. You should refer to this number in all\\n',\n",
       " '\\n',\n",
       " 'future correspondence or inquiries.\\n',\n",
       " '\\n',\n",
       " 'Sincerely,\\n',\n",
       " '\\n',\n",
       " 'Sabine J. Beisler\\n',\n",
       " '‘Assistant Managing Editor\\n',\n",
       " '\\n',\n",
       " 'T11370-1696\\n',\n",
       " '\\x0c']"
      ]
     },
     "execution_count": 9,
     "metadata": {},
     "output_type": "execute_result"
    }
   ],
   "source": [
    "# reading the 0 Class dataset just to look at a file to see how data looks like.\n",
    "\n",
    "file_dir = \"../ML/data/ocr/0\"\n",
    "\n",
    "for i in os.listdir(file_dir):\n",
    "    with open(os.path.join(file_dir,i)) as f:\n",
    "        lines = f.readlines()\n",
    "    break\n",
    "lines"
   ]
  },
  {
   "cell_type": "code",
   "execution_count": 73,
   "metadata": {},
   "outputs": [],
   "source": [
    "# the function to collect the data\n",
    "\n",
    "def data_collection(classes, data,labels):\n",
    "\n",
    "    # iterating through each class\n",
    "    for each_class in classes:\n",
    "        file_dir = f\"../ML/data/ocr/{each_class}/\"\n",
    "\n",
    "        for i in os.listdir(file_dir):\n",
    "            with open(os.path.join(file_dir, i), 'r') as f:\n",
    "\n",
    "                # removing the unwanted spaces from left and right\n",
    "                lines = [line.strip() for line in f.readlines() if line.strip()]\n",
    "                \n",
    "                concatenated_lines = ' '.join(lines)\n",
    "                data.append(concatenated_lines)\n",
    "                labels.append(each_class)\n",
    "        print(f\"{each_class} label is done!!\")\n",
    "    print(\"Done!!\")\n"
   ]
  },
  {
   "cell_type": "code",
   "execution_count": 74,
   "metadata": {},
   "outputs": [
    {
     "name": "stdout",
     "output_type": "stream",
     "text": [
      "0 label is done!!\n",
      "2 label is done!!\n",
      "4 label is done!!\n",
      "6 label is done!!\n",
      "9 label is done!!\n",
      "Done!!\n"
     ]
    }
   ],
   "source": [
    "# class labels\n",
    "classes = [0,2,4,6,9]\n",
    "\n",
    "data = []\n",
    "labels = []\n",
    "\n",
    "data_collection(classes=classes,data=data,labels=labels)"
   ]
  },
  {
   "cell_type": "code",
   "execution_count": 121,
   "metadata": {},
   "outputs": [
    {
     "data": {
      "text/html": [
       "<div>\n",
       "<style scoped>\n",
       "    .dataframe tbody tr th:only-of-type {\n",
       "        vertical-align: middle;\n",
       "    }\n",
       "\n",
       "    .dataframe tbody tr th {\n",
       "        vertical-align: top;\n",
       "    }\n",
       "\n",
       "    .dataframe thead th {\n",
       "        text-align: right;\n",
       "    }\n",
       "</style>\n",
       "<table border=\"1\" class=\"dataframe\">\n",
       "  <thead>\n",
       "    <tr style=\"text-align: right;\">\n",
       "      <th></th>\n",
       "      <th>Letters</th>\n",
       "      <th>Target</th>\n",
       "    </tr>\n",
       "  </thead>\n",
       "  <tbody>\n",
       "    <tr>\n",
       "      <th>0</th>\n",
       "      <td>Aneto Pi eth Asin 15 Fieerih Sie, WW Washing, ...</td>\n",
       "      <td>0</td>\n",
       "    </tr>\n",
       "    <tr>\n",
       "      <th>1</th>\n",
       "      <td>IDs PAGE 21729 Drenee ve eeepeneectnmnnnne Bas...</td>\n",
       "      <td>0</td>\n",
       "    </tr>\n",
       "    <tr>\n",
       "      <th>2</th>\n",
       "      <td>PHILIP MORRIS wor 0b, 1977 &lt; Senet tybieht laa...</td>\n",
       "      <td>0</td>\n",
       "    </tr>\n",
       "    <tr>\n",
       "      <th>3</th>\n",
       "      <td>Gary L. Huber, M.D. Chief, Division of Resptra...</td>\n",
       "      <td>0</td>\n",
       "    </tr>\n",
       "    <tr>\n",
       "      <th>4</th>\n",
       "      <td>THE TOBACCO INSTITUTE, INC 1776 K Street, Nort...</td>\n",
       "      <td>0</td>\n",
       "    </tr>\n",
       "  </tbody>\n",
       "</table>\n",
       "</div>"
      ],
      "text/plain": [
       "                                             Letters  Target\n",
       "0  Aneto Pi eth Asin 15 Fieerih Sie, WW Washing, ...       0\n",
       "1  IDs PAGE 21729 Drenee ve eeepeneectnmnnnne Bas...       0\n",
       "2  PHILIP MORRIS wor 0b, 1977 < Senet tybieht laa...       0\n",
       "3  Gary L. Huber, M.D. Chief, Division of Resptra...       0\n",
       "4  THE TOBACCO INSTITUTE, INC 1776 K Street, Nort...       0"
      ]
     },
     "execution_count": 121,
     "metadata": {},
     "output_type": "execute_result"
    }
   ],
   "source": [
    "df = pd.DataFrame({\"Letters\":data,\"Target\":labels})\n",
    "df.head()"
   ]
  },
  {
   "cell_type": "code",
   "execution_count": 124,
   "metadata": {},
   "outputs": [],
   "source": [
    "# shuffling the data\n",
    "df = df.sample(frac=1).reset_index(drop=True)\n"
   ]
  },
  {
   "cell_type": "code",
   "execution_count": 108,
   "metadata": {},
   "outputs": [],
   "source": [
    "# df.to_csv(\"text_dataset.csv\",index=False)"
   ]
  },
  {
   "cell_type": "code",
   "execution_count": 119,
   "metadata": {},
   "outputs": [
    {
     "data": {
      "text/html": [
       "<div>\n",
       "<style scoped>\n",
       "    .dataframe tbody tr th:only-of-type {\n",
       "        vertical-align: middle;\n",
       "    }\n",
       "\n",
       "    .dataframe tbody tr th {\n",
       "        vertical-align: top;\n",
       "    }\n",
       "\n",
       "    .dataframe thead th {\n",
       "        text-align: right;\n",
       "    }\n",
       "</style>\n",
       "<table border=\"1\" class=\"dataframe\">\n",
       "  <thead>\n",
       "    <tr style=\"text-align: right;\">\n",
       "      <th></th>\n",
       "      <th>Letters</th>\n",
       "      <th>Target</th>\n",
       "    </tr>\n",
       "  </thead>\n",
       "  <tbody>\n",
       "    <tr>\n",
       "      <th>0</th>\n",
       "      <td>2085114103 Qstern, Eric Oster, Erie ‘Tuesday, ...</td>\n",
       "      <td>2</td>\n",
       "    </tr>\n",
       "    <tr>\n",
       "      <th>1</th>\n",
       "      <td>Advertising Age, oye TIMN 259668 , Sune 23, 19...</td>\n",
       "      <td>9</td>\n",
       "    </tr>\n",
       "    <tr>\n",
       "      <th>2</th>\n",
       "      <td>“Clem Ban ips Cow, 1693 ot yt oe</td>\n",
       "      <td>0</td>\n",
       "    </tr>\n",
       "    <tr>\n",
       "      <th>3</th>\n",
       "      <td>8 Prognostic factors in childhood asthma: a lo...</td>\n",
       "      <td>6</td>\n",
       "    </tr>\n",
       "    <tr>\n",
       "      <th>4</th>\n",
       "      <td>Suvpar, JUNE 5, 1994 onuaatyunnicis Cd, ee Ps ...</td>\n",
       "      <td>9</td>\n",
       "    </tr>\n",
       "  </tbody>\n",
       "</table>\n",
       "</div>"
      ],
      "text/plain": [
       "                                             Letters  Target\n",
       "0  2085114103 Qstern, Eric Oster, Erie ‘Tuesday, ...       2\n",
       "1  Advertising Age, oye TIMN 259668 , Sune 23, 19...       9\n",
       "2                   “Clem Ban ips Cow, 1693 ot yt oe       0\n",
       "3  8 Prognostic factors in childhood asthma: a lo...       6\n",
       "4  Suvpar, JUNE 5, 1994 onuaatyunnicis Cd, ee Ps ...       9"
      ]
     },
     "execution_count": 119,
     "metadata": {},
     "output_type": "execute_result"
    }
   ],
   "source": [
    "df.head()"
   ]
  },
  {
   "cell_type": "code",
   "execution_count": 93,
   "metadata": {},
   "outputs": [
    {
     "data": {
      "text/plain": [
       "(2500, 2)"
      ]
     },
     "execution_count": 93,
     "metadata": {},
     "output_type": "execute_result"
    }
   ],
   "source": [
    "df.shape"
   ]
  },
  {
   "cell_type": "code",
   "execution_count": 83,
   "metadata": {},
   "outputs": [
    {
     "data": {
      "text/html": [
       "<div>\n",
       "<style scoped>\n",
       "    .dataframe tbody tr th:only-of-type {\n",
       "        vertical-align: middle;\n",
       "    }\n",
       "\n",
       "    .dataframe tbody tr th {\n",
       "        vertical-align: top;\n",
       "    }\n",
       "\n",
       "    .dataframe thead th {\n",
       "        text-align: right;\n",
       "    }\n",
       "</style>\n",
       "<table border=\"1\" class=\"dataframe\">\n",
       "  <thead>\n",
       "    <tr style=\"text-align: right;\">\n",
       "      <th></th>\n",
       "      <th>Letters</th>\n",
       "      <th>Target</th>\n",
       "    </tr>\n",
       "  </thead>\n",
       "  <tbody>\n",
       "    <tr>\n",
       "      <th>0</th>\n",
       "      <td>01338078 ‘neoH jo samranisay ul ‘sdnad8 jo Ara...</td>\n",
       "      <td>9</td>\n",
       "    </tr>\n",
       "    <tr>\n",
       "      <th>1</th>\n",
       "      <td>RR Interoffice Memorandum: ._ | Subject: Contr...</td>\n",
       "      <td>0</td>\n",
       "    </tr>\n",
       "    <tr>\n",
       "      <th>2</th>\n",
       "      <td>PHILIP MORRIS AB. Translation ya Norrlandl, Sw...</td>\n",
       "      <td>9</td>\n",
       "    </tr>\n",
       "    <tr>\n",
       "      <th>3</th>\n",
       "      <td></td>\n",
       "      <td>4</td>\n",
       "    </tr>\n",
       "    <tr>\n",
       "      <th>4</th>\n",
       "      <td>2648770148 63 USA TODAY - WEDNESDAY, MARCH 1 P...</td>\n",
       "      <td>9</td>\n",
       "    </tr>\n",
       "  </tbody>\n",
       "</table>\n",
       "</div>"
      ],
      "text/plain": [
       "                                             Letters  Target\n",
       "0  01338078 ‘neoH jo samranisay ul ‘sdnad8 jo Ara...       9\n",
       "1  RR Interoffice Memorandum: ._ | Subject: Contr...       0\n",
       "2  PHILIP MORRIS AB. Translation ya Norrlandl, Sw...       9\n",
       "3                                                          4\n",
       "4  2648770148 63 USA TODAY - WEDNESDAY, MARCH 1 P...       9"
      ]
     },
     "execution_count": 83,
     "metadata": {},
     "output_type": "execute_result"
    }
   ],
   "source": [
    "df.head()"
   ]
  },
  {
   "cell_type": "code",
   "execution_count": 95,
   "metadata": {},
   "outputs": [
    {
     "data": {
      "text/plain": [
       "True"
      ]
     },
     "execution_count": 95,
     "metadata": {},
     "output_type": "execute_result"
    }
   ],
   "source": [
    "df.loc[3][\"Letters\"] == \"\""
   ]
  },
  {
   "cell_type": "code",
   "execution_count": 122,
   "metadata": {},
   "outputs": [],
   "source": [
    "# finding which column has empty string data.\n",
    "empty_letters_index = []\n",
    "for i in range(df.shape[0]):\n",
    "    if (df.loc[i][\"Letters\"] == \"\"):\n",
    "        empty_letters_index.append(i)"
   ]
  },
  {
   "cell_type": "code",
   "execution_count": 123,
   "metadata": {},
   "outputs": [
    {
     "data": {
      "text/plain": [
       "[68,\n",
       " 1032,\n",
       " 1044,\n",
       " 1065,\n",
       " 1067,\n",
       " 1086,\n",
       " 1089,\n",
       " 1111,\n",
       " 1112,\n",
       " 1115,\n",
       " 1128,\n",
       " 1131,\n",
       " 1148,\n",
       " 1160,\n",
       " 1166,\n",
       " 1168,\n",
       " 1172,\n",
       " 1179,\n",
       " 1183,\n",
       " 1194,\n",
       " 1203,\n",
       " 1220,\n",
       " 1235,\n",
       " 1239,\n",
       " 1242,\n",
       " 1245,\n",
       " 1249,\n",
       " 1270,\n",
       " 1274,\n",
       " 1276,\n",
       " 1292,\n",
       " 1296,\n",
       " 1304,\n",
       " 1305,\n",
       " 1320,\n",
       " 1321,\n",
       " 1330,\n",
       " 1337,\n",
       " 1341,\n",
       " 1345,\n",
       " 1373,\n",
       " 1386,\n",
       " 1397,\n",
       " 1398,\n",
       " 1405,\n",
       " 1410,\n",
       " 1419,\n",
       " 1420,\n",
       " 1424,\n",
       " 1438,\n",
       " 1444,\n",
       " 1460,\n",
       " 1492,\n",
       " 1548,\n",
       " 1555,\n",
       " 1682,\n",
       " 1920,\n",
       " 2186,\n",
       " 2231]"
      ]
     },
     "execution_count": 123,
     "metadata": {},
     "output_type": "execute_result"
    }
   ],
   "source": [
    "empty_letters_index"
   ]
  },
  {
   "cell_type": "code",
   "execution_count": 104,
   "metadata": {},
   "outputs": [
    {
     "data": {
      "text/plain": [
       "2441"
      ]
     },
     "execution_count": 104,
     "metadata": {},
     "output_type": "execute_result"
    }
   ],
   "source": [
    "2500 - len(empty_letters_index)"
   ]
  },
  {
   "cell_type": "code",
   "execution_count": 111,
   "metadata": {},
   "outputs": [],
   "source": [
    "# dropping the empty data\n",
    "df1 = df.drop(index=empty_letters_index,axis=0)"
   ]
  },
  {
   "cell_type": "code",
   "execution_count": 113,
   "metadata": {},
   "outputs": [
    {
     "data": {
      "text/plain": [
       "(2441, 2)"
      ]
     },
     "execution_count": 113,
     "metadata": {},
     "output_type": "execute_result"
    }
   ],
   "source": [
    "df1.shape"
   ]
  },
  {
   "cell_type": "code",
   "execution_count": 114,
   "metadata": {},
   "outputs": [
    {
     "data": {
      "text/plain": [
       "Target\n",
       "0    497\n",
       "6    490\n",
       "4    487\n",
       "9    485\n",
       "2    482\n",
       "Name: count, dtype: int64"
      ]
     },
     "execution_count": 114,
     "metadata": {},
     "output_type": "execute_result"
    }
   ],
   "source": [
    "df1[\"Target\"].value_counts()"
   ]
  },
  {
   "cell_type": "code",
   "execution_count": 115,
   "metadata": {},
   "outputs": [
    {
     "data": {
      "text/plain": [
       "<Axes: xlabel='Target'>"
      ]
     },
     "execution_count": 115,
     "metadata": {},
     "output_type": "execute_result"
    },
    {
     "data": {
      "image/png": "[encoded data removed]",
      "text/plain": [
       "<Figure size 640x480 with 1 Axes>"
      ]
     },
     "metadata": {},
     "output_type": "display_data"
    }
   ],
   "source": [
    "df1[\"Target\"].value_counts().plot(kind='bar')"
   ]
  },
  {
   "cell_type": "code",
   "execution_count": null,
   "metadata": {},
   "outputs": [],
   "source": []
  }
 ],
 "metadata": {
  "kernelspec": {
   "display_name": "base",
   "language": "python",
   "name": "python3"
  },
  "language_info": {
   "codemirror_mode": {
    "name": "ipython",
    "version": 3
   },
   "file_extension": ".py",
   "mimetype": "text/x-python",
   "name": "python",
   "nbconvert_exporter": "python",
   "pygments_lexer": "ipython3",
   "version": "3.11.5"
  }
 },
 "nbformat": 4,
 "nbformat_minor": 2
}
