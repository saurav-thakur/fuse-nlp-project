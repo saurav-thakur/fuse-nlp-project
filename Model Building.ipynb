{
 "cells": [
  {
   "cell_type": "markdown",
   "metadata": {},
   "source": [
    "# Importing Libraries"
   ]
  },
  {
   "cell_type": "code",
   "execution_count": 202,
   "metadata": {},
   "outputs": [],
   "source": [
    "import numpy as np\n",
    "import pandas as pd\n",
    "import matplotlib.pyplot as plt\n",
    "import os\n",
    "from collections import defaultdict\n",
    "from typing import List\n",
    "import string\n",
    "\n",
    "from sklearn.model_selection import train_test_split\n",
    "\n",
    "from sklearn.tree import DecisionTreeClassifier\n",
    "from sklearn.ensemble import RandomForestClassifier\n",
    "from xgboost import XGBClassifier\n",
    "\n",
    "from sklearn import metrics\n",
    "from sklearn.feature_extraction.text import CountVectorizer,TfidfVectorizer\n",
    "from sklearn.model_selection import GridSearchCV, RandomizedSearchCV\n",
    "import warnings\n",
    "warnings.filterwarnings(\"ignore\", category=UserWarning)"
   ]
  },
  {
   "cell_type": "markdown",
   "metadata": {},
   "source": [
    "# Reading Dataset"
   ]
  },
  {
   "cell_type": "code",
   "execution_count": 15,
   "metadata": {},
   "outputs": [
    {
     "data": {
      "text/html": [
       "<div>\n",
       "<style scoped>\n",
       "    .dataframe tbody tr th:only-of-type {\n",
       "        vertical-align: middle;\n",
       "    }\n",
       "\n",
       "    .dataframe tbody tr th {\n",
       "        vertical-align: top;\n",
       "    }\n",
       "\n",
       "    .dataframe thead th {\n",
       "        text-align: right;\n",
       "    }\n",
       "</style>\n",
       "<table border=\"1\" class=\"dataframe\">\n",
       "  <thead>\n",
       "    <tr style=\"text-align: right;\">\n",
       "      <th></th>\n",
       "      <th>Letters</th>\n",
       "      <th>Target</th>\n",
       "    </tr>\n",
       "  </thead>\n",
       "  <tbody>\n",
       "    <tr>\n",
       "      <th>0</th>\n",
       "      <td>ayy aSrysed ayn uo ouinbas 39 pInoys| 1 ft 100...</td>\n",
       "      <td>9</td>\n",
       "    </tr>\n",
       "    <tr>\n",
       "      <th>1</th>\n",
       "      <td>MGM/UA Communications Co. A5ONot Roxbury Dive ...</td>\n",
       "      <td>0</td>\n",
       "    </tr>\n",
       "    <tr>\n",
       "      <th>2</th>\n",
       "      <td>NaN</td>\n",
       "      <td>4</td>\n",
       "    </tr>\n",
       "    <tr>\n",
       "      <th>3</th>\n",
       "      <td>ay CosTAN CoNFDENTAL WORK PRODUCT, JOT DEENGE,...</td>\n",
       "      <td>2</td>\n",
       "    </tr>\n",
       "    <tr>\n",
       "      <th>4</th>\n",
       "      <td>Origa Mass290— From: Borgmann, Hoty Monday, Ja...</td>\n",
       "      <td>2</td>\n",
       "    </tr>\n",
       "  </tbody>\n",
       "</table>\n",
       "</div>"
      ],
      "text/plain": [
       "                                             Letters  Target\n",
       "0  ayy aSrysed ayn uo ouinbas 39 pInoys| 1 ft 100...       9\n",
       "1  MGM/UA Communications Co. A5ONot Roxbury Dive ...       0\n",
       "2                                                NaN       4\n",
       "3  ay CosTAN CoNFDENTAL WORK PRODUCT, JOT DEENGE,...       2\n",
       "4  Origa Mass290— From: Borgmann, Hoty Monday, Ja...       2"
      ]
     },
     "execution_count": 15,
     "metadata": {},
     "output_type": "execute_result"
    }
   ],
   "source": [
    "df = pd.read_csv(\"./text_dataset.csv\")\n",
    "df.head()"
   ]
  },
  {
   "cell_type": "code",
   "execution_count": 16,
   "metadata": {},
   "outputs": [
    {
     "data": {
      "text/plain": [
       "Target\n",
       "9    500\n",
       "0    500\n",
       "4    500\n",
       "2    500\n",
       "6    500\n",
       "Name: count, dtype: int64"
      ]
     },
     "execution_count": 16,
     "metadata": {},
     "output_type": "execute_result"
    }
   ],
   "source": [
    "# counting the values for each class\n",
    "df[\"Target\"].value_counts()"
   ]
  },
  {
   "cell_type": "code",
   "execution_count": 17,
   "metadata": {},
   "outputs": [
    {
     "data": {
      "text/plain": [
       "Letters    59\n",
       "Target      0\n",
       "dtype: int64"
      ]
     },
     "execution_count": 17,
     "metadata": {},
     "output_type": "execute_result"
    }
   ],
   "source": [
    "df.isnull().sum()"
   ]
  },
  {
   "cell_type": "code",
   "execution_count": null,
   "metadata": {},
   "outputs": [],
   "source": []
  },
  {
   "cell_type": "code",
   "execution_count": null,
   "metadata": {},
   "outputs": [],
   "source": []
  },
  {
   "cell_type": "code",
   "execution_count": null,
   "metadata": {},
   "outputs": [],
   "source": []
  },
  {
   "cell_type": "markdown",
   "metadata": {},
   "source": [
    "# Feature Engineering"
   ]
  },
  {
   "cell_type": "code",
   "execution_count": 18,
   "metadata": {},
   "outputs": [
    {
     "data": {
      "text/plain": [
       "(2441, 2)"
      ]
     },
     "execution_count": 18,
     "metadata": {},
     "output_type": "execute_result"
    }
   ],
   "source": [
    "# dropping NA Values\n",
    "df.dropna(inplace=True,axis=0)\n",
    "df.shape"
   ]
  },
  {
   "cell_type": "code",
   "execution_count": 20,
   "metadata": {},
   "outputs": [],
   "source": [
    "\n",
    "def remove_punctuation(text):\n",
    "    return ''.join([c for c in text if c not in string.punctuation])\n",
    "\n",
    "def cleaning_data(data):\n",
    "    data[\"Letters\"] = data[\"Letters\"].str.lower()\n",
    "    data[\"Letters\"] = data[\"Letters\"].apply(remove_punctuation)\n",
    "    return data"
   ]
  },
  {
   "cell_type": "code",
   "execution_count": 24,
   "metadata": {},
   "outputs": [],
   "source": [
    "df_cleaned = cleaning_data(df)"
   ]
  },
  {
   "cell_type": "code",
   "execution_count": 25,
   "metadata": {},
   "outputs": [
    {
     "data": {
      "text/html": [
       "<div>\n",
       "<style scoped>\n",
       "    .dataframe tbody tr th:only-of-type {\n",
       "        vertical-align: middle;\n",
       "    }\n",
       "\n",
       "    .dataframe tbody tr th {\n",
       "        vertical-align: top;\n",
       "    }\n",
       "\n",
       "    .dataframe thead th {\n",
       "        text-align: right;\n",
       "    }\n",
       "</style>\n",
       "<table border=\"1\" class=\"dataframe\">\n",
       "  <thead>\n",
       "    <tr style=\"text-align: right;\">\n",
       "      <th></th>\n",
       "      <th>Letters</th>\n",
       "      <th>Target</th>\n",
       "    </tr>\n",
       "  </thead>\n",
       "  <tbody>\n",
       "    <tr>\n",
       "      <th>0</th>\n",
       "      <td>ayy asrysed ayn uo ouinbas 39 pinoys 1 ft 1000...</td>\n",
       "      <td>9</td>\n",
       "    </tr>\n",
       "    <tr>\n",
       "      <th>1</th>\n",
       "      <td>mgmua communications co a5onot roxbury dive be...</td>\n",
       "      <td>0</td>\n",
       "    </tr>\n",
       "    <tr>\n",
       "      <th>3</th>\n",
       "      <td>ay costan confdental work product jot deenge o...</td>\n",
       "      <td>2</td>\n",
       "    </tr>\n",
       "    <tr>\n",
       "      <th>4</th>\n",
       "      <td>origa mass290— from borgmann hoty monday janua...</td>\n",
       "      <td>2</td>\n",
       "    </tr>\n",
       "    <tr>\n",
       "      <th>5</th>\n",
       "      <td>s68u leave smoking rules up to each busi 1s 13...</td>\n",
       "      <td>9</td>\n",
       "    </tr>\n",
       "  </tbody>\n",
       "</table>\n",
       "</div>"
      ],
      "text/plain": [
       "                                             Letters  Target\n",
       "0  ayy asrysed ayn uo ouinbas 39 pinoys 1 ft 1000...       9\n",
       "1  mgmua communications co a5onot roxbury dive be...       0\n",
       "3  ay costan confdental work product jot deenge o...       2\n",
       "4  origa mass290— from borgmann hoty monday janua...       2\n",
       "5  s68u leave smoking rules up to each busi 1s 13...       9"
      ]
     },
     "execution_count": 25,
     "metadata": {},
     "output_type": "execute_result"
    }
   ],
   "source": [
    "df_cleaned.head()"
   ]
  },
  {
   "cell_type": "markdown",
   "metadata": {},
   "source": [
    "# Data Splitting"
   ]
  },
  {
   "cell_type": "code",
   "execution_count": 244,
   "metadata": {},
   "outputs": [],
   "source": [
    "df_cleaned[\"Target\"] =  df_cleaned[\"Target\"].astype(\"category\")\n"
   ]
  },
  {
   "cell_type": "code",
   "execution_count": 245,
   "metadata": {},
   "outputs": [
    {
     "name": "stdout",
     "output_type": "stream",
     "text": [
      "<class 'pandas.core.frame.DataFrame'>\n",
      "Index: 2441 entries, 0 to 2499\n",
      "Data columns (total 2 columns):\n",
      " #   Column   Non-Null Count  Dtype   \n",
      "---  ------   --------------  -----   \n",
      " 0   Letters  2441 non-null   object  \n",
      " 1   Target   2441 non-null   category\n",
      "dtypes: category(1), object(1)\n",
      "memory usage: 40.7+ KB\n"
     ]
    }
   ],
   "source": [
    "df_cleaned.info()"
   ]
  },
  {
   "cell_type": "code",
   "execution_count": 253,
   "metadata": {},
   "outputs": [],
   "source": [
    "X = df_cleaned[\"Letters\"]\n",
    "y = df_cleaned[\"Target\"]"
   ]
  },
  {
   "cell_type": "code",
   "execution_count": 254,
   "metadata": {},
   "outputs": [],
   "source": [
    "y_mapped = y.map({\n",
    "    0:0,\n",
    "    2:1,\n",
    "    4:2,\n",
    "    6:3,\n",
    "    9:4\n",
    "})"
   ]
  },
  {
   "cell_type": "code",
   "execution_count": 255,
   "metadata": {},
   "outputs": [
    {
     "data": {
      "text/plain": [
       "((1952,), (489,))"
      ]
     },
     "execution_count": 255,
     "metadata": {},
     "output_type": "execute_result"
    }
   ],
   "source": [
    "X_train,X_test,y_train,y_test = train_test_split(X,y_mapped,test_size=0.2,random_state=42)\n",
    "X_train.shape,X_test.shape"
   ]
  },
  {
   "cell_type": "markdown",
   "metadata": {},
   "source": [
    "# Bag of Words"
   ]
  },
  {
   "cell_type": "code",
   "execution_count": 256,
   "metadata": {},
   "outputs": [],
   "source": [
    "toNumeric = CountVectorizer()"
   ]
  },
  {
   "cell_type": "code",
   "execution_count": 257,
   "metadata": {},
   "outputs": [
    {
     "data": {
      "text/plain": [
       "<1952x80849 sparse matrix of type '<class 'numpy.int64'>'\n",
       "\twith 304620 stored elements in Compressed Sparse Row format>"
      ]
     },
     "execution_count": 257,
     "metadata": {},
     "output_type": "execute_result"
    }
   ],
   "source": [
    "sampleTrain_dtm = toNumeric.fit_transform(X_train)\n",
    "sampleTrain_dtm"
   ]
  },
  {
   "cell_type": "code",
   "execution_count": null,
   "metadata": {},
   "outputs": [],
   "source": [
    "# Let's convert sparse matrix to a dense matrix\n",
    "sampleTrain_dtm.toarray()"
   ]
  },
  {
   "cell_type": "code",
   "execution_count": 259,
   "metadata": {},
   "outputs": [
    {
     "data": {
      "text/plain": [
       "<489x80849 sparse matrix of type '<class 'numpy.int64'>'\n",
       "\twith 63400 stored elements in Compressed Sparse Row format>"
      ]
     },
     "execution_count": 259,
     "metadata": {},
     "output_type": "execute_result"
    }
   ],
   "source": [
    "sampleTest_dtm = toNumeric.transform(X_test)\n",
    "sampleTest_dtm"
   ]
  },
  {
   "cell_type": "markdown",
   "metadata": {},
   "source": [
    "# TF-IDF\n",
    "\n",
    "- BoW is performing better than TF-IDF so we will not use TF-IDF for this project"
   ]
  },
  {
   "cell_type": "code",
   "execution_count": 203,
   "metadata": {},
   "outputs": [],
   "source": [
    "tfidf = TfidfVectorizer()\n",
    "X_train_tfidf = tfidf.fit_transform(X_train)\n",
    "X_test_tfidf = tfidf.transform(X_test)"
   ]
  },
  {
   "cell_type": "code",
   "execution_count": 204,
   "metadata": {},
   "outputs": [
    {
     "name": "stdout",
     "output_type": "stream",
     "text": [
      "0.754601226993865\n"
     ]
    },
    {
     "data": {
      "text/plain": [
       "array([[82,  3, 12,  2,  3],\n",
       "       [ 6, 79,  7,  0,  2],\n",
       "       [ 6,  3, 62,  0,  5],\n",
       "       [ 0,  0, 12, 79,  8],\n",
       "       [ 9,  2, 35,  5, 67]], dtype=int64)"
      ]
     },
     "execution_count": 204,
     "metadata": {},
     "output_type": "execute_result"
    }
   ],
   "source": [
    "rf_classification = RandomForestClassifier()\n",
    "rf_model = rf_classification.fit(X_train_tfidf, y_train)\n",
    "y_pred_rf_class = rf_classification.predict(X_test_tfidf)\n",
    "print(metrics.accuracy_score(y_test, y_pred_rf_class))\n",
    "metrics.confusion_matrix(y_test, y_pred_rf_class)\n"
   ]
  },
  {
   "cell_type": "code",
   "execution_count": 205,
   "metadata": {},
   "outputs": [
    {
     "name": "stderr",
     "output_type": "stream",
     "text": [
      "c:\\Users\\Saurav\\anaconda3\\Lib\\site-packages\\xgboost\\data.py:440: FutureWarning: is_sparse is deprecated and will be removed in a future version. Check `isinstance(dtype, pd.SparseDtype)` instead.\n",
      "  if is_sparse(data):\n"
     ]
    },
    {
     "name": "stdout",
     "output_type": "stream",
     "text": [
      "0.8077709611451943\n"
     ]
    },
    {
     "data": {
      "text/plain": [
       "array([[82,  4, 10,  2,  4],\n",
       "       [ 6, 79,  4,  3,  2],\n",
       "       [ 0,  0, 60,  3, 13],\n",
       "       [ 0,  0,  3, 87,  9],\n",
       "       [ 1,  3, 20,  7, 87]], dtype=int64)"
      ]
     },
     "execution_count": 205,
     "metadata": {},
     "output_type": "execute_result"
    }
   ],
   "source": [
    "xgb_classification = XGBClassifier()\n",
    "xgb_model = xgb_classification.fit(X_train_tfidf, y_train)\n",
    "y_pred_xgb_class = xgb_classification.predict(X_test_tfidf)\n",
    "print(metrics.accuracy_score(y_test, y_pred_xgb_class))\n",
    "metrics.confusion_matrix(y_test, y_pred_xgb_class)\n"
   ]
  },
  {
   "cell_type": "markdown",
   "metadata": {},
   "source": [
    "# Model Building ML"
   ]
  },
  {
   "cell_type": "code",
   "execution_count": 233,
   "metadata": {},
   "outputs": [],
   "source": [
    "from sklearn.naive_bayes import MultinomialNB\n",
    "nb = MultinomialNB()"
   ]
  },
  {
   "cell_type": "code",
   "execution_count": 234,
   "metadata": {},
   "outputs": [
    {
     "data": {
      "text/html": [
       "<style>#sk-container-id-4 {color: black;}#sk-container-id-4 pre{padding: 0;}#sk-container-id-4 div.sk-toggleable {background-color: white;}#sk-container-id-4 label.sk-toggleable__label {cursor: pointer;display: block;width: 100%;margin-bottom: 0;padding: 0.3em;box-sizing: border-box;text-align: center;}#sk-container-id-4 label.sk-toggleable__label-arrow:before {content: \"▸\";float: left;margin-right: 0.25em;color: #696969;}#sk-container-id-4 label.sk-toggleable__label-arrow:hover:before {color: black;}#sk-container-id-4 div.sk-estimator:hover label.sk-toggleable__label-arrow:before {color: black;}#sk-container-id-4 div.sk-toggleable__content {max-height: 0;max-width: 0;overflow: hidden;text-align: left;background-color: #f0f8ff;}#sk-container-id-4 div.sk-toggleable__content pre {margin: 0.2em;color: black;border-radius: 0.25em;background-color: #f0f8ff;}#sk-container-id-4 input.sk-toggleable__control:checked~div.sk-toggleable__content {max-height: 200px;max-width: 100%;overflow: auto;}#sk-container-id-4 input.sk-toggleable__control:checked~label.sk-toggleable__label-arrow:before {content: \"▾\";}#sk-container-id-4 div.sk-estimator input.sk-toggleable__control:checked~label.sk-toggleable__label {background-color: #d4ebff;}#sk-container-id-4 div.sk-label input.sk-toggleable__control:checked~label.sk-toggleable__label {background-color: #d4ebff;}#sk-container-id-4 input.sk-hidden--visually {border: 0;clip: rect(1px 1px 1px 1px);clip: rect(1px, 1px, 1px, 1px);height: 1px;margin: -1px;overflow: hidden;padding: 0;position: absolute;width: 1px;}#sk-container-id-4 div.sk-estimator {font-family: monospace;background-color: #f0f8ff;border: 1px dotted black;border-radius: 0.25em;box-sizing: border-box;margin-bottom: 0.5em;}#sk-container-id-4 div.sk-estimator:hover {background-color: #d4ebff;}#sk-container-id-4 div.sk-parallel-item::after {content: \"\";width: 100%;border-bottom: 1px solid gray;flex-grow: 1;}#sk-container-id-4 div.sk-label:hover label.sk-toggleable__label {background-color: #d4ebff;}#sk-container-id-4 div.sk-serial::before {content: \"\";position: absolute;border-left: 1px solid gray;box-sizing: border-box;top: 0;bottom: 0;left: 50%;z-index: 0;}#sk-container-id-4 div.sk-serial {display: flex;flex-direction: column;align-items: center;background-color: white;padding-right: 0.2em;padding-left: 0.2em;position: relative;}#sk-container-id-4 div.sk-item {position: relative;z-index: 1;}#sk-container-id-4 div.sk-parallel {display: flex;align-items: stretch;justify-content: center;background-color: white;position: relative;}#sk-container-id-4 div.sk-item::before, #sk-container-id-4 div.sk-parallel-item::before {content: \"\";position: absolute;border-left: 1px solid gray;box-sizing: border-box;top: 0;bottom: 0;left: 50%;z-index: -1;}#sk-container-id-4 div.sk-parallel-item {display: flex;flex-direction: column;z-index: 1;position: relative;background-color: white;}#sk-container-id-4 div.sk-parallel-item:first-child::after {align-self: flex-end;width: 50%;}#sk-container-id-4 div.sk-parallel-item:last-child::after {align-self: flex-start;width: 50%;}#sk-container-id-4 div.sk-parallel-item:only-child::after {width: 0;}#sk-container-id-4 div.sk-dashed-wrapped {border: 1px dashed gray;margin: 0 0.4em 0.5em 0.4em;box-sizing: border-box;padding-bottom: 0.4em;background-color: white;}#sk-container-id-4 div.sk-label label {font-family: monospace;font-weight: bold;display: inline-block;line-height: 1.2em;}#sk-container-id-4 div.sk-label-container {text-align: center;}#sk-container-id-4 div.sk-container {/* jupyter's `normalize.less` sets `[hidden] { display: none; }` but bootstrap.min.css set `[hidden] { display: none !important; }` so we also need the `!important` here to be able to override the default hidden behavior on the sphinx rendered scikit-learn.org. See: https://github.com/scikit-learn/scikit-learn/issues/21755 */display: inline-block !important;position: relative;}#sk-container-id-4 div.sk-text-repr-fallback {display: none;}</style><div id=\"sk-container-id-4\" class=\"sk-top-container\"><div class=\"sk-text-repr-fallback\"><pre>MultinomialNB()</pre><b>In a Jupyter environment, please rerun this cell to show the HTML representation or trust the notebook. <br />On GitHub, the HTML representation is unable to render, please try loading this page with nbviewer.org.</b></div><div class=\"sk-container\" hidden><div class=\"sk-item\"><div class=\"sk-estimator sk-toggleable\"><input class=\"sk-toggleable__control sk-hidden--visually\" id=\"sk-estimator-id-4\" type=\"checkbox\" checked><label for=\"sk-estimator-id-4\" class=\"sk-toggleable__label sk-toggleable__label-arrow\">MultinomialNB</label><div class=\"sk-toggleable__content\"><pre>MultinomialNB()</pre></div></div></div></div></div>"
      ],
      "text/plain": [
       "MultinomialNB()"
      ]
     },
     "execution_count": 234,
     "metadata": {},
     "output_type": "execute_result"
    }
   ],
   "source": [
    "nb.fit(sampleTrain_dtm, y_train)"
   ]
  },
  {
   "cell_type": "code",
   "execution_count": 235,
   "metadata": {},
   "outputs": [],
   "source": [
    "y_pred_class = nb.predict(sampleTest_dtm)\n"
   ]
  },
  {
   "cell_type": "code",
   "execution_count": 236,
   "metadata": {},
   "outputs": [
    {
     "data": {
      "text/plain": [
       "0.7137014314928425"
      ]
     },
     "execution_count": 236,
     "metadata": {},
     "output_type": "execute_result"
    }
   ],
   "source": [
    "from sklearn import metrics\n",
    "metrics.accuracy_score(y_test, y_pred_class)\n"
   ]
  },
  {
   "cell_type": "code",
   "execution_count": 237,
   "metadata": {},
   "outputs": [
    {
     "data": {
      "text/plain": [
       "array([[ 80,   3,   0,   6,  13],\n",
       "       [ 26,  59,   0,   2,   7],\n",
       "       [ 12,   7,  10,   2,  45],\n",
       "       [  2,   0,   0,  89,   8],\n",
       "       [  1,   3,   0,   3, 111]], dtype=int64)"
      ]
     },
     "execution_count": 237,
     "metadata": {},
     "output_type": "execute_result"
    }
   ],
   "source": [
    "metrics.confusion_matrix(y_test, y_pred_class)\n"
   ]
  },
  {
   "cell_type": "code",
   "execution_count": 238,
   "metadata": {},
   "outputs": [],
   "source": [
    "decision_tree_classification = DecisionTreeClassifier(criterion = 'entropy',random_state = 10)\n",
    "decision_tree = decision_tree_classification.fit(sampleTrain_dtm, y_train)"
   ]
  },
  {
   "cell_type": "code",
   "execution_count": 239,
   "metadata": {},
   "outputs": [
    {
     "data": {
      "text/plain": [
       "0.7300613496932515"
      ]
     },
     "execution_count": 239,
     "metadata": {},
     "output_type": "execute_result"
    }
   ],
   "source": [
    "y_pred_dt_class = decision_tree_classification.predict(sampleTest_dtm)\n",
    "metrics.accuracy_score(y_test, y_pred_dt_class)"
   ]
  },
  {
   "cell_type": "code",
   "execution_count": 240,
   "metadata": {},
   "outputs": [
    {
     "data": {
      "text/plain": [
       "array([[69,  7,  7,  5, 14],\n",
       "       [ 9, 73,  9,  0,  3],\n",
       "       [ 1,  1, 55,  0, 19],\n",
       "       [ 3,  0,  3, 85,  8],\n",
       "       [ 4,  2, 22, 15, 75]], dtype=int64)"
      ]
     },
     "execution_count": 240,
     "metadata": {},
     "output_type": "execute_result"
    }
   ],
   "source": [
    "metrics.confusion_matrix(y_test, y_pred_dt_class)\n"
   ]
  },
  {
   "cell_type": "code",
   "execution_count": 241,
   "metadata": {},
   "outputs": [
    {
     "name": "stdout",
     "output_type": "stream",
     "text": [
      "0.7586912065439673\n"
     ]
    },
    {
     "data": {
      "text/plain": [
       "array([[79,  6, 11,  4,  2],\n",
       "       [ 6, 81,  5,  1,  1],\n",
       "       [ 9,  0, 63,  1,  3],\n",
       "       [ 2,  0, 10, 79,  8],\n",
       "       [ 6,  3, 34,  6, 69]], dtype=int64)"
      ]
     },
     "execution_count": 241,
     "metadata": {},
     "output_type": "execute_result"
    }
   ],
   "source": [
    "rf_classification = RandomForestClassifier()\n",
    "rf_model = rf_classification.fit(sampleTrain_dtm, y_train)\n",
    "y_pred_rf_class = rf_classification.predict(sampleTest_dtm)\n",
    "print(metrics.accuracy_score(y_test, y_pred_rf_class))\n",
    "metrics.confusion_matrix(y_test, y_pred_rf_class)\n"
   ]
  },
  {
   "cell_type": "markdown",
   "metadata": {},
   "source": [
    "# XGBoost"
   ]
  },
  {
   "cell_type": "code",
   "execution_count": 260,
   "metadata": {},
   "outputs": [
    {
     "name": "stderr",
     "output_type": "stream",
     "text": [
      "c:\\Users\\Saurav\\anaconda3\\Lib\\site-packages\\xgboost\\data.py:440: FutureWarning: is_sparse is deprecated and will be removed in a future version. Check `isinstance(dtype, pd.SparseDtype)` instead.\n",
      "  if is_sparse(data):\n"
     ]
    },
    {
     "name": "stdout",
     "output_type": "stream",
     "text": [
      "0.8302658486707567\n"
     ]
    },
    {
     "data": {
      "text/plain": [
       "array([[85,  2,  9,  3,  3],\n",
       "       [ 3, 82,  5,  1,  3],\n",
       "       [ 1,  0, 64,  2,  9],\n",
       "       [ 0,  0,  4, 87,  8],\n",
       "       [ 1,  2, 19,  8, 88]], dtype=int64)"
      ]
     },
     "execution_count": 260,
     "metadata": {},
     "output_type": "execute_result"
    }
   ],
   "source": [
    "xgb_classification = XGBClassifier()\n",
    "xgb_model = xgb_classification.fit(sampleTrain_dtm, y_train)\n",
    "y_pred_xgb_class = xgb_classification.predict(sampleTest_dtm)\n",
    "print(metrics.accuracy_score(y_test, y_pred_xgb_class))\n",
    "metrics.confusion_matrix(y_test, y_pred_xgb_class)\n"
   ]
  },
  {
   "cell_type": "code",
   "execution_count": 261,
   "metadata": {},
   "outputs": [
    {
     "name": "stdout",
     "output_type": "stream",
     "text": [
      "              precision    recall  f1-score   support\n",
      "\n",
      "           0       0.94      0.83      0.89       102\n",
      "           1       0.95      0.87      0.91        94\n",
      "           2       0.63      0.84      0.72        76\n",
      "           3       0.86      0.88      0.87        99\n",
      "           4       0.79      0.75      0.77       118\n",
      "\n",
      "    accuracy                           0.83       489\n",
      "   macro avg       0.84      0.83      0.83       489\n",
      "weighted avg       0.84      0.83      0.83       489\n",
      "\n"
     ]
    }
   ],
   "source": [
    "print(metrics.classification_report(y_test, y_pred_xgb_class))"
   ]
  },
  {
   "cell_type": "markdown",
   "metadata": {},
   "source": [
    "# Hyperparameter Tuning\n",
    "\n",
    "- Since XGBoost is performing better than other ML algorithms we will start with tuning hyperparameters of XGBoost.\n"
   ]
  },
  {
   "cell_type": "code",
   "execution_count": 191,
   "metadata": {},
   "outputs": [],
   "source": [
    "def random_search_cv(model_accuracies,range_epochs,X_train,y_train):\n",
    "  xgb = XGBClassifier()\n",
    "  param_grid={'max_depth': np.arange(1,400,50),\n",
    "          'gamma': np.arange(1,9,3),\n",
    "          'reg_alpha' :np.arange(1,400,20),\n",
    "          'reg_lambda' : np.arange(0,5,1),\n",
    "          'colsample_bytree' : np.arange(0,1,0.1),\n",
    "          'min_child_weight' : np.arange(0,40,5),\n",
    "          'n_estimators': np.arange(1,400,50),\n",
    "          'learning_rate':np.arange(0,2,0.1)\n",
    "          \n",
    "      }\n",
    "\n",
    "\n",
    "  for i in range(range_epochs):\n",
    "    model = RandomizedSearchCV(\n",
    "    estimator=xgb,\n",
    "    param_distributions=param_grid,\n",
    "    scoring=\"accuracy\",\n",
    "    verbose=10,\n",
    "    n_iter=10,\n",
    "    n_jobs=1,\n",
    "    cv=10)\n",
    "\n",
    "    model.fit(X_train,y_train)\n",
    "\n",
    "    model_accuracies[model] = model.best_score_"
   ]
  },
  {
   "cell_type": "code",
   "execution_count": 192,
   "metadata": {},
   "outputs": [
    {
     "name": "stdout",
     "output_type": "stream",
     "text": [
      "Fitting 10 folds for each of 10 candidates, totalling 100 fits\n",
      "[CV 1/10; 1/10] START colsample_bytree=0.0, gamma=1, learning_rate=1.9000000000000001, max_depth=151, min_child_weight=0, n_estimators=301, reg_alpha=301, reg_lambda=2\n"
     ]
    },
    {
     "name": "stderr",
     "output_type": "stream",
     "text": [
      "c:\\Users\\Saurav\\anaconda3\\Lib\\site-packages\\xgboost\\data.py:440: FutureWarning: is_sparse is deprecated and will be removed in a future version. Check `isinstance(dtype, pd.SparseDtype)` instead.\n",
      "  if is_sparse(data):\n"
     ]
    },
    {
     "name": "stdout",
     "output_type": "stream",
     "text": [
      "[CV 1/10; 1/10] END colsample_bytree=0.0, gamma=1, learning_rate=1.9000000000000001, max_depth=151, min_child_weight=0, n_estimators=301, reg_alpha=301, reg_lambda=2;, score=0.204 total time=   6.7s\n",
      "[CV 2/10; 1/10] START colsample_bytree=0.0, gamma=1, learning_rate=1.9000000000000001, max_depth=151, min_child_weight=0, n_estimators=301, reg_alpha=301, reg_lambda=2\n"
     ]
    },
    {
     "name": "stderr",
     "output_type": "stream",
     "text": [
      "c:\\Users\\Saurav\\anaconda3\\Lib\\site-packages\\xgboost\\data.py:440: FutureWarning: is_sparse is deprecated and will be removed in a future version. Check `isinstance(dtype, pd.SparseDtype)` instead.\n",
      "  if is_sparse(data):\n"
     ]
    },
    {
     "name": "stdout",
     "output_type": "stream",
     "text": [
      "[CV 2/10; 1/10] END colsample_bytree=0.0, gamma=1, learning_rate=1.9000000000000001, max_depth=151, min_child_weight=0, n_estimators=301, reg_alpha=301, reg_lambda=2;, score=0.204 total time=   5.2s\n",
      "[CV 3/10; 1/10] START colsample_bytree=0.0, gamma=1, learning_rate=1.9000000000000001, max_depth=151, min_child_weight=0, n_estimators=301, reg_alpha=301, reg_lambda=2\n"
     ]
    },
    {
     "name": "stderr",
     "output_type": "stream",
     "text": [
      "c:\\Users\\Saurav\\anaconda3\\Lib\\site-packages\\xgboost\\data.py:440: FutureWarning: is_sparse is deprecated and will be removed in a future version. Check `isinstance(dtype, pd.SparseDtype)` instead.\n",
      "  if is_sparse(data):\n"
     ]
    },
    {
     "name": "stdout",
     "output_type": "stream",
     "text": [
      "[CV 3/10; 1/10] END colsample_bytree=0.0, gamma=1, learning_rate=1.9000000000000001, max_depth=151, min_child_weight=0, n_estimators=301, reg_alpha=301, reg_lambda=2;, score=0.200 total time=   5.6s\n",
      "[CV 4/10; 1/10] START colsample_bytree=0.0, gamma=1, learning_rate=1.9000000000000001, max_depth=151, min_child_weight=0, n_estimators=301, reg_alpha=301, reg_lambda=2\n"
     ]
    },
    {
     "name": "stderr",
     "output_type": "stream",
     "text": [
      "c:\\Users\\Saurav\\anaconda3\\Lib\\site-packages\\xgboost\\data.py:440: FutureWarning: is_sparse is deprecated and will be removed in a future version. Check `isinstance(dtype, pd.SparseDtype)` instead.\n",
      "  if is_sparse(data):\n"
     ]
    },
    {
     "name": "stdout",
     "output_type": "stream",
     "text": [
      "[CV 4/10; 1/10] END colsample_bytree=0.0, gamma=1, learning_rate=1.9000000000000001, max_depth=151, min_child_weight=0, n_estimators=301, reg_alpha=301, reg_lambda=2;, score=0.200 total time=   5.8s\n",
      "[CV 5/10; 1/10] START colsample_bytree=0.0, gamma=1, learning_rate=1.9000000000000001, max_depth=151, min_child_weight=0, n_estimators=301, reg_alpha=301, reg_lambda=2\n"
     ]
    },
    {
     "name": "stderr",
     "output_type": "stream",
     "text": [
      "c:\\Users\\Saurav\\anaconda3\\Lib\\site-packages\\xgboost\\data.py:440: FutureWarning: is_sparse is deprecated and will be removed in a future version. Check `isinstance(dtype, pd.SparseDtype)` instead.\n",
      "  if is_sparse(data):\n"
     ]
    },
    {
     "name": "stdout",
     "output_type": "stream",
     "text": [
      "[CV 5/10; 1/10] END colsample_bytree=0.0, gamma=1, learning_rate=1.9000000000000001, max_depth=151, min_child_weight=0, n_estimators=301, reg_alpha=301, reg_lambda=2;, score=0.200 total time=   6.4s\n",
      "[CV 6/10; 1/10] START colsample_bytree=0.0, gamma=1, learning_rate=1.9000000000000001, max_depth=151, min_child_weight=0, n_estimators=301, reg_alpha=301, reg_lambda=2\n"
     ]
    },
    {
     "name": "stderr",
     "output_type": "stream",
     "text": [
      "c:\\Users\\Saurav\\anaconda3\\Lib\\site-packages\\xgboost\\data.py:440: FutureWarning: is_sparse is deprecated and will be removed in a future version. Check `isinstance(dtype, pd.SparseDtype)` instead.\n",
      "  if is_sparse(data):\n"
     ]
    },
    {
     "name": "stdout",
     "output_type": "stream",
     "text": [
      "[CV 6/10; 1/10] END colsample_bytree=0.0, gamma=1, learning_rate=1.9000000000000001, max_depth=151, min_child_weight=0, n_estimators=301, reg_alpha=301, reg_lambda=2;, score=0.205 total time=   7.1s\n",
      "[CV 7/10; 1/10] START colsample_bytree=0.0, gamma=1, learning_rate=1.9000000000000001, max_depth=151, min_child_weight=0, n_estimators=301, reg_alpha=301, reg_lambda=2\n"
     ]
    },
    {
     "name": "stderr",
     "output_type": "stream",
     "text": [
      "c:\\Users\\Saurav\\anaconda3\\Lib\\site-packages\\xgboost\\data.py:440: FutureWarning: is_sparse is deprecated and will be removed in a future version. Check `isinstance(dtype, pd.SparseDtype)` instead.\n",
      "  if is_sparse(data):\n"
     ]
    },
    {
     "name": "stdout",
     "output_type": "stream",
     "text": [
      "[CV 7/10; 1/10] END colsample_bytree=0.0, gamma=1, learning_rate=1.9000000000000001, max_depth=151, min_child_weight=0, n_estimators=301, reg_alpha=301, reg_lambda=2;, score=0.205 total time=   5.8s\n",
      "[CV 8/10; 1/10] START colsample_bytree=0.0, gamma=1, learning_rate=1.9000000000000001, max_depth=151, min_child_weight=0, n_estimators=301, reg_alpha=301, reg_lambda=2\n"
     ]
    },
    {
     "name": "stderr",
     "output_type": "stream",
     "text": [
      "c:\\Users\\Saurav\\anaconda3\\Lib\\site-packages\\xgboost\\data.py:440: FutureWarning: is_sparse is deprecated and will be removed in a future version. Check `isinstance(dtype, pd.SparseDtype)` instead.\n",
      "  if is_sparse(data):\n"
     ]
    },
    {
     "name": "stdout",
     "output_type": "stream",
     "text": [
      "[CV 8/10; 1/10] END colsample_bytree=0.0, gamma=1, learning_rate=1.9000000000000001, max_depth=151, min_child_weight=0, n_estimators=301, reg_alpha=301, reg_lambda=2;, score=0.205 total time=   6.2s\n",
      "[CV 9/10; 1/10] START colsample_bytree=0.0, gamma=1, learning_rate=1.9000000000000001, max_depth=151, min_child_weight=0, n_estimators=301, reg_alpha=301, reg_lambda=2\n"
     ]
    },
    {
     "name": "stderr",
     "output_type": "stream",
     "text": [
      "c:\\Users\\Saurav\\anaconda3\\Lib\\site-packages\\xgboost\\data.py:440: FutureWarning: is_sparse is deprecated and will be removed in a future version. Check `isinstance(dtype, pd.SparseDtype)` instead.\n",
      "  if is_sparse(data):\n"
     ]
    },
    {
     "name": "stdout",
     "output_type": "stream",
     "text": [
      "[CV 9/10; 1/10] END colsample_bytree=0.0, gamma=1, learning_rate=1.9000000000000001, max_depth=151, min_child_weight=0, n_estimators=301, reg_alpha=301, reg_lambda=2;, score=0.205 total time=   6.6s\n",
      "[CV 10/10; 1/10] START colsample_bytree=0.0, gamma=1, learning_rate=1.9000000000000001, max_depth=151, min_child_weight=0, n_estimators=301, reg_alpha=301, reg_lambda=2\n"
     ]
    },
    {
     "name": "stderr",
     "output_type": "stream",
     "text": [
      "c:\\Users\\Saurav\\anaconda3\\Lib\\site-packages\\xgboost\\data.py:440: FutureWarning: is_sparse is deprecated and will be removed in a future version. Check `isinstance(dtype, pd.SparseDtype)` instead.\n",
      "  if is_sparse(data):\n"
     ]
    },
    {
     "name": "stdout",
     "output_type": "stream",
     "text": [
      "[CV 10/10; 1/10] END colsample_bytree=0.0, gamma=1, learning_rate=1.9000000000000001, max_depth=151, min_child_weight=0, n_estimators=301, reg_alpha=301, reg_lambda=2;, score=0.205 total time=   6.5s\n",
      "[CV 1/10; 2/10] START colsample_bytree=0.8, gamma=1, learning_rate=1.4000000000000001, max_depth=1, min_child_weight=25, n_estimators=351, reg_alpha=81, reg_lambda=4\n"
     ]
    },
    {
     "name": "stderr",
     "output_type": "stream",
     "text": [
      "c:\\Users\\Saurav\\anaconda3\\Lib\\site-packages\\xgboost\\data.py:440: FutureWarning: is_sparse is deprecated and will be removed in a future version. Check `isinstance(dtype, pd.SparseDtype)` instead.\n",
      "  if is_sparse(data):\n"
     ]
    },
    {
     "name": "stdout",
     "output_type": "stream",
     "text": [
      "[CV 1/10; 2/10] END colsample_bytree=0.8, gamma=1, learning_rate=1.4000000000000001, max_depth=1, min_child_weight=25, n_estimators=351, reg_alpha=81, reg_lambda=4;, score=0.602 total time=  22.7s\n",
      "[CV 2/10; 2/10] START colsample_bytree=0.8, gamma=1, learning_rate=1.4000000000000001, max_depth=1, min_child_weight=25, n_estimators=351, reg_alpha=81, reg_lambda=4\n"
     ]
    },
    {
     "name": "stderr",
     "output_type": "stream",
     "text": [
      "c:\\Users\\Saurav\\anaconda3\\Lib\\site-packages\\xgboost\\data.py:440: FutureWarning: is_sparse is deprecated and will be removed in a future version. Check `isinstance(dtype, pd.SparseDtype)` instead.\n",
      "  if is_sparse(data):\n"
     ]
    },
    {
     "name": "stdout",
     "output_type": "stream",
     "text": [
      "[CV 2/10; 2/10] END colsample_bytree=0.8, gamma=1, learning_rate=1.4000000000000001, max_depth=1, min_child_weight=25, n_estimators=351, reg_alpha=81, reg_lambda=4;, score=0.566 total time=  23.5s\n",
      "[CV 3/10; 2/10] START colsample_bytree=0.8, gamma=1, learning_rate=1.4000000000000001, max_depth=1, min_child_weight=25, n_estimators=351, reg_alpha=81, reg_lambda=4\n"
     ]
    },
    {
     "name": "stderr",
     "output_type": "stream",
     "text": [
      "c:\\Users\\Saurav\\anaconda3\\Lib\\site-packages\\xgboost\\data.py:440: FutureWarning: is_sparse is deprecated and will be removed in a future version. Check `isinstance(dtype, pd.SparseDtype)` instead.\n",
      "  if is_sparse(data):\n"
     ]
    },
    {
     "name": "stdout",
     "output_type": "stream",
     "text": [
      "[CV 3/10; 2/10] END colsample_bytree=0.8, gamma=1, learning_rate=1.4000000000000001, max_depth=1, min_child_weight=25, n_estimators=351, reg_alpha=81, reg_lambda=4;, score=0.605 total time=  23.7s\n",
      "[CV 4/10; 2/10] START colsample_bytree=0.8, gamma=1, learning_rate=1.4000000000000001, max_depth=1, min_child_weight=25, n_estimators=351, reg_alpha=81, reg_lambda=4\n"
     ]
    },
    {
     "name": "stderr",
     "output_type": "stream",
     "text": [
      "c:\\Users\\Saurav\\anaconda3\\Lib\\site-packages\\xgboost\\data.py:440: FutureWarning: is_sparse is deprecated and will be removed in a future version. Check `isinstance(dtype, pd.SparseDtype)` instead.\n",
      "  if is_sparse(data):\n"
     ]
    },
    {
     "name": "stdout",
     "output_type": "stream",
     "text": [
      "[CV 4/10; 2/10] END colsample_bytree=0.8, gamma=1, learning_rate=1.4000000000000001, max_depth=1, min_child_weight=25, n_estimators=351, reg_alpha=81, reg_lambda=4;, score=0.621 total time=  23.8s\n",
      "[CV 5/10; 2/10] START colsample_bytree=0.8, gamma=1, learning_rate=1.4000000000000001, max_depth=1, min_child_weight=25, n_estimators=351, reg_alpha=81, reg_lambda=4\n"
     ]
    },
    {
     "name": "stderr",
     "output_type": "stream",
     "text": [
      "c:\\Users\\Saurav\\anaconda3\\Lib\\site-packages\\xgboost\\data.py:440: FutureWarning: is_sparse is deprecated and will be removed in a future version. Check `isinstance(dtype, pd.SparseDtype)` instead.\n",
      "  if is_sparse(data):\n"
     ]
    },
    {
     "name": "stdout",
     "output_type": "stream",
     "text": [
      "[CV 5/10; 2/10] END colsample_bytree=0.8, gamma=1, learning_rate=1.4000000000000001, max_depth=1, min_child_weight=25, n_estimators=351, reg_alpha=81, reg_lambda=4;, score=0.621 total time=  23.8s\n",
      "[CV 6/10; 2/10] START colsample_bytree=0.8, gamma=1, learning_rate=1.4000000000000001, max_depth=1, min_child_weight=25, n_estimators=351, reg_alpha=81, reg_lambda=4\n"
     ]
    },
    {
     "name": "stderr",
     "output_type": "stream",
     "text": [
      "c:\\Users\\Saurav\\anaconda3\\Lib\\site-packages\\xgboost\\data.py:440: FutureWarning: is_sparse is deprecated and will be removed in a future version. Check `isinstance(dtype, pd.SparseDtype)` instead.\n",
      "  if is_sparse(data):\n"
     ]
    },
    {
     "name": "stdout",
     "output_type": "stream",
     "text": [
      "[CV 6/10; 2/10] END colsample_bytree=0.8, gamma=1, learning_rate=1.4000000000000001, max_depth=1, min_child_weight=25, n_estimators=351, reg_alpha=81, reg_lambda=4;, score=0.626 total time=  23.7s\n",
      "[CV 7/10; 2/10] START colsample_bytree=0.8, gamma=1, learning_rate=1.4000000000000001, max_depth=1, min_child_weight=25, n_estimators=351, reg_alpha=81, reg_lambda=4\n"
     ]
    },
    {
     "name": "stderr",
     "output_type": "stream",
     "text": [
      "c:\\Users\\Saurav\\anaconda3\\Lib\\site-packages\\xgboost\\data.py:440: FutureWarning: is_sparse is deprecated and will be removed in a future version. Check `isinstance(dtype, pd.SparseDtype)` instead.\n",
      "  if is_sparse(data):\n"
     ]
    },
    {
     "name": "stdout",
     "output_type": "stream",
     "text": [
      "[CV 7/10; 2/10] END colsample_bytree=0.8, gamma=1, learning_rate=1.4000000000000001, max_depth=1, min_child_weight=25, n_estimators=351, reg_alpha=81, reg_lambda=4;, score=0.646 total time=  23.7s\n",
      "[CV 8/10; 2/10] START colsample_bytree=0.8, gamma=1, learning_rate=1.4000000000000001, max_depth=1, min_child_weight=25, n_estimators=351, reg_alpha=81, reg_lambda=4\n"
     ]
    },
    {
     "name": "stderr",
     "output_type": "stream",
     "text": [
      "c:\\Users\\Saurav\\anaconda3\\Lib\\site-packages\\xgboost\\data.py:440: FutureWarning: is_sparse is deprecated and will be removed in a future version. Check `isinstance(dtype, pd.SparseDtype)` instead.\n",
      "  if is_sparse(data):\n"
     ]
    },
    {
     "name": "stdout",
     "output_type": "stream",
     "text": [
      "[CV 8/10; 2/10] END colsample_bytree=0.8, gamma=1, learning_rate=1.4000000000000001, max_depth=1, min_child_weight=25, n_estimators=351, reg_alpha=81, reg_lambda=4;, score=0.667 total time=  23.8s\n",
      "[CV 9/10; 2/10] START colsample_bytree=0.8, gamma=1, learning_rate=1.4000000000000001, max_depth=1, min_child_weight=25, n_estimators=351, reg_alpha=81, reg_lambda=4\n"
     ]
    },
    {
     "name": "stderr",
     "output_type": "stream",
     "text": [
      "c:\\Users\\Saurav\\anaconda3\\Lib\\site-packages\\xgboost\\data.py:440: FutureWarning: is_sparse is deprecated and will be removed in a future version. Check `isinstance(dtype, pd.SparseDtype)` instead.\n",
      "  if is_sparse(data):\n"
     ]
    },
    {
     "name": "stdout",
     "output_type": "stream",
     "text": [
      "[CV 9/10; 2/10] END colsample_bytree=0.8, gamma=1, learning_rate=1.4000000000000001, max_depth=1, min_child_weight=25, n_estimators=351, reg_alpha=81, reg_lambda=4;, score=0.615 total time=  26.2s\n",
      "[CV 10/10; 2/10] START colsample_bytree=0.8, gamma=1, learning_rate=1.4000000000000001, max_depth=1, min_child_weight=25, n_estimators=351, reg_alpha=81, reg_lambda=4\n"
     ]
    },
    {
     "name": "stderr",
     "output_type": "stream",
     "text": [
      "c:\\Users\\Saurav\\anaconda3\\Lib\\site-packages\\xgboost\\data.py:440: FutureWarning: is_sparse is deprecated and will be removed in a future version. Check `isinstance(dtype, pd.SparseDtype)` instead.\n",
      "  if is_sparse(data):\n"
     ]
    },
    {
     "name": "stdout",
     "output_type": "stream",
     "text": [
      "[CV 10/10; 2/10] END colsample_bytree=0.8, gamma=1, learning_rate=1.4000000000000001, max_depth=1, min_child_weight=25, n_estimators=351, reg_alpha=81, reg_lambda=4;, score=0.662 total time=  24.1s\n",
      "[CV 1/10; 3/10] START colsample_bytree=0.7000000000000001, gamma=7, learning_rate=1.6, max_depth=101, min_child_weight=5, n_estimators=151, reg_alpha=1, reg_lambda=4\n"
     ]
    },
    {
     "name": "stderr",
     "output_type": "stream",
     "text": [
      "c:\\Users\\Saurav\\anaconda3\\Lib\\site-packages\\xgboost\\data.py:440: FutureWarning: is_sparse is deprecated and will be removed in a future version. Check `isinstance(dtype, pd.SparseDtype)` instead.\n",
      "  if is_sparse(data):\n"
     ]
    },
    {
     "name": "stdout",
     "output_type": "stream",
     "text": [
      "[CV 1/10; 3/10] END colsample_bytree=0.7000000000000001, gamma=7, learning_rate=1.6, max_depth=101, min_child_weight=5, n_estimators=151, reg_alpha=1, reg_lambda=4;, score=0.740 total time=  27.0s\n",
      "[CV 2/10; 3/10] START colsample_bytree=0.7000000000000001, gamma=7, learning_rate=1.6, max_depth=101, min_child_weight=5, n_estimators=151, reg_alpha=1, reg_lambda=4\n"
     ]
    },
    {
     "name": "stderr",
     "output_type": "stream",
     "text": [
      "c:\\Users\\Saurav\\anaconda3\\Lib\\site-packages\\xgboost\\data.py:440: FutureWarning: is_sparse is deprecated and will be removed in a future version. Check `isinstance(dtype, pd.SparseDtype)` instead.\n",
      "  if is_sparse(data):\n"
     ]
    },
    {
     "name": "stdout",
     "output_type": "stream",
     "text": [
      "[CV 2/10; 3/10] END colsample_bytree=0.7000000000000001, gamma=7, learning_rate=1.6, max_depth=101, min_child_weight=5, n_estimators=151, reg_alpha=1, reg_lambda=4;, score=0.724 total time=  29.2s\n",
      "[CV 3/10; 3/10] START colsample_bytree=0.7000000000000001, gamma=7, learning_rate=1.6, max_depth=101, min_child_weight=5, n_estimators=151, reg_alpha=1, reg_lambda=4\n"
     ]
    },
    {
     "name": "stderr",
     "output_type": "stream",
     "text": [
      "c:\\Users\\Saurav\\anaconda3\\Lib\\site-packages\\xgboost\\data.py:440: FutureWarning: is_sparse is deprecated and will be removed in a future version. Check `isinstance(dtype, pd.SparseDtype)` instead.\n",
      "  if is_sparse(data):\n"
     ]
    },
    {
     "name": "stdout",
     "output_type": "stream",
     "text": [
      "[CV 3/10; 3/10] END colsample_bytree=0.7000000000000001, gamma=7, learning_rate=1.6, max_depth=101, min_child_weight=5, n_estimators=151, reg_alpha=1, reg_lambda=4;, score=0.764 total time=  29.2s\n",
      "[CV 4/10; 3/10] START colsample_bytree=0.7000000000000001, gamma=7, learning_rate=1.6, max_depth=101, min_child_weight=5, n_estimators=151, reg_alpha=1, reg_lambda=4\n"
     ]
    },
    {
     "name": "stderr",
     "output_type": "stream",
     "text": [
      "c:\\Users\\Saurav\\anaconda3\\Lib\\site-packages\\xgboost\\data.py:440: FutureWarning: is_sparse is deprecated and will be removed in a future version. Check `isinstance(dtype, pd.SparseDtype)` instead.\n",
      "  if is_sparse(data):\n"
     ]
    },
    {
     "name": "stdout",
     "output_type": "stream",
     "text": [
      "[CV 4/10; 3/10] END colsample_bytree=0.7000000000000001, gamma=7, learning_rate=1.6, max_depth=101, min_child_weight=5, n_estimators=151, reg_alpha=1, reg_lambda=4;, score=0.785 total time=  29.1s\n",
      "[CV 5/10; 3/10] START colsample_bytree=0.7000000000000001, gamma=7, learning_rate=1.6, max_depth=101, min_child_weight=5, n_estimators=151, reg_alpha=1, reg_lambda=4\n"
     ]
    },
    {
     "name": "stderr",
     "output_type": "stream",
     "text": [
      "c:\\Users\\Saurav\\anaconda3\\Lib\\site-packages\\xgboost\\data.py:440: FutureWarning: is_sparse is deprecated and will be removed in a future version. Check `isinstance(dtype, pd.SparseDtype)` instead.\n",
      "  if is_sparse(data):\n"
     ]
    },
    {
     "name": "stdout",
     "output_type": "stream",
     "text": [
      "[CV 5/10; 3/10] END colsample_bytree=0.7000000000000001, gamma=7, learning_rate=1.6, max_depth=101, min_child_weight=5, n_estimators=151, reg_alpha=1, reg_lambda=4;, score=0.785 total time=  30.0s\n",
      "[CV 6/10; 3/10] START colsample_bytree=0.7000000000000001, gamma=7, learning_rate=1.6, max_depth=101, min_child_weight=5, n_estimators=151, reg_alpha=1, reg_lambda=4\n"
     ]
    },
    {
     "name": "stderr",
     "output_type": "stream",
     "text": [
      "c:\\Users\\Saurav\\anaconda3\\Lib\\site-packages\\xgboost\\data.py:440: FutureWarning: is_sparse is deprecated and will be removed in a future version. Check `isinstance(dtype, pd.SparseDtype)` instead.\n",
      "  if is_sparse(data):\n"
     ]
    },
    {
     "name": "stdout",
     "output_type": "stream",
     "text": [
      "[CV 6/10; 3/10] END colsample_bytree=0.7000000000000001, gamma=7, learning_rate=1.6, max_depth=101, min_child_weight=5, n_estimators=151, reg_alpha=1, reg_lambda=4;, score=0.754 total time=  32.8s\n",
      "[CV 7/10; 3/10] START colsample_bytree=0.7000000000000001, gamma=7, learning_rate=1.6, max_depth=101, min_child_weight=5, n_estimators=151, reg_alpha=1, reg_lambda=4\n"
     ]
    },
    {
     "name": "stderr",
     "output_type": "stream",
     "text": [
      "c:\\Users\\Saurav\\anaconda3\\Lib\\site-packages\\xgboost\\data.py:440: FutureWarning: is_sparse is deprecated and will be removed in a future version. Check `isinstance(dtype, pd.SparseDtype)` instead.\n",
      "  if is_sparse(data):\n"
     ]
    },
    {
     "name": "stdout",
     "output_type": "stream",
     "text": [
      "[CV 7/10; 3/10] END colsample_bytree=0.7000000000000001, gamma=7, learning_rate=1.6, max_depth=101, min_child_weight=5, n_estimators=151, reg_alpha=1, reg_lambda=4;, score=0.764 total time=  31.8s\n",
      "[CV 8/10; 3/10] START colsample_bytree=0.7000000000000001, gamma=7, learning_rate=1.6, max_depth=101, min_child_weight=5, n_estimators=151, reg_alpha=1, reg_lambda=4\n"
     ]
    },
    {
     "name": "stderr",
     "output_type": "stream",
     "text": [
      "c:\\Users\\Saurav\\anaconda3\\Lib\\site-packages\\xgboost\\data.py:440: FutureWarning: is_sparse is deprecated and will be removed in a future version. Check `isinstance(dtype, pd.SparseDtype)` instead.\n",
      "  if is_sparse(data):\n"
     ]
    },
    {
     "name": "stdout",
     "output_type": "stream",
     "text": [
      "[CV 8/10; 3/10] END colsample_bytree=0.7000000000000001, gamma=7, learning_rate=1.6, max_depth=101, min_child_weight=5, n_estimators=151, reg_alpha=1, reg_lambda=4;, score=0.779 total time=  31.3s\n",
      "[CV 9/10; 3/10] START colsample_bytree=0.7000000000000001, gamma=7, learning_rate=1.6, max_depth=101, min_child_weight=5, n_estimators=151, reg_alpha=1, reg_lambda=4\n"
     ]
    },
    {
     "name": "stderr",
     "output_type": "stream",
     "text": [
      "c:\\Users\\Saurav\\anaconda3\\Lib\\site-packages\\xgboost\\data.py:440: FutureWarning: is_sparse is deprecated and will be removed in a future version. Check `isinstance(dtype, pd.SparseDtype)` instead.\n",
      "  if is_sparse(data):\n"
     ]
    },
    {
     "name": "stdout",
     "output_type": "stream",
     "text": [
      "[CV 9/10; 3/10] END colsample_bytree=0.7000000000000001, gamma=7, learning_rate=1.6, max_depth=101, min_child_weight=5, n_estimators=151, reg_alpha=1, reg_lambda=4;, score=0.713 total time=  30.4s\n",
      "[CV 10/10; 3/10] START colsample_bytree=0.7000000000000001, gamma=7, learning_rate=1.6, max_depth=101, min_child_weight=5, n_estimators=151, reg_alpha=1, reg_lambda=4\n"
     ]
    },
    {
     "name": "stderr",
     "output_type": "stream",
     "text": [
      "c:\\Users\\Saurav\\anaconda3\\Lib\\site-packages\\xgboost\\data.py:440: FutureWarning: is_sparse is deprecated and will be removed in a future version. Check `isinstance(dtype, pd.SparseDtype)` instead.\n",
      "  if is_sparse(data):\n"
     ]
    },
    {
     "name": "stdout",
     "output_type": "stream",
     "text": [
      "[CV 10/10; 3/10] END colsample_bytree=0.7000000000000001, gamma=7, learning_rate=1.6, max_depth=101, min_child_weight=5, n_estimators=151, reg_alpha=1, reg_lambda=4;, score=0.785 total time=  29.9s\n",
      "[CV 1/10; 4/10] START colsample_bytree=0.9, gamma=4, learning_rate=0.9, max_depth=1, min_child_weight=10, n_estimators=101, reg_alpha=101, reg_lambda=1\n"
     ]
    },
    {
     "name": "stderr",
     "output_type": "stream",
     "text": [
      "c:\\Users\\Saurav\\anaconda3\\Lib\\site-packages\\xgboost\\data.py:440: FutureWarning: is_sparse is deprecated and will be removed in a future version. Check `isinstance(dtype, pd.SparseDtype)` instead.\n",
      "  if is_sparse(data):\n"
     ]
    },
    {
     "name": "stdout",
     "output_type": "stream",
     "text": [
      "[CV 1/10; 4/10] END colsample_bytree=0.9, gamma=4, learning_rate=0.9, max_depth=1, min_child_weight=10, n_estimators=101, reg_alpha=101, reg_lambda=1;, score=0.617 total time=   8.1s\n",
      "[CV 2/10; 4/10] START colsample_bytree=0.9, gamma=4, learning_rate=0.9, max_depth=1, min_child_weight=10, n_estimators=101, reg_alpha=101, reg_lambda=1\n"
     ]
    },
    {
     "name": "stderr",
     "output_type": "stream",
     "text": [
      "c:\\Users\\Saurav\\anaconda3\\Lib\\site-packages\\xgboost\\data.py:440: FutureWarning: is_sparse is deprecated and will be removed in a future version. Check `isinstance(dtype, pd.SparseDtype)` instead.\n",
      "  if is_sparse(data):\n"
     ]
    },
    {
     "name": "stdout",
     "output_type": "stream",
     "text": [
      "[CV 2/10; 4/10] END colsample_bytree=0.9, gamma=4, learning_rate=0.9, max_depth=1, min_child_weight=10, n_estimators=101, reg_alpha=101, reg_lambda=1;, score=0.566 total time=   7.6s\n",
      "[CV 3/10; 4/10] START colsample_bytree=0.9, gamma=4, learning_rate=0.9, max_depth=1, min_child_weight=10, n_estimators=101, reg_alpha=101, reg_lambda=1\n"
     ]
    },
    {
     "name": "stderr",
     "output_type": "stream",
     "text": [
      "c:\\Users\\Saurav\\anaconda3\\Lib\\site-packages\\xgboost\\data.py:440: FutureWarning: is_sparse is deprecated and will be removed in a future version. Check `isinstance(dtype, pd.SparseDtype)` instead.\n",
      "  if is_sparse(data):\n"
     ]
    },
    {
     "name": "stdout",
     "output_type": "stream",
     "text": [
      "[CV 3/10; 4/10] END colsample_bytree=0.9, gamma=4, learning_rate=0.9, max_depth=1, min_child_weight=10, n_estimators=101, reg_alpha=101, reg_lambda=1;, score=0.636 total time=   7.8s\n",
      "[CV 4/10; 4/10] START colsample_bytree=0.9, gamma=4, learning_rate=0.9, max_depth=1, min_child_weight=10, n_estimators=101, reg_alpha=101, reg_lambda=1\n"
     ]
    },
    {
     "name": "stderr",
     "output_type": "stream",
     "text": [
      "c:\\Users\\Saurav\\anaconda3\\Lib\\site-packages\\xgboost\\data.py:440: FutureWarning: is_sparse is deprecated and will be removed in a future version. Check `isinstance(dtype, pd.SparseDtype)` instead.\n",
      "  if is_sparse(data):\n"
     ]
    },
    {
     "name": "stdout",
     "output_type": "stream",
     "text": [
      "[CV 4/10; 4/10] END colsample_bytree=0.9, gamma=4, learning_rate=0.9, max_depth=1, min_child_weight=10, n_estimators=101, reg_alpha=101, reg_lambda=1;, score=0.656 total time=   7.7s\n",
      "[CV 5/10; 4/10] START colsample_bytree=0.9, gamma=4, learning_rate=0.9, max_depth=1, min_child_weight=10, n_estimators=101, reg_alpha=101, reg_lambda=1\n"
     ]
    },
    {
     "name": "stderr",
     "output_type": "stream",
     "text": [
      "c:\\Users\\Saurav\\anaconda3\\Lib\\site-packages\\xgboost\\data.py:440: FutureWarning: is_sparse is deprecated and will be removed in a future version. Check `isinstance(dtype, pd.SparseDtype)` instead.\n",
      "  if is_sparse(data):\n"
     ]
    },
    {
     "name": "stdout",
     "output_type": "stream",
     "text": [
      "[CV 5/10; 4/10] END colsample_bytree=0.9, gamma=4, learning_rate=0.9, max_depth=1, min_child_weight=10, n_estimators=101, reg_alpha=101, reg_lambda=1;, score=0.621 total time=   7.8s\n",
      "[CV 6/10; 4/10] START colsample_bytree=0.9, gamma=4, learning_rate=0.9, max_depth=1, min_child_weight=10, n_estimators=101, reg_alpha=101, reg_lambda=1\n"
     ]
    },
    {
     "name": "stderr",
     "output_type": "stream",
     "text": [
      "c:\\Users\\Saurav\\anaconda3\\Lib\\site-packages\\xgboost\\data.py:440: FutureWarning: is_sparse is deprecated and will be removed in a future version. Check `isinstance(dtype, pd.SparseDtype)` instead.\n",
      "  if is_sparse(data):\n"
     ]
    },
    {
     "name": "stdout",
     "output_type": "stream",
     "text": [
      "[CV 6/10; 4/10] END colsample_bytree=0.9, gamma=4, learning_rate=0.9, max_depth=1, min_child_weight=10, n_estimators=101, reg_alpha=101, reg_lambda=1;, score=0.621 total time=   8.0s\n",
      "[CV 7/10; 4/10] START colsample_bytree=0.9, gamma=4, learning_rate=0.9, max_depth=1, min_child_weight=10, n_estimators=101, reg_alpha=101, reg_lambda=1\n"
     ]
    },
    {
     "name": "stderr",
     "output_type": "stream",
     "text": [
      "c:\\Users\\Saurav\\anaconda3\\Lib\\site-packages\\xgboost\\data.py:440: FutureWarning: is_sparse is deprecated and will be removed in a future version. Check `isinstance(dtype, pd.SparseDtype)` instead.\n",
      "  if is_sparse(data):\n"
     ]
    },
    {
     "name": "stdout",
     "output_type": "stream",
     "text": [
      "[CV 7/10; 4/10] END colsample_bytree=0.9, gamma=4, learning_rate=0.9, max_depth=1, min_child_weight=10, n_estimators=101, reg_alpha=101, reg_lambda=1;, score=0.646 total time=   7.8s\n",
      "[CV 8/10; 4/10] START colsample_bytree=0.9, gamma=4, learning_rate=0.9, max_depth=1, min_child_weight=10, n_estimators=101, reg_alpha=101, reg_lambda=1\n"
     ]
    },
    {
     "name": "stderr",
     "output_type": "stream",
     "text": [
      "c:\\Users\\Saurav\\anaconda3\\Lib\\site-packages\\xgboost\\data.py:440: FutureWarning: is_sparse is deprecated and will be removed in a future version. Check `isinstance(dtype, pd.SparseDtype)` instead.\n",
      "  if is_sparse(data):\n"
     ]
    },
    {
     "name": "stdout",
     "output_type": "stream",
     "text": [
      "[CV 8/10; 4/10] END colsample_bytree=0.9, gamma=4, learning_rate=0.9, max_depth=1, min_child_weight=10, n_estimators=101, reg_alpha=101, reg_lambda=1;, score=0.662 total time=   7.8s\n",
      "[CV 9/10; 4/10] START colsample_bytree=0.9, gamma=4, learning_rate=0.9, max_depth=1, min_child_weight=10, n_estimators=101, reg_alpha=101, reg_lambda=1\n"
     ]
    },
    {
     "name": "stderr",
     "output_type": "stream",
     "text": [
      "c:\\Users\\Saurav\\anaconda3\\Lib\\site-packages\\xgboost\\data.py:440: FutureWarning: is_sparse is deprecated and will be removed in a future version. Check `isinstance(dtype, pd.SparseDtype)` instead.\n",
      "  if is_sparse(data):\n"
     ]
    },
    {
     "name": "stdout",
     "output_type": "stream",
     "text": [
      "[CV 9/10; 4/10] END colsample_bytree=0.9, gamma=4, learning_rate=0.9, max_depth=1, min_child_weight=10, n_estimators=101, reg_alpha=101, reg_lambda=1;, score=0.646 total time=   7.7s\n",
      "[CV 10/10; 4/10] START colsample_bytree=0.9, gamma=4, learning_rate=0.9, max_depth=1, min_child_weight=10, n_estimators=101, reg_alpha=101, reg_lambda=1\n"
     ]
    },
    {
     "name": "stderr",
     "output_type": "stream",
     "text": [
      "c:\\Users\\Saurav\\anaconda3\\Lib\\site-packages\\xgboost\\data.py:440: FutureWarning: is_sparse is deprecated and will be removed in a future version. Check `isinstance(dtype, pd.SparseDtype)` instead.\n",
      "  if is_sparse(data):\n"
     ]
    },
    {
     "name": "stdout",
     "output_type": "stream",
     "text": [
      "[CV 10/10; 4/10] END colsample_bytree=0.9, gamma=4, learning_rate=0.9, max_depth=1, min_child_weight=10, n_estimators=101, reg_alpha=101, reg_lambda=1;, score=0.672 total time=   7.7s\n",
      "[CV 1/10; 5/10] START colsample_bytree=0.4, gamma=4, learning_rate=0.30000000000000004, max_depth=201, min_child_weight=35, n_estimators=251, reg_alpha=161, reg_lambda=0\n"
     ]
    },
    {
     "name": "stderr",
     "output_type": "stream",
     "text": [
      "c:\\Users\\Saurav\\anaconda3\\Lib\\site-packages\\xgboost\\data.py:440: FutureWarning: is_sparse is deprecated and will be removed in a future version. Check `isinstance(dtype, pd.SparseDtype)` instead.\n",
      "  if is_sparse(data):\n"
     ]
    },
    {
     "name": "stdout",
     "output_type": "stream",
     "text": [
      "[CV 1/10; 5/10] END colsample_bytree=0.4, gamma=4, learning_rate=0.30000000000000004, max_depth=201, min_child_weight=35, n_estimators=251, reg_alpha=161, reg_lambda=0;, score=0.301 total time=  11.5s\n",
      "[CV 2/10; 5/10] START colsample_bytree=0.4, gamma=4, learning_rate=0.30000000000000004, max_depth=201, min_child_weight=35, n_estimators=251, reg_alpha=161, reg_lambda=0\n"
     ]
    },
    {
     "name": "stderr",
     "output_type": "stream",
     "text": [
      "c:\\Users\\Saurav\\anaconda3\\Lib\\site-packages\\xgboost\\data.py:440: FutureWarning: is_sparse is deprecated and will be removed in a future version. Check `isinstance(dtype, pd.SparseDtype)` instead.\n",
      "  if is_sparse(data):\n"
     ]
    },
    {
     "name": "stdout",
     "output_type": "stream",
     "text": [
      "[CV 2/10; 5/10] END colsample_bytree=0.4, gamma=4, learning_rate=0.30000000000000004, max_depth=201, min_child_weight=35, n_estimators=251, reg_alpha=161, reg_lambda=0;, score=0.327 total time=  11.9s\n",
      "[CV 3/10; 5/10] START colsample_bytree=0.4, gamma=4, learning_rate=0.30000000000000004, max_depth=201, min_child_weight=35, n_estimators=251, reg_alpha=161, reg_lambda=0\n"
     ]
    },
    {
     "name": "stderr",
     "output_type": "stream",
     "text": [
      "c:\\Users\\Saurav\\anaconda3\\Lib\\site-packages\\xgboost\\data.py:440: FutureWarning: is_sparse is deprecated and will be removed in a future version. Check `isinstance(dtype, pd.SparseDtype)` instead.\n",
      "  if is_sparse(data):\n"
     ]
    },
    {
     "name": "stdout",
     "output_type": "stream",
     "text": [
      "[CV 3/10; 5/10] END colsample_bytree=0.4, gamma=4, learning_rate=0.30000000000000004, max_depth=201, min_child_weight=35, n_estimators=251, reg_alpha=161, reg_lambda=0;, score=0.297 total time=  11.6s\n",
      "[CV 4/10; 5/10] START colsample_bytree=0.4, gamma=4, learning_rate=0.30000000000000004, max_depth=201, min_child_weight=35, n_estimators=251, reg_alpha=161, reg_lambda=0\n"
     ]
    },
    {
     "name": "stderr",
     "output_type": "stream",
     "text": [
      "c:\\Users\\Saurav\\anaconda3\\Lib\\site-packages\\xgboost\\data.py:440: FutureWarning: is_sparse is deprecated and will be removed in a future version. Check `isinstance(dtype, pd.SparseDtype)` instead.\n",
      "  if is_sparse(data):\n"
     ]
    },
    {
     "name": "stdout",
     "output_type": "stream",
     "text": [
      "[CV 4/10; 5/10] END colsample_bytree=0.4, gamma=4, learning_rate=0.30000000000000004, max_depth=201, min_child_weight=35, n_estimators=251, reg_alpha=161, reg_lambda=0;, score=0.323 total time=  11.5s\n",
      "[CV 5/10; 5/10] START colsample_bytree=0.4, gamma=4, learning_rate=0.30000000000000004, max_depth=201, min_child_weight=35, n_estimators=251, reg_alpha=161, reg_lambda=0\n"
     ]
    },
    {
     "name": "stderr",
     "output_type": "stream",
     "text": [
      "c:\\Users\\Saurav\\anaconda3\\Lib\\site-packages\\xgboost\\data.py:440: FutureWarning: is_sparse is deprecated and will be removed in a future version. Check `isinstance(dtype, pd.SparseDtype)` instead.\n",
      "  if is_sparse(data):\n"
     ]
    },
    {
     "name": "stdout",
     "output_type": "stream",
     "text": [
      "[CV 5/10; 5/10] END colsample_bytree=0.4, gamma=4, learning_rate=0.30000000000000004, max_depth=201, min_child_weight=35, n_estimators=251, reg_alpha=161, reg_lambda=0;, score=0.333 total time=  11.5s\n",
      "[CV 6/10; 5/10] START colsample_bytree=0.4, gamma=4, learning_rate=0.30000000000000004, max_depth=201, min_child_weight=35, n_estimators=251, reg_alpha=161, reg_lambda=0\n"
     ]
    },
    {
     "name": "stderr",
     "output_type": "stream",
     "text": [
      "c:\\Users\\Saurav\\anaconda3\\Lib\\site-packages\\xgboost\\data.py:440: FutureWarning: is_sparse is deprecated and will be removed in a future version. Check `isinstance(dtype, pd.SparseDtype)` instead.\n",
      "  if is_sparse(data):\n"
     ]
    },
    {
     "name": "stdout",
     "output_type": "stream",
     "text": [
      "[CV 6/10; 5/10] END colsample_bytree=0.4, gamma=4, learning_rate=0.30000000000000004, max_depth=201, min_child_weight=35, n_estimators=251, reg_alpha=161, reg_lambda=0;, score=0.333 total time=  11.7s\n",
      "[CV 7/10; 5/10] START colsample_bytree=0.4, gamma=4, learning_rate=0.30000000000000004, max_depth=201, min_child_weight=35, n_estimators=251, reg_alpha=161, reg_lambda=0\n"
     ]
    },
    {
     "name": "stderr",
     "output_type": "stream",
     "text": [
      "c:\\Users\\Saurav\\anaconda3\\Lib\\site-packages\\xgboost\\data.py:440: FutureWarning: is_sparse is deprecated and will be removed in a future version. Check `isinstance(dtype, pd.SparseDtype)` instead.\n",
      "  if is_sparse(data):\n"
     ]
    },
    {
     "name": "stdout",
     "output_type": "stream",
     "text": [
      "[CV 7/10; 5/10] END colsample_bytree=0.4, gamma=4, learning_rate=0.30000000000000004, max_depth=201, min_child_weight=35, n_estimators=251, reg_alpha=161, reg_lambda=0;, score=0.333 total time=  11.7s\n",
      "[CV 8/10; 5/10] START colsample_bytree=0.4, gamma=4, learning_rate=0.30000000000000004, max_depth=201, min_child_weight=35, n_estimators=251, reg_alpha=161, reg_lambda=0\n"
     ]
    },
    {
     "name": "stderr",
     "output_type": "stream",
     "text": [
      "c:\\Users\\Saurav\\anaconda3\\Lib\\site-packages\\xgboost\\data.py:440: FutureWarning: is_sparse is deprecated and will be removed in a future version. Check `isinstance(dtype, pd.SparseDtype)` instead.\n",
      "  if is_sparse(data):\n"
     ]
    },
    {
     "name": "stdout",
     "output_type": "stream",
     "text": [
      "[CV 8/10; 5/10] END colsample_bytree=0.4, gamma=4, learning_rate=0.30000000000000004, max_depth=201, min_child_weight=35, n_estimators=251, reg_alpha=161, reg_lambda=0;, score=0.349 total time=  11.5s\n",
      "[CV 9/10; 5/10] START colsample_bytree=0.4, gamma=4, learning_rate=0.30000000000000004, max_depth=201, min_child_weight=35, n_estimators=251, reg_alpha=161, reg_lambda=0\n"
     ]
    },
    {
     "name": "stderr",
     "output_type": "stream",
     "text": [
      "c:\\Users\\Saurav\\anaconda3\\Lib\\site-packages\\xgboost\\data.py:440: FutureWarning: is_sparse is deprecated and will be removed in a future version. Check `isinstance(dtype, pd.SparseDtype)` instead.\n",
      "  if is_sparse(data):\n"
     ]
    },
    {
     "name": "stdout",
     "output_type": "stream",
     "text": [
      "[CV 9/10; 5/10] END colsample_bytree=0.4, gamma=4, learning_rate=0.30000000000000004, max_depth=201, min_child_weight=35, n_estimators=251, reg_alpha=161, reg_lambda=0;, score=0.344 total time=  11.8s\n",
      "[CV 10/10; 5/10] START colsample_bytree=0.4, gamma=4, learning_rate=0.30000000000000004, max_depth=201, min_child_weight=35, n_estimators=251, reg_alpha=161, reg_lambda=0\n"
     ]
    },
    {
     "name": "stderr",
     "output_type": "stream",
     "text": [
      "c:\\Users\\Saurav\\anaconda3\\Lib\\site-packages\\xgboost\\data.py:440: FutureWarning: is_sparse is deprecated and will be removed in a future version. Check `isinstance(dtype, pd.SparseDtype)` instead.\n",
      "  if is_sparse(data):\n"
     ]
    },
    {
     "name": "stdout",
     "output_type": "stream",
     "text": [
      "[CV 10/10; 5/10] END colsample_bytree=0.4, gamma=4, learning_rate=0.30000000000000004, max_depth=201, min_child_weight=35, n_estimators=251, reg_alpha=161, reg_lambda=0;, score=0.328 total time=  11.5s\n",
      "[CV 1/10; 6/10] START colsample_bytree=0.1, gamma=1, learning_rate=0.2, max_depth=251, min_child_weight=30, n_estimators=1, reg_alpha=21, reg_lambda=1\n",
      "[CV 1/10; 6/10] END colsample_bytree=0.1, gamma=1, learning_rate=0.2, max_depth=251, min_child_weight=30, n_estimators=1, reg_alpha=21, reg_lambda=1;, score=0.556 total time=   0.0s\n",
      "[CV 2/10; 6/10] START colsample_bytree=0.1, gamma=1, learning_rate=0.2, max_depth=251, min_child_weight=30, n_estimators=1, reg_alpha=21, reg_lambda=1\n",
      "[CV 2/10; 6/10] END colsample_bytree=0.1, gamma=1, learning_rate=0.2, max_depth=251, min_child_weight=30, n_estimators=1, reg_alpha=21, reg_lambda=1;, score=0.561 total time=   0.0s\n",
      "[CV 3/10; 6/10] START colsample_bytree=0.1, gamma=1, learning_rate=0.2, max_depth=251, min_child_weight=30, n_estimators=1, reg_alpha=21, reg_lambda=1\n"
     ]
    },
    {
     "name": "stderr",
     "output_type": "stream",
     "text": [
      "c:\\Users\\Saurav\\anaconda3\\Lib\\site-packages\\xgboost\\data.py:440: FutureWarning: is_sparse is deprecated and will be removed in a future version. Check `isinstance(dtype, pd.SparseDtype)` instead.\n",
      "  if is_sparse(data):\n",
      "c:\\Users\\Saurav\\anaconda3\\Lib\\site-packages\\xgboost\\data.py:440: FutureWarning: is_sparse is deprecated and will be removed in a future version. Check `isinstance(dtype, pd.SparseDtype)` instead.\n",
      "  if is_sparse(data):\n",
      "c:\\Users\\Saurav\\anaconda3\\Lib\\site-packages\\xgboost\\data.py:440: FutureWarning: is_sparse is deprecated and will be removed in a future version. Check `isinstance(dtype, pd.SparseDtype)` instead.\n",
      "  if is_sparse(data):\n"
     ]
    },
    {
     "name": "stdout",
     "output_type": "stream",
     "text": [
      "[CV 3/10; 6/10] END colsample_bytree=0.1, gamma=1, learning_rate=0.2, max_depth=251, min_child_weight=30, n_estimators=1, reg_alpha=21, reg_lambda=1;, score=0.533 total time=   0.0s\n",
      "[CV 4/10; 6/10] START colsample_bytree=0.1, gamma=1, learning_rate=0.2, max_depth=251, min_child_weight=30, n_estimators=1, reg_alpha=21, reg_lambda=1\n",
      "[CV 4/10; 6/10] END colsample_bytree=0.1, gamma=1, learning_rate=0.2, max_depth=251, min_child_weight=30, n_estimators=1, reg_alpha=21, reg_lambda=1;, score=0.544 total time=   0.0s\n",
      "[CV 5/10; 6/10] START colsample_bytree=0.1, gamma=1, learning_rate=0.2, max_depth=251, min_child_weight=30, n_estimators=1, reg_alpha=21, reg_lambda=1\n",
      "[CV 5/10; 6/10] END colsample_bytree=0.1, gamma=1, learning_rate=0.2, max_depth=251, min_child_weight=30, n_estimators=1, reg_alpha=21, reg_lambda=1;, score=0.559 total time=   0.0s\n",
      "[CV 6/10; 6/10] START colsample_bytree=0.1, gamma=1, learning_rate=0.2, max_depth=251, min_child_weight=30, n_estimators=1, reg_alpha=21, reg_lambda=1\n"
     ]
    },
    {
     "name": "stderr",
     "output_type": "stream",
     "text": [
      "c:\\Users\\Saurav\\anaconda3\\Lib\\site-packages\\xgboost\\data.py:440: FutureWarning: is_sparse is deprecated and will be removed in a future version. Check `isinstance(dtype, pd.SparseDtype)` instead.\n",
      "  if is_sparse(data):\n",
      "c:\\Users\\Saurav\\anaconda3\\Lib\\site-packages\\xgboost\\data.py:440: FutureWarning: is_sparse is deprecated and will be removed in a future version. Check `isinstance(dtype, pd.SparseDtype)` instead.\n",
      "  if is_sparse(data):\n",
      "c:\\Users\\Saurav\\anaconda3\\Lib\\site-packages\\xgboost\\data.py:440: FutureWarning: is_sparse is deprecated and will be removed in a future version. Check `isinstance(dtype, pd.SparseDtype)` instead.\n",
      "  if is_sparse(data):\n"
     ]
    },
    {
     "name": "stdout",
     "output_type": "stream",
     "text": [
      "[CV 6/10; 6/10] END colsample_bytree=0.1, gamma=1, learning_rate=0.2, max_depth=251, min_child_weight=30, n_estimators=1, reg_alpha=21, reg_lambda=1;, score=0.585 total time=   0.0s\n",
      "[CV 7/10; 6/10] START colsample_bytree=0.1, gamma=1, learning_rate=0.2, max_depth=251, min_child_weight=30, n_estimators=1, reg_alpha=21, reg_lambda=1\n",
      "[CV 7/10; 6/10] END colsample_bytree=0.1, gamma=1, learning_rate=0.2, max_depth=251, min_child_weight=30, n_estimators=1, reg_alpha=21, reg_lambda=1;, score=0.600 total time=   0.0s\n",
      "[CV 8/10; 6/10] START colsample_bytree=0.1, gamma=1, learning_rate=0.2, max_depth=251, min_child_weight=30, n_estimators=1, reg_alpha=21, reg_lambda=1\n",
      "[CV 8/10; 6/10] END colsample_bytree=0.1, gamma=1, learning_rate=0.2, max_depth=251, min_child_weight=30, n_estimators=1, reg_alpha=21, reg_lambda=1;, score=0.544 total time=   0.0s\n",
      "[CV 9/10; 6/10] START colsample_bytree=0.1, gamma=1, learning_rate=0.2, max_depth=251, min_child_weight=30, n_estimators=1, reg_alpha=21, reg_lambda=1\n"
     ]
    },
    {
     "name": "stderr",
     "output_type": "stream",
     "text": [
      "c:\\Users\\Saurav\\anaconda3\\Lib\\site-packages\\xgboost\\data.py:440: FutureWarning: is_sparse is deprecated and will be removed in a future version. Check `isinstance(dtype, pd.SparseDtype)` instead.\n",
      "  if is_sparse(data):\n",
      "c:\\Users\\Saurav\\anaconda3\\Lib\\site-packages\\xgboost\\data.py:440: FutureWarning: is_sparse is deprecated and will be removed in a future version. Check `isinstance(dtype, pd.SparseDtype)` instead.\n",
      "  if is_sparse(data):\n",
      "c:\\Users\\Saurav\\anaconda3\\Lib\\site-packages\\xgboost\\data.py:440: FutureWarning: is_sparse is deprecated and will be removed in a future version. Check `isinstance(dtype, pd.SparseDtype)` instead.\n",
      "  if is_sparse(data):\n"
     ]
    },
    {
     "name": "stdout",
     "output_type": "stream",
     "text": [
      "[CV 9/10; 6/10] END colsample_bytree=0.1, gamma=1, learning_rate=0.2, max_depth=251, min_child_weight=30, n_estimators=1, reg_alpha=21, reg_lambda=1;, score=0.554 total time=   0.0s\n",
      "[CV 10/10; 6/10] START colsample_bytree=0.1, gamma=1, learning_rate=0.2, max_depth=251, min_child_weight=30, n_estimators=1, reg_alpha=21, reg_lambda=1\n",
      "[CV 10/10; 6/10] END colsample_bytree=0.1, gamma=1, learning_rate=0.2, max_depth=251, min_child_weight=30, n_estimators=1, reg_alpha=21, reg_lambda=1;, score=0.544 total time=   0.0s\n",
      "[CV 1/10; 7/10] START colsample_bytree=0.4, gamma=1, learning_rate=0.2, max_depth=101, min_child_weight=30, n_estimators=251, reg_alpha=241, reg_lambda=1\n"
     ]
    },
    {
     "name": "stderr",
     "output_type": "stream",
     "text": [
      "c:\\Users\\Saurav\\anaconda3\\Lib\\site-packages\\xgboost\\data.py:440: FutureWarning: is_sparse is deprecated and will be removed in a future version. Check `isinstance(dtype, pd.SparseDtype)` instead.\n",
      "  if is_sparse(data):\n",
      "c:\\Users\\Saurav\\anaconda3\\Lib\\site-packages\\xgboost\\data.py:440: FutureWarning: is_sparse is deprecated and will be removed in a future version. Check `isinstance(dtype, pd.SparseDtype)` instead.\n",
      "  if is_sparse(data):\n"
     ]
    },
    {
     "name": "stdout",
     "output_type": "stream",
     "text": [
      "[CV 1/10; 7/10] END colsample_bytree=0.4, gamma=1, learning_rate=0.2, max_depth=101, min_child_weight=30, n_estimators=251, reg_alpha=241, reg_lambda=1;, score=0.204 total time=  11.1s\n",
      "[CV 2/10; 7/10] START colsample_bytree=0.4, gamma=1, learning_rate=0.2, max_depth=101, min_child_weight=30, n_estimators=251, reg_alpha=241, reg_lambda=1\n"
     ]
    },
    {
     "name": "stderr",
     "output_type": "stream",
     "text": [
      "c:\\Users\\Saurav\\anaconda3\\Lib\\site-packages\\xgboost\\data.py:440: FutureWarning: is_sparse is deprecated and will be removed in a future version. Check `isinstance(dtype, pd.SparseDtype)` instead.\n",
      "  if is_sparse(data):\n"
     ]
    },
    {
     "name": "stdout",
     "output_type": "stream",
     "text": [
      "[CV 2/10; 7/10] END colsample_bytree=0.4, gamma=1, learning_rate=0.2, max_depth=101, min_child_weight=30, n_estimators=251, reg_alpha=241, reg_lambda=1;, score=0.204 total time=  11.1s\n",
      "[CV 3/10; 7/10] START colsample_bytree=0.4, gamma=1, learning_rate=0.2, max_depth=101, min_child_weight=30, n_estimators=251, reg_alpha=241, reg_lambda=1\n"
     ]
    },
    {
     "name": "stderr",
     "output_type": "stream",
     "text": [
      "c:\\Users\\Saurav\\anaconda3\\Lib\\site-packages\\xgboost\\data.py:440: FutureWarning: is_sparse is deprecated and will be removed in a future version. Check `isinstance(dtype, pd.SparseDtype)` instead.\n",
      "  if is_sparse(data):\n"
     ]
    },
    {
     "name": "stdout",
     "output_type": "stream",
     "text": [
      "[CV 3/10; 7/10] END colsample_bytree=0.4, gamma=1, learning_rate=0.2, max_depth=101, min_child_weight=30, n_estimators=251, reg_alpha=241, reg_lambda=1;, score=0.200 total time=  11.1s\n",
      "[CV 4/10; 7/10] START colsample_bytree=0.4, gamma=1, learning_rate=0.2, max_depth=101, min_child_weight=30, n_estimators=251, reg_alpha=241, reg_lambda=1\n"
     ]
    },
    {
     "name": "stderr",
     "output_type": "stream",
     "text": [
      "c:\\Users\\Saurav\\anaconda3\\Lib\\site-packages\\xgboost\\data.py:440: FutureWarning: is_sparse is deprecated and will be removed in a future version. Check `isinstance(dtype, pd.SparseDtype)` instead.\n",
      "  if is_sparse(data):\n"
     ]
    },
    {
     "name": "stdout",
     "output_type": "stream",
     "text": [
      "[CV 4/10; 7/10] END colsample_bytree=0.4, gamma=1, learning_rate=0.2, max_depth=101, min_child_weight=30, n_estimators=251, reg_alpha=241, reg_lambda=1;, score=0.200 total time=  11.1s\n",
      "[CV 5/10; 7/10] START colsample_bytree=0.4, gamma=1, learning_rate=0.2, max_depth=101, min_child_weight=30, n_estimators=251, reg_alpha=241, reg_lambda=1\n"
     ]
    },
    {
     "name": "stderr",
     "output_type": "stream",
     "text": [
      "c:\\Users\\Saurav\\anaconda3\\Lib\\site-packages\\xgboost\\data.py:440: FutureWarning: is_sparse is deprecated and will be removed in a future version. Check `isinstance(dtype, pd.SparseDtype)` instead.\n",
      "  if is_sparse(data):\n"
     ]
    },
    {
     "name": "stdout",
     "output_type": "stream",
     "text": [
      "[CV 5/10; 7/10] END colsample_bytree=0.4, gamma=1, learning_rate=0.2, max_depth=101, min_child_weight=30, n_estimators=251, reg_alpha=241, reg_lambda=1;, score=0.200 total time=  11.2s\n",
      "[CV 6/10; 7/10] START colsample_bytree=0.4, gamma=1, learning_rate=0.2, max_depth=101, min_child_weight=30, n_estimators=251, reg_alpha=241, reg_lambda=1\n"
     ]
    },
    {
     "name": "stderr",
     "output_type": "stream",
     "text": [
      "c:\\Users\\Saurav\\anaconda3\\Lib\\site-packages\\xgboost\\data.py:440: FutureWarning: is_sparse is deprecated and will be removed in a future version. Check `isinstance(dtype, pd.SparseDtype)` instead.\n",
      "  if is_sparse(data):\n"
     ]
    },
    {
     "name": "stdout",
     "output_type": "stream",
     "text": [
      "[CV 6/10; 7/10] END colsample_bytree=0.4, gamma=1, learning_rate=0.2, max_depth=101, min_child_weight=30, n_estimators=251, reg_alpha=241, reg_lambda=1;, score=0.205 total time=  11.4s\n",
      "[CV 7/10; 7/10] START colsample_bytree=0.4, gamma=1, learning_rate=0.2, max_depth=101, min_child_weight=30, n_estimators=251, reg_alpha=241, reg_lambda=1\n"
     ]
    },
    {
     "name": "stderr",
     "output_type": "stream",
     "text": [
      "c:\\Users\\Saurav\\anaconda3\\Lib\\site-packages\\xgboost\\data.py:440: FutureWarning: is_sparse is deprecated and will be removed in a future version. Check `isinstance(dtype, pd.SparseDtype)` instead.\n",
      "  if is_sparse(data):\n"
     ]
    },
    {
     "name": "stdout",
     "output_type": "stream",
     "text": [
      "[CV 7/10; 7/10] END colsample_bytree=0.4, gamma=1, learning_rate=0.2, max_depth=101, min_child_weight=30, n_estimators=251, reg_alpha=241, reg_lambda=1;, score=0.205 total time=  11.3s\n",
      "[CV 8/10; 7/10] START colsample_bytree=0.4, gamma=1, learning_rate=0.2, max_depth=101, min_child_weight=30, n_estimators=251, reg_alpha=241, reg_lambda=1\n"
     ]
    },
    {
     "name": "stderr",
     "output_type": "stream",
     "text": [
      "c:\\Users\\Saurav\\anaconda3\\Lib\\site-packages\\xgboost\\data.py:440: FutureWarning: is_sparse is deprecated and will be removed in a future version. Check `isinstance(dtype, pd.SparseDtype)` instead.\n",
      "  if is_sparse(data):\n"
     ]
    },
    {
     "name": "stdout",
     "output_type": "stream",
     "text": [
      "[CV 8/10; 7/10] END colsample_bytree=0.4, gamma=1, learning_rate=0.2, max_depth=101, min_child_weight=30, n_estimators=251, reg_alpha=241, reg_lambda=1;, score=0.205 total time=  11.2s\n",
      "[CV 9/10; 7/10] START colsample_bytree=0.4, gamma=1, learning_rate=0.2, max_depth=101, min_child_weight=30, n_estimators=251, reg_alpha=241, reg_lambda=1\n"
     ]
    },
    {
     "name": "stderr",
     "output_type": "stream",
     "text": [
      "c:\\Users\\Saurav\\anaconda3\\Lib\\site-packages\\xgboost\\data.py:440: FutureWarning: is_sparse is deprecated and will be removed in a future version. Check `isinstance(dtype, pd.SparseDtype)` instead.\n",
      "  if is_sparse(data):\n"
     ]
    },
    {
     "name": "stdout",
     "output_type": "stream",
     "text": [
      "[CV 9/10; 7/10] END colsample_bytree=0.4, gamma=1, learning_rate=0.2, max_depth=101, min_child_weight=30, n_estimators=251, reg_alpha=241, reg_lambda=1;, score=0.205 total time=  11.2s\n",
      "[CV 10/10; 7/10] START colsample_bytree=0.4, gamma=1, learning_rate=0.2, max_depth=101, min_child_weight=30, n_estimators=251, reg_alpha=241, reg_lambda=1\n"
     ]
    },
    {
     "name": "stderr",
     "output_type": "stream",
     "text": [
      "c:\\Users\\Saurav\\anaconda3\\Lib\\site-packages\\xgboost\\data.py:440: FutureWarning: is_sparse is deprecated and will be removed in a future version. Check `isinstance(dtype, pd.SparseDtype)` instead.\n",
      "  if is_sparse(data):\n"
     ]
    },
    {
     "name": "stdout",
     "output_type": "stream",
     "text": [
      "[CV 10/10; 7/10] END colsample_bytree=0.4, gamma=1, learning_rate=0.2, max_depth=101, min_child_weight=30, n_estimators=251, reg_alpha=241, reg_lambda=1;, score=0.205 total time=  11.6s\n",
      "[CV 1/10; 8/10] START colsample_bytree=0.4, gamma=4, learning_rate=1.6, max_depth=151, min_child_weight=35, n_estimators=351, reg_alpha=321, reg_lambda=1\n"
     ]
    },
    {
     "name": "stderr",
     "output_type": "stream",
     "text": [
      "c:\\Users\\Saurav\\anaconda3\\Lib\\site-packages\\xgboost\\data.py:440: FutureWarning: is_sparse is deprecated and will be removed in a future version. Check `isinstance(dtype, pd.SparseDtype)` instead.\n",
      "  if is_sparse(data):\n"
     ]
    },
    {
     "name": "stdout",
     "output_type": "stream",
     "text": [
      "[CV 1/10; 8/10] END colsample_bytree=0.4, gamma=4, learning_rate=1.6, max_depth=151, min_child_weight=35, n_estimators=351, reg_alpha=321, reg_lambda=1;, score=0.204 total time=  15.7s\n",
      "[CV 2/10; 8/10] START colsample_bytree=0.4, gamma=4, learning_rate=1.6, max_depth=151, min_child_weight=35, n_estimators=351, reg_alpha=321, reg_lambda=1\n"
     ]
    },
    {
     "name": "stderr",
     "output_type": "stream",
     "text": [
      "c:\\Users\\Saurav\\anaconda3\\Lib\\site-packages\\xgboost\\data.py:440: FutureWarning: is_sparse is deprecated and will be removed in a future version. Check `isinstance(dtype, pd.SparseDtype)` instead.\n",
      "  if is_sparse(data):\n"
     ]
    },
    {
     "name": "stdout",
     "output_type": "stream",
     "text": [
      "[CV 2/10; 8/10] END colsample_bytree=0.4, gamma=4, learning_rate=1.6, max_depth=151, min_child_weight=35, n_estimators=351, reg_alpha=321, reg_lambda=1;, score=0.204 total time=  15.3s\n",
      "[CV 3/10; 8/10] START colsample_bytree=0.4, gamma=4, learning_rate=1.6, max_depth=151, min_child_weight=35, n_estimators=351, reg_alpha=321, reg_lambda=1\n"
     ]
    },
    {
     "name": "stderr",
     "output_type": "stream",
     "text": [
      "c:\\Users\\Saurav\\anaconda3\\Lib\\site-packages\\xgboost\\data.py:440: FutureWarning: is_sparse is deprecated and will be removed in a future version. Check `isinstance(dtype, pd.SparseDtype)` instead.\n",
      "  if is_sparse(data):\n"
     ]
    },
    {
     "name": "stdout",
     "output_type": "stream",
     "text": [
      "[CV 3/10; 8/10] END colsample_bytree=0.4, gamma=4, learning_rate=1.6, max_depth=151, min_child_weight=35, n_estimators=351, reg_alpha=321, reg_lambda=1;, score=0.200 total time=  15.4s\n",
      "[CV 4/10; 8/10] START colsample_bytree=0.4, gamma=4, learning_rate=1.6, max_depth=151, min_child_weight=35, n_estimators=351, reg_alpha=321, reg_lambda=1\n"
     ]
    },
    {
     "name": "stderr",
     "output_type": "stream",
     "text": [
      "c:\\Users\\Saurav\\anaconda3\\Lib\\site-packages\\xgboost\\data.py:440: FutureWarning: is_sparse is deprecated and will be removed in a future version. Check `isinstance(dtype, pd.SparseDtype)` instead.\n",
      "  if is_sparse(data):\n"
     ]
    },
    {
     "name": "stdout",
     "output_type": "stream",
     "text": [
      "[CV 4/10; 8/10] END colsample_bytree=0.4, gamma=4, learning_rate=1.6, max_depth=151, min_child_weight=35, n_estimators=351, reg_alpha=321, reg_lambda=1;, score=0.200 total time=  15.2s\n",
      "[CV 5/10; 8/10] START colsample_bytree=0.4, gamma=4, learning_rate=1.6, max_depth=151, min_child_weight=35, n_estimators=351, reg_alpha=321, reg_lambda=1\n"
     ]
    },
    {
     "name": "stderr",
     "output_type": "stream",
     "text": [
      "c:\\Users\\Saurav\\anaconda3\\Lib\\site-packages\\xgboost\\data.py:440: FutureWarning: is_sparse is deprecated and will be removed in a future version. Check `isinstance(dtype, pd.SparseDtype)` instead.\n",
      "  if is_sparse(data):\n"
     ]
    },
    {
     "name": "stdout",
     "output_type": "stream",
     "text": [
      "[CV 5/10; 8/10] END colsample_bytree=0.4, gamma=4, learning_rate=1.6, max_depth=151, min_child_weight=35, n_estimators=351, reg_alpha=321, reg_lambda=1;, score=0.200 total time=  15.2s\n",
      "[CV 6/10; 8/10] START colsample_bytree=0.4, gamma=4, learning_rate=1.6, max_depth=151, min_child_weight=35, n_estimators=351, reg_alpha=321, reg_lambda=1\n"
     ]
    },
    {
     "name": "stderr",
     "output_type": "stream",
     "text": [
      "c:\\Users\\Saurav\\anaconda3\\Lib\\site-packages\\xgboost\\data.py:440: FutureWarning: is_sparse is deprecated and will be removed in a future version. Check `isinstance(dtype, pd.SparseDtype)` instead.\n",
      "  if is_sparse(data):\n"
     ]
    },
    {
     "name": "stdout",
     "output_type": "stream",
     "text": [
      "[CV 6/10; 8/10] END colsample_bytree=0.4, gamma=4, learning_rate=1.6, max_depth=151, min_child_weight=35, n_estimators=351, reg_alpha=321, reg_lambda=1;, score=0.205 total time=  15.2s\n",
      "[CV 7/10; 8/10] START colsample_bytree=0.4, gamma=4, learning_rate=1.6, max_depth=151, min_child_weight=35, n_estimators=351, reg_alpha=321, reg_lambda=1\n"
     ]
    },
    {
     "name": "stderr",
     "output_type": "stream",
     "text": [
      "c:\\Users\\Saurav\\anaconda3\\Lib\\site-packages\\xgboost\\data.py:440: FutureWarning: is_sparse is deprecated and will be removed in a future version. Check `isinstance(dtype, pd.SparseDtype)` instead.\n",
      "  if is_sparse(data):\n"
     ]
    },
    {
     "name": "stdout",
     "output_type": "stream",
     "text": [
      "[CV 7/10; 8/10] END colsample_bytree=0.4, gamma=4, learning_rate=1.6, max_depth=151, min_child_weight=35, n_estimators=351, reg_alpha=321, reg_lambda=1;, score=0.205 total time=  15.2s\n",
      "[CV 8/10; 8/10] START colsample_bytree=0.4, gamma=4, learning_rate=1.6, max_depth=151, min_child_weight=35, n_estimators=351, reg_alpha=321, reg_lambda=1\n"
     ]
    },
    {
     "name": "stderr",
     "output_type": "stream",
     "text": [
      "c:\\Users\\Saurav\\anaconda3\\Lib\\site-packages\\xgboost\\data.py:440: FutureWarning: is_sparse is deprecated and will be removed in a future version. Check `isinstance(dtype, pd.SparseDtype)` instead.\n",
      "  if is_sparse(data):\n"
     ]
    },
    {
     "name": "stdout",
     "output_type": "stream",
     "text": [
      "[CV 8/10; 8/10] END colsample_bytree=0.4, gamma=4, learning_rate=1.6, max_depth=151, min_child_weight=35, n_estimators=351, reg_alpha=321, reg_lambda=1;, score=0.205 total time=  15.2s\n",
      "[CV 9/10; 8/10] START colsample_bytree=0.4, gamma=4, learning_rate=1.6, max_depth=151, min_child_weight=35, n_estimators=351, reg_alpha=321, reg_lambda=1\n"
     ]
    },
    {
     "name": "stderr",
     "output_type": "stream",
     "text": [
      "c:\\Users\\Saurav\\anaconda3\\Lib\\site-packages\\xgboost\\data.py:440: FutureWarning: is_sparse is deprecated and will be removed in a future version. Check `isinstance(dtype, pd.SparseDtype)` instead.\n",
      "  if is_sparse(data):\n"
     ]
    },
    {
     "name": "stdout",
     "output_type": "stream",
     "text": [
      "[CV 9/10; 8/10] END colsample_bytree=0.4, gamma=4, learning_rate=1.6, max_depth=151, min_child_weight=35, n_estimators=351, reg_alpha=321, reg_lambda=1;, score=0.205 total time=  15.3s\n",
      "[CV 10/10; 8/10] START colsample_bytree=0.4, gamma=4, learning_rate=1.6, max_depth=151, min_child_weight=35, n_estimators=351, reg_alpha=321, reg_lambda=1\n"
     ]
    },
    {
     "name": "stderr",
     "output_type": "stream",
     "text": [
      "c:\\Users\\Saurav\\anaconda3\\Lib\\site-packages\\xgboost\\data.py:440: FutureWarning: is_sparse is deprecated and will be removed in a future version. Check `isinstance(dtype, pd.SparseDtype)` instead.\n",
      "  if is_sparse(data):\n"
     ]
    },
    {
     "name": "stdout",
     "output_type": "stream",
     "text": [
      "[CV 10/10; 8/10] END colsample_bytree=0.4, gamma=4, learning_rate=1.6, max_depth=151, min_child_weight=35, n_estimators=351, reg_alpha=321, reg_lambda=1;, score=0.205 total time=  15.2s\n",
      "[CV 1/10; 9/10] START colsample_bytree=0.7000000000000001, gamma=4, learning_rate=0.6000000000000001, max_depth=301, min_child_weight=10, n_estimators=301, reg_alpha=181, reg_lambda=3\n"
     ]
    },
    {
     "name": "stderr",
     "output_type": "stream",
     "text": [
      "c:\\Users\\Saurav\\anaconda3\\Lib\\site-packages\\xgboost\\data.py:440: FutureWarning: is_sparse is deprecated and will be removed in a future version. Check `isinstance(dtype, pd.SparseDtype)` instead.\n",
      "  if is_sparse(data):\n"
     ]
    },
    {
     "name": "stdout",
     "output_type": "stream",
     "text": [
      "[CV 1/10; 9/10] END colsample_bytree=0.7000000000000001, gamma=4, learning_rate=0.6000000000000001, max_depth=301, min_child_weight=10, n_estimators=301, reg_alpha=181, reg_lambda=3;, score=0.204 total time=  19.9s\n",
      "[CV 2/10; 9/10] START colsample_bytree=0.7000000000000001, gamma=4, learning_rate=0.6000000000000001, max_depth=301, min_child_weight=10, n_estimators=301, reg_alpha=181, reg_lambda=3\n"
     ]
    },
    {
     "name": "stderr",
     "output_type": "stream",
     "text": [
      "c:\\Users\\Saurav\\anaconda3\\Lib\\site-packages\\xgboost\\data.py:440: FutureWarning: is_sparse is deprecated and will be removed in a future version. Check `isinstance(dtype, pd.SparseDtype)` instead.\n",
      "  if is_sparse(data):\n"
     ]
    },
    {
     "name": "stdout",
     "output_type": "stream",
     "text": [
      "[CV 2/10; 9/10] END colsample_bytree=0.7000000000000001, gamma=4, learning_rate=0.6000000000000001, max_depth=301, min_child_weight=10, n_estimators=301, reg_alpha=181, reg_lambda=3;, score=0.204 total time=  20.2s\n",
      "[CV 3/10; 9/10] START colsample_bytree=0.7000000000000001, gamma=4, learning_rate=0.6000000000000001, max_depth=301, min_child_weight=10, n_estimators=301, reg_alpha=181, reg_lambda=3\n"
     ]
    },
    {
     "name": "stderr",
     "output_type": "stream",
     "text": [
      "c:\\Users\\Saurav\\anaconda3\\Lib\\site-packages\\xgboost\\data.py:440: FutureWarning: is_sparse is deprecated and will be removed in a future version. Check `isinstance(dtype, pd.SparseDtype)` instead.\n",
      "  if is_sparse(data):\n"
     ]
    },
    {
     "name": "stdout",
     "output_type": "stream",
     "text": [
      "[CV 3/10; 9/10] END colsample_bytree=0.7000000000000001, gamma=4, learning_rate=0.6000000000000001, max_depth=301, min_child_weight=10, n_estimators=301, reg_alpha=181, reg_lambda=3;, score=0.200 total time=  20.1s\n",
      "[CV 4/10; 9/10] START colsample_bytree=0.7000000000000001, gamma=4, learning_rate=0.6000000000000001, max_depth=301, min_child_weight=10, n_estimators=301, reg_alpha=181, reg_lambda=3\n"
     ]
    },
    {
     "name": "stderr",
     "output_type": "stream",
     "text": [
      "c:\\Users\\Saurav\\anaconda3\\Lib\\site-packages\\xgboost\\data.py:440: FutureWarning: is_sparse is deprecated and will be removed in a future version. Check `isinstance(dtype, pd.SparseDtype)` instead.\n",
      "  if is_sparse(data):\n"
     ]
    },
    {
     "name": "stdout",
     "output_type": "stream",
     "text": [
      "[CV 4/10; 9/10] END colsample_bytree=0.7000000000000001, gamma=4, learning_rate=0.6000000000000001, max_depth=301, min_child_weight=10, n_estimators=301, reg_alpha=181, reg_lambda=3;, score=0.200 total time=  20.0s\n",
      "[CV 5/10; 9/10] START colsample_bytree=0.7000000000000001, gamma=4, learning_rate=0.6000000000000001, max_depth=301, min_child_weight=10, n_estimators=301, reg_alpha=181, reg_lambda=3\n"
     ]
    },
    {
     "name": "stderr",
     "output_type": "stream",
     "text": [
      "c:\\Users\\Saurav\\anaconda3\\Lib\\site-packages\\xgboost\\data.py:440: FutureWarning: is_sparse is deprecated and will be removed in a future version. Check `isinstance(dtype, pd.SparseDtype)` instead.\n",
      "  if is_sparse(data):\n"
     ]
    },
    {
     "name": "stdout",
     "output_type": "stream",
     "text": [
      "[CV 5/10; 9/10] END colsample_bytree=0.7000000000000001, gamma=4, learning_rate=0.6000000000000001, max_depth=301, min_child_weight=10, n_estimators=301, reg_alpha=181, reg_lambda=3;, score=0.200 total time=  19.9s\n",
      "[CV 6/10; 9/10] START colsample_bytree=0.7000000000000001, gamma=4, learning_rate=0.6000000000000001, max_depth=301, min_child_weight=10, n_estimators=301, reg_alpha=181, reg_lambda=3\n"
     ]
    },
    {
     "name": "stderr",
     "output_type": "stream",
     "text": [
      "c:\\Users\\Saurav\\anaconda3\\Lib\\site-packages\\xgboost\\data.py:440: FutureWarning: is_sparse is deprecated and will be removed in a future version. Check `isinstance(dtype, pd.SparseDtype)` instead.\n",
      "  if is_sparse(data):\n"
     ]
    },
    {
     "name": "stdout",
     "output_type": "stream",
     "text": [
      "[CV 6/10; 9/10] END colsample_bytree=0.7000000000000001, gamma=4, learning_rate=0.6000000000000001, max_depth=301, min_child_weight=10, n_estimators=301, reg_alpha=181, reg_lambda=3;, score=0.205 total time=  20.0s\n",
      "[CV 7/10; 9/10] START colsample_bytree=0.7000000000000001, gamma=4, learning_rate=0.6000000000000001, max_depth=301, min_child_weight=10, n_estimators=301, reg_alpha=181, reg_lambda=3\n"
     ]
    },
    {
     "name": "stderr",
     "output_type": "stream",
     "text": [
      "c:\\Users\\Saurav\\anaconda3\\Lib\\site-packages\\xgboost\\data.py:440: FutureWarning: is_sparse is deprecated and will be removed in a future version. Check `isinstance(dtype, pd.SparseDtype)` instead.\n",
      "  if is_sparse(data):\n"
     ]
    },
    {
     "name": "stdout",
     "output_type": "stream",
     "text": [
      "[CV 7/10; 9/10] END colsample_bytree=0.7000000000000001, gamma=4, learning_rate=0.6000000000000001, max_depth=301, min_child_weight=10, n_estimators=301, reg_alpha=181, reg_lambda=3;, score=0.205 total time=  19.9s\n",
      "[CV 8/10; 9/10] START colsample_bytree=0.7000000000000001, gamma=4, learning_rate=0.6000000000000001, max_depth=301, min_child_weight=10, n_estimators=301, reg_alpha=181, reg_lambda=3\n"
     ]
    },
    {
     "name": "stderr",
     "output_type": "stream",
     "text": [
      "c:\\Users\\Saurav\\anaconda3\\Lib\\site-packages\\xgboost\\data.py:440: FutureWarning: is_sparse is deprecated and will be removed in a future version. Check `isinstance(dtype, pd.SparseDtype)` instead.\n",
      "  if is_sparse(data):\n"
     ]
    },
    {
     "name": "stdout",
     "output_type": "stream",
     "text": [
      "[CV 8/10; 9/10] END colsample_bytree=0.7000000000000001, gamma=4, learning_rate=0.6000000000000001, max_depth=301, min_child_weight=10, n_estimators=301, reg_alpha=181, reg_lambda=3;, score=0.205 total time=  19.9s\n",
      "[CV 9/10; 9/10] START colsample_bytree=0.7000000000000001, gamma=4, learning_rate=0.6000000000000001, max_depth=301, min_child_weight=10, n_estimators=301, reg_alpha=181, reg_lambda=3\n"
     ]
    },
    {
     "name": "stderr",
     "output_type": "stream",
     "text": [
      "c:\\Users\\Saurav\\anaconda3\\Lib\\site-packages\\xgboost\\data.py:440: FutureWarning: is_sparse is deprecated and will be removed in a future version. Check `isinstance(dtype, pd.SparseDtype)` instead.\n",
      "  if is_sparse(data):\n"
     ]
    },
    {
     "name": "stdout",
     "output_type": "stream",
     "text": [
      "[CV 9/10; 9/10] END colsample_bytree=0.7000000000000001, gamma=4, learning_rate=0.6000000000000001, max_depth=301, min_child_weight=10, n_estimators=301, reg_alpha=181, reg_lambda=3;, score=0.205 total time=  20.3s\n",
      "[CV 10/10; 9/10] START colsample_bytree=0.7000000000000001, gamma=4, learning_rate=0.6000000000000001, max_depth=301, min_child_weight=10, n_estimators=301, reg_alpha=181, reg_lambda=3\n"
     ]
    },
    {
     "name": "stderr",
     "output_type": "stream",
     "text": [
      "c:\\Users\\Saurav\\anaconda3\\Lib\\site-packages\\xgboost\\data.py:440: FutureWarning: is_sparse is deprecated and will be removed in a future version. Check `isinstance(dtype, pd.SparseDtype)` instead.\n",
      "  if is_sparse(data):\n"
     ]
    },
    {
     "name": "stdout",
     "output_type": "stream",
     "text": [
      "[CV 10/10; 9/10] END colsample_bytree=0.7000000000000001, gamma=4, learning_rate=0.6000000000000001, max_depth=301, min_child_weight=10, n_estimators=301, reg_alpha=181, reg_lambda=3;, score=0.205 total time=  19.9s\n",
      "[CV 1/10; 10/10] START colsample_bytree=0.7000000000000001, gamma=7, learning_rate=0.4, max_depth=1, min_child_weight=30, n_estimators=201, reg_alpha=161, reg_lambda=1\n"
     ]
    },
    {
     "name": "stderr",
     "output_type": "stream",
     "text": [
      "c:\\Users\\Saurav\\anaconda3\\Lib\\site-packages\\xgboost\\data.py:440: FutureWarning: is_sparse is deprecated and will be removed in a future version. Check `isinstance(dtype, pd.SparseDtype)` instead.\n",
      "  if is_sparse(data):\n"
     ]
    },
    {
     "name": "stdout",
     "output_type": "stream",
     "text": [
      "[CV 1/10; 10/10] END colsample_bytree=0.7000000000000001, gamma=7, learning_rate=0.4, max_depth=1, min_child_weight=30, n_estimators=201, reg_alpha=161, reg_lambda=1;, score=0.306 total time=  12.4s\n",
      "[CV 2/10; 10/10] START colsample_bytree=0.7000000000000001, gamma=7, learning_rate=0.4, max_depth=1, min_child_weight=30, n_estimators=201, reg_alpha=161, reg_lambda=1\n"
     ]
    },
    {
     "name": "stderr",
     "output_type": "stream",
     "text": [
      "c:\\Users\\Saurav\\anaconda3\\Lib\\site-packages\\xgboost\\data.py:440: FutureWarning: is_sparse is deprecated and will be removed in a future version. Check `isinstance(dtype, pd.SparseDtype)` instead.\n",
      "  if is_sparse(data):\n"
     ]
    },
    {
     "name": "stdout",
     "output_type": "stream",
     "text": [
      "[CV 2/10; 10/10] END colsample_bytree=0.7000000000000001, gamma=7, learning_rate=0.4, max_depth=1, min_child_weight=30, n_estimators=201, reg_alpha=161, reg_lambda=1;, score=0.337 total time=  12.3s\n",
      "[CV 3/10; 10/10] START colsample_bytree=0.7000000000000001, gamma=7, learning_rate=0.4, max_depth=1, min_child_weight=30, n_estimators=201, reg_alpha=161, reg_lambda=1\n"
     ]
    },
    {
     "name": "stderr",
     "output_type": "stream",
     "text": [
      "c:\\Users\\Saurav\\anaconda3\\Lib\\site-packages\\xgboost\\data.py:440: FutureWarning: is_sparse is deprecated and will be removed in a future version. Check `isinstance(dtype, pd.SparseDtype)` instead.\n",
      "  if is_sparse(data):\n"
     ]
    },
    {
     "name": "stdout",
     "output_type": "stream",
     "text": [
      "[CV 3/10; 10/10] END colsample_bytree=0.7000000000000001, gamma=7, learning_rate=0.4, max_depth=1, min_child_weight=30, n_estimators=201, reg_alpha=161, reg_lambda=1;, score=0.323 total time=  12.6s\n",
      "[CV 4/10; 10/10] START colsample_bytree=0.7000000000000001, gamma=7, learning_rate=0.4, max_depth=1, min_child_weight=30, n_estimators=201, reg_alpha=161, reg_lambda=1\n"
     ]
    },
    {
     "name": "stderr",
     "output_type": "stream",
     "text": [
      "c:\\Users\\Saurav\\anaconda3\\Lib\\site-packages\\xgboost\\data.py:440: FutureWarning: is_sparse is deprecated and will be removed in a future version. Check `isinstance(dtype, pd.SparseDtype)` instead.\n",
      "  if is_sparse(data):\n"
     ]
    },
    {
     "name": "stdout",
     "output_type": "stream",
     "text": [
      "[CV 4/10; 10/10] END colsample_bytree=0.7000000000000001, gamma=7, learning_rate=0.4, max_depth=1, min_child_weight=30, n_estimators=201, reg_alpha=161, reg_lambda=1;, score=0.318 total time=  12.3s\n",
      "[CV 5/10; 10/10] START colsample_bytree=0.7000000000000001, gamma=7, learning_rate=0.4, max_depth=1, min_child_weight=30, n_estimators=201, reg_alpha=161, reg_lambda=1\n"
     ]
    },
    {
     "name": "stderr",
     "output_type": "stream",
     "text": [
      "c:\\Users\\Saurav\\anaconda3\\Lib\\site-packages\\xgboost\\data.py:440: FutureWarning: is_sparse is deprecated and will be removed in a future version. Check `isinstance(dtype, pd.SparseDtype)` instead.\n",
      "  if is_sparse(data):\n"
     ]
    },
    {
     "name": "stdout",
     "output_type": "stream",
     "text": [
      "[CV 5/10; 10/10] END colsample_bytree=0.7000000000000001, gamma=7, learning_rate=0.4, max_depth=1, min_child_weight=30, n_estimators=201, reg_alpha=161, reg_lambda=1;, score=0.313 total time=  12.3s\n",
      "[CV 6/10; 10/10] START colsample_bytree=0.7000000000000001, gamma=7, learning_rate=0.4, max_depth=1, min_child_weight=30, n_estimators=201, reg_alpha=161, reg_lambda=1\n"
     ]
    },
    {
     "name": "stderr",
     "output_type": "stream",
     "text": [
      "c:\\Users\\Saurav\\anaconda3\\Lib\\site-packages\\xgboost\\data.py:440: FutureWarning: is_sparse is deprecated and will be removed in a future version. Check `isinstance(dtype, pd.SparseDtype)` instead.\n",
      "  if is_sparse(data):\n"
     ]
    },
    {
     "name": "stdout",
     "output_type": "stream",
     "text": [
      "[CV 6/10; 10/10] END colsample_bytree=0.7000000000000001, gamma=7, learning_rate=0.4, max_depth=1, min_child_weight=30, n_estimators=201, reg_alpha=161, reg_lambda=1;, score=0.333 total time=  12.4s\n",
      "[CV 7/10; 10/10] START colsample_bytree=0.7000000000000001, gamma=7, learning_rate=0.4, max_depth=1, min_child_weight=30, n_estimators=201, reg_alpha=161, reg_lambda=1\n"
     ]
    },
    {
     "name": "stderr",
     "output_type": "stream",
     "text": [
      "c:\\Users\\Saurav\\anaconda3\\Lib\\site-packages\\xgboost\\data.py:440: FutureWarning: is_sparse is deprecated and will be removed in a future version. Check `isinstance(dtype, pd.SparseDtype)` instead.\n",
      "  if is_sparse(data):\n"
     ]
    },
    {
     "name": "stdout",
     "output_type": "stream",
     "text": [
      "[CV 7/10; 10/10] END colsample_bytree=0.7000000000000001, gamma=7, learning_rate=0.4, max_depth=1, min_child_weight=30, n_estimators=201, reg_alpha=161, reg_lambda=1;, score=0.344 total time=  12.4s\n",
      "[CV 8/10; 10/10] START colsample_bytree=0.7000000000000001, gamma=7, learning_rate=0.4, max_depth=1, min_child_weight=30, n_estimators=201, reg_alpha=161, reg_lambda=1\n"
     ]
    },
    {
     "name": "stderr",
     "output_type": "stream",
     "text": [
      "c:\\Users\\Saurav\\anaconda3\\Lib\\site-packages\\xgboost\\data.py:440: FutureWarning: is_sparse is deprecated and will be removed in a future version. Check `isinstance(dtype, pd.SparseDtype)` instead.\n",
      "  if is_sparse(data):\n"
     ]
    },
    {
     "name": "stdout",
     "output_type": "stream",
     "text": [
      "[CV 8/10; 10/10] END colsample_bytree=0.7000000000000001, gamma=7, learning_rate=0.4, max_depth=1, min_child_weight=30, n_estimators=201, reg_alpha=161, reg_lambda=1;, score=0.333 total time=  12.5s\n",
      "[CV 9/10; 10/10] START colsample_bytree=0.7000000000000001, gamma=7, learning_rate=0.4, max_depth=1, min_child_weight=30, n_estimators=201, reg_alpha=161, reg_lambda=1\n"
     ]
    },
    {
     "name": "stderr",
     "output_type": "stream",
     "text": [
      "c:\\Users\\Saurav\\anaconda3\\Lib\\site-packages\\xgboost\\data.py:440: FutureWarning: is_sparse is deprecated and will be removed in a future version. Check `isinstance(dtype, pd.SparseDtype)` instead.\n",
      "  if is_sparse(data):\n"
     ]
    },
    {
     "name": "stdout",
     "output_type": "stream",
     "text": [
      "[CV 9/10; 10/10] END colsample_bytree=0.7000000000000001, gamma=7, learning_rate=0.4, max_depth=1, min_child_weight=30, n_estimators=201, reg_alpha=161, reg_lambda=1;, score=0.344 total time=  12.3s\n",
      "[CV 10/10; 10/10] START colsample_bytree=0.7000000000000001, gamma=7, learning_rate=0.4, max_depth=1, min_child_weight=30, n_estimators=201, reg_alpha=161, reg_lambda=1\n"
     ]
    },
    {
     "name": "stderr",
     "output_type": "stream",
     "text": [
      "c:\\Users\\Saurav\\anaconda3\\Lib\\site-packages\\xgboost\\data.py:440: FutureWarning: is_sparse is deprecated and will be removed in a future version. Check `isinstance(dtype, pd.SparseDtype)` instead.\n",
      "  if is_sparse(data):\n"
     ]
    },
    {
     "name": "stdout",
     "output_type": "stream",
     "text": [
      "[CV 10/10; 10/10] END colsample_bytree=0.7000000000000001, gamma=7, learning_rate=0.4, max_depth=1, min_child_weight=30, n_estimators=201, reg_alpha=161, reg_lambda=1;, score=0.333 total time=  12.5s\n"
     ]
    },
    {
     "name": "stderr",
     "output_type": "stream",
     "text": [
      "c:\\Users\\Saurav\\anaconda3\\Lib\\site-packages\\xgboost\\data.py:440: FutureWarning: is_sparse is deprecated and will be removed in a future version. Check `isinstance(dtype, pd.SparseDtype)` instead.\n",
      "  if is_sparse(data):\n"
     ]
    },
    {
     "name": "stdout",
     "output_type": "stream",
     "text": [
      "Fitting 10 folds for each of 10 candidates, totalling 100 fits\n",
      "[CV 1/10; 1/10] START colsample_bytree=0.6000000000000001, gamma=7, learning_rate=1.0, max_depth=151, min_child_weight=35, n_estimators=201, reg_alpha=141, reg_lambda=1\n"
     ]
    },
    {
     "name": "stderr",
     "output_type": "stream",
     "text": [
      "c:\\Users\\Saurav\\anaconda3\\Lib\\site-packages\\xgboost\\data.py:440: FutureWarning: is_sparse is deprecated and will be removed in a future version. Check `isinstance(dtype, pd.SparseDtype)` instead.\n",
      "  if is_sparse(data):\n"
     ]
    },
    {
     "name": "stdout",
     "output_type": "stream",
     "text": [
      "[CV 1/10; 1/10] END colsample_bytree=0.6000000000000001, gamma=7, learning_rate=1.0, max_depth=151, min_child_weight=35, n_estimators=201, reg_alpha=141, reg_lambda=1;, score=0.429 total time=  13.2s\n",
      "[CV 2/10; 1/10] START colsample_bytree=0.6000000000000001, gamma=7, learning_rate=1.0, max_depth=151, min_child_weight=35, n_estimators=201, reg_alpha=141, reg_lambda=1\n"
     ]
    },
    {
     "name": "stderr",
     "output_type": "stream",
     "text": [
      "c:\\Users\\Saurav\\anaconda3\\Lib\\site-packages\\xgboost\\data.py:440: FutureWarning: is_sparse is deprecated and will be removed in a future version. Check `isinstance(dtype, pd.SparseDtype)` instead.\n",
      "  if is_sparse(data):\n"
     ]
    },
    {
     "name": "stdout",
     "output_type": "stream",
     "text": [
      "[CV 2/10; 1/10] END colsample_bytree=0.6000000000000001, gamma=7, learning_rate=1.0, max_depth=151, min_child_weight=35, n_estimators=201, reg_alpha=141, reg_lambda=1;, score=0.413 total time=  13.0s\n",
      "[CV 3/10; 1/10] START colsample_bytree=0.6000000000000001, gamma=7, learning_rate=1.0, max_depth=151, min_child_weight=35, n_estimators=201, reg_alpha=141, reg_lambda=1\n"
     ]
    },
    {
     "name": "stderr",
     "output_type": "stream",
     "text": [
      "c:\\Users\\Saurav\\anaconda3\\Lib\\site-packages\\xgboost\\data.py:440: FutureWarning: is_sparse is deprecated and will be removed in a future version. Check `isinstance(dtype, pd.SparseDtype)` instead.\n",
      "  if is_sparse(data):\n"
     ]
    },
    {
     "name": "stdout",
     "output_type": "stream",
     "text": [
      "[CV 3/10; 1/10] END colsample_bytree=0.6000000000000001, gamma=7, learning_rate=1.0, max_depth=151, min_child_weight=35, n_estimators=201, reg_alpha=141, reg_lambda=1;, score=0.426 total time=  13.3s\n",
      "[CV 4/10; 1/10] START colsample_bytree=0.6000000000000001, gamma=7, learning_rate=1.0, max_depth=151, min_child_weight=35, n_estimators=201, reg_alpha=141, reg_lambda=1\n"
     ]
    },
    {
     "name": "stderr",
     "output_type": "stream",
     "text": [
      "c:\\Users\\Saurav\\anaconda3\\Lib\\site-packages\\xgboost\\data.py:440: FutureWarning: is_sparse is deprecated and will be removed in a future version. Check `isinstance(dtype, pd.SparseDtype)` instead.\n",
      "  if is_sparse(data):\n"
     ]
    },
    {
     "name": "stdout",
     "output_type": "stream",
     "text": [
      "[CV 4/10; 1/10] END colsample_bytree=0.6000000000000001, gamma=7, learning_rate=1.0, max_depth=151, min_child_weight=35, n_estimators=201, reg_alpha=141, reg_lambda=1;, score=0.426 total time=  12.9s\n",
      "[CV 5/10; 1/10] START colsample_bytree=0.6000000000000001, gamma=7, learning_rate=1.0, max_depth=151, min_child_weight=35, n_estimators=201, reg_alpha=141, reg_lambda=1\n"
     ]
    },
    {
     "name": "stderr",
     "output_type": "stream",
     "text": [
      "c:\\Users\\Saurav\\anaconda3\\Lib\\site-packages\\xgboost\\data.py:440: FutureWarning: is_sparse is deprecated and will be removed in a future version. Check `isinstance(dtype, pd.SparseDtype)` instead.\n",
      "  if is_sparse(data):\n"
     ]
    },
    {
     "name": "stdout",
     "output_type": "stream",
     "text": [
      "[CV 5/10; 1/10] END colsample_bytree=0.6000000000000001, gamma=7, learning_rate=1.0, max_depth=151, min_child_weight=35, n_estimators=201, reg_alpha=141, reg_lambda=1;, score=0.426 total time=  14.7s\n",
      "[CV 6/10; 1/10] START colsample_bytree=0.6000000000000001, gamma=7, learning_rate=1.0, max_depth=151, min_child_weight=35, n_estimators=201, reg_alpha=141, reg_lambda=1\n"
     ]
    },
    {
     "name": "stderr",
     "output_type": "stream",
     "text": [
      "c:\\Users\\Saurav\\anaconda3\\Lib\\site-packages\\xgboost\\data.py:440: FutureWarning: is_sparse is deprecated and will be removed in a future version. Check `isinstance(dtype, pd.SparseDtype)` instead.\n",
      "  if is_sparse(data):\n"
     ]
    },
    {
     "name": "stdout",
     "output_type": "stream",
     "text": [
      "[CV 6/10; 1/10] END colsample_bytree=0.6000000000000001, gamma=7, learning_rate=1.0, max_depth=151, min_child_weight=35, n_estimators=201, reg_alpha=141, reg_lambda=1;, score=0.436 total time=  14.2s\n",
      "[CV 7/10; 1/10] START colsample_bytree=0.6000000000000001, gamma=7, learning_rate=1.0, max_depth=151, min_child_weight=35, n_estimators=201, reg_alpha=141, reg_lambda=1\n"
     ]
    },
    {
     "name": "stderr",
     "output_type": "stream",
     "text": [
      "c:\\Users\\Saurav\\anaconda3\\Lib\\site-packages\\xgboost\\data.py:440: FutureWarning: is_sparse is deprecated and will be removed in a future version. Check `isinstance(dtype, pd.SparseDtype)` instead.\n",
      "  if is_sparse(data):\n"
     ]
    },
    {
     "name": "stdout",
     "output_type": "stream",
     "text": [
      "[CV 7/10; 1/10] END colsample_bytree=0.6000000000000001, gamma=7, learning_rate=1.0, max_depth=151, min_child_weight=35, n_estimators=201, reg_alpha=141, reg_lambda=1;, score=0.462 total time=  15.4s\n",
      "[CV 8/10; 1/10] START colsample_bytree=0.6000000000000001, gamma=7, learning_rate=1.0, max_depth=151, min_child_weight=35, n_estimators=201, reg_alpha=141, reg_lambda=1\n"
     ]
    },
    {
     "name": "stderr",
     "output_type": "stream",
     "text": [
      "c:\\Users\\Saurav\\anaconda3\\Lib\\site-packages\\xgboost\\data.py:440: FutureWarning: is_sparse is deprecated and will be removed in a future version. Check `isinstance(dtype, pd.SparseDtype)` instead.\n",
      "  if is_sparse(data):\n"
     ]
    },
    {
     "name": "stdout",
     "output_type": "stream",
     "text": [
      "[CV 8/10; 1/10] END colsample_bytree=0.6000000000000001, gamma=7, learning_rate=1.0, max_depth=151, min_child_weight=35, n_estimators=201, reg_alpha=141, reg_lambda=1;, score=0.446 total time=  14.1s\n",
      "[CV 9/10; 1/10] START colsample_bytree=0.6000000000000001, gamma=7, learning_rate=1.0, max_depth=151, min_child_weight=35, n_estimators=201, reg_alpha=141, reg_lambda=1\n"
     ]
    },
    {
     "name": "stderr",
     "output_type": "stream",
     "text": [
      "c:\\Users\\Saurav\\anaconda3\\Lib\\site-packages\\xgboost\\data.py:440: FutureWarning: is_sparse is deprecated and will be removed in a future version. Check `isinstance(dtype, pd.SparseDtype)` instead.\n",
      "  if is_sparse(data):\n"
     ]
    },
    {
     "name": "stdout",
     "output_type": "stream",
     "text": [
      "[CV 9/10; 1/10] END colsample_bytree=0.6000000000000001, gamma=7, learning_rate=1.0, max_depth=151, min_child_weight=35, n_estimators=201, reg_alpha=141, reg_lambda=1;, score=0.431 total time=  14.0s\n",
      "[CV 10/10; 1/10] START colsample_bytree=0.6000000000000001, gamma=7, learning_rate=1.0, max_depth=151, min_child_weight=35, n_estimators=201, reg_alpha=141, reg_lambda=1\n"
     ]
    },
    {
     "name": "stderr",
     "output_type": "stream",
     "text": [
      "c:\\Users\\Saurav\\anaconda3\\Lib\\site-packages\\xgboost\\data.py:440: FutureWarning: is_sparse is deprecated and will be removed in a future version. Check `isinstance(dtype, pd.SparseDtype)` instead.\n",
      "  if is_sparse(data):\n"
     ]
    },
    {
     "name": "stdout",
     "output_type": "stream",
     "text": [
      "[CV 10/10; 1/10] END colsample_bytree=0.6000000000000001, gamma=7, learning_rate=1.0, max_depth=151, min_child_weight=35, n_estimators=201, reg_alpha=141, reg_lambda=1;, score=0.431 total time=  13.6s\n",
      "[CV 1/10; 2/10] START colsample_bytree=0.2, gamma=7, learning_rate=0.6000000000000001, max_depth=351, min_child_weight=25, n_estimators=1, reg_alpha=241, reg_lambda=1\n",
      "[CV 1/10; 2/10] END colsample_bytree=0.2, gamma=7, learning_rate=0.6000000000000001, max_depth=351, min_child_weight=25, n_estimators=1, reg_alpha=241, reg_lambda=1;, score=0.204 total time=   0.0s\n",
      "[CV 2/10; 2/10] START colsample_bytree=0.2, gamma=7, learning_rate=0.6000000000000001, max_depth=351, min_child_weight=25, n_estimators=1, reg_alpha=241, reg_lambda=1\n",
      "[CV 2/10; 2/10] END colsample_bytree=0.2, gamma=7, learning_rate=0.6000000000000001, max_depth=351, min_child_weight=25, n_estimators=1, reg_alpha=241, reg_lambda=1;, score=0.204 total time=   0.0s\n",
      "[CV 3/10; 2/10] START colsample_bytree=0.2, gamma=7, learning_rate=0.6000000000000001, max_depth=351, min_child_weight=25, n_estimators=1, reg_alpha=241, reg_lambda=1\n"
     ]
    },
    {
     "name": "stderr",
     "output_type": "stream",
     "text": [
      "c:\\Users\\Saurav\\anaconda3\\Lib\\site-packages\\xgboost\\data.py:440: FutureWarning: is_sparse is deprecated and will be removed in a future version. Check `isinstance(dtype, pd.SparseDtype)` instead.\n",
      "  if is_sparse(data):\n",
      "c:\\Users\\Saurav\\anaconda3\\Lib\\site-packages\\xgboost\\data.py:440: FutureWarning: is_sparse is deprecated and will be removed in a future version. Check `isinstance(dtype, pd.SparseDtype)` instead.\n",
      "  if is_sparse(data):\n",
      "c:\\Users\\Saurav\\anaconda3\\Lib\\site-packages\\xgboost\\data.py:440: FutureWarning: is_sparse is deprecated and will be removed in a future version. Check `isinstance(dtype, pd.SparseDtype)` instead.\n",
      "  if is_sparse(data):\n"
     ]
    },
    {
     "name": "stdout",
     "output_type": "stream",
     "text": [
      "[CV 3/10; 2/10] END colsample_bytree=0.2, gamma=7, learning_rate=0.6000000000000001, max_depth=351, min_child_weight=25, n_estimators=1, reg_alpha=241, reg_lambda=1;, score=0.200 total time=   0.0s\n",
      "[CV 4/10; 2/10] START colsample_bytree=0.2, gamma=7, learning_rate=0.6000000000000001, max_depth=351, min_child_weight=25, n_estimators=1, reg_alpha=241, reg_lambda=1\n",
      "[CV 4/10; 2/10] END colsample_bytree=0.2, gamma=7, learning_rate=0.6000000000000001, max_depth=351, min_child_weight=25, n_estimators=1, reg_alpha=241, reg_lambda=1;, score=0.200 total time=   0.0s\n",
      "[CV 5/10; 2/10] START colsample_bytree=0.2, gamma=7, learning_rate=0.6000000000000001, max_depth=351, min_child_weight=25, n_estimators=1, reg_alpha=241, reg_lambda=1\n",
      "[CV 5/10; 2/10] END colsample_bytree=0.2, gamma=7, learning_rate=0.6000000000000001, max_depth=351, min_child_weight=25, n_estimators=1, reg_alpha=241, reg_lambda=1;, score=0.200 total time=   0.0s\n",
      "[CV 6/10; 2/10] START colsample_bytree=0.2, gamma=7, learning_rate=0.6000000000000001, max_depth=351, min_child_weight=25, n_estimators=1, reg_alpha=241, reg_lambda=1\n"
     ]
    },
    {
     "name": "stderr",
     "output_type": "stream",
     "text": [
      "c:\\Users\\Saurav\\anaconda3\\Lib\\site-packages\\xgboost\\data.py:440: FutureWarning: is_sparse is deprecated and will be removed in a future version. Check `isinstance(dtype, pd.SparseDtype)` instead.\n",
      "  if is_sparse(data):\n",
      "c:\\Users\\Saurav\\anaconda3\\Lib\\site-packages\\xgboost\\data.py:440: FutureWarning: is_sparse is deprecated and will be removed in a future version. Check `isinstance(dtype, pd.SparseDtype)` instead.\n",
      "  if is_sparse(data):\n",
      "c:\\Users\\Saurav\\anaconda3\\Lib\\site-packages\\xgboost\\data.py:440: FutureWarning: is_sparse is deprecated and will be removed in a future version. Check `isinstance(dtype, pd.SparseDtype)` instead.\n",
      "  if is_sparse(data):\n",
      "c:\\Users\\Saurav\\anaconda3\\Lib\\site-packages\\xgboost\\data.py:440: FutureWarning: is_sparse is deprecated and will be removed in a future version. Check `isinstance(dtype, pd.SparseDtype)` instead.\n",
      "  if is_sparse(data):\n"
     ]
    },
    {
     "name": "stdout",
     "output_type": "stream",
     "text": [
      "[CV 6/10; 2/10] END colsample_bytree=0.2, gamma=7, learning_rate=0.6000000000000001, max_depth=351, min_child_weight=25, n_estimators=1, reg_alpha=241, reg_lambda=1;, score=0.205 total time=   0.0s\n",
      "[CV 7/10; 2/10] START colsample_bytree=0.2, gamma=7, learning_rate=0.6000000000000001, max_depth=351, min_child_weight=25, n_estimators=1, reg_alpha=241, reg_lambda=1\n",
      "[CV 7/10; 2/10] END colsample_bytree=0.2, gamma=7, learning_rate=0.6000000000000001, max_depth=351, min_child_weight=25, n_estimators=1, reg_alpha=241, reg_lambda=1;, score=0.205 total time=   0.0s\n",
      "[CV 8/10; 2/10] START colsample_bytree=0.2, gamma=7, learning_rate=0.6000000000000001, max_depth=351, min_child_weight=25, n_estimators=1, reg_alpha=241, reg_lambda=1\n"
     ]
    },
    {
     "name": "stderr",
     "output_type": "stream",
     "text": [
      "c:\\Users\\Saurav\\anaconda3\\Lib\\site-packages\\xgboost\\data.py:440: FutureWarning: is_sparse is deprecated and will be removed in a future version. Check `isinstance(dtype, pd.SparseDtype)` instead.\n",
      "  if is_sparse(data):\n",
      "c:\\Users\\Saurav\\anaconda3\\Lib\\site-packages\\xgboost\\data.py:440: FutureWarning: is_sparse is deprecated and will be removed in a future version. Check `isinstance(dtype, pd.SparseDtype)` instead.\n",
      "  if is_sparse(data):\n",
      "c:\\Users\\Saurav\\anaconda3\\Lib\\site-packages\\xgboost\\data.py:440: FutureWarning: is_sparse is deprecated and will be removed in a future version. Check `isinstance(dtype, pd.SparseDtype)` instead.\n",
      "  if is_sparse(data):\n"
     ]
    },
    {
     "name": "stdout",
     "output_type": "stream",
     "text": [
      "[CV 8/10; 2/10] END colsample_bytree=0.2, gamma=7, learning_rate=0.6000000000000001, max_depth=351, min_child_weight=25, n_estimators=1, reg_alpha=241, reg_lambda=1;, score=0.205 total time=   0.0s\n",
      "[CV 9/10; 2/10] START colsample_bytree=0.2, gamma=7, learning_rate=0.6000000000000001, max_depth=351, min_child_weight=25, n_estimators=1, reg_alpha=241, reg_lambda=1\n",
      "[CV 9/10; 2/10] END colsample_bytree=0.2, gamma=7, learning_rate=0.6000000000000001, max_depth=351, min_child_weight=25, n_estimators=1, reg_alpha=241, reg_lambda=1;, score=0.205 total time=   0.0s\n",
      "[CV 10/10; 2/10] START colsample_bytree=0.2, gamma=7, learning_rate=0.6000000000000001, max_depth=351, min_child_weight=25, n_estimators=1, reg_alpha=241, reg_lambda=1\n",
      "[CV 10/10; 2/10] END colsample_bytree=0.2, gamma=7, learning_rate=0.6000000000000001, max_depth=351, min_child_weight=25, n_estimators=1, reg_alpha=241, reg_lambda=1;, score=0.205 total time=   0.0s\n",
      "[CV 1/10; 3/10] START colsample_bytree=0.8, gamma=4, learning_rate=1.7000000000000002, max_depth=151, min_child_weight=20, n_estimators=101, reg_alpha=141, reg_lambda=2\n"
     ]
    },
    {
     "name": "stderr",
     "output_type": "stream",
     "text": [
      "c:\\Users\\Saurav\\anaconda3\\Lib\\site-packages\\xgboost\\data.py:440: FutureWarning: is_sparse is deprecated and will be removed in a future version. Check `isinstance(dtype, pd.SparseDtype)` instead.\n",
      "  if is_sparse(data):\n"
     ]
    },
    {
     "name": "stdout",
     "output_type": "stream",
     "text": [
      "[CV 1/10; 3/10] END colsample_bytree=0.8, gamma=4, learning_rate=1.7000000000000002, max_depth=151, min_child_weight=20, n_estimators=101, reg_alpha=141, reg_lambda=2;, score=0.454 total time=   9.7s\n",
      "[CV 2/10; 3/10] START colsample_bytree=0.8, gamma=4, learning_rate=1.7000000000000002, max_depth=151, min_child_weight=20, n_estimators=101, reg_alpha=141, reg_lambda=2\n"
     ]
    },
    {
     "name": "stderr",
     "output_type": "stream",
     "text": [
      "c:\\Users\\Saurav\\anaconda3\\Lib\\site-packages\\xgboost\\data.py:440: FutureWarning: is_sparse is deprecated and will be removed in a future version. Check `isinstance(dtype, pd.SparseDtype)` instead.\n",
      "  if is_sparse(data):\n"
     ]
    },
    {
     "name": "stdout",
     "output_type": "stream",
     "text": [
      "[CV 2/10; 3/10] END colsample_bytree=0.8, gamma=4, learning_rate=1.7000000000000002, max_depth=151, min_child_weight=20, n_estimators=101, reg_alpha=141, reg_lambda=2;, score=0.423 total time=   9.8s\n",
      "[CV 3/10; 3/10] START colsample_bytree=0.8, gamma=4, learning_rate=1.7000000000000002, max_depth=151, min_child_weight=20, n_estimators=101, reg_alpha=141, reg_lambda=2\n"
     ]
    },
    {
     "name": "stderr",
     "output_type": "stream",
     "text": [
      "c:\\Users\\Saurav\\anaconda3\\Lib\\site-packages\\xgboost\\data.py:440: FutureWarning: is_sparse is deprecated and will be removed in a future version. Check `isinstance(dtype, pd.SparseDtype)` instead.\n",
      "  if is_sparse(data):\n"
     ]
    },
    {
     "name": "stdout",
     "output_type": "stream",
     "text": [
      "[CV 3/10; 3/10] END colsample_bytree=0.8, gamma=4, learning_rate=1.7000000000000002, max_depth=151, min_child_weight=20, n_estimators=101, reg_alpha=141, reg_lambda=2;, score=0.456 total time=   8.7s\n",
      "[CV 4/10; 3/10] START colsample_bytree=0.8, gamma=4, learning_rate=1.7000000000000002, max_depth=151, min_child_weight=20, n_estimators=101, reg_alpha=141, reg_lambda=2\n"
     ]
    },
    {
     "name": "stderr",
     "output_type": "stream",
     "text": [
      "c:\\Users\\Saurav\\anaconda3\\Lib\\site-packages\\xgboost\\data.py:440: FutureWarning: is_sparse is deprecated and will be removed in a future version. Check `isinstance(dtype, pd.SparseDtype)` instead.\n",
      "  if is_sparse(data):\n"
     ]
    },
    {
     "name": "stdout",
     "output_type": "stream",
     "text": [
      "[CV 4/10; 3/10] END colsample_bytree=0.8, gamma=4, learning_rate=1.7000000000000002, max_depth=151, min_child_weight=20, n_estimators=101, reg_alpha=141, reg_lambda=2;, score=0.426 total time=   8.8s\n",
      "[CV 5/10; 3/10] START colsample_bytree=0.8, gamma=4, learning_rate=1.7000000000000002, max_depth=151, min_child_weight=20, n_estimators=101, reg_alpha=141, reg_lambda=2\n"
     ]
    },
    {
     "name": "stderr",
     "output_type": "stream",
     "text": [
      "c:\\Users\\Saurav\\anaconda3\\Lib\\site-packages\\xgboost\\data.py:440: FutureWarning: is_sparse is deprecated and will be removed in a future version. Check `isinstance(dtype, pd.SparseDtype)` instead.\n",
      "  if is_sparse(data):\n"
     ]
    },
    {
     "name": "stdout",
     "output_type": "stream",
     "text": [
      "[CV 5/10; 3/10] END colsample_bytree=0.8, gamma=4, learning_rate=1.7000000000000002, max_depth=151, min_child_weight=20, n_estimators=101, reg_alpha=141, reg_lambda=2;, score=0.426 total time=   8.7s\n",
      "[CV 6/10; 3/10] START colsample_bytree=0.8, gamma=4, learning_rate=1.7000000000000002, max_depth=151, min_child_weight=20, n_estimators=101, reg_alpha=141, reg_lambda=2\n"
     ]
    },
    {
     "name": "stderr",
     "output_type": "stream",
     "text": [
      "c:\\Users\\Saurav\\anaconda3\\Lib\\site-packages\\xgboost\\data.py:440: FutureWarning: is_sparse is deprecated and will be removed in a future version. Check `isinstance(dtype, pd.SparseDtype)` instead.\n",
      "  if is_sparse(data):\n"
     ]
    },
    {
     "name": "stdout",
     "output_type": "stream",
     "text": [
      "[CV 6/10; 3/10] END colsample_bytree=0.8, gamma=4, learning_rate=1.7000000000000002, max_depth=151, min_child_weight=20, n_estimators=101, reg_alpha=141, reg_lambda=2;, score=0.446 total time=   9.1s\n",
      "[CV 7/10; 3/10] START colsample_bytree=0.8, gamma=4, learning_rate=1.7000000000000002, max_depth=151, min_child_weight=20, n_estimators=101, reg_alpha=141, reg_lambda=2\n"
     ]
    },
    {
     "name": "stderr",
     "output_type": "stream",
     "text": [
      "c:\\Users\\Saurav\\anaconda3\\Lib\\site-packages\\xgboost\\data.py:440: FutureWarning: is_sparse is deprecated and will be removed in a future version. Check `isinstance(dtype, pd.SparseDtype)` instead.\n",
      "  if is_sparse(data):\n"
     ]
    },
    {
     "name": "stdout",
     "output_type": "stream",
     "text": [
      "[CV 7/10; 3/10] END colsample_bytree=0.8, gamma=4, learning_rate=1.7000000000000002, max_depth=151, min_child_weight=20, n_estimators=101, reg_alpha=141, reg_lambda=2;, score=0.446 total time=   8.6s\n",
      "[CV 8/10; 3/10] START colsample_bytree=0.8, gamma=4, learning_rate=1.7000000000000002, max_depth=151, min_child_weight=20, n_estimators=101, reg_alpha=141, reg_lambda=2\n"
     ]
    },
    {
     "name": "stderr",
     "output_type": "stream",
     "text": [
      "c:\\Users\\Saurav\\anaconda3\\Lib\\site-packages\\xgboost\\data.py:440: FutureWarning: is_sparse is deprecated and will be removed in a future version. Check `isinstance(dtype, pd.SparseDtype)` instead.\n",
      "  if is_sparse(data):\n"
     ]
    },
    {
     "name": "stdout",
     "output_type": "stream",
     "text": [
      "[CV 8/10; 3/10] END colsample_bytree=0.8, gamma=4, learning_rate=1.7000000000000002, max_depth=151, min_child_weight=20, n_estimators=101, reg_alpha=141, reg_lambda=2;, score=0.451 total time=   9.4s\n",
      "[CV 9/10; 3/10] START colsample_bytree=0.8, gamma=4, learning_rate=1.7000000000000002, max_depth=151, min_child_weight=20, n_estimators=101, reg_alpha=141, reg_lambda=2\n"
     ]
    },
    {
     "name": "stderr",
     "output_type": "stream",
     "text": [
      "c:\\Users\\Saurav\\anaconda3\\Lib\\site-packages\\xgboost\\data.py:440: FutureWarning: is_sparse is deprecated and will be removed in a future version. Check `isinstance(dtype, pd.SparseDtype)` instead.\n",
      "  if is_sparse(data):\n"
     ]
    },
    {
     "name": "stdout",
     "output_type": "stream",
     "text": [
      "[CV 9/10; 3/10] END colsample_bytree=0.8, gamma=4, learning_rate=1.7000000000000002, max_depth=151, min_child_weight=20, n_estimators=101, reg_alpha=141, reg_lambda=2;, score=0.431 total time=  13.4s\n",
      "[CV 10/10; 3/10] START colsample_bytree=0.8, gamma=4, learning_rate=1.7000000000000002, max_depth=151, min_child_weight=20, n_estimators=101, reg_alpha=141, reg_lambda=2\n"
     ]
    },
    {
     "name": "stderr",
     "output_type": "stream",
     "text": [
      "c:\\Users\\Saurav\\anaconda3\\Lib\\site-packages\\xgboost\\data.py:440: FutureWarning: is_sparse is deprecated and will be removed in a future version. Check `isinstance(dtype, pd.SparseDtype)` instead.\n",
      "  if is_sparse(data):\n"
     ]
    },
    {
     "name": "stdout",
     "output_type": "stream",
     "text": [
      "[CV 10/10; 3/10] END colsample_bytree=0.8, gamma=4, learning_rate=1.7000000000000002, max_depth=151, min_child_weight=20, n_estimators=101, reg_alpha=141, reg_lambda=2;, score=0.431 total time=  10.6s\n",
      "[CV 1/10; 4/10] START colsample_bytree=0.30000000000000004, gamma=1, learning_rate=0.8, max_depth=301, min_child_weight=20, n_estimators=351, reg_alpha=161, reg_lambda=2\n"
     ]
    },
    {
     "name": "stderr",
     "output_type": "stream",
     "text": [
      "c:\\Users\\Saurav\\anaconda3\\Lib\\site-packages\\xgboost\\data.py:440: FutureWarning: is_sparse is deprecated and will be removed in a future version. Check `isinstance(dtype, pd.SparseDtype)` instead.\n",
      "  if is_sparse(data):\n"
     ]
    },
    {
     "name": "stdout",
     "output_type": "stream",
     "text": [
      "[CV 1/10; 4/10] END colsample_bytree=0.30000000000000004, gamma=1, learning_rate=0.8, max_depth=301, min_child_weight=20, n_estimators=351, reg_alpha=161, reg_lambda=2;, score=0.418 total time=  15.9s\n",
      "[CV 2/10; 4/10] START colsample_bytree=0.30000000000000004, gamma=1, learning_rate=0.8, max_depth=301, min_child_weight=20, n_estimators=351, reg_alpha=161, reg_lambda=2\n"
     ]
    },
    {
     "name": "stderr",
     "output_type": "stream",
     "text": [
      "c:\\Users\\Saurav\\anaconda3\\Lib\\site-packages\\xgboost\\data.py:440: FutureWarning: is_sparse is deprecated and will be removed in a future version. Check `isinstance(dtype, pd.SparseDtype)` instead.\n",
      "  if is_sparse(data):\n"
     ]
    },
    {
     "name": "stdout",
     "output_type": "stream",
     "text": [
      "[CV 2/10; 4/10] END colsample_bytree=0.30000000000000004, gamma=1, learning_rate=0.8, max_depth=301, min_child_weight=20, n_estimators=351, reg_alpha=161, reg_lambda=2;, score=0.423 total time=  14.0s\n",
      "[CV 3/10; 4/10] START colsample_bytree=0.30000000000000004, gamma=1, learning_rate=0.8, max_depth=301, min_child_weight=20, n_estimators=351, reg_alpha=161, reg_lambda=2\n"
     ]
    },
    {
     "name": "stderr",
     "output_type": "stream",
     "text": [
      "c:\\Users\\Saurav\\anaconda3\\Lib\\site-packages\\xgboost\\data.py:440: FutureWarning: is_sparse is deprecated and will be removed in a future version. Check `isinstance(dtype, pd.SparseDtype)` instead.\n",
      "  if is_sparse(data):\n"
     ]
    },
    {
     "name": "stdout",
     "output_type": "stream",
     "text": [
      "[CV 3/10; 4/10] END colsample_bytree=0.30000000000000004, gamma=1, learning_rate=0.8, max_depth=301, min_child_weight=20, n_estimators=351, reg_alpha=161, reg_lambda=2;, score=0.395 total time=  13.9s\n",
      "[CV 4/10; 4/10] START colsample_bytree=0.30000000000000004, gamma=1, learning_rate=0.8, max_depth=301, min_child_weight=20, n_estimators=351, reg_alpha=161, reg_lambda=2\n"
     ]
    },
    {
     "name": "stderr",
     "output_type": "stream",
     "text": [
      "c:\\Users\\Saurav\\anaconda3\\Lib\\site-packages\\xgboost\\data.py:440: FutureWarning: is_sparse is deprecated and will be removed in a future version. Check `isinstance(dtype, pd.SparseDtype)` instead.\n",
      "  if is_sparse(data):\n"
     ]
    },
    {
     "name": "stdout",
     "output_type": "stream",
     "text": [
      "[CV 4/10; 4/10] END colsample_bytree=0.30000000000000004, gamma=1, learning_rate=0.8, max_depth=301, min_child_weight=20, n_estimators=351, reg_alpha=161, reg_lambda=2;, score=0.446 total time=  13.8s\n",
      "[CV 5/10; 4/10] START colsample_bytree=0.30000000000000004, gamma=1, learning_rate=0.8, max_depth=301, min_child_weight=20, n_estimators=351, reg_alpha=161, reg_lambda=2\n"
     ]
    },
    {
     "name": "stderr",
     "output_type": "stream",
     "text": [
      "c:\\Users\\Saurav\\anaconda3\\Lib\\site-packages\\xgboost\\data.py:440: FutureWarning: is_sparse is deprecated and will be removed in a future version. Check `isinstance(dtype, pd.SparseDtype)` instead.\n",
      "  if is_sparse(data):\n"
     ]
    },
    {
     "name": "stdout",
     "output_type": "stream",
     "text": [
      "[CV 5/10; 4/10] END colsample_bytree=0.30000000000000004, gamma=1, learning_rate=0.8, max_depth=301, min_child_weight=20, n_estimators=351, reg_alpha=161, reg_lambda=2;, score=0.451 total time=  14.9s\n",
      "[CV 6/10; 4/10] START colsample_bytree=0.30000000000000004, gamma=1, learning_rate=0.8, max_depth=301, min_child_weight=20, n_estimators=351, reg_alpha=161, reg_lambda=2\n"
     ]
    },
    {
     "name": "stderr",
     "output_type": "stream",
     "text": [
      "c:\\Users\\Saurav\\anaconda3\\Lib\\site-packages\\xgboost\\data.py:440: FutureWarning: is_sparse is deprecated and will be removed in a future version. Check `isinstance(dtype, pd.SparseDtype)` instead.\n",
      "  if is_sparse(data):\n"
     ]
    },
    {
     "name": "stdout",
     "output_type": "stream",
     "text": [
      "[CV 6/10; 4/10] END colsample_bytree=0.30000000000000004, gamma=1, learning_rate=0.8, max_depth=301, min_child_weight=20, n_estimators=351, reg_alpha=161, reg_lambda=2;, score=0.456 total time=  13.9s\n",
      "[CV 7/10; 4/10] START colsample_bytree=0.30000000000000004, gamma=1, learning_rate=0.8, max_depth=301, min_child_weight=20, n_estimators=351, reg_alpha=161, reg_lambda=2\n"
     ]
    },
    {
     "name": "stderr",
     "output_type": "stream",
     "text": [
      "c:\\Users\\Saurav\\anaconda3\\Lib\\site-packages\\xgboost\\data.py:440: FutureWarning: is_sparse is deprecated and will be removed in a future version. Check `isinstance(dtype, pd.SparseDtype)` instead.\n",
      "  if is_sparse(data):\n"
     ]
    },
    {
     "name": "stdout",
     "output_type": "stream",
     "text": [
      "[CV 7/10; 4/10] END colsample_bytree=0.30000000000000004, gamma=1, learning_rate=0.8, max_depth=301, min_child_weight=20, n_estimators=351, reg_alpha=161, reg_lambda=2;, score=0.441 total time=  13.8s\n",
      "[CV 8/10; 4/10] START colsample_bytree=0.30000000000000004, gamma=1, learning_rate=0.8, max_depth=301, min_child_weight=20, n_estimators=351, reg_alpha=161, reg_lambda=2\n"
     ]
    },
    {
     "name": "stderr",
     "output_type": "stream",
     "text": [
      "c:\\Users\\Saurav\\anaconda3\\Lib\\site-packages\\xgboost\\data.py:440: FutureWarning: is_sparse is deprecated and will be removed in a future version. Check `isinstance(dtype, pd.SparseDtype)` instead.\n",
      "  if is_sparse(data):\n"
     ]
    },
    {
     "name": "stdout",
     "output_type": "stream",
     "text": [
      "[CV 8/10; 4/10] END colsample_bytree=0.30000000000000004, gamma=1, learning_rate=0.8, max_depth=301, min_child_weight=20, n_estimators=351, reg_alpha=161, reg_lambda=2;, score=0.451 total time=  13.3s\n",
      "[CV 9/10; 4/10] START colsample_bytree=0.30000000000000004, gamma=1, learning_rate=0.8, max_depth=301, min_child_weight=20, n_estimators=351, reg_alpha=161, reg_lambda=2\n"
     ]
    },
    {
     "name": "stderr",
     "output_type": "stream",
     "text": [
      "c:\\Users\\Saurav\\anaconda3\\Lib\\site-packages\\xgboost\\data.py:440: FutureWarning: is_sparse is deprecated and will be removed in a future version. Check `isinstance(dtype, pd.SparseDtype)` instead.\n",
      "  if is_sparse(data):\n"
     ]
    },
    {
     "name": "stdout",
     "output_type": "stream",
     "text": [
      "[CV 9/10; 4/10] END colsample_bytree=0.30000000000000004, gamma=1, learning_rate=0.8, max_depth=301, min_child_weight=20, n_estimators=351, reg_alpha=161, reg_lambda=2;, score=0.436 total time=  13.7s\n",
      "[CV 10/10; 4/10] START colsample_bytree=0.30000000000000004, gamma=1, learning_rate=0.8, max_depth=301, min_child_weight=20, n_estimators=351, reg_alpha=161, reg_lambda=2\n"
     ]
    },
    {
     "name": "stderr",
     "output_type": "stream",
     "text": [
      "c:\\Users\\Saurav\\anaconda3\\Lib\\site-packages\\xgboost\\data.py:440: FutureWarning: is_sparse is deprecated and will be removed in a future version. Check `isinstance(dtype, pd.SparseDtype)` instead.\n",
      "  if is_sparse(data):\n"
     ]
    },
    {
     "name": "stdout",
     "output_type": "stream",
     "text": [
      "[CV 10/10; 4/10] END colsample_bytree=0.30000000000000004, gamma=1, learning_rate=0.8, max_depth=301, min_child_weight=20, n_estimators=351, reg_alpha=161, reg_lambda=2;, score=0.426 total time=  13.8s\n",
      "[CV 1/10; 5/10] START colsample_bytree=0.30000000000000004, gamma=7, learning_rate=1.0, max_depth=101, min_child_weight=20, n_estimators=101, reg_alpha=101, reg_lambda=3\n"
     ]
    },
    {
     "name": "stderr",
     "output_type": "stream",
     "text": [
      "c:\\Users\\Saurav\\anaconda3\\Lib\\site-packages\\xgboost\\data.py:440: FutureWarning: is_sparse is deprecated and will be removed in a future version. Check `isinstance(dtype, pd.SparseDtype)` instead.\n",
      "  if is_sparse(data):\n"
     ]
    },
    {
     "name": "stdout",
     "output_type": "stream",
     "text": [
      "[CV 1/10; 5/10] END colsample_bytree=0.30000000000000004, gamma=7, learning_rate=1.0, max_depth=101, min_child_weight=20, n_estimators=101, reg_alpha=101, reg_lambda=3;, score=0.633 total time=   4.3s\n",
      "[CV 2/10; 5/10] START colsample_bytree=0.30000000000000004, gamma=7, learning_rate=1.0, max_depth=101, min_child_weight=20, n_estimators=101, reg_alpha=101, reg_lambda=3\n"
     ]
    },
    {
     "name": "stderr",
     "output_type": "stream",
     "text": [
      "c:\\Users\\Saurav\\anaconda3\\Lib\\site-packages\\xgboost\\data.py:440: FutureWarning: is_sparse is deprecated and will be removed in a future version. Check `isinstance(dtype, pd.SparseDtype)` instead.\n",
      "  if is_sparse(data):\n"
     ]
    },
    {
     "name": "stdout",
     "output_type": "stream",
     "text": [
      "[CV 2/10; 5/10] END colsample_bytree=0.30000000000000004, gamma=7, learning_rate=1.0, max_depth=101, min_child_weight=20, n_estimators=101, reg_alpha=101, reg_lambda=3;, score=0.617 total time=   4.3s\n",
      "[CV 3/10; 5/10] START colsample_bytree=0.30000000000000004, gamma=7, learning_rate=1.0, max_depth=101, min_child_weight=20, n_estimators=101, reg_alpha=101, reg_lambda=3\n"
     ]
    },
    {
     "name": "stderr",
     "output_type": "stream",
     "text": [
      "c:\\Users\\Saurav\\anaconda3\\Lib\\site-packages\\xgboost\\data.py:440: FutureWarning: is_sparse is deprecated and will be removed in a future version. Check `isinstance(dtype, pd.SparseDtype)` instead.\n",
      "  if is_sparse(data):\n"
     ]
    },
    {
     "name": "stdout",
     "output_type": "stream",
     "text": [
      "[CV 3/10; 5/10] END colsample_bytree=0.30000000000000004, gamma=7, learning_rate=1.0, max_depth=101, min_child_weight=20, n_estimators=101, reg_alpha=101, reg_lambda=3;, score=0.641 total time=   4.5s\n",
      "[CV 4/10; 5/10] START colsample_bytree=0.30000000000000004, gamma=7, learning_rate=1.0, max_depth=101, min_child_weight=20, n_estimators=101, reg_alpha=101, reg_lambda=3\n"
     ]
    },
    {
     "name": "stderr",
     "output_type": "stream",
     "text": [
      "c:\\Users\\Saurav\\anaconda3\\Lib\\site-packages\\xgboost\\data.py:440: FutureWarning: is_sparse is deprecated and will be removed in a future version. Check `isinstance(dtype, pd.SparseDtype)` instead.\n",
      "  if is_sparse(data):\n"
     ]
    },
    {
     "name": "stdout",
     "output_type": "stream",
     "text": [
      "[CV 4/10; 5/10] END colsample_bytree=0.30000000000000004, gamma=7, learning_rate=1.0, max_depth=101, min_child_weight=20, n_estimators=101, reg_alpha=101, reg_lambda=3;, score=0.636 total time=   4.5s\n",
      "[CV 5/10; 5/10] START colsample_bytree=0.30000000000000004, gamma=7, learning_rate=1.0, max_depth=101, min_child_weight=20, n_estimators=101, reg_alpha=101, reg_lambda=3\n"
     ]
    },
    {
     "name": "stderr",
     "output_type": "stream",
     "text": [
      "c:\\Users\\Saurav\\anaconda3\\Lib\\site-packages\\xgboost\\data.py:440: FutureWarning: is_sparse is deprecated and will be removed in a future version. Check `isinstance(dtype, pd.SparseDtype)` instead.\n",
      "  if is_sparse(data):\n"
     ]
    },
    {
     "name": "stdout",
     "output_type": "stream",
     "text": [
      "[CV 5/10; 5/10] END colsample_bytree=0.30000000000000004, gamma=7, learning_rate=1.0, max_depth=101, min_child_weight=20, n_estimators=101, reg_alpha=101, reg_lambda=3;, score=0.651 total time=   5.1s\n",
      "[CV 6/10; 5/10] START colsample_bytree=0.30000000000000004, gamma=7, learning_rate=1.0, max_depth=101, min_child_weight=20, n_estimators=101, reg_alpha=101, reg_lambda=3\n"
     ]
    },
    {
     "name": "stderr",
     "output_type": "stream",
     "text": [
      "c:\\Users\\Saurav\\anaconda3\\Lib\\site-packages\\xgboost\\data.py:440: FutureWarning: is_sparse is deprecated and will be removed in a future version. Check `isinstance(dtype, pd.SparseDtype)` instead.\n",
      "  if is_sparse(data):\n"
     ]
    },
    {
     "name": "stdout",
     "output_type": "stream",
     "text": [
      "[CV 6/10; 5/10] END colsample_bytree=0.30000000000000004, gamma=7, learning_rate=1.0, max_depth=101, min_child_weight=20, n_estimators=101, reg_alpha=101, reg_lambda=3;, score=0.626 total time=   4.5s\n",
      "[CV 7/10; 5/10] START colsample_bytree=0.30000000000000004, gamma=7, learning_rate=1.0, max_depth=101, min_child_weight=20, n_estimators=101, reg_alpha=101, reg_lambda=3\n"
     ]
    },
    {
     "name": "stderr",
     "output_type": "stream",
     "text": [
      "c:\\Users\\Saurav\\anaconda3\\Lib\\site-packages\\xgboost\\data.py:440: FutureWarning: is_sparse is deprecated and will be removed in a future version. Check `isinstance(dtype, pd.SparseDtype)` instead.\n",
      "  if is_sparse(data):\n"
     ]
    },
    {
     "name": "stdout",
     "output_type": "stream",
     "text": [
      "[CV 7/10; 5/10] END colsample_bytree=0.30000000000000004, gamma=7, learning_rate=1.0, max_depth=101, min_child_weight=20, n_estimators=101, reg_alpha=101, reg_lambda=3;, score=0.662 total time=   4.6s\n",
      "[CV 8/10; 5/10] START colsample_bytree=0.30000000000000004, gamma=7, learning_rate=1.0, max_depth=101, min_child_weight=20, n_estimators=101, reg_alpha=101, reg_lambda=3\n"
     ]
    },
    {
     "name": "stderr",
     "output_type": "stream",
     "text": [
      "c:\\Users\\Saurav\\anaconda3\\Lib\\site-packages\\xgboost\\data.py:440: FutureWarning: is_sparse is deprecated and will be removed in a future version. Check `isinstance(dtype, pd.SparseDtype)` instead.\n",
      "  if is_sparse(data):\n"
     ]
    },
    {
     "name": "stdout",
     "output_type": "stream",
     "text": [
      "[CV 8/10; 5/10] END colsample_bytree=0.30000000000000004, gamma=7, learning_rate=1.0, max_depth=101, min_child_weight=20, n_estimators=101, reg_alpha=101, reg_lambda=3;, score=0.692 total time=   4.6s\n",
      "[CV 9/10; 5/10] START colsample_bytree=0.30000000000000004, gamma=7, learning_rate=1.0, max_depth=101, min_child_weight=20, n_estimators=101, reg_alpha=101, reg_lambda=3\n"
     ]
    },
    {
     "name": "stderr",
     "output_type": "stream",
     "text": [
      "c:\\Users\\Saurav\\anaconda3\\Lib\\site-packages\\xgboost\\data.py:440: FutureWarning: is_sparse is deprecated and will be removed in a future version. Check `isinstance(dtype, pd.SparseDtype)` instead.\n",
      "  if is_sparse(data):\n"
     ]
    },
    {
     "name": "stdout",
     "output_type": "stream",
     "text": [
      "[CV 9/10; 5/10] END colsample_bytree=0.30000000000000004, gamma=7, learning_rate=1.0, max_depth=101, min_child_weight=20, n_estimators=101, reg_alpha=101, reg_lambda=3;, score=0.672 total time=   4.7s\n",
      "[CV 10/10; 5/10] START colsample_bytree=0.30000000000000004, gamma=7, learning_rate=1.0, max_depth=101, min_child_weight=20, n_estimators=101, reg_alpha=101, reg_lambda=3\n"
     ]
    },
    {
     "name": "stderr",
     "output_type": "stream",
     "text": [
      "c:\\Users\\Saurav\\anaconda3\\Lib\\site-packages\\xgboost\\data.py:440: FutureWarning: is_sparse is deprecated and will be removed in a future version. Check `isinstance(dtype, pd.SparseDtype)` instead.\n",
      "  if is_sparse(data):\n"
     ]
    },
    {
     "name": "stdout",
     "output_type": "stream",
     "text": [
      "[CV 10/10; 5/10] END colsample_bytree=0.30000000000000004, gamma=7, learning_rate=1.0, max_depth=101, min_child_weight=20, n_estimators=101, reg_alpha=101, reg_lambda=3;, score=0.667 total time=   4.6s\n",
      "[CV 1/10; 6/10] START colsample_bytree=0.30000000000000004, gamma=7, learning_rate=1.3, max_depth=351, min_child_weight=15, n_estimators=1, reg_alpha=141, reg_lambda=0\n",
      "[CV 1/10; 6/10] END colsample_bytree=0.30000000000000004, gamma=7, learning_rate=1.3, max_depth=351, min_child_weight=15, n_estimators=1, reg_alpha=141, reg_lambda=0;, score=0.342 total time=   0.0s\n",
      "[CV 2/10; 6/10] START colsample_bytree=0.30000000000000004, gamma=7, learning_rate=1.3, max_depth=351, min_child_weight=15, n_estimators=1, reg_alpha=141, reg_lambda=0\n",
      "[CV 2/10; 6/10] END colsample_bytree=0.30000000000000004, gamma=7, learning_rate=1.3, max_depth=351, min_child_weight=15, n_estimators=1, reg_alpha=141, reg_lambda=0;, score=0.321 total time=   0.0s\n",
      "[CV 3/10; 6/10] START colsample_bytree=0.30000000000000004, gamma=7, learning_rate=1.3, max_depth=351, min_child_weight=15, n_estimators=1, reg_alpha=141, reg_lambda=0\n"
     ]
    },
    {
     "name": "stderr",
     "output_type": "stream",
     "text": [
      "c:\\Users\\Saurav\\anaconda3\\Lib\\site-packages\\xgboost\\data.py:440: FutureWarning: is_sparse is deprecated and will be removed in a future version. Check `isinstance(dtype, pd.SparseDtype)` instead.\n",
      "  if is_sparse(data):\n",
      "c:\\Users\\Saurav\\anaconda3\\Lib\\site-packages\\xgboost\\data.py:440: FutureWarning: is_sparse is deprecated and will be removed in a future version. Check `isinstance(dtype, pd.SparseDtype)` instead.\n",
      "  if is_sparse(data):\n",
      "c:\\Users\\Saurav\\anaconda3\\Lib\\site-packages\\xgboost\\data.py:440: FutureWarning: is_sparse is deprecated and will be removed in a future version. Check `isinstance(dtype, pd.SparseDtype)` instead.\n",
      "  if is_sparse(data):\n"
     ]
    },
    {
     "name": "stdout",
     "output_type": "stream",
     "text": [
      "[CV 3/10; 6/10] END colsample_bytree=0.30000000000000004, gamma=7, learning_rate=1.3, max_depth=351, min_child_weight=15, n_estimators=1, reg_alpha=141, reg_lambda=0;, score=0.338 total time=   0.0s\n",
      "[CV 4/10; 6/10] START colsample_bytree=0.30000000000000004, gamma=7, learning_rate=1.3, max_depth=351, min_child_weight=15, n_estimators=1, reg_alpha=141, reg_lambda=0\n",
      "[CV 4/10; 6/10] END colsample_bytree=0.30000000000000004, gamma=7, learning_rate=1.3, max_depth=351, min_child_weight=15, n_estimators=1, reg_alpha=141, reg_lambda=0;, score=0.349 total time=   0.0s\n",
      "[CV 5/10; 6/10] START colsample_bytree=0.30000000000000004, gamma=7, learning_rate=1.3, max_depth=351, min_child_weight=15, n_estimators=1, reg_alpha=141, reg_lambda=0\n",
      "[CV 5/10; 6/10] END colsample_bytree=0.30000000000000004, gamma=7, learning_rate=1.3, max_depth=351, min_child_weight=15, n_estimators=1, reg_alpha=141, reg_lambda=0;, score=0.318 total time=   0.0s\n",
      "[CV 6/10; 6/10] START colsample_bytree=0.30000000000000004, gamma=7, learning_rate=1.3, max_depth=351, min_child_weight=15, n_estimators=1, reg_alpha=141, reg_lambda=0\n"
     ]
    },
    {
     "name": "stderr",
     "output_type": "stream",
     "text": [
      "c:\\Users\\Saurav\\anaconda3\\Lib\\site-packages\\xgboost\\data.py:440: FutureWarning: is_sparse is deprecated and will be removed in a future version. Check `isinstance(dtype, pd.SparseDtype)` instead.\n",
      "  if is_sparse(data):\n",
      "c:\\Users\\Saurav\\anaconda3\\Lib\\site-packages\\xgboost\\data.py:440: FutureWarning: is_sparse is deprecated and will be removed in a future version. Check `isinstance(dtype, pd.SparseDtype)` instead.\n",
      "  if is_sparse(data):\n",
      "c:\\Users\\Saurav\\anaconda3\\Lib\\site-packages\\xgboost\\data.py:440: FutureWarning: is_sparse is deprecated and will be removed in a future version. Check `isinstance(dtype, pd.SparseDtype)` instead.\n",
      "  if is_sparse(data):\n"
     ]
    },
    {
     "name": "stdout",
     "output_type": "stream",
     "text": [
      "[CV 6/10; 6/10] END colsample_bytree=0.30000000000000004, gamma=7, learning_rate=1.3, max_depth=351, min_child_weight=15, n_estimators=1, reg_alpha=141, reg_lambda=0;, score=0.349 total time=   0.0s\n",
      "[CV 7/10; 6/10] START colsample_bytree=0.30000000000000004, gamma=7, learning_rate=1.3, max_depth=351, min_child_weight=15, n_estimators=1, reg_alpha=141, reg_lambda=0\n",
      "[CV 7/10; 6/10] END colsample_bytree=0.30000000000000004, gamma=7, learning_rate=1.3, max_depth=351, min_child_weight=15, n_estimators=1, reg_alpha=141, reg_lambda=0;, score=0.349 total time=   0.0s\n",
      "[CV 8/10; 6/10] START colsample_bytree=0.30000000000000004, gamma=7, learning_rate=1.3, max_depth=351, min_child_weight=15, n_estimators=1, reg_alpha=141, reg_lambda=0\n",
      "[CV 8/10; 6/10] END colsample_bytree=0.30000000000000004, gamma=7, learning_rate=1.3, max_depth=351, min_child_weight=15, n_estimators=1, reg_alpha=141, reg_lambda=0;, score=0.369 total time=   0.0s\n",
      "[CV 9/10; 6/10] START colsample_bytree=0.30000000000000004, gamma=7, learning_rate=1.3, max_depth=351, min_child_weight=15, n_estimators=1, reg_alpha=141, reg_lambda=0\n"
     ]
    },
    {
     "name": "stderr",
     "output_type": "stream",
     "text": [
      "c:\\Users\\Saurav\\anaconda3\\Lib\\site-packages\\xgboost\\data.py:440: FutureWarning: is_sparse is deprecated and will be removed in a future version. Check `isinstance(dtype, pd.SparseDtype)` instead.\n",
      "  if is_sparse(data):\n",
      "c:\\Users\\Saurav\\anaconda3\\Lib\\site-packages\\xgboost\\data.py:440: FutureWarning: is_sparse is deprecated and will be removed in a future version. Check `isinstance(dtype, pd.SparseDtype)` instead.\n",
      "  if is_sparse(data):\n",
      "c:\\Users\\Saurav\\anaconda3\\Lib\\site-packages\\xgboost\\data.py:440: FutureWarning: is_sparse is deprecated and will be removed in a future version. Check `isinstance(dtype, pd.SparseDtype)` instead.\n",
      "  if is_sparse(data):\n"
     ]
    },
    {
     "name": "stdout",
     "output_type": "stream",
     "text": [
      "[CV 9/10; 6/10] END colsample_bytree=0.30000000000000004, gamma=7, learning_rate=1.3, max_depth=351, min_child_weight=15, n_estimators=1, reg_alpha=141, reg_lambda=0;, score=0.344 total time=   0.0s\n",
      "[CV 10/10; 6/10] START colsample_bytree=0.30000000000000004, gamma=7, learning_rate=1.3, max_depth=351, min_child_weight=15, n_estimators=1, reg_alpha=141, reg_lambda=0\n",
      "[CV 10/10; 6/10] END colsample_bytree=0.30000000000000004, gamma=7, learning_rate=1.3, max_depth=351, min_child_weight=15, n_estimators=1, reg_alpha=141, reg_lambda=0;, score=0.333 total time=   0.0s\n",
      "[CV 1/10; 7/10] START colsample_bytree=0.0, gamma=4, learning_rate=1.0, max_depth=351, min_child_weight=35, n_estimators=201, reg_alpha=141, reg_lambda=0\n"
     ]
    },
    {
     "name": "stderr",
     "output_type": "stream",
     "text": [
      "c:\\Users\\Saurav\\anaconda3\\Lib\\site-packages\\xgboost\\data.py:440: FutureWarning: is_sparse is deprecated and will be removed in a future version. Check `isinstance(dtype, pd.SparseDtype)` instead.\n",
      "  if is_sparse(data):\n",
      "c:\\Users\\Saurav\\anaconda3\\Lib\\site-packages\\xgboost\\data.py:440: FutureWarning: is_sparse is deprecated and will be removed in a future version. Check `isinstance(dtype, pd.SparseDtype)` instead.\n",
      "  if is_sparse(data):\n"
     ]
    },
    {
     "name": "stdout",
     "output_type": "stream",
     "text": [
      "[CV 1/10; 7/10] END colsample_bytree=0.0, gamma=4, learning_rate=1.0, max_depth=351, min_child_weight=35, n_estimators=201, reg_alpha=141, reg_lambda=0;, score=0.204 total time=   4.4s\n",
      "[CV 2/10; 7/10] START colsample_bytree=0.0, gamma=4, learning_rate=1.0, max_depth=351, min_child_weight=35, n_estimators=201, reg_alpha=141, reg_lambda=0\n"
     ]
    },
    {
     "name": "stderr",
     "output_type": "stream",
     "text": [
      "c:\\Users\\Saurav\\anaconda3\\Lib\\site-packages\\xgboost\\data.py:440: FutureWarning: is_sparse is deprecated and will be removed in a future version. Check `isinstance(dtype, pd.SparseDtype)` instead.\n",
      "  if is_sparse(data):\n"
     ]
    },
    {
     "name": "stdout",
     "output_type": "stream",
     "text": [
      "[CV 2/10; 7/10] END colsample_bytree=0.0, gamma=4, learning_rate=1.0, max_depth=351, min_child_weight=35, n_estimators=201, reg_alpha=141, reg_lambda=0;, score=0.204 total time=   4.1s\n",
      "[CV 3/10; 7/10] START colsample_bytree=0.0, gamma=4, learning_rate=1.0, max_depth=351, min_child_weight=35, n_estimators=201, reg_alpha=141, reg_lambda=0\n"
     ]
    },
    {
     "name": "stderr",
     "output_type": "stream",
     "text": [
      "c:\\Users\\Saurav\\anaconda3\\Lib\\site-packages\\xgboost\\data.py:440: FutureWarning: is_sparse is deprecated and will be removed in a future version. Check `isinstance(dtype, pd.SparseDtype)` instead.\n",
      "  if is_sparse(data):\n"
     ]
    },
    {
     "name": "stdout",
     "output_type": "stream",
     "text": [
      "[CV 3/10; 7/10] END colsample_bytree=0.0, gamma=4, learning_rate=1.0, max_depth=351, min_child_weight=35, n_estimators=201, reg_alpha=141, reg_lambda=0;, score=0.200 total time=   4.2s\n",
      "[CV 4/10; 7/10] START colsample_bytree=0.0, gamma=4, learning_rate=1.0, max_depth=351, min_child_weight=35, n_estimators=201, reg_alpha=141, reg_lambda=0\n"
     ]
    },
    {
     "name": "stderr",
     "output_type": "stream",
     "text": [
      "c:\\Users\\Saurav\\anaconda3\\Lib\\site-packages\\xgboost\\data.py:440: FutureWarning: is_sparse is deprecated and will be removed in a future version. Check `isinstance(dtype, pd.SparseDtype)` instead.\n",
      "  if is_sparse(data):\n"
     ]
    },
    {
     "name": "stdout",
     "output_type": "stream",
     "text": [
      "[CV 4/10; 7/10] END colsample_bytree=0.0, gamma=4, learning_rate=1.0, max_depth=351, min_child_weight=35, n_estimators=201, reg_alpha=141, reg_lambda=0;, score=0.200 total time=   4.2s\n",
      "[CV 5/10; 7/10] START colsample_bytree=0.0, gamma=4, learning_rate=1.0, max_depth=351, min_child_weight=35, n_estimators=201, reg_alpha=141, reg_lambda=0\n"
     ]
    },
    {
     "name": "stderr",
     "output_type": "stream",
     "text": [
      "c:\\Users\\Saurav\\anaconda3\\Lib\\site-packages\\xgboost\\data.py:440: FutureWarning: is_sparse is deprecated and will be removed in a future version. Check `isinstance(dtype, pd.SparseDtype)` instead.\n",
      "  if is_sparse(data):\n"
     ]
    },
    {
     "name": "stdout",
     "output_type": "stream",
     "text": [
      "[CV 5/10; 7/10] END colsample_bytree=0.0, gamma=4, learning_rate=1.0, max_depth=351, min_child_weight=35, n_estimators=201, reg_alpha=141, reg_lambda=0;, score=0.200 total time=   4.4s\n",
      "[CV 6/10; 7/10] START colsample_bytree=0.0, gamma=4, learning_rate=1.0, max_depth=351, min_child_weight=35, n_estimators=201, reg_alpha=141, reg_lambda=0\n"
     ]
    },
    {
     "name": "stderr",
     "output_type": "stream",
     "text": [
      "c:\\Users\\Saurav\\anaconda3\\Lib\\site-packages\\xgboost\\data.py:440: FutureWarning: is_sparse is deprecated and will be removed in a future version. Check `isinstance(dtype, pd.SparseDtype)` instead.\n",
      "  if is_sparse(data):\n"
     ]
    },
    {
     "name": "stdout",
     "output_type": "stream",
     "text": [
      "[CV 6/10; 7/10] END colsample_bytree=0.0, gamma=4, learning_rate=1.0, max_depth=351, min_child_weight=35, n_estimators=201, reg_alpha=141, reg_lambda=0;, score=0.205 total time=   4.1s\n",
      "[CV 7/10; 7/10] START colsample_bytree=0.0, gamma=4, learning_rate=1.0, max_depth=351, min_child_weight=35, n_estimators=201, reg_alpha=141, reg_lambda=0\n"
     ]
    },
    {
     "name": "stderr",
     "output_type": "stream",
     "text": [
      "c:\\Users\\Saurav\\anaconda3\\Lib\\site-packages\\xgboost\\data.py:440: FutureWarning: is_sparse is deprecated and will be removed in a future version. Check `isinstance(dtype, pd.SparseDtype)` instead.\n",
      "  if is_sparse(data):\n"
     ]
    },
    {
     "name": "stdout",
     "output_type": "stream",
     "text": [
      "[CV 7/10; 7/10] END colsample_bytree=0.0, gamma=4, learning_rate=1.0, max_depth=351, min_child_weight=35, n_estimators=201, reg_alpha=141, reg_lambda=0;, score=0.205 total time=   4.1s\n",
      "[CV 8/10; 7/10] START colsample_bytree=0.0, gamma=4, learning_rate=1.0, max_depth=351, min_child_weight=35, n_estimators=201, reg_alpha=141, reg_lambda=0\n"
     ]
    },
    {
     "name": "stderr",
     "output_type": "stream",
     "text": [
      "c:\\Users\\Saurav\\anaconda3\\Lib\\site-packages\\xgboost\\data.py:440: FutureWarning: is_sparse is deprecated and will be removed in a future version. Check `isinstance(dtype, pd.SparseDtype)` instead.\n",
      "  if is_sparse(data):\n"
     ]
    },
    {
     "name": "stdout",
     "output_type": "stream",
     "text": [
      "[CV 8/10; 7/10] END colsample_bytree=0.0, gamma=4, learning_rate=1.0, max_depth=351, min_child_weight=35, n_estimators=201, reg_alpha=141, reg_lambda=0;, score=0.205 total time=   4.6s\n",
      "[CV 9/10; 7/10] START colsample_bytree=0.0, gamma=4, learning_rate=1.0, max_depth=351, min_child_weight=35, n_estimators=201, reg_alpha=141, reg_lambda=0\n"
     ]
    },
    {
     "name": "stderr",
     "output_type": "stream",
     "text": [
      "c:\\Users\\Saurav\\anaconda3\\Lib\\site-packages\\xgboost\\data.py:440: FutureWarning: is_sparse is deprecated and will be removed in a future version. Check `isinstance(dtype, pd.SparseDtype)` instead.\n",
      "  if is_sparse(data):\n"
     ]
    },
    {
     "name": "stdout",
     "output_type": "stream",
     "text": [
      "[CV 9/10; 7/10] END colsample_bytree=0.0, gamma=4, learning_rate=1.0, max_depth=351, min_child_weight=35, n_estimators=201, reg_alpha=141, reg_lambda=0;, score=0.205 total time=   4.7s\n",
      "[CV 10/10; 7/10] START colsample_bytree=0.0, gamma=4, learning_rate=1.0, max_depth=351, min_child_weight=35, n_estimators=201, reg_alpha=141, reg_lambda=0\n"
     ]
    },
    {
     "name": "stderr",
     "output_type": "stream",
     "text": [
      "c:\\Users\\Saurav\\anaconda3\\Lib\\site-packages\\xgboost\\data.py:440: FutureWarning: is_sparse is deprecated and will be removed in a future version. Check `isinstance(dtype, pd.SparseDtype)` instead.\n",
      "  if is_sparse(data):\n"
     ]
    },
    {
     "name": "stdout",
     "output_type": "stream",
     "text": [
      "[CV 10/10; 7/10] END colsample_bytree=0.0, gamma=4, learning_rate=1.0, max_depth=351, min_child_weight=35, n_estimators=201, reg_alpha=141, reg_lambda=0;, score=0.205 total time=   4.1s\n",
      "[CV 1/10; 8/10] START colsample_bytree=0.9, gamma=4, learning_rate=1.1, max_depth=301, min_child_weight=30, n_estimators=251, reg_alpha=241, reg_lambda=4\n"
     ]
    },
    {
     "name": "stderr",
     "output_type": "stream",
     "text": [
      "c:\\Users\\Saurav\\anaconda3\\Lib\\site-packages\\xgboost\\data.py:440: FutureWarning: is_sparse is deprecated and will be removed in a future version. Check `isinstance(dtype, pd.SparseDtype)` instead.\n",
      "  if is_sparse(data):\n"
     ]
    },
    {
     "name": "stdout",
     "output_type": "stream",
     "text": [
      "[CV 1/10; 8/10] END colsample_bytree=0.9, gamma=4, learning_rate=1.1, max_depth=301, min_child_weight=30, n_estimators=251, reg_alpha=241, reg_lambda=4;, score=0.204 total time=  19.4s\n",
      "[CV 2/10; 8/10] START colsample_bytree=0.9, gamma=4, learning_rate=1.1, max_depth=301, min_child_weight=30, n_estimators=251, reg_alpha=241, reg_lambda=4\n"
     ]
    },
    {
     "name": "stderr",
     "output_type": "stream",
     "text": [
      "c:\\Users\\Saurav\\anaconda3\\Lib\\site-packages\\xgboost\\data.py:440: FutureWarning: is_sparse is deprecated and will be removed in a future version. Check `isinstance(dtype, pd.SparseDtype)` instead.\n",
      "  if is_sparse(data):\n"
     ]
    },
    {
     "name": "stdout",
     "output_type": "stream",
     "text": [
      "[CV 2/10; 8/10] END colsample_bytree=0.9, gamma=4, learning_rate=1.1, max_depth=301, min_child_weight=30, n_estimators=251, reg_alpha=241, reg_lambda=4;, score=0.204 total time=  18.5s\n",
      "[CV 3/10; 8/10] START colsample_bytree=0.9, gamma=4, learning_rate=1.1, max_depth=301, min_child_weight=30, n_estimators=251, reg_alpha=241, reg_lambda=4\n"
     ]
    },
    {
     "name": "stderr",
     "output_type": "stream",
     "text": [
      "c:\\Users\\Saurav\\anaconda3\\Lib\\site-packages\\xgboost\\data.py:440: FutureWarning: is_sparse is deprecated and will be removed in a future version. Check `isinstance(dtype, pd.SparseDtype)` instead.\n",
      "  if is_sparse(data):\n"
     ]
    },
    {
     "name": "stdout",
     "output_type": "stream",
     "text": [
      "[CV 3/10; 8/10] END colsample_bytree=0.9, gamma=4, learning_rate=1.1, max_depth=301, min_child_weight=30, n_estimators=251, reg_alpha=241, reg_lambda=4;, score=0.200 total time=  18.7s\n",
      "[CV 4/10; 8/10] START colsample_bytree=0.9, gamma=4, learning_rate=1.1, max_depth=301, min_child_weight=30, n_estimators=251, reg_alpha=241, reg_lambda=4\n"
     ]
    },
    {
     "name": "stderr",
     "output_type": "stream",
     "text": [
      "c:\\Users\\Saurav\\anaconda3\\Lib\\site-packages\\xgboost\\data.py:440: FutureWarning: is_sparse is deprecated and will be removed in a future version. Check `isinstance(dtype, pd.SparseDtype)` instead.\n",
      "  if is_sparse(data):\n"
     ]
    },
    {
     "name": "stdout",
     "output_type": "stream",
     "text": [
      "[CV 4/10; 8/10] END colsample_bytree=0.9, gamma=4, learning_rate=1.1, max_depth=301, min_child_weight=30, n_estimators=251, reg_alpha=241, reg_lambda=4;, score=0.200 total time=  18.9s\n",
      "[CV 5/10; 8/10] START colsample_bytree=0.9, gamma=4, learning_rate=1.1, max_depth=301, min_child_weight=30, n_estimators=251, reg_alpha=241, reg_lambda=4\n"
     ]
    },
    {
     "name": "stderr",
     "output_type": "stream",
     "text": [
      "c:\\Users\\Saurav\\anaconda3\\Lib\\site-packages\\xgboost\\data.py:440: FutureWarning: is_sparse is deprecated and will be removed in a future version. Check `isinstance(dtype, pd.SparseDtype)` instead.\n",
      "  if is_sparse(data):\n"
     ]
    },
    {
     "name": "stdout",
     "output_type": "stream",
     "text": [
      "[CV 5/10; 8/10] END colsample_bytree=0.9, gamma=4, learning_rate=1.1, max_depth=301, min_child_weight=30, n_estimators=251, reg_alpha=241, reg_lambda=4;, score=0.200 total time=  19.1s\n",
      "[CV 6/10; 8/10] START colsample_bytree=0.9, gamma=4, learning_rate=1.1, max_depth=301, min_child_weight=30, n_estimators=251, reg_alpha=241, reg_lambda=4\n"
     ]
    },
    {
     "name": "stderr",
     "output_type": "stream",
     "text": [
      "c:\\Users\\Saurav\\anaconda3\\Lib\\site-packages\\xgboost\\data.py:440: FutureWarning: is_sparse is deprecated and will be removed in a future version. Check `isinstance(dtype, pd.SparseDtype)` instead.\n",
      "  if is_sparse(data):\n"
     ]
    },
    {
     "name": "stdout",
     "output_type": "stream",
     "text": [
      "[CV 6/10; 8/10] END colsample_bytree=0.9, gamma=4, learning_rate=1.1, max_depth=301, min_child_weight=30, n_estimators=251, reg_alpha=241, reg_lambda=4;, score=0.205 total time=  18.6s\n",
      "[CV 7/10; 8/10] START colsample_bytree=0.9, gamma=4, learning_rate=1.1, max_depth=301, min_child_weight=30, n_estimators=251, reg_alpha=241, reg_lambda=4\n"
     ]
    },
    {
     "name": "stderr",
     "output_type": "stream",
     "text": [
      "c:\\Users\\Saurav\\anaconda3\\Lib\\site-packages\\xgboost\\data.py:440: FutureWarning: is_sparse is deprecated and will be removed in a future version. Check `isinstance(dtype, pd.SparseDtype)` instead.\n",
      "  if is_sparse(data):\n"
     ]
    },
    {
     "name": "stdout",
     "output_type": "stream",
     "text": [
      "[CV 7/10; 8/10] END colsample_bytree=0.9, gamma=4, learning_rate=1.1, max_depth=301, min_child_weight=30, n_estimators=251, reg_alpha=241, reg_lambda=4;, score=0.205 total time=  18.8s\n",
      "[CV 8/10; 8/10] START colsample_bytree=0.9, gamma=4, learning_rate=1.1, max_depth=301, min_child_weight=30, n_estimators=251, reg_alpha=241, reg_lambda=4\n"
     ]
    },
    {
     "name": "stderr",
     "output_type": "stream",
     "text": [
      "c:\\Users\\Saurav\\anaconda3\\Lib\\site-packages\\xgboost\\data.py:440: FutureWarning: is_sparse is deprecated and will be removed in a future version. Check `isinstance(dtype, pd.SparseDtype)` instead.\n",
      "  if is_sparse(data):\n"
     ]
    },
    {
     "name": "stdout",
     "output_type": "stream",
     "text": [
      "[CV 8/10; 8/10] END colsample_bytree=0.9, gamma=4, learning_rate=1.1, max_depth=301, min_child_weight=30, n_estimators=251, reg_alpha=241, reg_lambda=4;, score=0.205 total time=  18.6s\n",
      "[CV 9/10; 8/10] START colsample_bytree=0.9, gamma=4, learning_rate=1.1, max_depth=301, min_child_weight=30, n_estimators=251, reg_alpha=241, reg_lambda=4\n"
     ]
    },
    {
     "name": "stderr",
     "output_type": "stream",
     "text": [
      "c:\\Users\\Saurav\\anaconda3\\Lib\\site-packages\\xgboost\\data.py:440: FutureWarning: is_sparse is deprecated and will be removed in a future version. Check `isinstance(dtype, pd.SparseDtype)` instead.\n",
      "  if is_sparse(data):\n"
     ]
    },
    {
     "name": "stdout",
     "output_type": "stream",
     "text": [
      "[CV 9/10; 8/10] END colsample_bytree=0.9, gamma=4, learning_rate=1.1, max_depth=301, min_child_weight=30, n_estimators=251, reg_alpha=241, reg_lambda=4;, score=0.205 total time=  18.6s\n",
      "[CV 10/10; 8/10] START colsample_bytree=0.9, gamma=4, learning_rate=1.1, max_depth=301, min_child_weight=30, n_estimators=251, reg_alpha=241, reg_lambda=4\n"
     ]
    },
    {
     "name": "stderr",
     "output_type": "stream",
     "text": [
      "c:\\Users\\Saurav\\anaconda3\\Lib\\site-packages\\xgboost\\data.py:440: FutureWarning: is_sparse is deprecated and will be removed in a future version. Check `isinstance(dtype, pd.SparseDtype)` instead.\n",
      "  if is_sparse(data):\n"
     ]
    },
    {
     "name": "stdout",
     "output_type": "stream",
     "text": [
      "[CV 10/10; 8/10] END colsample_bytree=0.9, gamma=4, learning_rate=1.1, max_depth=301, min_child_weight=30, n_estimators=251, reg_alpha=241, reg_lambda=4;, score=0.205 total time=  18.6s\n",
      "[CV 1/10; 9/10] START colsample_bytree=0.0, gamma=1, learning_rate=0.6000000000000001, max_depth=301, min_child_weight=35, n_estimators=251, reg_alpha=21, reg_lambda=4\n"
     ]
    },
    {
     "name": "stderr",
     "output_type": "stream",
     "text": [
      "c:\\Users\\Saurav\\anaconda3\\Lib\\site-packages\\xgboost\\data.py:440: FutureWarning: is_sparse is deprecated and will be removed in a future version. Check `isinstance(dtype, pd.SparseDtype)` instead.\n",
      "  if is_sparse(data):\n"
     ]
    },
    {
     "name": "stdout",
     "output_type": "stream",
     "text": [
      "[CV 1/10; 9/10] END colsample_bytree=0.0, gamma=1, learning_rate=0.6000000000000001, max_depth=301, min_child_weight=35, n_estimators=251, reg_alpha=21, reg_lambda=4;, score=0.199 total time=   5.1s\n",
      "[CV 2/10; 9/10] START colsample_bytree=0.0, gamma=1, learning_rate=0.6000000000000001, max_depth=301, min_child_weight=35, n_estimators=251, reg_alpha=21, reg_lambda=4\n"
     ]
    },
    {
     "name": "stderr",
     "output_type": "stream",
     "text": [
      "c:\\Users\\Saurav\\anaconda3\\Lib\\site-packages\\xgboost\\data.py:440: FutureWarning: is_sparse is deprecated and will be removed in a future version. Check `isinstance(dtype, pd.SparseDtype)` instead.\n",
      "  if is_sparse(data):\n"
     ]
    },
    {
     "name": "stdout",
     "output_type": "stream",
     "text": [
      "[CV 2/10; 9/10] END colsample_bytree=0.0, gamma=1, learning_rate=0.6000000000000001, max_depth=301, min_child_weight=35, n_estimators=251, reg_alpha=21, reg_lambda=4;, score=0.194 total time=   5.5s\n",
      "[CV 3/10; 9/10] START colsample_bytree=0.0, gamma=1, learning_rate=0.6000000000000001, max_depth=301, min_child_weight=35, n_estimators=251, reg_alpha=21, reg_lambda=4\n"
     ]
    },
    {
     "name": "stderr",
     "output_type": "stream",
     "text": [
      "c:\\Users\\Saurav\\anaconda3\\Lib\\site-packages\\xgboost\\data.py:440: FutureWarning: is_sparse is deprecated and will be removed in a future version. Check `isinstance(dtype, pd.SparseDtype)` instead.\n",
      "  if is_sparse(data):\n"
     ]
    },
    {
     "name": "stdout",
     "output_type": "stream",
     "text": [
      "[CV 3/10; 9/10] END colsample_bytree=0.0, gamma=1, learning_rate=0.6000000000000001, max_depth=301, min_child_weight=35, n_estimators=251, reg_alpha=21, reg_lambda=4;, score=0.205 total time=   5.2s\n",
      "[CV 4/10; 9/10] START colsample_bytree=0.0, gamma=1, learning_rate=0.6000000000000001, max_depth=301, min_child_weight=35, n_estimators=251, reg_alpha=21, reg_lambda=4\n"
     ]
    },
    {
     "name": "stderr",
     "output_type": "stream",
     "text": [
      "c:\\Users\\Saurav\\anaconda3\\Lib\\site-packages\\xgboost\\data.py:440: FutureWarning: is_sparse is deprecated and will be removed in a future version. Check `isinstance(dtype, pd.SparseDtype)` instead.\n",
      "  if is_sparse(data):\n"
     ]
    },
    {
     "name": "stdout",
     "output_type": "stream",
     "text": [
      "[CV 4/10; 9/10] END colsample_bytree=0.0, gamma=1, learning_rate=0.6000000000000001, max_depth=301, min_child_weight=35, n_estimators=251, reg_alpha=21, reg_lambda=4;, score=0.246 total time=   5.1s\n",
      "[CV 5/10; 9/10] START colsample_bytree=0.0, gamma=1, learning_rate=0.6000000000000001, max_depth=301, min_child_weight=35, n_estimators=251, reg_alpha=21, reg_lambda=4\n"
     ]
    },
    {
     "name": "stderr",
     "output_type": "stream",
     "text": [
      "c:\\Users\\Saurav\\anaconda3\\Lib\\site-packages\\xgboost\\data.py:440: FutureWarning: is_sparse is deprecated and will be removed in a future version. Check `isinstance(dtype, pd.SparseDtype)` instead.\n",
      "  if is_sparse(data):\n"
     ]
    },
    {
     "name": "stdout",
     "output_type": "stream",
     "text": [
      "[CV 5/10; 9/10] END colsample_bytree=0.0, gamma=1, learning_rate=0.6000000000000001, max_depth=301, min_child_weight=35, n_estimators=251, reg_alpha=21, reg_lambda=4;, score=0.185 total time=   5.4s\n",
      "[CV 6/10; 9/10] START colsample_bytree=0.0, gamma=1, learning_rate=0.6000000000000001, max_depth=301, min_child_weight=35, n_estimators=251, reg_alpha=21, reg_lambda=4\n"
     ]
    },
    {
     "name": "stderr",
     "output_type": "stream",
     "text": [
      "c:\\Users\\Saurav\\anaconda3\\Lib\\site-packages\\xgboost\\data.py:440: FutureWarning: is_sparse is deprecated and will be removed in a future version. Check `isinstance(dtype, pd.SparseDtype)` instead.\n",
      "  if is_sparse(data):\n"
     ]
    },
    {
     "name": "stdout",
     "output_type": "stream",
     "text": [
      "[CV 6/10; 9/10] END colsample_bytree=0.0, gamma=1, learning_rate=0.6000000000000001, max_depth=301, min_child_weight=35, n_estimators=251, reg_alpha=21, reg_lambda=4;, score=0.210 total time=   5.3s\n",
      "[CV 7/10; 9/10] START colsample_bytree=0.0, gamma=1, learning_rate=0.6000000000000001, max_depth=301, min_child_weight=35, n_estimators=251, reg_alpha=21, reg_lambda=4\n"
     ]
    },
    {
     "name": "stderr",
     "output_type": "stream",
     "text": [
      "c:\\Users\\Saurav\\anaconda3\\Lib\\site-packages\\xgboost\\data.py:440: FutureWarning: is_sparse is deprecated and will be removed in a future version. Check `isinstance(dtype, pd.SparseDtype)` instead.\n",
      "  if is_sparse(data):\n"
     ]
    },
    {
     "name": "stdout",
     "output_type": "stream",
     "text": [
      "[CV 7/10; 9/10] END colsample_bytree=0.0, gamma=1, learning_rate=0.6000000000000001, max_depth=301, min_child_weight=35, n_estimators=251, reg_alpha=21, reg_lambda=4;, score=0.210 total time=   5.1s\n",
      "[CV 8/10; 9/10] START colsample_bytree=0.0, gamma=1, learning_rate=0.6000000000000001, max_depth=301, min_child_weight=35, n_estimators=251, reg_alpha=21, reg_lambda=4\n"
     ]
    },
    {
     "name": "stderr",
     "output_type": "stream",
     "text": [
      "c:\\Users\\Saurav\\anaconda3\\Lib\\site-packages\\xgboost\\data.py:440: FutureWarning: is_sparse is deprecated and will be removed in a future version. Check `isinstance(dtype, pd.SparseDtype)` instead.\n",
      "  if is_sparse(data):\n"
     ]
    },
    {
     "name": "stdout",
     "output_type": "stream",
     "text": [
      "[CV 8/10; 9/10] END colsample_bytree=0.0, gamma=1, learning_rate=0.6000000000000001, max_depth=301, min_child_weight=35, n_estimators=251, reg_alpha=21, reg_lambda=4;, score=0.205 total time=   5.1s\n",
      "[CV 9/10; 9/10] START colsample_bytree=0.0, gamma=1, learning_rate=0.6000000000000001, max_depth=301, min_child_weight=35, n_estimators=251, reg_alpha=21, reg_lambda=4\n"
     ]
    },
    {
     "name": "stderr",
     "output_type": "stream",
     "text": [
      "c:\\Users\\Saurav\\anaconda3\\Lib\\site-packages\\xgboost\\data.py:440: FutureWarning: is_sparse is deprecated and will be removed in a future version. Check `isinstance(dtype, pd.SparseDtype)` instead.\n",
      "  if is_sparse(data):\n"
     ]
    },
    {
     "name": "stdout",
     "output_type": "stream",
     "text": [
      "[CV 9/10; 9/10] END colsample_bytree=0.0, gamma=1, learning_rate=0.6000000000000001, max_depth=301, min_child_weight=35, n_estimators=251, reg_alpha=21, reg_lambda=4;, score=0.226 total time=   5.1s\n",
      "[CV 10/10; 9/10] START colsample_bytree=0.0, gamma=1, learning_rate=0.6000000000000001, max_depth=301, min_child_weight=35, n_estimators=251, reg_alpha=21, reg_lambda=4\n"
     ]
    },
    {
     "name": "stderr",
     "output_type": "stream",
     "text": [
      "c:\\Users\\Saurav\\anaconda3\\Lib\\site-packages\\xgboost\\data.py:440: FutureWarning: is_sparse is deprecated and will be removed in a future version. Check `isinstance(dtype, pd.SparseDtype)` instead.\n",
      "  if is_sparse(data):\n"
     ]
    },
    {
     "name": "stdout",
     "output_type": "stream",
     "text": [
      "[CV 10/10; 9/10] END colsample_bytree=0.0, gamma=1, learning_rate=0.6000000000000001, max_depth=301, min_child_weight=35, n_estimators=251, reg_alpha=21, reg_lambda=4;, score=0.195 total time=   5.1s\n",
      "[CV 1/10; 10/10] START colsample_bytree=0.8, gamma=1, learning_rate=0.30000000000000004, max_depth=101, min_child_weight=35, n_estimators=301, reg_alpha=361, reg_lambda=2\n"
     ]
    },
    {
     "name": "stderr",
     "output_type": "stream",
     "text": [
      "c:\\Users\\Saurav\\anaconda3\\Lib\\site-packages\\xgboost\\data.py:440: FutureWarning: is_sparse is deprecated and will be removed in a future version. Check `isinstance(dtype, pd.SparseDtype)` instead.\n",
      "  if is_sparse(data):\n"
     ]
    },
    {
     "name": "stdout",
     "output_type": "stream",
     "text": [
      "[CV 1/10; 10/10] END colsample_bytree=0.8, gamma=1, learning_rate=0.30000000000000004, max_depth=101, min_child_weight=35, n_estimators=301, reg_alpha=361, reg_lambda=2;, score=0.204 total time=  20.7s\n",
      "[CV 2/10; 10/10] START colsample_bytree=0.8, gamma=1, learning_rate=0.30000000000000004, max_depth=101, min_child_weight=35, n_estimators=301, reg_alpha=361, reg_lambda=2\n"
     ]
    },
    {
     "name": "stderr",
     "output_type": "stream",
     "text": [
      "c:\\Users\\Saurav\\anaconda3\\Lib\\site-packages\\xgboost\\data.py:440: FutureWarning: is_sparse is deprecated and will be removed in a future version. Check `isinstance(dtype, pd.SparseDtype)` instead.\n",
      "  if is_sparse(data):\n"
     ]
    },
    {
     "name": "stdout",
     "output_type": "stream",
     "text": [
      "[CV 2/10; 10/10] END colsample_bytree=0.8, gamma=1, learning_rate=0.30000000000000004, max_depth=101, min_child_weight=35, n_estimators=301, reg_alpha=361, reg_lambda=2;, score=0.204 total time=  20.7s\n",
      "[CV 3/10; 10/10] START colsample_bytree=0.8, gamma=1, learning_rate=0.30000000000000004, max_depth=101, min_child_weight=35, n_estimators=301, reg_alpha=361, reg_lambda=2\n"
     ]
    },
    {
     "name": "stderr",
     "output_type": "stream",
     "text": [
      "c:\\Users\\Saurav\\anaconda3\\Lib\\site-packages\\xgboost\\data.py:440: FutureWarning: is_sparse is deprecated and will be removed in a future version. Check `isinstance(dtype, pd.SparseDtype)` instead.\n",
      "  if is_sparse(data):\n"
     ]
    },
    {
     "name": "stdout",
     "output_type": "stream",
     "text": [
      "[CV 3/10; 10/10] END colsample_bytree=0.8, gamma=1, learning_rate=0.30000000000000004, max_depth=101, min_child_weight=35, n_estimators=301, reg_alpha=361, reg_lambda=2;, score=0.200 total time=  20.5s\n",
      "[CV 4/10; 10/10] START colsample_bytree=0.8, gamma=1, learning_rate=0.30000000000000004, max_depth=101, min_child_weight=35, n_estimators=301, reg_alpha=361, reg_lambda=2\n"
     ]
    },
    {
     "name": "stderr",
     "output_type": "stream",
     "text": [
      "c:\\Users\\Saurav\\anaconda3\\Lib\\site-packages\\xgboost\\data.py:440: FutureWarning: is_sparse is deprecated and will be removed in a future version. Check `isinstance(dtype, pd.SparseDtype)` instead.\n",
      "  if is_sparse(data):\n"
     ]
    },
    {
     "name": "stdout",
     "output_type": "stream",
     "text": [
      "[CV 4/10; 10/10] END colsample_bytree=0.8, gamma=1, learning_rate=0.30000000000000004, max_depth=101, min_child_weight=35, n_estimators=301, reg_alpha=361, reg_lambda=2;, score=0.200 total time=  20.1s\n",
      "[CV 5/10; 10/10] START colsample_bytree=0.8, gamma=1, learning_rate=0.30000000000000004, max_depth=101, min_child_weight=35, n_estimators=301, reg_alpha=361, reg_lambda=2\n"
     ]
    },
    {
     "name": "stderr",
     "output_type": "stream",
     "text": [
      "c:\\Users\\Saurav\\anaconda3\\Lib\\site-packages\\xgboost\\data.py:440: FutureWarning: is_sparse is deprecated and will be removed in a future version. Check `isinstance(dtype, pd.SparseDtype)` instead.\n",
      "  if is_sparse(data):\n"
     ]
    },
    {
     "name": "stdout",
     "output_type": "stream",
     "text": [
      "[CV 5/10; 10/10] END colsample_bytree=0.8, gamma=1, learning_rate=0.30000000000000004, max_depth=101, min_child_weight=35, n_estimators=301, reg_alpha=361, reg_lambda=2;, score=0.200 total time=  20.0s\n",
      "[CV 6/10; 10/10] START colsample_bytree=0.8, gamma=1, learning_rate=0.30000000000000004, max_depth=101, min_child_weight=35, n_estimators=301, reg_alpha=361, reg_lambda=2\n"
     ]
    },
    {
     "name": "stderr",
     "output_type": "stream",
     "text": [
      "c:\\Users\\Saurav\\anaconda3\\Lib\\site-packages\\xgboost\\data.py:440: FutureWarning: is_sparse is deprecated and will be removed in a future version. Check `isinstance(dtype, pd.SparseDtype)` instead.\n",
      "  if is_sparse(data):\n"
     ]
    },
    {
     "name": "stdout",
     "output_type": "stream",
     "text": [
      "[CV 6/10; 10/10] END colsample_bytree=0.8, gamma=1, learning_rate=0.30000000000000004, max_depth=101, min_child_weight=35, n_estimators=301, reg_alpha=361, reg_lambda=2;, score=0.205 total time=  20.6s\n",
      "[CV 7/10; 10/10] START colsample_bytree=0.8, gamma=1, learning_rate=0.30000000000000004, max_depth=101, min_child_weight=35, n_estimators=301, reg_alpha=361, reg_lambda=2\n"
     ]
    },
    {
     "name": "stderr",
     "output_type": "stream",
     "text": [
      "c:\\Users\\Saurav\\anaconda3\\Lib\\site-packages\\xgboost\\data.py:440: FutureWarning: is_sparse is deprecated and will be removed in a future version. Check `isinstance(dtype, pd.SparseDtype)` instead.\n",
      "  if is_sparse(data):\n"
     ]
    },
    {
     "name": "stdout",
     "output_type": "stream",
     "text": [
      "[CV 7/10; 10/10] END colsample_bytree=0.8, gamma=1, learning_rate=0.30000000000000004, max_depth=101, min_child_weight=35, n_estimators=301, reg_alpha=361, reg_lambda=2;, score=0.205 total time=  20.2s\n",
      "[CV 8/10; 10/10] START colsample_bytree=0.8, gamma=1, learning_rate=0.30000000000000004, max_depth=101, min_child_weight=35, n_estimators=301, reg_alpha=361, reg_lambda=2\n"
     ]
    },
    {
     "name": "stderr",
     "output_type": "stream",
     "text": [
      "c:\\Users\\Saurav\\anaconda3\\Lib\\site-packages\\xgboost\\data.py:440: FutureWarning: is_sparse is deprecated and will be removed in a future version. Check `isinstance(dtype, pd.SparseDtype)` instead.\n",
      "  if is_sparse(data):\n"
     ]
    },
    {
     "name": "stdout",
     "output_type": "stream",
     "text": [
      "[CV 8/10; 10/10] END colsample_bytree=0.8, gamma=1, learning_rate=0.30000000000000004, max_depth=101, min_child_weight=35, n_estimators=301, reg_alpha=361, reg_lambda=2;, score=0.205 total time=  20.6s\n",
      "[CV 9/10; 10/10] START colsample_bytree=0.8, gamma=1, learning_rate=0.30000000000000004, max_depth=101, min_child_weight=35, n_estimators=301, reg_alpha=361, reg_lambda=2\n"
     ]
    },
    {
     "name": "stderr",
     "output_type": "stream",
     "text": [
      "c:\\Users\\Saurav\\anaconda3\\Lib\\site-packages\\xgboost\\data.py:440: FutureWarning: is_sparse is deprecated and will be removed in a future version. Check `isinstance(dtype, pd.SparseDtype)` instead.\n",
      "  if is_sparse(data):\n"
     ]
    },
    {
     "name": "stdout",
     "output_type": "stream",
     "text": [
      "[CV 9/10; 10/10] END colsample_bytree=0.8, gamma=1, learning_rate=0.30000000000000004, max_depth=101, min_child_weight=35, n_estimators=301, reg_alpha=361, reg_lambda=2;, score=0.205 total time=  20.4s\n",
      "[CV 10/10; 10/10] START colsample_bytree=0.8, gamma=1, learning_rate=0.30000000000000004, max_depth=101, min_child_weight=35, n_estimators=301, reg_alpha=361, reg_lambda=2\n"
     ]
    },
    {
     "name": "stderr",
     "output_type": "stream",
     "text": [
      "c:\\Users\\Saurav\\anaconda3\\Lib\\site-packages\\xgboost\\data.py:440: FutureWarning: is_sparse is deprecated and will be removed in a future version. Check `isinstance(dtype, pd.SparseDtype)` instead.\n",
      "  if is_sparse(data):\n"
     ]
    },
    {
     "name": "stdout",
     "output_type": "stream",
     "text": [
      "[CV 10/10; 10/10] END colsample_bytree=0.8, gamma=1, learning_rate=0.30000000000000004, max_depth=101, min_child_weight=35, n_estimators=301, reg_alpha=361, reg_lambda=2;, score=0.205 total time=  22.3s\n"
     ]
    },
    {
     "name": "stderr",
     "output_type": "stream",
     "text": [
      "c:\\Users\\Saurav\\anaconda3\\Lib\\site-packages\\xgboost\\data.py:440: FutureWarning: is_sparse is deprecated and will be removed in a future version. Check `isinstance(dtype, pd.SparseDtype)` instead.\n",
      "  if is_sparse(data):\n"
     ]
    },
    {
     "name": "stdout",
     "output_type": "stream",
     "text": [
      "Fitting 10 folds for each of 10 candidates, totalling 100 fits\n",
      "[CV 1/10; 1/10] START colsample_bytree=0.5, gamma=7, learning_rate=1.1, max_depth=1, min_child_weight=0, n_estimators=201, reg_alpha=81, reg_lambda=1\n"
     ]
    },
    {
     "name": "stderr",
     "output_type": "stream",
     "text": [
      "c:\\Users\\Saurav\\anaconda3\\Lib\\site-packages\\xgboost\\data.py:440: FutureWarning: is_sparse is deprecated and will be removed in a future version. Check `isinstance(dtype, pd.SparseDtype)` instead.\n",
      "  if is_sparse(data):\n"
     ]
    },
    {
     "name": "stdout",
     "output_type": "stream",
     "text": [
      "[CV 1/10; 1/10] END colsample_bytree=0.5, gamma=7, learning_rate=1.1, max_depth=1, min_child_weight=0, n_estimators=201, reg_alpha=81, reg_lambda=1;, score=0.622 total time=  11.8s\n",
      "[CV 2/10; 1/10] START colsample_bytree=0.5, gamma=7, learning_rate=1.1, max_depth=1, min_child_weight=0, n_estimators=201, reg_alpha=81, reg_lambda=1\n"
     ]
    },
    {
     "name": "stderr",
     "output_type": "stream",
     "text": [
      "c:\\Users\\Saurav\\anaconda3\\Lib\\site-packages\\xgboost\\data.py:440: FutureWarning: is_sparse is deprecated and will be removed in a future version. Check `isinstance(dtype, pd.SparseDtype)` instead.\n",
      "  if is_sparse(data):\n"
     ]
    },
    {
     "name": "stdout",
     "output_type": "stream",
     "text": [
      "[CV 2/10; 1/10] END colsample_bytree=0.5, gamma=7, learning_rate=1.1, max_depth=1, min_child_weight=0, n_estimators=201, reg_alpha=81, reg_lambda=1;, score=0.566 total time=  10.5s\n",
      "[CV 3/10; 1/10] START colsample_bytree=0.5, gamma=7, learning_rate=1.1, max_depth=1, min_child_weight=0, n_estimators=201, reg_alpha=81, reg_lambda=1\n"
     ]
    },
    {
     "name": "stderr",
     "output_type": "stream",
     "text": [
      "c:\\Users\\Saurav\\anaconda3\\Lib\\site-packages\\xgboost\\data.py:440: FutureWarning: is_sparse is deprecated and will be removed in a future version. Check `isinstance(dtype, pd.SparseDtype)` instead.\n",
      "  if is_sparse(data):\n"
     ]
    },
    {
     "name": "stdout",
     "output_type": "stream",
     "text": [
      "[CV 3/10; 1/10] END colsample_bytree=0.5, gamma=7, learning_rate=1.1, max_depth=1, min_child_weight=0, n_estimators=201, reg_alpha=81, reg_lambda=1;, score=0.626 total time=  10.7s\n",
      "[CV 4/10; 1/10] START colsample_bytree=0.5, gamma=7, learning_rate=1.1, max_depth=1, min_child_weight=0, n_estimators=201, reg_alpha=81, reg_lambda=1\n"
     ]
    },
    {
     "name": "stderr",
     "output_type": "stream",
     "text": [
      "c:\\Users\\Saurav\\anaconda3\\Lib\\site-packages\\xgboost\\data.py:440: FutureWarning: is_sparse is deprecated and will be removed in a future version. Check `isinstance(dtype, pd.SparseDtype)` instead.\n",
      "  if is_sparse(data):\n"
     ]
    },
    {
     "name": "stdout",
     "output_type": "stream",
     "text": [
      "[CV 4/10; 1/10] END colsample_bytree=0.5, gamma=7, learning_rate=1.1, max_depth=1, min_child_weight=0, n_estimators=201, reg_alpha=81, reg_lambda=1;, score=0.626 total time=  10.9s\n",
      "[CV 5/10; 1/10] START colsample_bytree=0.5, gamma=7, learning_rate=1.1, max_depth=1, min_child_weight=0, n_estimators=201, reg_alpha=81, reg_lambda=1\n"
     ]
    },
    {
     "name": "stderr",
     "output_type": "stream",
     "text": [
      "c:\\Users\\Saurav\\anaconda3\\Lib\\site-packages\\xgboost\\data.py:440: FutureWarning: is_sparse is deprecated and will be removed in a future version. Check `isinstance(dtype, pd.SparseDtype)` instead.\n",
      "  if is_sparse(data):\n"
     ]
    },
    {
     "name": "stdout",
     "output_type": "stream",
     "text": [
      "[CV 5/10; 1/10] END colsample_bytree=0.5, gamma=7, learning_rate=1.1, max_depth=1, min_child_weight=0, n_estimators=201, reg_alpha=81, reg_lambda=1;, score=0.626 total time=  10.2s\n",
      "[CV 6/10; 1/10] START colsample_bytree=0.5, gamma=7, learning_rate=1.1, max_depth=1, min_child_weight=0, n_estimators=201, reg_alpha=81, reg_lambda=1\n"
     ]
    },
    {
     "name": "stderr",
     "output_type": "stream",
     "text": [
      "c:\\Users\\Saurav\\anaconda3\\Lib\\site-packages\\xgboost\\data.py:440: FutureWarning: is_sparse is deprecated and will be removed in a future version. Check `isinstance(dtype, pd.SparseDtype)` instead.\n",
      "  if is_sparse(data):\n"
     ]
    },
    {
     "name": "stdout",
     "output_type": "stream",
     "text": [
      "[CV 6/10; 1/10] END colsample_bytree=0.5, gamma=7, learning_rate=1.1, max_depth=1, min_child_weight=0, n_estimators=201, reg_alpha=81, reg_lambda=1;, score=0.626 total time=  11.1s\n",
      "[CV 7/10; 1/10] START colsample_bytree=0.5, gamma=7, learning_rate=1.1, max_depth=1, min_child_weight=0, n_estimators=201, reg_alpha=81, reg_lambda=1\n"
     ]
    },
    {
     "name": "stderr",
     "output_type": "stream",
     "text": [
      "c:\\Users\\Saurav\\anaconda3\\Lib\\site-packages\\xgboost\\data.py:440: FutureWarning: is_sparse is deprecated and will be removed in a future version. Check `isinstance(dtype, pd.SparseDtype)` instead.\n",
      "  if is_sparse(data):\n"
     ]
    },
    {
     "name": "stdout",
     "output_type": "stream",
     "text": [
      "[CV 7/10; 1/10] END colsample_bytree=0.5, gamma=7, learning_rate=1.1, max_depth=1, min_child_weight=0, n_estimators=201, reg_alpha=81, reg_lambda=1;, score=0.662 total time=  10.8s\n",
      "[CV 8/10; 1/10] START colsample_bytree=0.5, gamma=7, learning_rate=1.1, max_depth=1, min_child_weight=0, n_estimators=201, reg_alpha=81, reg_lambda=1\n"
     ]
    },
    {
     "name": "stderr",
     "output_type": "stream",
     "text": [
      "c:\\Users\\Saurav\\anaconda3\\Lib\\site-packages\\xgboost\\data.py:440: FutureWarning: is_sparse is deprecated and will be removed in a future version. Check `isinstance(dtype, pd.SparseDtype)` instead.\n",
      "  if is_sparse(data):\n"
     ]
    },
    {
     "name": "stdout",
     "output_type": "stream",
     "text": [
      "[CV 8/10; 1/10] END colsample_bytree=0.5, gamma=7, learning_rate=1.1, max_depth=1, min_child_weight=0, n_estimators=201, reg_alpha=81, reg_lambda=1;, score=0.662 total time=  10.4s\n",
      "[CV 9/10; 1/10] START colsample_bytree=0.5, gamma=7, learning_rate=1.1, max_depth=1, min_child_weight=0, n_estimators=201, reg_alpha=81, reg_lambda=1\n"
     ]
    },
    {
     "name": "stderr",
     "output_type": "stream",
     "text": [
      "c:\\Users\\Saurav\\anaconda3\\Lib\\site-packages\\xgboost\\data.py:440: FutureWarning: is_sparse is deprecated and will be removed in a future version. Check `isinstance(dtype, pd.SparseDtype)` instead.\n",
      "  if is_sparse(data):\n"
     ]
    },
    {
     "name": "stdout",
     "output_type": "stream",
     "text": [
      "[CV 9/10; 1/10] END colsample_bytree=0.5, gamma=7, learning_rate=1.1, max_depth=1, min_child_weight=0, n_estimators=201, reg_alpha=81, reg_lambda=1;, score=0.636 total time=  10.5s\n",
      "[CV 10/10; 1/10] START colsample_bytree=0.5, gamma=7, learning_rate=1.1, max_depth=1, min_child_weight=0, n_estimators=201, reg_alpha=81, reg_lambda=1\n"
     ]
    },
    {
     "name": "stderr",
     "output_type": "stream",
     "text": [
      "c:\\Users\\Saurav\\anaconda3\\Lib\\site-packages\\xgboost\\data.py:440: FutureWarning: is_sparse is deprecated and will be removed in a future version. Check `isinstance(dtype, pd.SparseDtype)` instead.\n",
      "  if is_sparse(data):\n"
     ]
    },
    {
     "name": "stdout",
     "output_type": "stream",
     "text": [
      "[CV 10/10; 1/10] END colsample_bytree=0.5, gamma=7, learning_rate=1.1, max_depth=1, min_child_weight=0, n_estimators=201, reg_alpha=81, reg_lambda=1;, score=0.667 total time=  10.7s\n",
      "[CV 1/10; 2/10] START colsample_bytree=0.9, gamma=1, learning_rate=0.7000000000000001, max_depth=1, min_child_weight=15, n_estimators=301, reg_alpha=81, reg_lambda=1\n"
     ]
    },
    {
     "name": "stderr",
     "output_type": "stream",
     "text": [
      "c:\\Users\\Saurav\\anaconda3\\Lib\\site-packages\\xgboost\\data.py:440: FutureWarning: is_sparse is deprecated and will be removed in a future version. Check `isinstance(dtype, pd.SparseDtype)` instead.\n",
      "  if is_sparse(data):\n"
     ]
    },
    {
     "name": "stdout",
     "output_type": "stream",
     "text": [
      "[CV 1/10; 2/10] END colsample_bytree=0.9, gamma=1, learning_rate=0.7000000000000001, max_depth=1, min_child_weight=15, n_estimators=301, reg_alpha=81, reg_lambda=1;, score=0.622 total time=  24.7s\n",
      "[CV 2/10; 2/10] START colsample_bytree=0.9, gamma=1, learning_rate=0.7000000000000001, max_depth=1, min_child_weight=15, n_estimators=301, reg_alpha=81, reg_lambda=1\n"
     ]
    },
    {
     "name": "stderr",
     "output_type": "stream",
     "text": [
      "c:\\Users\\Saurav\\anaconda3\\Lib\\site-packages\\xgboost\\data.py:440: FutureWarning: is_sparse is deprecated and will be removed in a future version. Check `isinstance(dtype, pd.SparseDtype)` instead.\n",
      "  if is_sparse(data):\n"
     ]
    },
    {
     "name": "stdout",
     "output_type": "stream",
     "text": [
      "[CV 2/10; 2/10] END colsample_bytree=0.9, gamma=1, learning_rate=0.7000000000000001, max_depth=1, min_child_weight=15, n_estimators=301, reg_alpha=81, reg_lambda=1;, score=0.592 total time=  22.5s\n",
      "[CV 3/10; 2/10] START colsample_bytree=0.9, gamma=1, learning_rate=0.7000000000000001, max_depth=1, min_child_weight=15, n_estimators=301, reg_alpha=81, reg_lambda=1\n"
     ]
    },
    {
     "name": "stderr",
     "output_type": "stream",
     "text": [
      "c:\\Users\\Saurav\\anaconda3\\Lib\\site-packages\\xgboost\\data.py:440: FutureWarning: is_sparse is deprecated and will be removed in a future version. Check `isinstance(dtype, pd.SparseDtype)` instead.\n",
      "  if is_sparse(data):\n"
     ]
    },
    {
     "name": "stdout",
     "output_type": "stream",
     "text": [
      "[CV 3/10; 2/10] END colsample_bytree=0.9, gamma=1, learning_rate=0.7000000000000001, max_depth=1, min_child_weight=15, n_estimators=301, reg_alpha=81, reg_lambda=1;, score=0.651 total time=  25.8s\n",
      "[CV 4/10; 2/10] START colsample_bytree=0.9, gamma=1, learning_rate=0.7000000000000001, max_depth=1, min_child_weight=15, n_estimators=301, reg_alpha=81, reg_lambda=1\n"
     ]
    },
    {
     "name": "stderr",
     "output_type": "stream",
     "text": [
      "c:\\Users\\Saurav\\anaconda3\\Lib\\site-packages\\xgboost\\data.py:440: FutureWarning: is_sparse is deprecated and will be removed in a future version. Check `isinstance(dtype, pd.SparseDtype)` instead.\n",
      "  if is_sparse(data):\n"
     ]
    },
    {
     "name": "stdout",
     "output_type": "stream",
     "text": [
      "[CV 4/10; 2/10] END colsample_bytree=0.9, gamma=1, learning_rate=0.7000000000000001, max_depth=1, min_child_weight=15, n_estimators=301, reg_alpha=81, reg_lambda=1;, score=0.646 total time=  31.1s\n",
      "[CV 5/10; 2/10] START colsample_bytree=0.9, gamma=1, learning_rate=0.7000000000000001, max_depth=1, min_child_weight=15, n_estimators=301, reg_alpha=81, reg_lambda=1\n"
     ]
    },
    {
     "name": "stderr",
     "output_type": "stream",
     "text": [
      "c:\\Users\\Saurav\\anaconda3\\Lib\\site-packages\\xgboost\\data.py:440: FutureWarning: is_sparse is deprecated and will be removed in a future version. Check `isinstance(dtype, pd.SparseDtype)` instead.\n",
      "  if is_sparse(data):\n"
     ]
    },
    {
     "name": "stdout",
     "output_type": "stream",
     "text": [
      "[CV 5/10; 2/10] END colsample_bytree=0.9, gamma=1, learning_rate=0.7000000000000001, max_depth=1, min_child_weight=15, n_estimators=301, reg_alpha=81, reg_lambda=1;, score=0.641 total time=  30.7s\n",
      "[CV 6/10; 2/10] START colsample_bytree=0.9, gamma=1, learning_rate=0.7000000000000001, max_depth=1, min_child_weight=15, n_estimators=301, reg_alpha=81, reg_lambda=1\n"
     ]
    },
    {
     "name": "stderr",
     "output_type": "stream",
     "text": [
      "c:\\Users\\Saurav\\anaconda3\\Lib\\site-packages\\xgboost\\data.py:440: FutureWarning: is_sparse is deprecated and will be removed in a future version. Check `isinstance(dtype, pd.SparseDtype)` instead.\n",
      "  if is_sparse(data):\n"
     ]
    },
    {
     "name": "stdout",
     "output_type": "stream",
     "text": [
      "[CV 6/10; 2/10] END colsample_bytree=0.9, gamma=1, learning_rate=0.7000000000000001, max_depth=1, min_child_weight=15, n_estimators=301, reg_alpha=81, reg_lambda=1;, score=0.631 total time=  24.1s\n",
      "[CV 7/10; 2/10] START colsample_bytree=0.9, gamma=1, learning_rate=0.7000000000000001, max_depth=1, min_child_weight=15, n_estimators=301, reg_alpha=81, reg_lambda=1\n"
     ]
    },
    {
     "name": "stderr",
     "output_type": "stream",
     "text": [
      "c:\\Users\\Saurav\\anaconda3\\Lib\\site-packages\\xgboost\\data.py:440: FutureWarning: is_sparse is deprecated and will be removed in a future version. Check `isinstance(dtype, pd.SparseDtype)` instead.\n",
      "  if is_sparse(data):\n"
     ]
    },
    {
     "name": "stdout",
     "output_type": "stream",
     "text": [
      "[CV 7/10; 2/10] END colsample_bytree=0.9, gamma=1, learning_rate=0.7000000000000001, max_depth=1, min_child_weight=15, n_estimators=301, reg_alpha=81, reg_lambda=1;, score=0.667 total time=  21.7s\n",
      "[CV 8/10; 2/10] START colsample_bytree=0.9, gamma=1, learning_rate=0.7000000000000001, max_depth=1, min_child_weight=15, n_estimators=301, reg_alpha=81, reg_lambda=1\n"
     ]
    },
    {
     "name": "stderr",
     "output_type": "stream",
     "text": [
      "c:\\Users\\Saurav\\anaconda3\\Lib\\site-packages\\xgboost\\data.py:440: FutureWarning: is_sparse is deprecated and will be removed in a future version. Check `isinstance(dtype, pd.SparseDtype)` instead.\n",
      "  if is_sparse(data):\n"
     ]
    },
    {
     "name": "stdout",
     "output_type": "stream",
     "text": [
      "[CV 8/10; 2/10] END colsample_bytree=0.9, gamma=1, learning_rate=0.7000000000000001, max_depth=1, min_child_weight=15, n_estimators=301, reg_alpha=81, reg_lambda=1;, score=0.662 total time=  20.9s\n",
      "[CV 9/10; 2/10] START colsample_bytree=0.9, gamma=1, learning_rate=0.7000000000000001, max_depth=1, min_child_weight=15, n_estimators=301, reg_alpha=81, reg_lambda=1\n"
     ]
    },
    {
     "name": "stderr",
     "output_type": "stream",
     "text": [
      "c:\\Users\\Saurav\\anaconda3\\Lib\\site-packages\\xgboost\\data.py:440: FutureWarning: is_sparse is deprecated and will be removed in a future version. Check `isinstance(dtype, pd.SparseDtype)` instead.\n",
      "  if is_sparse(data):\n"
     ]
    },
    {
     "name": "stdout",
     "output_type": "stream",
     "text": [
      "[CV 9/10; 2/10] END colsample_bytree=0.9, gamma=1, learning_rate=0.7000000000000001, max_depth=1, min_child_weight=15, n_estimators=301, reg_alpha=81, reg_lambda=1;, score=0.656 total time=  20.5s\n",
      "[CV 10/10; 2/10] START colsample_bytree=0.9, gamma=1, learning_rate=0.7000000000000001, max_depth=1, min_child_weight=15, n_estimators=301, reg_alpha=81, reg_lambda=1\n"
     ]
    },
    {
     "name": "stderr",
     "output_type": "stream",
     "text": [
      "c:\\Users\\Saurav\\anaconda3\\Lib\\site-packages\\xgboost\\data.py:440: FutureWarning: is_sparse is deprecated and will be removed in a future version. Check `isinstance(dtype, pd.SparseDtype)` instead.\n",
      "  if is_sparse(data):\n"
     ]
    },
    {
     "name": "stdout",
     "output_type": "stream",
     "text": [
      "[CV 10/10; 2/10] END colsample_bytree=0.9, gamma=1, learning_rate=0.7000000000000001, max_depth=1, min_child_weight=15, n_estimators=301, reg_alpha=81, reg_lambda=1;, score=0.662 total time=  20.4s\n",
      "[CV 1/10; 3/10] START colsample_bytree=0.4, gamma=4, learning_rate=0.2, max_depth=251, min_child_weight=15, n_estimators=51, reg_alpha=161, reg_lambda=1\n"
     ]
    },
    {
     "name": "stderr",
     "output_type": "stream",
     "text": [
      "c:\\Users\\Saurav\\anaconda3\\Lib\\site-packages\\xgboost\\data.py:440: FutureWarning: is_sparse is deprecated and will be removed in a future version. Check `isinstance(dtype, pd.SparseDtype)` instead.\n",
      "  if is_sparse(data):\n"
     ]
    },
    {
     "name": "stdout",
     "output_type": "stream",
     "text": [
      "[CV 1/10; 3/10] END colsample_bytree=0.4, gamma=4, learning_rate=0.2, max_depth=251, min_child_weight=15, n_estimators=51, reg_alpha=161, reg_lambda=1;, score=0.301 total time=   2.2s\n",
      "[CV 2/10; 3/10] START colsample_bytree=0.4, gamma=4, learning_rate=0.2, max_depth=251, min_child_weight=15, n_estimators=51, reg_alpha=161, reg_lambda=1\n"
     ]
    },
    {
     "name": "stderr",
     "output_type": "stream",
     "text": [
      "c:\\Users\\Saurav\\anaconda3\\Lib\\site-packages\\xgboost\\data.py:440: FutureWarning: is_sparse is deprecated and will be removed in a future version. Check `isinstance(dtype, pd.SparseDtype)` instead.\n",
      "  if is_sparse(data):\n"
     ]
    },
    {
     "name": "stdout",
     "output_type": "stream",
     "text": [
      "[CV 2/10; 3/10] END colsample_bytree=0.4, gamma=4, learning_rate=0.2, max_depth=251, min_child_weight=15, n_estimators=51, reg_alpha=161, reg_lambda=1;, score=0.321 total time=   2.2s\n",
      "[CV 3/10; 3/10] START colsample_bytree=0.4, gamma=4, learning_rate=0.2, max_depth=251, min_child_weight=15, n_estimators=51, reg_alpha=161, reg_lambda=1\n"
     ]
    },
    {
     "name": "stderr",
     "output_type": "stream",
     "text": [
      "c:\\Users\\Saurav\\anaconda3\\Lib\\site-packages\\xgboost\\data.py:440: FutureWarning: is_sparse is deprecated and will be removed in a future version. Check `isinstance(dtype, pd.SparseDtype)` instead.\n",
      "  if is_sparse(data):\n"
     ]
    },
    {
     "name": "stdout",
     "output_type": "stream",
     "text": [
      "[CV 3/10; 3/10] END colsample_bytree=0.4, gamma=4, learning_rate=0.2, max_depth=251, min_child_weight=15, n_estimators=51, reg_alpha=161, reg_lambda=1;, score=0.297 total time=   2.2s\n",
      "[CV 4/10; 3/10] START colsample_bytree=0.4, gamma=4, learning_rate=0.2, max_depth=251, min_child_weight=15, n_estimators=51, reg_alpha=161, reg_lambda=1\n"
     ]
    },
    {
     "name": "stderr",
     "output_type": "stream",
     "text": [
      "c:\\Users\\Saurav\\anaconda3\\Lib\\site-packages\\xgboost\\data.py:440: FutureWarning: is_sparse is deprecated and will be removed in a future version. Check `isinstance(dtype, pd.SparseDtype)` instead.\n",
      "  if is_sparse(data):\n"
     ]
    },
    {
     "name": "stdout",
     "output_type": "stream",
     "text": [
      "[CV 4/10; 3/10] END colsample_bytree=0.4, gamma=4, learning_rate=0.2, max_depth=251, min_child_weight=15, n_estimators=51, reg_alpha=161, reg_lambda=1;, score=0.323 total time=   2.4s\n",
      "[CV 5/10; 3/10] START colsample_bytree=0.4, gamma=4, learning_rate=0.2, max_depth=251, min_child_weight=15, n_estimators=51, reg_alpha=161, reg_lambda=1\n"
     ]
    },
    {
     "name": "stderr",
     "output_type": "stream",
     "text": [
      "c:\\Users\\Saurav\\anaconda3\\Lib\\site-packages\\xgboost\\data.py:440: FutureWarning: is_sparse is deprecated and will be removed in a future version. Check `isinstance(dtype, pd.SparseDtype)` instead.\n",
      "  if is_sparse(data):\n"
     ]
    },
    {
     "name": "stdout",
     "output_type": "stream",
     "text": [
      "[CV 5/10; 3/10] END colsample_bytree=0.4, gamma=4, learning_rate=0.2, max_depth=251, min_child_weight=15, n_estimators=51, reg_alpha=161, reg_lambda=1;, score=0.323 total time=   2.1s\n",
      "[CV 6/10; 3/10] START colsample_bytree=0.4, gamma=4, learning_rate=0.2, max_depth=251, min_child_weight=15, n_estimators=51, reg_alpha=161, reg_lambda=1\n"
     ]
    },
    {
     "name": "stderr",
     "output_type": "stream",
     "text": [
      "c:\\Users\\Saurav\\anaconda3\\Lib\\site-packages\\xgboost\\data.py:440: FutureWarning: is_sparse is deprecated and will be removed in a future version. Check `isinstance(dtype, pd.SparseDtype)` instead.\n",
      "  if is_sparse(data):\n"
     ]
    },
    {
     "name": "stdout",
     "output_type": "stream",
     "text": [
      "[CV 6/10; 3/10] END colsample_bytree=0.4, gamma=4, learning_rate=0.2, max_depth=251, min_child_weight=15, n_estimators=51, reg_alpha=161, reg_lambda=1;, score=0.333 total time=   2.2s\n",
      "[CV 7/10; 3/10] START colsample_bytree=0.4, gamma=4, learning_rate=0.2, max_depth=251, min_child_weight=15, n_estimators=51, reg_alpha=161, reg_lambda=1\n"
     ]
    },
    {
     "name": "stderr",
     "output_type": "stream",
     "text": [
      "c:\\Users\\Saurav\\anaconda3\\Lib\\site-packages\\xgboost\\data.py:440: FutureWarning: is_sparse is deprecated and will be removed in a future version. Check `isinstance(dtype, pd.SparseDtype)` instead.\n",
      "  if is_sparse(data):\n"
     ]
    },
    {
     "name": "stdout",
     "output_type": "stream",
     "text": [
      "[CV 7/10; 3/10] END colsample_bytree=0.4, gamma=4, learning_rate=0.2, max_depth=251, min_child_weight=15, n_estimators=51, reg_alpha=161, reg_lambda=1;, score=0.333 total time=   2.2s\n",
      "[CV 8/10; 3/10] START colsample_bytree=0.4, gamma=4, learning_rate=0.2, max_depth=251, min_child_weight=15, n_estimators=51, reg_alpha=161, reg_lambda=1\n"
     ]
    },
    {
     "name": "stderr",
     "output_type": "stream",
     "text": [
      "c:\\Users\\Saurav\\anaconda3\\Lib\\site-packages\\xgboost\\data.py:440: FutureWarning: is_sparse is deprecated and will be removed in a future version. Check `isinstance(dtype, pd.SparseDtype)` instead.\n",
      "  if is_sparse(data):\n"
     ]
    },
    {
     "name": "stdout",
     "output_type": "stream",
     "text": [
      "[CV 8/10; 3/10] END colsample_bytree=0.4, gamma=4, learning_rate=0.2, max_depth=251, min_child_weight=15, n_estimators=51, reg_alpha=161, reg_lambda=1;, score=0.349 total time=   2.2s\n",
      "[CV 9/10; 3/10] START colsample_bytree=0.4, gamma=4, learning_rate=0.2, max_depth=251, min_child_weight=15, n_estimators=51, reg_alpha=161, reg_lambda=1\n"
     ]
    },
    {
     "name": "stderr",
     "output_type": "stream",
     "text": [
      "c:\\Users\\Saurav\\anaconda3\\Lib\\site-packages\\xgboost\\data.py:440: FutureWarning: is_sparse is deprecated and will be removed in a future version. Check `isinstance(dtype, pd.SparseDtype)` instead.\n",
      "  if is_sparse(data):\n"
     ]
    },
    {
     "name": "stdout",
     "output_type": "stream",
     "text": [
      "[CV 9/10; 3/10] END colsample_bytree=0.4, gamma=4, learning_rate=0.2, max_depth=251, min_child_weight=15, n_estimators=51, reg_alpha=161, reg_lambda=1;, score=0.344 total time=   2.2s\n",
      "[CV 10/10; 3/10] START colsample_bytree=0.4, gamma=4, learning_rate=0.2, max_depth=251, min_child_weight=15, n_estimators=51, reg_alpha=161, reg_lambda=1\n"
     ]
    },
    {
     "name": "stderr",
     "output_type": "stream",
     "text": [
      "c:\\Users\\Saurav\\anaconda3\\Lib\\site-packages\\xgboost\\data.py:440: FutureWarning: is_sparse is deprecated and will be removed in a future version. Check `isinstance(dtype, pd.SparseDtype)` instead.\n",
      "  if is_sparse(data):\n"
     ]
    },
    {
     "name": "stdout",
     "output_type": "stream",
     "text": [
      "[CV 10/10; 3/10] END colsample_bytree=0.4, gamma=4, learning_rate=0.2, max_depth=251, min_child_weight=15, n_estimators=51, reg_alpha=161, reg_lambda=1;, score=0.328 total time=   2.3s\n",
      "[CV 1/10; 4/10] START colsample_bytree=0.2, gamma=1, learning_rate=0.9, max_depth=201, min_child_weight=0, n_estimators=1, reg_alpha=261, reg_lambda=1\n",
      "[CV 1/10; 4/10] END colsample_bytree=0.2, gamma=1, learning_rate=0.9, max_depth=201, min_child_weight=0, n_estimators=1, reg_alpha=261, reg_lambda=1;, score=0.204 total time=   0.0s\n",
      "[CV 2/10; 4/10] START colsample_bytree=0.2, gamma=1, learning_rate=0.9, max_depth=201, min_child_weight=0, n_estimators=1, reg_alpha=261, reg_lambda=1\n",
      "[CV 2/10; 4/10] END colsample_bytree=0.2, gamma=1, learning_rate=0.9, max_depth=201, min_child_weight=0, n_estimators=1, reg_alpha=261, reg_lambda=1;, score=0.204 total time=   0.0s\n",
      "[CV 3/10; 4/10] START colsample_bytree=0.2, gamma=1, learning_rate=0.9, max_depth=201, min_child_weight=0, n_estimators=1, reg_alpha=261, reg_lambda=1\n",
      "[CV 3/10; 4/10] END colsample_bytree=0.2, gamma=1, learning_rate=0.9, max_depth=201, min_child_weight=0, n_estimators=1, reg_alpha=261, reg_lambda=1;, score=0.200 total time=   0.0s\n",
      "[CV 4/10; 4/10] START colsample_bytree=0.2, gamma=1, learning_rate=0.9, max_depth=201, min_child_weight=0, n_estimators=1, reg_alpha=261, reg_lambda=1\n"
     ]
    },
    {
     "name": "stderr",
     "output_type": "stream",
     "text": [
      "c:\\Users\\Saurav\\anaconda3\\Lib\\site-packages\\xgboost\\data.py:440: FutureWarning: is_sparse is deprecated and will be removed in a future version. Check `isinstance(dtype, pd.SparseDtype)` instead.\n",
      "  if is_sparse(data):\n",
      "c:\\Users\\Saurav\\anaconda3\\Lib\\site-packages\\xgboost\\data.py:440: FutureWarning: is_sparse is deprecated and will be removed in a future version. Check `isinstance(dtype, pd.SparseDtype)` instead.\n",
      "  if is_sparse(data):\n",
      "c:\\Users\\Saurav\\anaconda3\\Lib\\site-packages\\xgboost\\data.py:440: FutureWarning: is_sparse is deprecated and will be removed in a future version. Check `isinstance(dtype, pd.SparseDtype)` instead.\n",
      "  if is_sparse(data):\n",
      "c:\\Users\\Saurav\\anaconda3\\Lib\\site-packages\\xgboost\\data.py:440: FutureWarning: is_sparse is deprecated and will be removed in a future version. Check `isinstance(dtype, pd.SparseDtype)` instead.\n",
      "  if is_sparse(data):\n",
      "c:\\Users\\Saurav\\anaconda3\\Lib\\site-packages\\xgboost\\data.py:440: FutureWarning: is_sparse is deprecated and will be removed in a future version. Check `isinstance(dtype, pd.SparseDtype)` instead.\n",
      "  if is_sparse(data):\n",
      "c:\\Users\\Saurav\\anaconda3\\Lib\\site-packages\\xgboost\\data.py:440: FutureWarning: is_sparse is deprecated and will be removed in a future version. Check `isinstance(dtype, pd.SparseDtype)` instead.\n",
      "  if is_sparse(data):\n",
      "c:\\Users\\Saurav\\anaconda3\\Lib\\site-packages\\xgboost\\data.py:440: FutureWarning: is_sparse is deprecated and will be removed in a future version. Check `isinstance(dtype, pd.SparseDtype)` instead.\n",
      "  if is_sparse(data):\n"
     ]
    },
    {
     "name": "stdout",
     "output_type": "stream",
     "text": [
      "[CV 4/10; 4/10] END colsample_bytree=0.2, gamma=1, learning_rate=0.9, max_depth=201, min_child_weight=0, n_estimators=1, reg_alpha=261, reg_lambda=1;, score=0.200 total time=   0.0s\n",
      "[CV 5/10; 4/10] START colsample_bytree=0.2, gamma=1, learning_rate=0.9, max_depth=201, min_child_weight=0, n_estimators=1, reg_alpha=261, reg_lambda=1\n",
      "[CV 5/10; 4/10] END colsample_bytree=0.2, gamma=1, learning_rate=0.9, max_depth=201, min_child_weight=0, n_estimators=1, reg_alpha=261, reg_lambda=1;, score=0.200 total time=   0.0s\n",
      "[CV 6/10; 4/10] START colsample_bytree=0.2, gamma=1, learning_rate=0.9, max_depth=201, min_child_weight=0, n_estimators=1, reg_alpha=261, reg_lambda=1\n",
      "[CV 6/10; 4/10] END colsample_bytree=0.2, gamma=1, learning_rate=0.9, max_depth=201, min_child_weight=0, n_estimators=1, reg_alpha=261, reg_lambda=1;, score=0.205 total time=   0.0s\n",
      "[CV 7/10; 4/10] START colsample_bytree=0.2, gamma=1, learning_rate=0.9, max_depth=201, min_child_weight=0, n_estimators=1, reg_alpha=261, reg_lambda=1\n",
      "[CV 7/10; 4/10] END colsample_bytree=0.2, gamma=1, learning_rate=0.9, max_depth=201, min_child_weight=0, n_estimators=1, reg_alpha=261, reg_lambda=1;, score=0.205 total time=   0.0s\n",
      "[CV 8/10; 4/10] START colsample_bytree=0.2, gamma=1, learning_rate=0.9, max_depth=201, min_child_weight=0, n_estimators=1, reg_alpha=261, reg_lambda=1\n"
     ]
    },
    {
     "name": "stderr",
     "output_type": "stream",
     "text": [
      "c:\\Users\\Saurav\\anaconda3\\Lib\\site-packages\\xgboost\\data.py:440: FutureWarning: is_sparse is deprecated and will be removed in a future version. Check `isinstance(dtype, pd.SparseDtype)` instead.\n",
      "  if is_sparse(data):\n",
      "c:\\Users\\Saurav\\anaconda3\\Lib\\site-packages\\xgboost\\data.py:440: FutureWarning: is_sparse is deprecated and will be removed in a future version. Check `isinstance(dtype, pd.SparseDtype)` instead.\n",
      "  if is_sparse(data):\n",
      "c:\\Users\\Saurav\\anaconda3\\Lib\\site-packages\\xgboost\\data.py:440: FutureWarning: is_sparse is deprecated and will be removed in a future version. Check `isinstance(dtype, pd.SparseDtype)` instead.\n",
      "  if is_sparse(data):\n",
      "c:\\Users\\Saurav\\anaconda3\\Lib\\site-packages\\xgboost\\data.py:440: FutureWarning: is_sparse is deprecated and will be removed in a future version. Check `isinstance(dtype, pd.SparseDtype)` instead.\n",
      "  if is_sparse(data):\n"
     ]
    },
    {
     "name": "stdout",
     "output_type": "stream",
     "text": [
      "[CV 8/10; 4/10] END colsample_bytree=0.2, gamma=1, learning_rate=0.9, max_depth=201, min_child_weight=0, n_estimators=1, reg_alpha=261, reg_lambda=1;, score=0.205 total time=   0.0s\n",
      "[CV 9/10; 4/10] START colsample_bytree=0.2, gamma=1, learning_rate=0.9, max_depth=201, min_child_weight=0, n_estimators=1, reg_alpha=261, reg_lambda=1\n",
      "[CV 9/10; 4/10] END colsample_bytree=0.2, gamma=1, learning_rate=0.9, max_depth=201, min_child_weight=0, n_estimators=1, reg_alpha=261, reg_lambda=1;, score=0.205 total time=   0.0s\n",
      "[CV 10/10; 4/10] START colsample_bytree=0.2, gamma=1, learning_rate=0.9, max_depth=201, min_child_weight=0, n_estimators=1, reg_alpha=261, reg_lambda=1\n",
      "[CV 10/10; 4/10] END colsample_bytree=0.2, gamma=1, learning_rate=0.9, max_depth=201, min_child_weight=0, n_estimators=1, reg_alpha=261, reg_lambda=1;, score=0.205 total time=   0.0s\n",
      "[CV 1/10; 5/10] START colsample_bytree=0.6000000000000001, gamma=1, learning_rate=1.3, max_depth=101, min_child_weight=0, n_estimators=51, reg_alpha=61, reg_lambda=1\n",
      "[CV 1/10; 5/10] END colsample_bytree=0.6000000000000001, gamma=1, learning_rate=1.3, max_depth=101, min_child_weight=0, n_estimators=51, reg_alpha=61, reg_lambda=1;, score=0.730 total time=  17.1s\n",
      "[CV 2/10; 5/10] START colsample_bytree=0.6000000000000001, gamma=1, learning_rate=1.3, max_depth=101, min_child_weight=0, n_estimators=51, reg_alpha=61, reg_lambda=1\n"
     ]
    },
    {
     "name": "stderr",
     "output_type": "stream",
     "text": [
      "c:\\Users\\Saurav\\anaconda3\\Lib\\site-packages\\xgboost\\data.py:440: FutureWarning: is_sparse is deprecated and will be removed in a future version. Check `isinstance(dtype, pd.SparseDtype)` instead.\n",
      "  if is_sparse(data):\n"
     ]
    },
    {
     "name": "stdout",
     "output_type": "stream",
     "text": [
      "[CV 2/10; 5/10] END colsample_bytree=0.6000000000000001, gamma=1, learning_rate=1.3, max_depth=101, min_child_weight=0, n_estimators=51, reg_alpha=61, reg_lambda=1;, score=0.668 total time=  17.1s\n",
      "[CV 3/10; 5/10] START colsample_bytree=0.6000000000000001, gamma=1, learning_rate=1.3, max_depth=101, min_child_weight=0, n_estimators=51, reg_alpha=61, reg_lambda=1\n"
     ]
    },
    {
     "name": "stderr",
     "output_type": "stream",
     "text": [
      "c:\\Users\\Saurav\\anaconda3\\Lib\\site-packages\\xgboost\\data.py:440: FutureWarning: is_sparse is deprecated and will be removed in a future version. Check `isinstance(dtype, pd.SparseDtype)` instead.\n",
      "  if is_sparse(data):\n"
     ]
    },
    {
     "name": "stdout",
     "output_type": "stream",
     "text": [
      "[CV 3/10; 5/10] END colsample_bytree=0.6000000000000001, gamma=1, learning_rate=1.3, max_depth=101, min_child_weight=0, n_estimators=51, reg_alpha=61, reg_lambda=1;, score=0.728 total time=  25.1s\n",
      "[CV 4/10; 5/10] START colsample_bytree=0.6000000000000001, gamma=1, learning_rate=1.3, max_depth=101, min_child_weight=0, n_estimators=51, reg_alpha=61, reg_lambda=1\n"
     ]
    },
    {
     "name": "stderr",
     "output_type": "stream",
     "text": [
      "c:\\Users\\Saurav\\anaconda3\\Lib\\site-packages\\xgboost\\data.py:440: FutureWarning: is_sparse is deprecated and will be removed in a future version. Check `isinstance(dtype, pd.SparseDtype)` instead.\n",
      "  if is_sparse(data):\n"
     ]
    },
    {
     "name": "stdout",
     "output_type": "stream",
     "text": [
      "[CV 4/10; 5/10] END colsample_bytree=0.6000000000000001, gamma=1, learning_rate=1.3, max_depth=101, min_child_weight=0, n_estimators=51, reg_alpha=61, reg_lambda=1;, score=0.790 total time=  13.1s\n",
      "[CV 5/10; 5/10] START colsample_bytree=0.6000000000000001, gamma=1, learning_rate=1.3, max_depth=101, min_child_weight=0, n_estimators=51, reg_alpha=61, reg_lambda=1\n"
     ]
    },
    {
     "name": "stderr",
     "output_type": "stream",
     "text": [
      "c:\\Users\\Saurav\\anaconda3\\Lib\\site-packages\\xgboost\\data.py:440: FutureWarning: is_sparse is deprecated and will be removed in a future version. Check `isinstance(dtype, pd.SparseDtype)` instead.\n",
      "  if is_sparse(data):\n"
     ]
    },
    {
     "name": "stdout",
     "output_type": "stream",
     "text": [
      "[CV 5/10; 5/10] END colsample_bytree=0.6000000000000001, gamma=1, learning_rate=1.3, max_depth=101, min_child_weight=0, n_estimators=51, reg_alpha=61, reg_lambda=1;, score=0.718 total time=  14.3s\n",
      "[CV 6/10; 5/10] START colsample_bytree=0.6000000000000001, gamma=1, learning_rate=1.3, max_depth=101, min_child_weight=0, n_estimators=51, reg_alpha=61, reg_lambda=1\n"
     ]
    },
    {
     "name": "stderr",
     "output_type": "stream",
     "text": [
      "c:\\Users\\Saurav\\anaconda3\\Lib\\site-packages\\xgboost\\data.py:440: FutureWarning: is_sparse is deprecated and will be removed in a future version. Check `isinstance(dtype, pd.SparseDtype)` instead.\n",
      "  if is_sparse(data):\n"
     ]
    },
    {
     "name": "stdout",
     "output_type": "stream",
     "text": [
      "[CV 6/10; 5/10] END colsample_bytree=0.6000000000000001, gamma=1, learning_rate=1.3, max_depth=101, min_child_weight=0, n_estimators=51, reg_alpha=61, reg_lambda=1;, score=0.744 total time=  16.8s\n",
      "[CV 7/10; 5/10] START colsample_bytree=0.6000000000000001, gamma=1, learning_rate=1.3, max_depth=101, min_child_weight=0, n_estimators=51, reg_alpha=61, reg_lambda=1\n"
     ]
    },
    {
     "name": "stderr",
     "output_type": "stream",
     "text": [
      "c:\\Users\\Saurav\\anaconda3\\Lib\\site-packages\\xgboost\\data.py:440: FutureWarning: is_sparse is deprecated and will be removed in a future version. Check `isinstance(dtype, pd.SparseDtype)` instead.\n",
      "  if is_sparse(data):\n"
     ]
    },
    {
     "name": "stdout",
     "output_type": "stream",
     "text": [
      "[CV 7/10; 5/10] END colsample_bytree=0.6000000000000001, gamma=1, learning_rate=1.3, max_depth=101, min_child_weight=0, n_estimators=51, reg_alpha=61, reg_lambda=1;, score=0.718 total time=  10.3s\n",
      "[CV 8/10; 5/10] START colsample_bytree=0.6000000000000001, gamma=1, learning_rate=1.3, max_depth=101, min_child_weight=0, n_estimators=51, reg_alpha=61, reg_lambda=1\n"
     ]
    },
    {
     "name": "stderr",
     "output_type": "stream",
     "text": [
      "c:\\Users\\Saurav\\anaconda3\\Lib\\site-packages\\xgboost\\data.py:440: FutureWarning: is_sparse is deprecated and will be removed in a future version. Check `isinstance(dtype, pd.SparseDtype)` instead.\n",
      "  if is_sparse(data):\n"
     ]
    },
    {
     "name": "stdout",
     "output_type": "stream",
     "text": [
      "[CV 8/10; 5/10] END colsample_bytree=0.6000000000000001, gamma=1, learning_rate=1.3, max_depth=101, min_child_weight=0, n_estimators=51, reg_alpha=61, reg_lambda=1;, score=0.759 total time=  16.8s\n",
      "[CV 9/10; 5/10] START colsample_bytree=0.6000000000000001, gamma=1, learning_rate=1.3, max_depth=101, min_child_weight=0, n_estimators=51, reg_alpha=61, reg_lambda=1\n"
     ]
    },
    {
     "name": "stderr",
     "output_type": "stream",
     "text": [
      "c:\\Users\\Saurav\\anaconda3\\Lib\\site-packages\\xgboost\\data.py:440: FutureWarning: is_sparse is deprecated and will be removed in a future version. Check `isinstance(dtype, pd.SparseDtype)` instead.\n",
      "  if is_sparse(data):\n"
     ]
    },
    {
     "name": "stdout",
     "output_type": "stream",
     "text": [
      "[CV 9/10; 5/10] END colsample_bytree=0.6000000000000001, gamma=1, learning_rate=1.3, max_depth=101, min_child_weight=0, n_estimators=51, reg_alpha=61, reg_lambda=1;, score=0.703 total time=  13.6s\n",
      "[CV 10/10; 5/10] START colsample_bytree=0.6000000000000001, gamma=1, learning_rate=1.3, max_depth=101, min_child_weight=0, n_estimators=51, reg_alpha=61, reg_lambda=1\n"
     ]
    },
    {
     "name": "stderr",
     "output_type": "stream",
     "text": [
      "c:\\Users\\Saurav\\anaconda3\\Lib\\site-packages\\xgboost\\data.py:440: FutureWarning: is_sparse is deprecated and will be removed in a future version. Check `isinstance(dtype, pd.SparseDtype)` instead.\n",
      "  if is_sparse(data):\n"
     ]
    },
    {
     "name": "stdout",
     "output_type": "stream",
     "text": [
      "[CV 10/10; 5/10] END colsample_bytree=0.6000000000000001, gamma=1, learning_rate=1.3, max_depth=101, min_child_weight=0, n_estimators=51, reg_alpha=61, reg_lambda=1;, score=0.744 total time=  16.7s\n",
      "[CV 1/10; 6/10] START colsample_bytree=0.4, gamma=7, learning_rate=0.6000000000000001, max_depth=1, min_child_weight=15, n_estimators=251, reg_alpha=141, reg_lambda=4\n"
     ]
    },
    {
     "name": "stderr",
     "output_type": "stream",
     "text": [
      "c:\\Users\\Saurav\\anaconda3\\Lib\\site-packages\\xgboost\\data.py:440: FutureWarning: is_sparse is deprecated and will be removed in a future version. Check `isinstance(dtype, pd.SparseDtype)` instead.\n",
      "  if is_sparse(data):\n"
     ]
    },
    {
     "name": "stdout",
     "output_type": "stream",
     "text": [
      "[CV 1/10; 6/10] END colsample_bytree=0.4, gamma=7, learning_rate=0.6000000000000001, max_depth=1, min_child_weight=15, n_estimators=251, reg_alpha=141, reg_lambda=4;, score=0.418 total time=  10.1s\n",
      "[CV 2/10; 6/10] START colsample_bytree=0.4, gamma=7, learning_rate=0.6000000000000001, max_depth=1, min_child_weight=15, n_estimators=251, reg_alpha=141, reg_lambda=4\n"
     ]
    },
    {
     "name": "stderr",
     "output_type": "stream",
     "text": [
      "c:\\Users\\Saurav\\anaconda3\\Lib\\site-packages\\xgboost\\data.py:440: FutureWarning: is_sparse is deprecated and will be removed in a future version. Check `isinstance(dtype, pd.SparseDtype)` instead.\n",
      "  if is_sparse(data):\n"
     ]
    },
    {
     "name": "stdout",
     "output_type": "stream",
     "text": [
      "[CV 2/10; 6/10] END colsample_bytree=0.4, gamma=7, learning_rate=0.6000000000000001, max_depth=1, min_child_weight=15, n_estimators=251, reg_alpha=141, reg_lambda=4;, score=0.418 total time=  10.0s\n",
      "[CV 3/10; 6/10] START colsample_bytree=0.4, gamma=7, learning_rate=0.6000000000000001, max_depth=1, min_child_weight=15, n_estimators=251, reg_alpha=141, reg_lambda=4\n"
     ]
    },
    {
     "name": "stderr",
     "output_type": "stream",
     "text": [
      "c:\\Users\\Saurav\\anaconda3\\Lib\\site-packages\\xgboost\\data.py:440: FutureWarning: is_sparse is deprecated and will be removed in a future version. Check `isinstance(dtype, pd.SparseDtype)` instead.\n",
      "  if is_sparse(data):\n"
     ]
    },
    {
     "name": "stdout",
     "output_type": "stream",
     "text": [
      "[CV 3/10; 6/10] END colsample_bytree=0.4, gamma=7, learning_rate=0.6000000000000001, max_depth=1, min_child_weight=15, n_estimators=251, reg_alpha=141, reg_lambda=4;, score=0.421 total time=  10.0s\n",
      "[CV 4/10; 6/10] START colsample_bytree=0.4, gamma=7, learning_rate=0.6000000000000001, max_depth=1, min_child_weight=15, n_estimators=251, reg_alpha=141, reg_lambda=4\n"
     ]
    },
    {
     "name": "stderr",
     "output_type": "stream",
     "text": [
      "c:\\Users\\Saurav\\anaconda3\\Lib\\site-packages\\xgboost\\data.py:440: FutureWarning: is_sparse is deprecated and will be removed in a future version. Check `isinstance(dtype, pd.SparseDtype)` instead.\n",
      "  if is_sparse(data):\n"
     ]
    },
    {
     "name": "stdout",
     "output_type": "stream",
     "text": [
      "[CV 4/10; 6/10] END colsample_bytree=0.4, gamma=7, learning_rate=0.6000000000000001, max_depth=1, min_child_weight=15, n_estimators=251, reg_alpha=141, reg_lambda=4;, score=0.431 total time=   9.8s\n",
      "[CV 5/10; 6/10] START colsample_bytree=0.4, gamma=7, learning_rate=0.6000000000000001, max_depth=1, min_child_weight=15, n_estimators=251, reg_alpha=141, reg_lambda=4\n"
     ]
    },
    {
     "name": "stderr",
     "output_type": "stream",
     "text": [
      "c:\\Users\\Saurav\\anaconda3\\Lib\\site-packages\\xgboost\\data.py:440: FutureWarning: is_sparse is deprecated and will be removed in a future version. Check `isinstance(dtype, pd.SparseDtype)` instead.\n",
      "  if is_sparse(data):\n"
     ]
    },
    {
     "name": "stdout",
     "output_type": "stream",
     "text": [
      "[CV 5/10; 6/10] END colsample_bytree=0.4, gamma=7, learning_rate=0.6000000000000001, max_depth=1, min_child_weight=15, n_estimators=251, reg_alpha=141, reg_lambda=4;, score=0.313 total time=   9.8s\n",
      "[CV 6/10; 6/10] START colsample_bytree=0.4, gamma=7, learning_rate=0.6000000000000001, max_depth=1, min_child_weight=15, n_estimators=251, reg_alpha=141, reg_lambda=4\n"
     ]
    },
    {
     "name": "stderr",
     "output_type": "stream",
     "text": [
      "c:\\Users\\Saurav\\anaconda3\\Lib\\site-packages\\xgboost\\data.py:440: FutureWarning: is_sparse is deprecated and will be removed in a future version. Check `isinstance(dtype, pd.SparseDtype)` instead.\n",
      "  if is_sparse(data):\n"
     ]
    },
    {
     "name": "stdout",
     "output_type": "stream",
     "text": [
      "[CV 6/10; 6/10] END colsample_bytree=0.4, gamma=7, learning_rate=0.6000000000000001, max_depth=1, min_child_weight=15, n_estimators=251, reg_alpha=141, reg_lambda=4;, score=0.436 total time=   9.7s\n",
      "[CV 7/10; 6/10] START colsample_bytree=0.4, gamma=7, learning_rate=0.6000000000000001, max_depth=1, min_child_weight=15, n_estimators=251, reg_alpha=141, reg_lambda=4\n"
     ]
    },
    {
     "name": "stderr",
     "output_type": "stream",
     "text": [
      "c:\\Users\\Saurav\\anaconda3\\Lib\\site-packages\\xgboost\\data.py:440: FutureWarning: is_sparse is deprecated and will be removed in a future version. Check `isinstance(dtype, pd.SparseDtype)` instead.\n",
      "  if is_sparse(data):\n"
     ]
    },
    {
     "name": "stdout",
     "output_type": "stream",
     "text": [
      "[CV 7/10; 6/10] END colsample_bytree=0.4, gamma=7, learning_rate=0.6000000000000001, max_depth=1, min_child_weight=15, n_estimators=251, reg_alpha=141, reg_lambda=4;, score=0.456 total time=   9.6s\n",
      "[CV 8/10; 6/10] START colsample_bytree=0.4, gamma=7, learning_rate=0.6000000000000001, max_depth=1, min_child_weight=15, n_estimators=251, reg_alpha=141, reg_lambda=4\n"
     ]
    },
    {
     "name": "stderr",
     "output_type": "stream",
     "text": [
      "c:\\Users\\Saurav\\anaconda3\\Lib\\site-packages\\xgboost\\data.py:440: FutureWarning: is_sparse is deprecated and will be removed in a future version. Check `isinstance(dtype, pd.SparseDtype)` instead.\n",
      "  if is_sparse(data):\n"
     ]
    },
    {
     "name": "stdout",
     "output_type": "stream",
     "text": [
      "[CV 8/10; 6/10] END colsample_bytree=0.4, gamma=7, learning_rate=0.6000000000000001, max_depth=1, min_child_weight=15, n_estimators=251, reg_alpha=141, reg_lambda=4;, score=0.441 total time=   9.6s\n",
      "[CV 9/10; 6/10] START colsample_bytree=0.4, gamma=7, learning_rate=0.6000000000000001, max_depth=1, min_child_weight=15, n_estimators=251, reg_alpha=141, reg_lambda=4\n"
     ]
    },
    {
     "name": "stderr",
     "output_type": "stream",
     "text": [
      "c:\\Users\\Saurav\\anaconda3\\Lib\\site-packages\\xgboost\\data.py:440: FutureWarning: is_sparse is deprecated and will be removed in a future version. Check `isinstance(dtype, pd.SparseDtype)` instead.\n",
      "  if is_sparse(data):\n"
     ]
    },
    {
     "name": "stdout",
     "output_type": "stream",
     "text": [
      "[CV 9/10; 6/10] END colsample_bytree=0.4, gamma=7, learning_rate=0.6000000000000001, max_depth=1, min_child_weight=15, n_estimators=251, reg_alpha=141, reg_lambda=4;, score=0.441 total time=   9.9s\n",
      "[CV 10/10; 6/10] START colsample_bytree=0.4, gamma=7, learning_rate=0.6000000000000001, max_depth=1, min_child_weight=15, n_estimators=251, reg_alpha=141, reg_lambda=4\n"
     ]
    },
    {
     "name": "stderr",
     "output_type": "stream",
     "text": [
      "c:\\Users\\Saurav\\anaconda3\\Lib\\site-packages\\xgboost\\data.py:440: FutureWarning: is_sparse is deprecated and will be removed in a future version. Check `isinstance(dtype, pd.SparseDtype)` instead.\n",
      "  if is_sparse(data):\n"
     ]
    },
    {
     "name": "stdout",
     "output_type": "stream",
     "text": [
      "[CV 10/10; 6/10] END colsample_bytree=0.4, gamma=7, learning_rate=0.6000000000000001, max_depth=1, min_child_weight=15, n_estimators=251, reg_alpha=141, reg_lambda=4;, score=0.431 total time=  12.0s\n",
      "[CV 1/10; 7/10] START colsample_bytree=0.1, gamma=4, learning_rate=1.3, max_depth=201, min_child_weight=15, n_estimators=1, reg_alpha=381, reg_lambda=0\n",
      "[CV 1/10; 7/10] END colsample_bytree=0.1, gamma=4, learning_rate=1.3, max_depth=201, min_child_weight=15, n_estimators=1, reg_alpha=381, reg_lambda=0;, score=0.204 total time=   0.0s\n",
      "[CV 2/10; 7/10] START colsample_bytree=0.1, gamma=4, learning_rate=1.3, max_depth=201, min_child_weight=15, n_estimators=1, reg_alpha=381, reg_lambda=0\n",
      "[CV 2/10; 7/10] END colsample_bytree=0.1, gamma=4, learning_rate=1.3, max_depth=201, min_child_weight=15, n_estimators=1, reg_alpha=381, reg_lambda=0;, score=0.204 total time=   0.0s\n",
      "[CV 3/10; 7/10] START colsample_bytree=0.1, gamma=4, learning_rate=1.3, max_depth=201, min_child_weight=15, n_estimators=1, reg_alpha=381, reg_lambda=0\n"
     ]
    },
    {
     "name": "stderr",
     "output_type": "stream",
     "text": [
      "c:\\Users\\Saurav\\anaconda3\\Lib\\site-packages\\xgboost\\data.py:440: FutureWarning: is_sparse is deprecated and will be removed in a future version. Check `isinstance(dtype, pd.SparseDtype)` instead.\n",
      "  if is_sparse(data):\n",
      "c:\\Users\\Saurav\\anaconda3\\Lib\\site-packages\\xgboost\\data.py:440: FutureWarning: is_sparse is deprecated and will be removed in a future version. Check `isinstance(dtype, pd.SparseDtype)` instead.\n",
      "  if is_sparse(data):\n",
      "c:\\Users\\Saurav\\anaconda3\\Lib\\site-packages\\xgboost\\data.py:440: FutureWarning: is_sparse is deprecated and will be removed in a future version. Check `isinstance(dtype, pd.SparseDtype)` instead.\n",
      "  if is_sparse(data):\n"
     ]
    },
    {
     "name": "stdout",
     "output_type": "stream",
     "text": [
      "[CV 3/10; 7/10] END colsample_bytree=0.1, gamma=4, learning_rate=1.3, max_depth=201, min_child_weight=15, n_estimators=1, reg_alpha=381, reg_lambda=0;, score=0.200 total time=   0.0s\n",
      "[CV 4/10; 7/10] START colsample_bytree=0.1, gamma=4, learning_rate=1.3, max_depth=201, min_child_weight=15, n_estimators=1, reg_alpha=381, reg_lambda=0\n",
      "[CV 4/10; 7/10] END colsample_bytree=0.1, gamma=4, learning_rate=1.3, max_depth=201, min_child_weight=15, n_estimators=1, reg_alpha=381, reg_lambda=0;, score=0.200 total time=   0.0s\n",
      "[CV 5/10; 7/10] START colsample_bytree=0.1, gamma=4, learning_rate=1.3, max_depth=201, min_child_weight=15, n_estimators=1, reg_alpha=381, reg_lambda=0\n",
      "[CV 5/10; 7/10] END colsample_bytree=0.1, gamma=4, learning_rate=1.3, max_depth=201, min_child_weight=15, n_estimators=1, reg_alpha=381, reg_lambda=0;, score=0.200 total time=   0.0s\n",
      "[CV 6/10; 7/10] START colsample_bytree=0.1, gamma=4, learning_rate=1.3, max_depth=201, min_child_weight=15, n_estimators=1, reg_alpha=381, reg_lambda=0\n"
     ]
    },
    {
     "name": "stderr",
     "output_type": "stream",
     "text": [
      "c:\\Users\\Saurav\\anaconda3\\Lib\\site-packages\\xgboost\\data.py:440: FutureWarning: is_sparse is deprecated and will be removed in a future version. Check `isinstance(dtype, pd.SparseDtype)` instead.\n",
      "  if is_sparse(data):\n",
      "c:\\Users\\Saurav\\anaconda3\\Lib\\site-packages\\xgboost\\data.py:440: FutureWarning: is_sparse is deprecated and will be removed in a future version. Check `isinstance(dtype, pd.SparseDtype)` instead.\n",
      "  if is_sparse(data):\n",
      "c:\\Users\\Saurav\\anaconda3\\Lib\\site-packages\\xgboost\\data.py:440: FutureWarning: is_sparse is deprecated and will be removed in a future version. Check `isinstance(dtype, pd.SparseDtype)` instead.\n",
      "  if is_sparse(data):\n"
     ]
    },
    {
     "name": "stdout",
     "output_type": "stream",
     "text": [
      "[CV 6/10; 7/10] END colsample_bytree=0.1, gamma=4, learning_rate=1.3, max_depth=201, min_child_weight=15, n_estimators=1, reg_alpha=381, reg_lambda=0;, score=0.205 total time=   0.0s\n",
      "[CV 7/10; 7/10] START colsample_bytree=0.1, gamma=4, learning_rate=1.3, max_depth=201, min_child_weight=15, n_estimators=1, reg_alpha=381, reg_lambda=0\n",
      "[CV 7/10; 7/10] END colsample_bytree=0.1, gamma=4, learning_rate=1.3, max_depth=201, min_child_weight=15, n_estimators=1, reg_alpha=381, reg_lambda=0;, score=0.205 total time=   0.0s\n",
      "[CV 8/10; 7/10] START colsample_bytree=0.1, gamma=4, learning_rate=1.3, max_depth=201, min_child_weight=15, n_estimators=1, reg_alpha=381, reg_lambda=0\n",
      "[CV 8/10; 7/10] END colsample_bytree=0.1, gamma=4, learning_rate=1.3, max_depth=201, min_child_weight=15, n_estimators=1, reg_alpha=381, reg_lambda=0;, score=0.205 total time=   0.0s\n",
      "[CV 9/10; 7/10] START colsample_bytree=0.1, gamma=4, learning_rate=1.3, max_depth=201, min_child_weight=15, n_estimators=1, reg_alpha=381, reg_lambda=0\n"
     ]
    },
    {
     "name": "stderr",
     "output_type": "stream",
     "text": [
      "c:\\Users\\Saurav\\anaconda3\\Lib\\site-packages\\xgboost\\data.py:440: FutureWarning: is_sparse is deprecated and will be removed in a future version. Check `isinstance(dtype, pd.SparseDtype)` instead.\n",
      "  if is_sparse(data):\n",
      "c:\\Users\\Saurav\\anaconda3\\Lib\\site-packages\\xgboost\\data.py:440: FutureWarning: is_sparse is deprecated and will be removed in a future version. Check `isinstance(dtype, pd.SparseDtype)` instead.\n",
      "  if is_sparse(data):\n",
      "c:\\Users\\Saurav\\anaconda3\\Lib\\site-packages\\xgboost\\data.py:440: FutureWarning: is_sparse is deprecated and will be removed in a future version. Check `isinstance(dtype, pd.SparseDtype)` instead.\n",
      "  if is_sparse(data):\n"
     ]
    },
    {
     "name": "stdout",
     "output_type": "stream",
     "text": [
      "[CV 9/10; 7/10] END colsample_bytree=0.1, gamma=4, learning_rate=1.3, max_depth=201, min_child_weight=15, n_estimators=1, reg_alpha=381, reg_lambda=0;, score=0.205 total time=   0.0s\n",
      "[CV 10/10; 7/10] START colsample_bytree=0.1, gamma=4, learning_rate=1.3, max_depth=201, min_child_weight=15, n_estimators=1, reg_alpha=381, reg_lambda=0\n",
      "[CV 10/10; 7/10] END colsample_bytree=0.1, gamma=4, learning_rate=1.3, max_depth=201, min_child_weight=15, n_estimators=1, reg_alpha=381, reg_lambda=0;, score=0.205 total time=   0.0s\n",
      "[CV 1/10; 8/10] START colsample_bytree=0.0, gamma=7, learning_rate=0.8, max_depth=151, min_child_weight=25, n_estimators=251, reg_alpha=101, reg_lambda=1\n"
     ]
    },
    {
     "name": "stderr",
     "output_type": "stream",
     "text": [
      "c:\\Users\\Saurav\\anaconda3\\Lib\\site-packages\\xgboost\\data.py:440: FutureWarning: is_sparse is deprecated and will be removed in a future version. Check `isinstance(dtype, pd.SparseDtype)` instead.\n",
      "  if is_sparse(data):\n",
      "c:\\Users\\Saurav\\anaconda3\\Lib\\site-packages\\xgboost\\data.py:440: FutureWarning: is_sparse is deprecated and will be removed in a future version. Check `isinstance(dtype, pd.SparseDtype)` instead.\n",
      "  if is_sparse(data):\n"
     ]
    },
    {
     "name": "stdout",
     "output_type": "stream",
     "text": [
      "[CV 1/10; 8/10] END colsample_bytree=0.0, gamma=7, learning_rate=0.8, max_depth=151, min_child_weight=25, n_estimators=251, reg_alpha=101, reg_lambda=1;, score=0.204 total time=   5.1s\n",
      "[CV 2/10; 8/10] START colsample_bytree=0.0, gamma=7, learning_rate=0.8, max_depth=151, min_child_weight=25, n_estimators=251, reg_alpha=101, reg_lambda=1\n"
     ]
    },
    {
     "name": "stderr",
     "output_type": "stream",
     "text": [
      "c:\\Users\\Saurav\\anaconda3\\Lib\\site-packages\\xgboost\\data.py:440: FutureWarning: is_sparse is deprecated and will be removed in a future version. Check `isinstance(dtype, pd.SparseDtype)` instead.\n",
      "  if is_sparse(data):\n"
     ]
    },
    {
     "name": "stdout",
     "output_type": "stream",
     "text": [
      "[CV 2/10; 8/10] END colsample_bytree=0.0, gamma=7, learning_rate=0.8, max_depth=151, min_child_weight=25, n_estimators=251, reg_alpha=101, reg_lambda=1;, score=0.204 total time=   4.6s\n",
      "[CV 3/10; 8/10] START colsample_bytree=0.0, gamma=7, learning_rate=0.8, max_depth=151, min_child_weight=25, n_estimators=251, reg_alpha=101, reg_lambda=1\n"
     ]
    },
    {
     "name": "stderr",
     "output_type": "stream",
     "text": [
      "c:\\Users\\Saurav\\anaconda3\\Lib\\site-packages\\xgboost\\data.py:440: FutureWarning: is_sparse is deprecated and will be removed in a future version. Check `isinstance(dtype, pd.SparseDtype)` instead.\n",
      "  if is_sparse(data):\n"
     ]
    },
    {
     "name": "stdout",
     "output_type": "stream",
     "text": [
      "[CV 3/10; 8/10] END colsample_bytree=0.0, gamma=7, learning_rate=0.8, max_depth=151, min_child_weight=25, n_estimators=251, reg_alpha=101, reg_lambda=1;, score=0.200 total time=   4.7s\n",
      "[CV 4/10; 8/10] START colsample_bytree=0.0, gamma=7, learning_rate=0.8, max_depth=151, min_child_weight=25, n_estimators=251, reg_alpha=101, reg_lambda=1\n"
     ]
    },
    {
     "name": "stderr",
     "output_type": "stream",
     "text": [
      "c:\\Users\\Saurav\\anaconda3\\Lib\\site-packages\\xgboost\\data.py:440: FutureWarning: is_sparse is deprecated and will be removed in a future version. Check `isinstance(dtype, pd.SparseDtype)` instead.\n",
      "  if is_sparse(data):\n"
     ]
    },
    {
     "name": "stdout",
     "output_type": "stream",
     "text": [
      "[CV 4/10; 8/10] END colsample_bytree=0.0, gamma=7, learning_rate=0.8, max_depth=151, min_child_weight=25, n_estimators=251, reg_alpha=101, reg_lambda=1;, score=0.200 total time=   4.8s\n",
      "[CV 5/10; 8/10] START colsample_bytree=0.0, gamma=7, learning_rate=0.8, max_depth=151, min_child_weight=25, n_estimators=251, reg_alpha=101, reg_lambda=1\n"
     ]
    },
    {
     "name": "stderr",
     "output_type": "stream",
     "text": [
      "c:\\Users\\Saurav\\anaconda3\\Lib\\site-packages\\xgboost\\data.py:440: FutureWarning: is_sparse is deprecated and will be removed in a future version. Check `isinstance(dtype, pd.SparseDtype)` instead.\n",
      "  if is_sparse(data):\n"
     ]
    },
    {
     "name": "stdout",
     "output_type": "stream",
     "text": [
      "[CV 5/10; 8/10] END colsample_bytree=0.0, gamma=7, learning_rate=0.8, max_depth=151, min_child_weight=25, n_estimators=251, reg_alpha=101, reg_lambda=1;, score=0.200 total time=   4.7s\n",
      "[CV 6/10; 8/10] START colsample_bytree=0.0, gamma=7, learning_rate=0.8, max_depth=151, min_child_weight=25, n_estimators=251, reg_alpha=101, reg_lambda=1\n"
     ]
    },
    {
     "name": "stderr",
     "output_type": "stream",
     "text": [
      "c:\\Users\\Saurav\\anaconda3\\Lib\\site-packages\\xgboost\\data.py:440: FutureWarning: is_sparse is deprecated and will be removed in a future version. Check `isinstance(dtype, pd.SparseDtype)` instead.\n",
      "  if is_sparse(data):\n"
     ]
    },
    {
     "name": "stdout",
     "output_type": "stream",
     "text": [
      "[CV 6/10; 8/10] END colsample_bytree=0.0, gamma=7, learning_rate=0.8, max_depth=151, min_child_weight=25, n_estimators=251, reg_alpha=101, reg_lambda=1;, score=0.205 total time=   4.7s\n",
      "[CV 7/10; 8/10] START colsample_bytree=0.0, gamma=7, learning_rate=0.8, max_depth=151, min_child_weight=25, n_estimators=251, reg_alpha=101, reg_lambda=1\n"
     ]
    },
    {
     "name": "stderr",
     "output_type": "stream",
     "text": [
      "c:\\Users\\Saurav\\anaconda3\\Lib\\site-packages\\xgboost\\data.py:440: FutureWarning: is_sparse is deprecated and will be removed in a future version. Check `isinstance(dtype, pd.SparseDtype)` instead.\n",
      "  if is_sparse(data):\n"
     ]
    },
    {
     "name": "stdout",
     "output_type": "stream",
     "text": [
      "[CV 7/10; 8/10] END colsample_bytree=0.0, gamma=7, learning_rate=0.8, max_depth=151, min_child_weight=25, n_estimators=251, reg_alpha=101, reg_lambda=1;, score=0.205 total time=   4.7s\n",
      "[CV 8/10; 8/10] START colsample_bytree=0.0, gamma=7, learning_rate=0.8, max_depth=151, min_child_weight=25, n_estimators=251, reg_alpha=101, reg_lambda=1\n"
     ]
    },
    {
     "name": "stderr",
     "output_type": "stream",
     "text": [
      "c:\\Users\\Saurav\\anaconda3\\Lib\\site-packages\\xgboost\\data.py:440: FutureWarning: is_sparse is deprecated and will be removed in a future version. Check `isinstance(dtype, pd.SparseDtype)` instead.\n",
      "  if is_sparse(data):\n"
     ]
    },
    {
     "name": "stdout",
     "output_type": "stream",
     "text": [
      "[CV 8/10; 8/10] END colsample_bytree=0.0, gamma=7, learning_rate=0.8, max_depth=151, min_child_weight=25, n_estimators=251, reg_alpha=101, reg_lambda=1;, score=0.205 total time=   4.8s\n",
      "[CV 9/10; 8/10] START colsample_bytree=0.0, gamma=7, learning_rate=0.8, max_depth=151, min_child_weight=25, n_estimators=251, reg_alpha=101, reg_lambda=1\n"
     ]
    },
    {
     "name": "stderr",
     "output_type": "stream",
     "text": [
      "c:\\Users\\Saurav\\anaconda3\\Lib\\site-packages\\xgboost\\data.py:440: FutureWarning: is_sparse is deprecated and will be removed in a future version. Check `isinstance(dtype, pd.SparseDtype)` instead.\n",
      "  if is_sparse(data):\n"
     ]
    },
    {
     "name": "stdout",
     "output_type": "stream",
     "text": [
      "[CV 9/10; 8/10] END colsample_bytree=0.0, gamma=7, learning_rate=0.8, max_depth=151, min_child_weight=25, n_estimators=251, reg_alpha=101, reg_lambda=1;, score=0.205 total time=   4.6s\n",
      "[CV 10/10; 8/10] START colsample_bytree=0.0, gamma=7, learning_rate=0.8, max_depth=151, min_child_weight=25, n_estimators=251, reg_alpha=101, reg_lambda=1\n"
     ]
    },
    {
     "name": "stderr",
     "output_type": "stream",
     "text": [
      "c:\\Users\\Saurav\\anaconda3\\Lib\\site-packages\\xgboost\\data.py:440: FutureWarning: is_sparse is deprecated and will be removed in a future version. Check `isinstance(dtype, pd.SparseDtype)` instead.\n",
      "  if is_sparse(data):\n"
     ]
    },
    {
     "name": "stdout",
     "output_type": "stream",
     "text": [
      "[CV 10/10; 8/10] END colsample_bytree=0.0, gamma=7, learning_rate=0.8, max_depth=151, min_child_weight=25, n_estimators=251, reg_alpha=101, reg_lambda=1;, score=0.205 total time=   4.7s\n",
      "[CV 1/10; 9/10] START colsample_bytree=0.0, gamma=4, learning_rate=1.9000000000000001, max_depth=101, min_child_weight=5, n_estimators=251, reg_alpha=321, reg_lambda=0\n"
     ]
    },
    {
     "name": "stderr",
     "output_type": "stream",
     "text": [
      "c:\\Users\\Saurav\\anaconda3\\Lib\\site-packages\\xgboost\\data.py:440: FutureWarning: is_sparse is deprecated and will be removed in a future version. Check `isinstance(dtype, pd.SparseDtype)` instead.\n",
      "  if is_sparse(data):\n"
     ]
    },
    {
     "name": "stdout",
     "output_type": "stream",
     "text": [
      "[CV 1/10; 9/10] END colsample_bytree=0.0, gamma=4, learning_rate=1.9000000000000001, max_depth=101, min_child_weight=5, n_estimators=251, reg_alpha=321, reg_lambda=0;, score=0.204 total time=   4.8s\n",
      "[CV 2/10; 9/10] START colsample_bytree=0.0, gamma=4, learning_rate=1.9000000000000001, max_depth=101, min_child_weight=5, n_estimators=251, reg_alpha=321, reg_lambda=0\n"
     ]
    },
    {
     "name": "stderr",
     "output_type": "stream",
     "text": [
      "c:\\Users\\Saurav\\anaconda3\\Lib\\site-packages\\xgboost\\data.py:440: FutureWarning: is_sparse is deprecated and will be removed in a future version. Check `isinstance(dtype, pd.SparseDtype)` instead.\n",
      "  if is_sparse(data):\n"
     ]
    },
    {
     "name": "stdout",
     "output_type": "stream",
     "text": [
      "[CV 2/10; 9/10] END colsample_bytree=0.0, gamma=4, learning_rate=1.9000000000000001, max_depth=101, min_child_weight=5, n_estimators=251, reg_alpha=321, reg_lambda=0;, score=0.204 total time=   5.8s\n",
      "[CV 3/10; 9/10] START colsample_bytree=0.0, gamma=4, learning_rate=1.9000000000000001, max_depth=101, min_child_weight=5, n_estimators=251, reg_alpha=321, reg_lambda=0\n"
     ]
    },
    {
     "name": "stderr",
     "output_type": "stream",
     "text": [
      "c:\\Users\\Saurav\\anaconda3\\Lib\\site-packages\\xgboost\\data.py:440: FutureWarning: is_sparse is deprecated and will be removed in a future version. Check `isinstance(dtype, pd.SparseDtype)` instead.\n",
      "  if is_sparse(data):\n"
     ]
    },
    {
     "name": "stdout",
     "output_type": "stream",
     "text": [
      "[CV 3/10; 9/10] END colsample_bytree=0.0, gamma=4, learning_rate=1.9000000000000001, max_depth=101, min_child_weight=5, n_estimators=251, reg_alpha=321, reg_lambda=0;, score=0.200 total time=   5.6s\n",
      "[CV 4/10; 9/10] START colsample_bytree=0.0, gamma=4, learning_rate=1.9000000000000001, max_depth=101, min_child_weight=5, n_estimators=251, reg_alpha=321, reg_lambda=0\n"
     ]
    },
    {
     "name": "stderr",
     "output_type": "stream",
     "text": [
      "c:\\Users\\Saurav\\anaconda3\\Lib\\site-packages\\xgboost\\data.py:440: FutureWarning: is_sparse is deprecated and will be removed in a future version. Check `isinstance(dtype, pd.SparseDtype)` instead.\n",
      "  if is_sparse(data):\n"
     ]
    },
    {
     "name": "stdout",
     "output_type": "stream",
     "text": [
      "[CV 4/10; 9/10] END colsample_bytree=0.0, gamma=4, learning_rate=1.9000000000000001, max_depth=101, min_child_weight=5, n_estimators=251, reg_alpha=321, reg_lambda=0;, score=0.200 total time=   5.2s\n",
      "[CV 5/10; 9/10] START colsample_bytree=0.0, gamma=4, learning_rate=1.9000000000000001, max_depth=101, min_child_weight=5, n_estimators=251, reg_alpha=321, reg_lambda=0\n"
     ]
    },
    {
     "name": "stderr",
     "output_type": "stream",
     "text": [
      "c:\\Users\\Saurav\\anaconda3\\Lib\\site-packages\\xgboost\\data.py:440: FutureWarning: is_sparse is deprecated and will be removed in a future version. Check `isinstance(dtype, pd.SparseDtype)` instead.\n",
      "  if is_sparse(data):\n"
     ]
    },
    {
     "name": "stdout",
     "output_type": "stream",
     "text": [
      "[CV 5/10; 9/10] END colsample_bytree=0.0, gamma=4, learning_rate=1.9000000000000001, max_depth=101, min_child_weight=5, n_estimators=251, reg_alpha=321, reg_lambda=0;, score=0.200 total time=   5.9s\n",
      "[CV 6/10; 9/10] START colsample_bytree=0.0, gamma=4, learning_rate=1.9000000000000001, max_depth=101, min_child_weight=5, n_estimators=251, reg_alpha=321, reg_lambda=0\n"
     ]
    },
    {
     "name": "stderr",
     "output_type": "stream",
     "text": [
      "c:\\Users\\Saurav\\anaconda3\\Lib\\site-packages\\xgboost\\data.py:440: FutureWarning: is_sparse is deprecated and will be removed in a future version. Check `isinstance(dtype, pd.SparseDtype)` instead.\n",
      "  if is_sparse(data):\n"
     ]
    },
    {
     "name": "stdout",
     "output_type": "stream",
     "text": [
      "[CV 6/10; 9/10] END colsample_bytree=0.0, gamma=4, learning_rate=1.9000000000000001, max_depth=101, min_child_weight=5, n_estimators=251, reg_alpha=321, reg_lambda=0;, score=0.205 total time=   5.3s\n",
      "[CV 7/10; 9/10] START colsample_bytree=0.0, gamma=4, learning_rate=1.9000000000000001, max_depth=101, min_child_weight=5, n_estimators=251, reg_alpha=321, reg_lambda=0\n"
     ]
    },
    {
     "name": "stderr",
     "output_type": "stream",
     "text": [
      "c:\\Users\\Saurav\\anaconda3\\Lib\\site-packages\\xgboost\\data.py:440: FutureWarning: is_sparse is deprecated and will be removed in a future version. Check `isinstance(dtype, pd.SparseDtype)` instead.\n",
      "  if is_sparse(data):\n"
     ]
    },
    {
     "name": "stdout",
     "output_type": "stream",
     "text": [
      "[CV 7/10; 9/10] END colsample_bytree=0.0, gamma=4, learning_rate=1.9000000000000001, max_depth=101, min_child_weight=5, n_estimators=251, reg_alpha=321, reg_lambda=0;, score=0.205 total time=   6.4s\n",
      "[CV 8/10; 9/10] START colsample_bytree=0.0, gamma=4, learning_rate=1.9000000000000001, max_depth=101, min_child_weight=5, n_estimators=251, reg_alpha=321, reg_lambda=0\n"
     ]
    },
    {
     "name": "stderr",
     "output_type": "stream",
     "text": [
      "c:\\Users\\Saurav\\anaconda3\\Lib\\site-packages\\xgboost\\data.py:440: FutureWarning: is_sparse is deprecated and will be removed in a future version. Check `isinstance(dtype, pd.SparseDtype)` instead.\n",
      "  if is_sparse(data):\n"
     ]
    },
    {
     "name": "stdout",
     "output_type": "stream",
     "text": [
      "[CV 8/10; 9/10] END colsample_bytree=0.0, gamma=4, learning_rate=1.9000000000000001, max_depth=101, min_child_weight=5, n_estimators=251, reg_alpha=321, reg_lambda=0;, score=0.205 total time=   6.5s\n",
      "[CV 9/10; 9/10] START colsample_bytree=0.0, gamma=4, learning_rate=1.9000000000000001, max_depth=101, min_child_weight=5, n_estimators=251, reg_alpha=321, reg_lambda=0\n"
     ]
    },
    {
     "name": "stderr",
     "output_type": "stream",
     "text": [
      "c:\\Users\\Saurav\\anaconda3\\Lib\\site-packages\\xgboost\\data.py:440: FutureWarning: is_sparse is deprecated and will be removed in a future version. Check `isinstance(dtype, pd.SparseDtype)` instead.\n",
      "  if is_sparse(data):\n"
     ]
    },
    {
     "name": "stdout",
     "output_type": "stream",
     "text": [
      "[CV 9/10; 9/10] END colsample_bytree=0.0, gamma=4, learning_rate=1.9000000000000001, max_depth=101, min_child_weight=5, n_estimators=251, reg_alpha=321, reg_lambda=0;, score=0.205 total time=   5.5s\n",
      "[CV 10/10; 9/10] START colsample_bytree=0.0, gamma=4, learning_rate=1.9000000000000001, max_depth=101, min_child_weight=5, n_estimators=251, reg_alpha=321, reg_lambda=0\n"
     ]
    },
    {
     "name": "stderr",
     "output_type": "stream",
     "text": [
      "c:\\Users\\Saurav\\anaconda3\\Lib\\site-packages\\xgboost\\data.py:440: FutureWarning: is_sparse is deprecated and will be removed in a future version. Check `isinstance(dtype, pd.SparseDtype)` instead.\n",
      "  if is_sparse(data):\n"
     ]
    },
    {
     "name": "stdout",
     "output_type": "stream",
     "text": [
      "[CV 10/10; 9/10] END colsample_bytree=0.0, gamma=4, learning_rate=1.9000000000000001, max_depth=101, min_child_weight=5, n_estimators=251, reg_alpha=321, reg_lambda=0;, score=0.205 total time=   5.9s\n",
      "[CV 1/10; 10/10] START colsample_bytree=0.7000000000000001, gamma=1, learning_rate=1.6, max_depth=351, min_child_weight=10, n_estimators=301, reg_alpha=161, reg_lambda=1\n"
     ]
    },
    {
     "name": "stderr",
     "output_type": "stream",
     "text": [
      "c:\\Users\\Saurav\\anaconda3\\Lib\\site-packages\\xgboost\\data.py:440: FutureWarning: is_sparse is deprecated and will be removed in a future version. Check `isinstance(dtype, pd.SparseDtype)` instead.\n",
      "  if is_sparse(data):\n"
     ]
    },
    {
     "name": "stdout",
     "output_type": "stream",
     "text": [
      "[CV 1/10; 10/10] END colsample_bytree=0.7000000000000001, gamma=1, learning_rate=1.6, max_depth=351, min_child_weight=10, n_estimators=301, reg_alpha=161, reg_lambda=1;, score=0.449 total time=  22.3s\n",
      "[CV 2/10; 10/10] START colsample_bytree=0.7000000000000001, gamma=1, learning_rate=1.6, max_depth=351, min_child_weight=10, n_estimators=301, reg_alpha=161, reg_lambda=1\n"
     ]
    },
    {
     "name": "stderr",
     "output_type": "stream",
     "text": [
      "c:\\Users\\Saurav\\anaconda3\\Lib\\site-packages\\xgboost\\data.py:440: FutureWarning: is_sparse is deprecated and will be removed in a future version. Check `isinstance(dtype, pd.SparseDtype)` instead.\n",
      "  if is_sparse(data):\n"
     ]
    },
    {
     "name": "stdout",
     "output_type": "stream",
     "text": [
      "[CV 2/10; 10/10] END colsample_bytree=0.7000000000000001, gamma=1, learning_rate=1.6, max_depth=351, min_child_weight=10, n_estimators=301, reg_alpha=161, reg_lambda=1;, score=0.434 total time=  21.6s\n",
      "[CV 3/10; 10/10] START colsample_bytree=0.7000000000000001, gamma=1, learning_rate=1.6, max_depth=351, min_child_weight=10, n_estimators=301, reg_alpha=161, reg_lambda=1\n"
     ]
    },
    {
     "name": "stderr",
     "output_type": "stream",
     "text": [
      "c:\\Users\\Saurav\\anaconda3\\Lib\\site-packages\\xgboost\\data.py:440: FutureWarning: is_sparse is deprecated and will be removed in a future version. Check `isinstance(dtype, pd.SparseDtype)` instead.\n",
      "  if is_sparse(data):\n"
     ]
    },
    {
     "name": "stdout",
     "output_type": "stream",
     "text": [
      "[CV 3/10; 10/10] END colsample_bytree=0.7000000000000001, gamma=1, learning_rate=1.6, max_depth=351, min_child_weight=10, n_estimators=301, reg_alpha=161, reg_lambda=1;, score=0.451 total time=  19.5s\n",
      "[CV 4/10; 10/10] START colsample_bytree=0.7000000000000001, gamma=1, learning_rate=1.6, max_depth=351, min_child_weight=10, n_estimators=301, reg_alpha=161, reg_lambda=1\n"
     ]
    },
    {
     "name": "stderr",
     "output_type": "stream",
     "text": [
      "c:\\Users\\Saurav\\anaconda3\\Lib\\site-packages\\xgboost\\data.py:440: FutureWarning: is_sparse is deprecated and will be removed in a future version. Check `isinstance(dtype, pd.SparseDtype)` instead.\n",
      "  if is_sparse(data):\n"
     ]
    },
    {
     "name": "stdout",
     "output_type": "stream",
     "text": [
      "[CV 4/10; 10/10] END colsample_bytree=0.7000000000000001, gamma=1, learning_rate=1.6, max_depth=351, min_child_weight=10, n_estimators=301, reg_alpha=161, reg_lambda=1;, score=0.456 total time=  21.8s\n",
      "[CV 5/10; 10/10] START colsample_bytree=0.7000000000000001, gamma=1, learning_rate=1.6, max_depth=351, min_child_weight=10, n_estimators=301, reg_alpha=161, reg_lambda=1\n"
     ]
    },
    {
     "name": "stderr",
     "output_type": "stream",
     "text": [
      "c:\\Users\\Saurav\\anaconda3\\Lib\\site-packages\\xgboost\\data.py:440: FutureWarning: is_sparse is deprecated and will be removed in a future version. Check `isinstance(dtype, pd.SparseDtype)` instead.\n",
      "  if is_sparse(data):\n"
     ]
    },
    {
     "name": "stdout",
     "output_type": "stream",
     "text": [
      "[CV 5/10; 10/10] END colsample_bytree=0.7000000000000001, gamma=1, learning_rate=1.6, max_depth=351, min_child_weight=10, n_estimators=301, reg_alpha=161, reg_lambda=1;, score=0.426 total time=  24.7s\n",
      "[CV 6/10; 10/10] START colsample_bytree=0.7000000000000001, gamma=1, learning_rate=1.6, max_depth=351, min_child_weight=10, n_estimators=301, reg_alpha=161, reg_lambda=1\n"
     ]
    },
    {
     "name": "stderr",
     "output_type": "stream",
     "text": [
      "c:\\Users\\Saurav\\anaconda3\\Lib\\site-packages\\xgboost\\data.py:440: FutureWarning: is_sparse is deprecated and will be removed in a future version. Check `isinstance(dtype, pd.SparseDtype)` instead.\n",
      "  if is_sparse(data):\n"
     ]
    },
    {
     "name": "stdout",
     "output_type": "stream",
     "text": [
      "[CV 6/10; 10/10] END colsample_bytree=0.7000000000000001, gamma=1, learning_rate=1.6, max_depth=351, min_child_weight=10, n_estimators=301, reg_alpha=161, reg_lambda=1;, score=0.446 total time=  21.3s\n",
      "[CV 7/10; 10/10] START colsample_bytree=0.7000000000000001, gamma=1, learning_rate=1.6, max_depth=351, min_child_weight=10, n_estimators=301, reg_alpha=161, reg_lambda=1\n"
     ]
    },
    {
     "name": "stderr",
     "output_type": "stream",
     "text": [
      "c:\\Users\\Saurav\\anaconda3\\Lib\\site-packages\\xgboost\\data.py:440: FutureWarning: is_sparse is deprecated and will be removed in a future version. Check `isinstance(dtype, pd.SparseDtype)` instead.\n",
      "  if is_sparse(data):\n"
     ]
    },
    {
     "name": "stdout",
     "output_type": "stream",
     "text": [
      "[CV 7/10; 10/10] END colsample_bytree=0.7000000000000001, gamma=1, learning_rate=1.6, max_depth=351, min_child_weight=10, n_estimators=301, reg_alpha=161, reg_lambda=1;, score=0.467 total time=  19.5s\n",
      "[CV 8/10; 10/10] START colsample_bytree=0.7000000000000001, gamma=1, learning_rate=1.6, max_depth=351, min_child_weight=10, n_estimators=301, reg_alpha=161, reg_lambda=1\n"
     ]
    },
    {
     "name": "stderr",
     "output_type": "stream",
     "text": [
      "c:\\Users\\Saurav\\anaconda3\\Lib\\site-packages\\xgboost\\data.py:440: FutureWarning: is_sparse is deprecated and will be removed in a future version. Check `isinstance(dtype, pd.SparseDtype)` instead.\n",
      "  if is_sparse(data):\n"
     ]
    },
    {
     "name": "stdout",
     "output_type": "stream",
     "text": [
      "[CV 8/10; 10/10] END colsample_bytree=0.7000000000000001, gamma=1, learning_rate=1.6, max_depth=351, min_child_weight=10, n_estimators=301, reg_alpha=161, reg_lambda=1;, score=0.462 total time=  19.6s\n",
      "[CV 9/10; 10/10] START colsample_bytree=0.7000000000000001, gamma=1, learning_rate=1.6, max_depth=351, min_child_weight=10, n_estimators=301, reg_alpha=161, reg_lambda=1\n"
     ]
    },
    {
     "name": "stderr",
     "output_type": "stream",
     "text": [
      "c:\\Users\\Saurav\\anaconda3\\Lib\\site-packages\\xgboost\\data.py:440: FutureWarning: is_sparse is deprecated and will be removed in a future version. Check `isinstance(dtype, pd.SparseDtype)` instead.\n",
      "  if is_sparse(data):\n"
     ]
    },
    {
     "name": "stdout",
     "output_type": "stream",
     "text": [
      "[CV 9/10; 10/10] END colsample_bytree=0.7000000000000001, gamma=1, learning_rate=1.6, max_depth=351, min_child_weight=10, n_estimators=301, reg_alpha=161, reg_lambda=1;, score=0.446 total time=  20.9s\n",
      "[CV 10/10; 10/10] START colsample_bytree=0.7000000000000001, gamma=1, learning_rate=1.6, max_depth=351, min_child_weight=10, n_estimators=301, reg_alpha=161, reg_lambda=1\n"
     ]
    },
    {
     "name": "stderr",
     "output_type": "stream",
     "text": [
      "c:\\Users\\Saurav\\anaconda3\\Lib\\site-packages\\xgboost\\data.py:440: FutureWarning: is_sparse is deprecated and will be removed in a future version. Check `isinstance(dtype, pd.SparseDtype)` instead.\n",
      "  if is_sparse(data):\n"
     ]
    },
    {
     "name": "stdout",
     "output_type": "stream",
     "text": [
      "[CV 10/10; 10/10] END colsample_bytree=0.7000000000000001, gamma=1, learning_rate=1.6, max_depth=351, min_child_weight=10, n_estimators=301, reg_alpha=161, reg_lambda=1;, score=0.441 total time=  19.3s\n"
     ]
    },
    {
     "name": "stderr",
     "output_type": "stream",
     "text": [
      "c:\\Users\\Saurav\\anaconda3\\Lib\\site-packages\\xgboost\\data.py:440: FutureWarning: is_sparse is deprecated and will be removed in a future version. Check `isinstance(dtype, pd.SparseDtype)` instead.\n",
      "  if is_sparse(data):\n"
     ]
    },
    {
     "name": "stdout",
     "output_type": "stream",
     "text": [
      "Fitting 10 folds for each of 10 candidates, totalling 100 fits\n",
      "[CV 1/10; 1/10] START colsample_bytree=0.6000000000000001, gamma=1, learning_rate=1.3, max_depth=301, min_child_weight=5, n_estimators=151, reg_alpha=221, reg_lambda=0\n"
     ]
    },
    {
     "name": "stderr",
     "output_type": "stream",
     "text": [
      "c:\\Users\\Saurav\\anaconda3\\Lib\\site-packages\\xgboost\\data.py:440: FutureWarning: is_sparse is deprecated and will be removed in a future version. Check `isinstance(dtype, pd.SparseDtype)` instead.\n",
      "  if is_sparse(data):\n"
     ]
    },
    {
     "name": "stdout",
     "output_type": "stream",
     "text": [
      "[CV 1/10; 1/10] END colsample_bytree=0.6000000000000001, gamma=1, learning_rate=1.3, max_depth=301, min_child_weight=5, n_estimators=151, reg_alpha=221, reg_lambda=0;, score=0.204 total time=   8.0s\n",
      "[CV 2/10; 1/10] START colsample_bytree=0.6000000000000001, gamma=1, learning_rate=1.3, max_depth=301, min_child_weight=5, n_estimators=151, reg_alpha=221, reg_lambda=0\n"
     ]
    },
    {
     "name": "stderr",
     "output_type": "stream",
     "text": [
      "c:\\Users\\Saurav\\anaconda3\\Lib\\site-packages\\xgboost\\data.py:440: FutureWarning: is_sparse is deprecated and will be removed in a future version. Check `isinstance(dtype, pd.SparseDtype)` instead.\n",
      "  if is_sparse(data):\n"
     ]
    },
    {
     "name": "stdout",
     "output_type": "stream",
     "text": [
      "[CV 2/10; 1/10] END colsample_bytree=0.6000000000000001, gamma=1, learning_rate=1.3, max_depth=301, min_child_weight=5, n_estimators=151, reg_alpha=221, reg_lambda=0;, score=0.204 total time=   8.1s\n",
      "[CV 3/10; 1/10] START colsample_bytree=0.6000000000000001, gamma=1, learning_rate=1.3, max_depth=301, min_child_weight=5, n_estimators=151, reg_alpha=221, reg_lambda=0\n"
     ]
    },
    {
     "name": "stderr",
     "output_type": "stream",
     "text": [
      "c:\\Users\\Saurav\\anaconda3\\Lib\\site-packages\\xgboost\\data.py:440: FutureWarning: is_sparse is deprecated and will be removed in a future version. Check `isinstance(dtype, pd.SparseDtype)` instead.\n",
      "  if is_sparse(data):\n"
     ]
    },
    {
     "name": "stdout",
     "output_type": "stream",
     "text": [
      "[CV 3/10; 1/10] END colsample_bytree=0.6000000000000001, gamma=1, learning_rate=1.3, max_depth=301, min_child_weight=5, n_estimators=151, reg_alpha=221, reg_lambda=0;, score=0.200 total time=   8.0s\n",
      "[CV 4/10; 1/10] START colsample_bytree=0.6000000000000001, gamma=1, learning_rate=1.3, max_depth=301, min_child_weight=5, n_estimators=151, reg_alpha=221, reg_lambda=0\n"
     ]
    },
    {
     "name": "stderr",
     "output_type": "stream",
     "text": [
      "c:\\Users\\Saurav\\anaconda3\\Lib\\site-packages\\xgboost\\data.py:440: FutureWarning: is_sparse is deprecated and will be removed in a future version. Check `isinstance(dtype, pd.SparseDtype)` instead.\n",
      "  if is_sparse(data):\n"
     ]
    },
    {
     "name": "stdout",
     "output_type": "stream",
     "text": [
      "[CV 4/10; 1/10] END colsample_bytree=0.6000000000000001, gamma=1, learning_rate=1.3, max_depth=301, min_child_weight=5, n_estimators=151, reg_alpha=221, reg_lambda=0;, score=0.200 total time=   7.9s\n",
      "[CV 5/10; 1/10] START colsample_bytree=0.6000000000000001, gamma=1, learning_rate=1.3, max_depth=301, min_child_weight=5, n_estimators=151, reg_alpha=221, reg_lambda=0\n"
     ]
    },
    {
     "name": "stderr",
     "output_type": "stream",
     "text": [
      "c:\\Users\\Saurav\\anaconda3\\Lib\\site-packages\\xgboost\\data.py:440: FutureWarning: is_sparse is deprecated and will be removed in a future version. Check `isinstance(dtype, pd.SparseDtype)` instead.\n",
      "  if is_sparse(data):\n"
     ]
    },
    {
     "name": "stdout",
     "output_type": "stream",
     "text": [
      "[CV 5/10; 1/10] END colsample_bytree=0.6000000000000001, gamma=1, learning_rate=1.3, max_depth=301, min_child_weight=5, n_estimators=151, reg_alpha=221, reg_lambda=0;, score=0.200 total time=   8.1s\n",
      "[CV 6/10; 1/10] START colsample_bytree=0.6000000000000001, gamma=1, learning_rate=1.3, max_depth=301, min_child_weight=5, n_estimators=151, reg_alpha=221, reg_lambda=0\n"
     ]
    },
    {
     "name": "stderr",
     "output_type": "stream",
     "text": [
      "c:\\Users\\Saurav\\anaconda3\\Lib\\site-packages\\xgboost\\data.py:440: FutureWarning: is_sparse is deprecated and will be removed in a future version. Check `isinstance(dtype, pd.SparseDtype)` instead.\n",
      "  if is_sparse(data):\n"
     ]
    },
    {
     "name": "stdout",
     "output_type": "stream",
     "text": [
      "[CV 6/10; 1/10] END colsample_bytree=0.6000000000000001, gamma=1, learning_rate=1.3, max_depth=301, min_child_weight=5, n_estimators=151, reg_alpha=221, reg_lambda=0;, score=0.205 total time=   7.9s\n",
      "[CV 7/10; 1/10] START colsample_bytree=0.6000000000000001, gamma=1, learning_rate=1.3, max_depth=301, min_child_weight=5, n_estimators=151, reg_alpha=221, reg_lambda=0\n"
     ]
    },
    {
     "name": "stderr",
     "output_type": "stream",
     "text": [
      "c:\\Users\\Saurav\\anaconda3\\Lib\\site-packages\\xgboost\\data.py:440: FutureWarning: is_sparse is deprecated and will be removed in a future version. Check `isinstance(dtype, pd.SparseDtype)` instead.\n",
      "  if is_sparse(data):\n"
     ]
    },
    {
     "name": "stdout",
     "output_type": "stream",
     "text": [
      "[CV 7/10; 1/10] END colsample_bytree=0.6000000000000001, gamma=1, learning_rate=1.3, max_depth=301, min_child_weight=5, n_estimators=151, reg_alpha=221, reg_lambda=0;, score=0.205 total time=  10.0s\n",
      "[CV 8/10; 1/10] START colsample_bytree=0.6000000000000001, gamma=1, learning_rate=1.3, max_depth=301, min_child_weight=5, n_estimators=151, reg_alpha=221, reg_lambda=0\n"
     ]
    },
    {
     "name": "stderr",
     "output_type": "stream",
     "text": [
      "c:\\Users\\Saurav\\anaconda3\\Lib\\site-packages\\xgboost\\data.py:440: FutureWarning: is_sparse is deprecated and will be removed in a future version. Check `isinstance(dtype, pd.SparseDtype)` instead.\n",
      "  if is_sparse(data):\n"
     ]
    },
    {
     "name": "stdout",
     "output_type": "stream",
     "text": [
      "[CV 8/10; 1/10] END colsample_bytree=0.6000000000000001, gamma=1, learning_rate=1.3, max_depth=301, min_child_weight=5, n_estimators=151, reg_alpha=221, reg_lambda=0;, score=0.205 total time=   8.1s\n",
      "[CV 9/10; 1/10] START colsample_bytree=0.6000000000000001, gamma=1, learning_rate=1.3, max_depth=301, min_child_weight=5, n_estimators=151, reg_alpha=221, reg_lambda=0\n"
     ]
    },
    {
     "name": "stderr",
     "output_type": "stream",
     "text": [
      "c:\\Users\\Saurav\\anaconda3\\Lib\\site-packages\\xgboost\\data.py:440: FutureWarning: is_sparse is deprecated and will be removed in a future version. Check `isinstance(dtype, pd.SparseDtype)` instead.\n",
      "  if is_sparse(data):\n"
     ]
    },
    {
     "name": "stdout",
     "output_type": "stream",
     "text": [
      "[CV 9/10; 1/10] END colsample_bytree=0.6000000000000001, gamma=1, learning_rate=1.3, max_depth=301, min_child_weight=5, n_estimators=151, reg_alpha=221, reg_lambda=0;, score=0.205 total time=   7.9s\n",
      "[CV 10/10; 1/10] START colsample_bytree=0.6000000000000001, gamma=1, learning_rate=1.3, max_depth=301, min_child_weight=5, n_estimators=151, reg_alpha=221, reg_lambda=0\n"
     ]
    },
    {
     "name": "stderr",
     "output_type": "stream",
     "text": [
      "c:\\Users\\Saurav\\anaconda3\\Lib\\site-packages\\xgboost\\data.py:440: FutureWarning: is_sparse is deprecated and will be removed in a future version. Check `isinstance(dtype, pd.SparseDtype)` instead.\n",
      "  if is_sparse(data):\n"
     ]
    },
    {
     "name": "stdout",
     "output_type": "stream",
     "text": [
      "[CV 10/10; 1/10] END colsample_bytree=0.6000000000000001, gamma=1, learning_rate=1.3, max_depth=301, min_child_weight=5, n_estimators=151, reg_alpha=221, reg_lambda=0;, score=0.205 total time=   8.0s\n",
      "[CV 1/10; 2/10] START colsample_bytree=0.0, gamma=7, learning_rate=0.9, max_depth=51, min_child_weight=5, n_estimators=251, reg_alpha=121, reg_lambda=2\n"
     ]
    },
    {
     "name": "stderr",
     "output_type": "stream",
     "text": [
      "c:\\Users\\Saurav\\anaconda3\\Lib\\site-packages\\xgboost\\data.py:440: FutureWarning: is_sparse is deprecated and will be removed in a future version. Check `isinstance(dtype, pd.SparseDtype)` instead.\n",
      "  if is_sparse(data):\n"
     ]
    },
    {
     "name": "stdout",
     "output_type": "stream",
     "text": [
      "[CV 1/10; 2/10] END colsample_bytree=0.0, gamma=7, learning_rate=0.9, max_depth=51, min_child_weight=5, n_estimators=251, reg_alpha=121, reg_lambda=2;, score=0.204 total time=   5.0s\n",
      "[CV 2/10; 2/10] START colsample_bytree=0.0, gamma=7, learning_rate=0.9, max_depth=51, min_child_weight=5, n_estimators=251, reg_alpha=121, reg_lambda=2\n"
     ]
    },
    {
     "name": "stderr",
     "output_type": "stream",
     "text": [
      "c:\\Users\\Saurav\\anaconda3\\Lib\\site-packages\\xgboost\\data.py:440: FutureWarning: is_sparse is deprecated and will be removed in a future version. Check `isinstance(dtype, pd.SparseDtype)` instead.\n",
      "  if is_sparse(data):\n"
     ]
    },
    {
     "name": "stdout",
     "output_type": "stream",
     "text": [
      "[CV 2/10; 2/10] END colsample_bytree=0.0, gamma=7, learning_rate=0.9, max_depth=51, min_child_weight=5, n_estimators=251, reg_alpha=121, reg_lambda=2;, score=0.204 total time=   4.7s\n",
      "[CV 3/10; 2/10] START colsample_bytree=0.0, gamma=7, learning_rate=0.9, max_depth=51, min_child_weight=5, n_estimators=251, reg_alpha=121, reg_lambda=2\n"
     ]
    },
    {
     "name": "stderr",
     "output_type": "stream",
     "text": [
      "c:\\Users\\Saurav\\anaconda3\\Lib\\site-packages\\xgboost\\data.py:440: FutureWarning: is_sparse is deprecated and will be removed in a future version. Check `isinstance(dtype, pd.SparseDtype)` instead.\n",
      "  if is_sparse(data):\n"
     ]
    },
    {
     "name": "stdout",
     "output_type": "stream",
     "text": [
      "[CV 3/10; 2/10] END colsample_bytree=0.0, gamma=7, learning_rate=0.9, max_depth=51, min_child_weight=5, n_estimators=251, reg_alpha=121, reg_lambda=2;, score=0.200 total time=   5.2s\n",
      "[CV 4/10; 2/10] START colsample_bytree=0.0, gamma=7, learning_rate=0.9, max_depth=51, min_child_weight=5, n_estimators=251, reg_alpha=121, reg_lambda=2\n"
     ]
    },
    {
     "name": "stderr",
     "output_type": "stream",
     "text": [
      "c:\\Users\\Saurav\\anaconda3\\Lib\\site-packages\\xgboost\\data.py:440: FutureWarning: is_sparse is deprecated and will be removed in a future version. Check `isinstance(dtype, pd.SparseDtype)` instead.\n",
      "  if is_sparse(data):\n"
     ]
    },
    {
     "name": "stdout",
     "output_type": "stream",
     "text": [
      "[CV 4/10; 2/10] END colsample_bytree=0.0, gamma=7, learning_rate=0.9, max_depth=51, min_child_weight=5, n_estimators=251, reg_alpha=121, reg_lambda=2;, score=0.200 total time=   4.8s\n",
      "[CV 5/10; 2/10] START colsample_bytree=0.0, gamma=7, learning_rate=0.9, max_depth=51, min_child_weight=5, n_estimators=251, reg_alpha=121, reg_lambda=2\n"
     ]
    },
    {
     "name": "stderr",
     "output_type": "stream",
     "text": [
      "c:\\Users\\Saurav\\anaconda3\\Lib\\site-packages\\xgboost\\data.py:440: FutureWarning: is_sparse is deprecated and will be removed in a future version. Check `isinstance(dtype, pd.SparseDtype)` instead.\n",
      "  if is_sparse(data):\n"
     ]
    },
    {
     "name": "stdout",
     "output_type": "stream",
     "text": [
      "[CV 5/10; 2/10] END colsample_bytree=0.0, gamma=7, learning_rate=0.9, max_depth=51, min_child_weight=5, n_estimators=251, reg_alpha=121, reg_lambda=2;, score=0.200 total time=   4.9s\n",
      "[CV 6/10; 2/10] START colsample_bytree=0.0, gamma=7, learning_rate=0.9, max_depth=51, min_child_weight=5, n_estimators=251, reg_alpha=121, reg_lambda=2\n"
     ]
    },
    {
     "name": "stderr",
     "output_type": "stream",
     "text": [
      "c:\\Users\\Saurav\\anaconda3\\Lib\\site-packages\\xgboost\\data.py:440: FutureWarning: is_sparse is deprecated and will be removed in a future version. Check `isinstance(dtype, pd.SparseDtype)` instead.\n",
      "  if is_sparse(data):\n"
     ]
    },
    {
     "name": "stdout",
     "output_type": "stream",
     "text": [
      "[CV 6/10; 2/10] END colsample_bytree=0.0, gamma=7, learning_rate=0.9, max_depth=51, min_child_weight=5, n_estimators=251, reg_alpha=121, reg_lambda=2;, score=0.205 total time=   4.9s\n",
      "[CV 7/10; 2/10] START colsample_bytree=0.0, gamma=7, learning_rate=0.9, max_depth=51, min_child_weight=5, n_estimators=251, reg_alpha=121, reg_lambda=2\n"
     ]
    },
    {
     "name": "stderr",
     "output_type": "stream",
     "text": [
      "c:\\Users\\Saurav\\anaconda3\\Lib\\site-packages\\xgboost\\data.py:440: FutureWarning: is_sparse is deprecated and will be removed in a future version. Check `isinstance(dtype, pd.SparseDtype)` instead.\n",
      "  if is_sparse(data):\n"
     ]
    },
    {
     "name": "stdout",
     "output_type": "stream",
     "text": [
      "[CV 7/10; 2/10] END colsample_bytree=0.0, gamma=7, learning_rate=0.9, max_depth=51, min_child_weight=5, n_estimators=251, reg_alpha=121, reg_lambda=2;, score=0.205 total time=   4.8s\n",
      "[CV 8/10; 2/10] START colsample_bytree=0.0, gamma=7, learning_rate=0.9, max_depth=51, min_child_weight=5, n_estimators=251, reg_alpha=121, reg_lambda=2\n"
     ]
    },
    {
     "name": "stderr",
     "output_type": "stream",
     "text": [
      "c:\\Users\\Saurav\\anaconda3\\Lib\\site-packages\\xgboost\\data.py:440: FutureWarning: is_sparse is deprecated and will be removed in a future version. Check `isinstance(dtype, pd.SparseDtype)` instead.\n",
      "  if is_sparse(data):\n"
     ]
    },
    {
     "name": "stdout",
     "output_type": "stream",
     "text": [
      "[CV 8/10; 2/10] END colsample_bytree=0.0, gamma=7, learning_rate=0.9, max_depth=51, min_child_weight=5, n_estimators=251, reg_alpha=121, reg_lambda=2;, score=0.205 total time=   4.7s\n",
      "[CV 9/10; 2/10] START colsample_bytree=0.0, gamma=7, learning_rate=0.9, max_depth=51, min_child_weight=5, n_estimators=251, reg_alpha=121, reg_lambda=2\n"
     ]
    },
    {
     "name": "stderr",
     "output_type": "stream",
     "text": [
      "c:\\Users\\Saurav\\anaconda3\\Lib\\site-packages\\xgboost\\data.py:440: FutureWarning: is_sparse is deprecated and will be removed in a future version. Check `isinstance(dtype, pd.SparseDtype)` instead.\n",
      "  if is_sparse(data):\n"
     ]
    },
    {
     "name": "stdout",
     "output_type": "stream",
     "text": [
      "[CV 9/10; 2/10] END colsample_bytree=0.0, gamma=7, learning_rate=0.9, max_depth=51, min_child_weight=5, n_estimators=251, reg_alpha=121, reg_lambda=2;, score=0.205 total time=   4.9s\n",
      "[CV 10/10; 2/10] START colsample_bytree=0.0, gamma=7, learning_rate=0.9, max_depth=51, min_child_weight=5, n_estimators=251, reg_alpha=121, reg_lambda=2\n"
     ]
    },
    {
     "name": "stderr",
     "output_type": "stream",
     "text": [
      "c:\\Users\\Saurav\\anaconda3\\Lib\\site-packages\\xgboost\\data.py:440: FutureWarning: is_sparse is deprecated and will be removed in a future version. Check `isinstance(dtype, pd.SparseDtype)` instead.\n",
      "  if is_sparse(data):\n"
     ]
    },
    {
     "name": "stdout",
     "output_type": "stream",
     "text": [
      "[CV 10/10; 2/10] END colsample_bytree=0.0, gamma=7, learning_rate=0.9, max_depth=51, min_child_weight=5, n_estimators=251, reg_alpha=121, reg_lambda=2;, score=0.205 total time=   4.7s\n",
      "[CV 1/10; 3/10] START colsample_bytree=0.6000000000000001, gamma=4, learning_rate=1.0, max_depth=351, min_child_weight=35, n_estimators=1, reg_alpha=161, reg_lambda=3\n",
      "[CV 1/10; 3/10] END colsample_bytree=0.6000000000000001, gamma=4, learning_rate=1.0, max_depth=351, min_child_weight=35, n_estimators=1, reg_alpha=161, reg_lambda=3;, score=0.306 total time=   0.0s\n",
      "[CV 2/10; 3/10] START colsample_bytree=0.6000000000000001, gamma=4, learning_rate=1.0, max_depth=351, min_child_weight=35, n_estimators=1, reg_alpha=161, reg_lambda=3\n",
      "[CV 2/10; 3/10] END colsample_bytree=0.6000000000000001, gamma=4, learning_rate=1.0, max_depth=351, min_child_weight=35, n_estimators=1, reg_alpha=161, reg_lambda=3;, score=0.337 total time=   0.0s\n",
      "[CV 3/10; 3/10] START colsample_bytree=0.6000000000000001, gamma=4, learning_rate=1.0, max_depth=351, min_child_weight=35, n_estimators=1, reg_alpha=161, reg_lambda=3\n"
     ]
    },
    {
     "name": "stderr",
     "output_type": "stream",
     "text": [
      "c:\\Users\\Saurav\\anaconda3\\Lib\\site-packages\\xgboost\\data.py:440: FutureWarning: is_sparse is deprecated and will be removed in a future version. Check `isinstance(dtype, pd.SparseDtype)` instead.\n",
      "  if is_sparse(data):\n",
      "c:\\Users\\Saurav\\anaconda3\\Lib\\site-packages\\xgboost\\data.py:440: FutureWarning: is_sparse is deprecated and will be removed in a future version. Check `isinstance(dtype, pd.SparseDtype)` instead.\n",
      "  if is_sparse(data):\n",
      "c:\\Users\\Saurav\\anaconda3\\Lib\\site-packages\\xgboost\\data.py:440: FutureWarning: is_sparse is deprecated and will be removed in a future version. Check `isinstance(dtype, pd.SparseDtype)` instead.\n",
      "  if is_sparse(data):\n",
      "c:\\Users\\Saurav\\anaconda3\\Lib\\site-packages\\xgboost\\data.py:440: FutureWarning: is_sparse is deprecated and will be removed in a future version. Check `isinstance(dtype, pd.SparseDtype)` instead.\n",
      "  if is_sparse(data):\n",
      "c:\\Users\\Saurav\\anaconda3\\Lib\\site-packages\\xgboost\\data.py:440: FutureWarning: is_sparse is deprecated and will be removed in a future version. Check `isinstance(dtype, pd.SparseDtype)` instead.\n",
      "  if is_sparse(data):\n"
     ]
    },
    {
     "name": "stdout",
     "output_type": "stream",
     "text": [
      "[CV 3/10; 3/10] END colsample_bytree=0.6000000000000001, gamma=4, learning_rate=1.0, max_depth=351, min_child_weight=35, n_estimators=1, reg_alpha=161, reg_lambda=3;, score=0.323 total time=   0.0s\n",
      "[CV 4/10; 3/10] START colsample_bytree=0.6000000000000001, gamma=4, learning_rate=1.0, max_depth=351, min_child_weight=35, n_estimators=1, reg_alpha=161, reg_lambda=3\n",
      "[CV 4/10; 3/10] END colsample_bytree=0.6000000000000001, gamma=4, learning_rate=1.0, max_depth=351, min_child_weight=35, n_estimators=1, reg_alpha=161, reg_lambda=3;, score=0.318 total time=   0.0s\n",
      "[CV 5/10; 3/10] START colsample_bytree=0.6000000000000001, gamma=4, learning_rate=1.0, max_depth=351, min_child_weight=35, n_estimators=1, reg_alpha=161, reg_lambda=3\n",
      "[CV 5/10; 3/10] END colsample_bytree=0.6000000000000001, gamma=4, learning_rate=1.0, max_depth=351, min_child_weight=35, n_estimators=1, reg_alpha=161, reg_lambda=3;, score=0.313 total time=   0.0s\n",
      "[CV 6/10; 3/10] START colsample_bytree=0.6000000000000001, gamma=4, learning_rate=1.0, max_depth=351, min_child_weight=35, n_estimators=1, reg_alpha=161, reg_lambda=3\n"
     ]
    },
    {
     "name": "stderr",
     "output_type": "stream",
     "text": [
      "c:\\Users\\Saurav\\anaconda3\\Lib\\site-packages\\xgboost\\data.py:440: FutureWarning: is_sparse is deprecated and will be removed in a future version. Check `isinstance(dtype, pd.SparseDtype)` instead.\n",
      "  if is_sparse(data):\n",
      "c:\\Users\\Saurav\\anaconda3\\Lib\\site-packages\\xgboost\\data.py:440: FutureWarning: is_sparse is deprecated and will be removed in a future version. Check `isinstance(dtype, pd.SparseDtype)` instead.\n",
      "  if is_sparse(data):\n"
     ]
    },
    {
     "name": "stdout",
     "output_type": "stream",
     "text": [
      "[CV 6/10; 3/10] END colsample_bytree=0.6000000000000001, gamma=4, learning_rate=1.0, max_depth=351, min_child_weight=35, n_estimators=1, reg_alpha=161, reg_lambda=3;, score=0.333 total time=   0.0s\n",
      "[CV 7/10; 3/10] START colsample_bytree=0.6000000000000001, gamma=4, learning_rate=1.0, max_depth=351, min_child_weight=35, n_estimators=1, reg_alpha=161, reg_lambda=3\n",
      "[CV 7/10; 3/10] END colsample_bytree=0.6000000000000001, gamma=4, learning_rate=1.0, max_depth=351, min_child_weight=35, n_estimators=1, reg_alpha=161, reg_lambda=3;, score=0.344 total time=   0.0s\n",
      "[CV 8/10; 3/10] START colsample_bytree=0.6000000000000001, gamma=4, learning_rate=1.0, max_depth=351, min_child_weight=35, n_estimators=1, reg_alpha=161, reg_lambda=3\n"
     ]
    },
    {
     "name": "stderr",
     "output_type": "stream",
     "text": [
      "c:\\Users\\Saurav\\anaconda3\\Lib\\site-packages\\xgboost\\data.py:440: FutureWarning: is_sparse is deprecated and will be removed in a future version. Check `isinstance(dtype, pd.SparseDtype)` instead.\n",
      "  if is_sparse(data):\n",
      "c:\\Users\\Saurav\\anaconda3\\Lib\\site-packages\\xgboost\\data.py:440: FutureWarning: is_sparse is deprecated and will be removed in a future version. Check `isinstance(dtype, pd.SparseDtype)` instead.\n",
      "  if is_sparse(data):\n",
      "c:\\Users\\Saurav\\anaconda3\\Lib\\site-packages\\xgboost\\data.py:440: FutureWarning: is_sparse is deprecated and will be removed in a future version. Check `isinstance(dtype, pd.SparseDtype)` instead.\n",
      "  if is_sparse(data):\n"
     ]
    },
    {
     "name": "stdout",
     "output_type": "stream",
     "text": [
      "[CV 8/10; 3/10] END colsample_bytree=0.6000000000000001, gamma=4, learning_rate=1.0, max_depth=351, min_child_weight=35, n_estimators=1, reg_alpha=161, reg_lambda=3;, score=0.333 total time=   0.0s\n",
      "[CV 9/10; 3/10] START colsample_bytree=0.6000000000000001, gamma=4, learning_rate=1.0, max_depth=351, min_child_weight=35, n_estimators=1, reg_alpha=161, reg_lambda=3\n",
      "[CV 9/10; 3/10] END colsample_bytree=0.6000000000000001, gamma=4, learning_rate=1.0, max_depth=351, min_child_weight=35, n_estimators=1, reg_alpha=161, reg_lambda=3;, score=0.344 total time=   0.0s\n",
      "[CV 10/10; 3/10] START colsample_bytree=0.6000000000000001, gamma=4, learning_rate=1.0, max_depth=351, min_child_weight=35, n_estimators=1, reg_alpha=161, reg_lambda=3\n",
      "[CV 10/10; 3/10] END colsample_bytree=0.6000000000000001, gamma=4, learning_rate=1.0, max_depth=351, min_child_weight=35, n_estimators=1, reg_alpha=161, reg_lambda=3;, score=0.333 total time=   0.0s\n",
      "[CV 1/10; 4/10] START colsample_bytree=0.30000000000000004, gamma=1, learning_rate=1.8, max_depth=301, min_child_weight=10, n_estimators=351, reg_alpha=161, reg_lambda=2\n"
     ]
    },
    {
     "name": "stderr",
     "output_type": "stream",
     "text": [
      "c:\\Users\\Saurav\\anaconda3\\Lib\\site-packages\\xgboost\\data.py:440: FutureWarning: is_sparse is deprecated and will be removed in a future version. Check `isinstance(dtype, pd.SparseDtype)` instead.\n",
      "  if is_sparse(data):\n"
     ]
    },
    {
     "name": "stdout",
     "output_type": "stream",
     "text": [
      "[CV 1/10; 4/10] END colsample_bytree=0.30000000000000004, gamma=1, learning_rate=1.8, max_depth=301, min_child_weight=10, n_estimators=351, reg_alpha=161, reg_lambda=2;, score=0.439 total time=  12.5s\n",
      "[CV 2/10; 4/10] START colsample_bytree=0.30000000000000004, gamma=1, learning_rate=1.8, max_depth=301, min_child_weight=10, n_estimators=351, reg_alpha=161, reg_lambda=2\n"
     ]
    },
    {
     "name": "stderr",
     "output_type": "stream",
     "text": [
      "c:\\Users\\Saurav\\anaconda3\\Lib\\site-packages\\xgboost\\data.py:440: FutureWarning: is_sparse is deprecated and will be removed in a future version. Check `isinstance(dtype, pd.SparseDtype)` instead.\n",
      "  if is_sparse(data):\n"
     ]
    },
    {
     "name": "stdout",
     "output_type": "stream",
     "text": [
      "[CV 2/10; 4/10] END colsample_bytree=0.30000000000000004, gamma=1, learning_rate=1.8, max_depth=301, min_child_weight=10, n_estimators=351, reg_alpha=161, reg_lambda=2;, score=0.439 total time=  12.8s\n",
      "[CV 3/10; 4/10] START colsample_bytree=0.30000000000000004, gamma=1, learning_rate=1.8, max_depth=301, min_child_weight=10, n_estimators=351, reg_alpha=161, reg_lambda=2\n"
     ]
    },
    {
     "name": "stderr",
     "output_type": "stream",
     "text": [
      "c:\\Users\\Saurav\\anaconda3\\Lib\\site-packages\\xgboost\\data.py:440: FutureWarning: is_sparse is deprecated and will be removed in a future version. Check `isinstance(dtype, pd.SparseDtype)` instead.\n",
      "  if is_sparse(data):\n"
     ]
    },
    {
     "name": "stdout",
     "output_type": "stream",
     "text": [
      "[CV 3/10; 4/10] END colsample_bytree=0.30000000000000004, gamma=1, learning_rate=1.8, max_depth=301, min_child_weight=10, n_estimators=351, reg_alpha=161, reg_lambda=2;, score=0.431 total time=  12.6s\n",
      "[CV 4/10; 4/10] START colsample_bytree=0.30000000000000004, gamma=1, learning_rate=1.8, max_depth=301, min_child_weight=10, n_estimators=351, reg_alpha=161, reg_lambda=2\n"
     ]
    },
    {
     "name": "stderr",
     "output_type": "stream",
     "text": [
      "c:\\Users\\Saurav\\anaconda3\\Lib\\site-packages\\xgboost\\data.py:440: FutureWarning: is_sparse is deprecated and will be removed in a future version. Check `isinstance(dtype, pd.SparseDtype)` instead.\n",
      "  if is_sparse(data):\n"
     ]
    },
    {
     "name": "stdout",
     "output_type": "stream",
     "text": [
      "[CV 4/10; 4/10] END colsample_bytree=0.30000000000000004, gamma=1, learning_rate=1.8, max_depth=301, min_child_weight=10, n_estimators=351, reg_alpha=161, reg_lambda=2;, score=0.467 total time=  12.7s\n",
      "[CV 5/10; 4/10] START colsample_bytree=0.30000000000000004, gamma=1, learning_rate=1.8, max_depth=301, min_child_weight=10, n_estimators=351, reg_alpha=161, reg_lambda=2\n"
     ]
    },
    {
     "name": "stderr",
     "output_type": "stream",
     "text": [
      "c:\\Users\\Saurav\\anaconda3\\Lib\\site-packages\\xgboost\\data.py:440: FutureWarning: is_sparse is deprecated and will be removed in a future version. Check `isinstance(dtype, pd.SparseDtype)` instead.\n",
      "  if is_sparse(data):\n"
     ]
    },
    {
     "name": "stdout",
     "output_type": "stream",
     "text": [
      "[CV 5/10; 4/10] END colsample_bytree=0.30000000000000004, gamma=1, learning_rate=1.8, max_depth=301, min_child_weight=10, n_estimators=351, reg_alpha=161, reg_lambda=2;, score=0.451 total time=  12.6s\n",
      "[CV 6/10; 4/10] START colsample_bytree=0.30000000000000004, gamma=1, learning_rate=1.8, max_depth=301, min_child_weight=10, n_estimators=351, reg_alpha=161, reg_lambda=2\n"
     ]
    },
    {
     "name": "stderr",
     "output_type": "stream",
     "text": [
      "c:\\Users\\Saurav\\anaconda3\\Lib\\site-packages\\xgboost\\data.py:440: FutureWarning: is_sparse is deprecated and will be removed in a future version. Check `isinstance(dtype, pd.SparseDtype)` instead.\n",
      "  if is_sparse(data):\n"
     ]
    },
    {
     "name": "stdout",
     "output_type": "stream",
     "text": [
      "[CV 6/10; 4/10] END colsample_bytree=0.30000000000000004, gamma=1, learning_rate=1.8, max_depth=301, min_child_weight=10, n_estimators=351, reg_alpha=161, reg_lambda=2;, score=0.456 total time=  12.7s\n",
      "[CV 7/10; 4/10] START colsample_bytree=0.30000000000000004, gamma=1, learning_rate=1.8, max_depth=301, min_child_weight=10, n_estimators=351, reg_alpha=161, reg_lambda=2\n"
     ]
    },
    {
     "name": "stderr",
     "output_type": "stream",
     "text": [
      "c:\\Users\\Saurav\\anaconda3\\Lib\\site-packages\\xgboost\\data.py:440: FutureWarning: is_sparse is deprecated and will be removed in a future version. Check `isinstance(dtype, pd.SparseDtype)` instead.\n",
      "  if is_sparse(data):\n"
     ]
    },
    {
     "name": "stdout",
     "output_type": "stream",
     "text": [
      "[CV 7/10; 4/10] END colsample_bytree=0.30000000000000004, gamma=1, learning_rate=1.8, max_depth=301, min_child_weight=10, n_estimators=351, reg_alpha=161, reg_lambda=2;, score=0.467 total time=  12.8s\n",
      "[CV 8/10; 4/10] START colsample_bytree=0.30000000000000004, gamma=1, learning_rate=1.8, max_depth=301, min_child_weight=10, n_estimators=351, reg_alpha=161, reg_lambda=2\n"
     ]
    },
    {
     "name": "stderr",
     "output_type": "stream",
     "text": [
      "c:\\Users\\Saurav\\anaconda3\\Lib\\site-packages\\xgboost\\data.py:440: FutureWarning: is_sparse is deprecated and will be removed in a future version. Check `isinstance(dtype, pd.SparseDtype)` instead.\n",
      "  if is_sparse(data):\n"
     ]
    },
    {
     "name": "stdout",
     "output_type": "stream",
     "text": [
      "[CV 8/10; 4/10] END colsample_bytree=0.30000000000000004, gamma=1, learning_rate=1.8, max_depth=301, min_child_weight=10, n_estimators=351, reg_alpha=161, reg_lambda=2;, score=0.477 total time=  12.8s\n",
      "[CV 9/10; 4/10] START colsample_bytree=0.30000000000000004, gamma=1, learning_rate=1.8, max_depth=301, min_child_weight=10, n_estimators=351, reg_alpha=161, reg_lambda=2\n"
     ]
    },
    {
     "name": "stderr",
     "output_type": "stream",
     "text": [
      "c:\\Users\\Saurav\\anaconda3\\Lib\\site-packages\\xgboost\\data.py:440: FutureWarning: is_sparse is deprecated and will be removed in a future version. Check `isinstance(dtype, pd.SparseDtype)` instead.\n",
      "  if is_sparse(data):\n"
     ]
    },
    {
     "name": "stdout",
     "output_type": "stream",
     "text": [
      "[CV 9/10; 4/10] END colsample_bytree=0.30000000000000004, gamma=1, learning_rate=1.8, max_depth=301, min_child_weight=10, n_estimators=351, reg_alpha=161, reg_lambda=2;, score=0.436 total time=  13.0s\n",
      "[CV 10/10; 4/10] START colsample_bytree=0.30000000000000004, gamma=1, learning_rate=1.8, max_depth=301, min_child_weight=10, n_estimators=351, reg_alpha=161, reg_lambda=2\n"
     ]
    },
    {
     "name": "stderr",
     "output_type": "stream",
     "text": [
      "c:\\Users\\Saurav\\anaconda3\\Lib\\site-packages\\xgboost\\data.py:440: FutureWarning: is_sparse is deprecated and will be removed in a future version. Check `isinstance(dtype, pd.SparseDtype)` instead.\n",
      "  if is_sparse(data):\n"
     ]
    },
    {
     "name": "stdout",
     "output_type": "stream",
     "text": [
      "[CV 10/10; 4/10] END colsample_bytree=0.30000000000000004, gamma=1, learning_rate=1.8, max_depth=301, min_child_weight=10, n_estimators=351, reg_alpha=161, reg_lambda=2;, score=0.426 total time=  12.6s\n",
      "[CV 1/10; 5/10] START colsample_bytree=0.5, gamma=1, learning_rate=1.9000000000000001, max_depth=351, min_child_weight=20, n_estimators=301, reg_alpha=241, reg_lambda=1\n"
     ]
    },
    {
     "name": "stderr",
     "output_type": "stream",
     "text": [
      "c:\\Users\\Saurav\\anaconda3\\Lib\\site-packages\\xgboost\\data.py:440: FutureWarning: is_sparse is deprecated and will be removed in a future version. Check `isinstance(dtype, pd.SparseDtype)` instead.\n",
      "  if is_sparse(data):\n"
     ]
    },
    {
     "name": "stdout",
     "output_type": "stream",
     "text": [
      "[CV 1/10; 5/10] END colsample_bytree=0.5, gamma=1, learning_rate=1.9000000000000001, max_depth=351, min_child_weight=20, n_estimators=301, reg_alpha=241, reg_lambda=1;, score=0.204 total time=  14.4s\n",
      "[CV 2/10; 5/10] START colsample_bytree=0.5, gamma=1, learning_rate=1.9000000000000001, max_depth=351, min_child_weight=20, n_estimators=301, reg_alpha=241, reg_lambda=1\n"
     ]
    },
    {
     "name": "stderr",
     "output_type": "stream",
     "text": [
      "c:\\Users\\Saurav\\anaconda3\\Lib\\site-packages\\xgboost\\data.py:440: FutureWarning: is_sparse is deprecated and will be removed in a future version. Check `isinstance(dtype, pd.SparseDtype)` instead.\n",
      "  if is_sparse(data):\n"
     ]
    },
    {
     "name": "stdout",
     "output_type": "stream",
     "text": [
      "[CV 2/10; 5/10] END colsample_bytree=0.5, gamma=1, learning_rate=1.9000000000000001, max_depth=351, min_child_weight=20, n_estimators=301, reg_alpha=241, reg_lambda=1;, score=0.204 total time=  14.2s\n",
      "[CV 3/10; 5/10] START colsample_bytree=0.5, gamma=1, learning_rate=1.9000000000000001, max_depth=351, min_child_weight=20, n_estimators=301, reg_alpha=241, reg_lambda=1\n"
     ]
    },
    {
     "name": "stderr",
     "output_type": "stream",
     "text": [
      "c:\\Users\\Saurav\\anaconda3\\Lib\\site-packages\\xgboost\\data.py:440: FutureWarning: is_sparse is deprecated and will be removed in a future version. Check `isinstance(dtype, pd.SparseDtype)` instead.\n",
      "  if is_sparse(data):\n"
     ]
    },
    {
     "name": "stdout",
     "output_type": "stream",
     "text": [
      "[CV 3/10; 5/10] END colsample_bytree=0.5, gamma=1, learning_rate=1.9000000000000001, max_depth=351, min_child_weight=20, n_estimators=301, reg_alpha=241, reg_lambda=1;, score=0.200 total time=  13.6s\n",
      "[CV 4/10; 5/10] START colsample_bytree=0.5, gamma=1, learning_rate=1.9000000000000001, max_depth=351, min_child_weight=20, n_estimators=301, reg_alpha=241, reg_lambda=1\n"
     ]
    },
    {
     "name": "stderr",
     "output_type": "stream",
     "text": [
      "c:\\Users\\Saurav\\anaconda3\\Lib\\site-packages\\xgboost\\data.py:440: FutureWarning: is_sparse is deprecated and will be removed in a future version. Check `isinstance(dtype, pd.SparseDtype)` instead.\n",
      "  if is_sparse(data):\n"
     ]
    },
    {
     "name": "stdout",
     "output_type": "stream",
     "text": [
      "[CV 4/10; 5/10] END colsample_bytree=0.5, gamma=1, learning_rate=1.9000000000000001, max_depth=351, min_child_weight=20, n_estimators=301, reg_alpha=241, reg_lambda=1;, score=0.200 total time=  13.3s\n",
      "[CV 5/10; 5/10] START colsample_bytree=0.5, gamma=1, learning_rate=1.9000000000000001, max_depth=351, min_child_weight=20, n_estimators=301, reg_alpha=241, reg_lambda=1\n"
     ]
    },
    {
     "name": "stderr",
     "output_type": "stream",
     "text": [
      "c:\\Users\\Saurav\\anaconda3\\Lib\\site-packages\\xgboost\\data.py:440: FutureWarning: is_sparse is deprecated and will be removed in a future version. Check `isinstance(dtype, pd.SparseDtype)` instead.\n",
      "  if is_sparse(data):\n"
     ]
    },
    {
     "name": "stdout",
     "output_type": "stream",
     "text": [
      "[CV 5/10; 5/10] END colsample_bytree=0.5, gamma=1, learning_rate=1.9000000000000001, max_depth=351, min_child_weight=20, n_estimators=301, reg_alpha=241, reg_lambda=1;, score=0.200 total time=  13.3s\n",
      "[CV 6/10; 5/10] START colsample_bytree=0.5, gamma=1, learning_rate=1.9000000000000001, max_depth=351, min_child_weight=20, n_estimators=301, reg_alpha=241, reg_lambda=1\n"
     ]
    },
    {
     "name": "stderr",
     "output_type": "stream",
     "text": [
      "c:\\Users\\Saurav\\anaconda3\\Lib\\site-packages\\xgboost\\data.py:440: FutureWarning: is_sparse is deprecated and will be removed in a future version. Check `isinstance(dtype, pd.SparseDtype)` instead.\n",
      "  if is_sparse(data):\n"
     ]
    },
    {
     "name": "stdout",
     "output_type": "stream",
     "text": [
      "[CV 6/10; 5/10] END colsample_bytree=0.5, gamma=1, learning_rate=1.9000000000000001, max_depth=351, min_child_weight=20, n_estimators=301, reg_alpha=241, reg_lambda=1;, score=0.205 total time=  13.6s\n",
      "[CV 7/10; 5/10] START colsample_bytree=0.5, gamma=1, learning_rate=1.9000000000000001, max_depth=351, min_child_weight=20, n_estimators=301, reg_alpha=241, reg_lambda=1\n"
     ]
    },
    {
     "name": "stderr",
     "output_type": "stream",
     "text": [
      "c:\\Users\\Saurav\\anaconda3\\Lib\\site-packages\\xgboost\\data.py:440: FutureWarning: is_sparse is deprecated and will be removed in a future version. Check `isinstance(dtype, pd.SparseDtype)` instead.\n",
      "  if is_sparse(data):\n"
     ]
    },
    {
     "name": "stdout",
     "output_type": "stream",
     "text": [
      "[CV 7/10; 5/10] END colsample_bytree=0.5, gamma=1, learning_rate=1.9000000000000001, max_depth=351, min_child_weight=20, n_estimators=301, reg_alpha=241, reg_lambda=1;, score=0.205 total time=  13.5s\n",
      "[CV 8/10; 5/10] START colsample_bytree=0.5, gamma=1, learning_rate=1.9000000000000001, max_depth=351, min_child_weight=20, n_estimators=301, reg_alpha=241, reg_lambda=1\n"
     ]
    },
    {
     "name": "stderr",
     "output_type": "stream",
     "text": [
      "c:\\Users\\Saurav\\anaconda3\\Lib\\site-packages\\xgboost\\data.py:440: FutureWarning: is_sparse is deprecated and will be removed in a future version. Check `isinstance(dtype, pd.SparseDtype)` instead.\n",
      "  if is_sparse(data):\n"
     ]
    },
    {
     "name": "stdout",
     "output_type": "stream",
     "text": [
      "[CV 8/10; 5/10] END colsample_bytree=0.5, gamma=1, learning_rate=1.9000000000000001, max_depth=351, min_child_weight=20, n_estimators=301, reg_alpha=241, reg_lambda=1;, score=0.205 total time=  13.3s\n",
      "[CV 9/10; 5/10] START colsample_bytree=0.5, gamma=1, learning_rate=1.9000000000000001, max_depth=351, min_child_weight=20, n_estimators=301, reg_alpha=241, reg_lambda=1\n"
     ]
    },
    {
     "name": "stderr",
     "output_type": "stream",
     "text": [
      "c:\\Users\\Saurav\\anaconda3\\Lib\\site-packages\\xgboost\\data.py:440: FutureWarning: is_sparse is deprecated and will be removed in a future version. Check `isinstance(dtype, pd.SparseDtype)` instead.\n",
      "  if is_sparse(data):\n"
     ]
    },
    {
     "name": "stdout",
     "output_type": "stream",
     "text": [
      "[CV 9/10; 5/10] END colsample_bytree=0.5, gamma=1, learning_rate=1.9000000000000001, max_depth=351, min_child_weight=20, n_estimators=301, reg_alpha=241, reg_lambda=1;, score=0.205 total time=  13.3s\n",
      "[CV 10/10; 5/10] START colsample_bytree=0.5, gamma=1, learning_rate=1.9000000000000001, max_depth=351, min_child_weight=20, n_estimators=301, reg_alpha=241, reg_lambda=1\n"
     ]
    },
    {
     "name": "stderr",
     "output_type": "stream",
     "text": [
      "c:\\Users\\Saurav\\anaconda3\\Lib\\site-packages\\xgboost\\data.py:440: FutureWarning: is_sparse is deprecated and will be removed in a future version. Check `isinstance(dtype, pd.SparseDtype)` instead.\n",
      "  if is_sparse(data):\n"
     ]
    },
    {
     "name": "stdout",
     "output_type": "stream",
     "text": [
      "[CV 10/10; 5/10] END colsample_bytree=0.5, gamma=1, learning_rate=1.9000000000000001, max_depth=351, min_child_weight=20, n_estimators=301, reg_alpha=241, reg_lambda=1;, score=0.205 total time=  13.3s\n",
      "[CV 1/10; 6/10] START colsample_bytree=0.8, gamma=7, learning_rate=1.1, max_depth=151, min_child_weight=0, n_estimators=251, reg_alpha=261, reg_lambda=1\n"
     ]
    },
    {
     "name": "stderr",
     "output_type": "stream",
     "text": [
      "c:\\Users\\Saurav\\anaconda3\\Lib\\site-packages\\xgboost\\data.py:440: FutureWarning: is_sparse is deprecated and will be removed in a future version. Check `isinstance(dtype, pd.SparseDtype)` instead.\n",
      "  if is_sparse(data):\n"
     ]
    },
    {
     "name": "stdout",
     "output_type": "stream",
     "text": [
      "[CV 1/10; 6/10] END colsample_bytree=0.8, gamma=7, learning_rate=1.1, max_depth=151, min_child_weight=0, n_estimators=251, reg_alpha=261, reg_lambda=1;, score=0.204 total time=  16.5s\n",
      "[CV 2/10; 6/10] START colsample_bytree=0.8, gamma=7, learning_rate=1.1, max_depth=151, min_child_weight=0, n_estimators=251, reg_alpha=261, reg_lambda=1\n"
     ]
    },
    {
     "name": "stderr",
     "output_type": "stream",
     "text": [
      "c:\\Users\\Saurav\\anaconda3\\Lib\\site-packages\\xgboost\\data.py:440: FutureWarning: is_sparse is deprecated and will be removed in a future version. Check `isinstance(dtype, pd.SparseDtype)` instead.\n",
      "  if is_sparse(data):\n"
     ]
    },
    {
     "name": "stdout",
     "output_type": "stream",
     "text": [
      "[CV 2/10; 6/10] END colsample_bytree=0.8, gamma=7, learning_rate=1.1, max_depth=151, min_child_weight=0, n_estimators=251, reg_alpha=261, reg_lambda=1;, score=0.204 total time=  17.3s\n",
      "[CV 3/10; 6/10] START colsample_bytree=0.8, gamma=7, learning_rate=1.1, max_depth=151, min_child_weight=0, n_estimators=251, reg_alpha=261, reg_lambda=1\n"
     ]
    },
    {
     "name": "stderr",
     "output_type": "stream",
     "text": [
      "c:\\Users\\Saurav\\anaconda3\\Lib\\site-packages\\xgboost\\data.py:440: FutureWarning: is_sparse is deprecated and will be removed in a future version. Check `isinstance(dtype, pd.SparseDtype)` instead.\n",
      "  if is_sparse(data):\n"
     ]
    },
    {
     "name": "stdout",
     "output_type": "stream",
     "text": [
      "[CV 3/10; 6/10] END colsample_bytree=0.8, gamma=7, learning_rate=1.1, max_depth=151, min_child_weight=0, n_estimators=251, reg_alpha=261, reg_lambda=1;, score=0.200 total time=  17.2s\n",
      "[CV 4/10; 6/10] START colsample_bytree=0.8, gamma=7, learning_rate=1.1, max_depth=151, min_child_weight=0, n_estimators=251, reg_alpha=261, reg_lambda=1\n"
     ]
    },
    {
     "name": "stderr",
     "output_type": "stream",
     "text": [
      "c:\\Users\\Saurav\\anaconda3\\Lib\\site-packages\\xgboost\\data.py:440: FutureWarning: is_sparse is deprecated and will be removed in a future version. Check `isinstance(dtype, pd.SparseDtype)` instead.\n",
      "  if is_sparse(data):\n"
     ]
    },
    {
     "name": "stdout",
     "output_type": "stream",
     "text": [
      "[CV 4/10; 6/10] END colsample_bytree=0.8, gamma=7, learning_rate=1.1, max_depth=151, min_child_weight=0, n_estimators=251, reg_alpha=261, reg_lambda=1;, score=0.200 total time=  17.2s\n",
      "[CV 5/10; 6/10] START colsample_bytree=0.8, gamma=7, learning_rate=1.1, max_depth=151, min_child_weight=0, n_estimators=251, reg_alpha=261, reg_lambda=1\n"
     ]
    },
    {
     "name": "stderr",
     "output_type": "stream",
     "text": [
      "c:\\Users\\Saurav\\anaconda3\\Lib\\site-packages\\xgboost\\data.py:440: FutureWarning: is_sparse is deprecated and will be removed in a future version. Check `isinstance(dtype, pd.SparseDtype)` instead.\n",
      "  if is_sparse(data):\n"
     ]
    },
    {
     "name": "stdout",
     "output_type": "stream",
     "text": [
      "[CV 5/10; 6/10] END colsample_bytree=0.8, gamma=7, learning_rate=1.1, max_depth=151, min_child_weight=0, n_estimators=251, reg_alpha=261, reg_lambda=1;, score=0.200 total time=  17.2s\n",
      "[CV 6/10; 6/10] START colsample_bytree=0.8, gamma=7, learning_rate=1.1, max_depth=151, min_child_weight=0, n_estimators=251, reg_alpha=261, reg_lambda=1\n"
     ]
    },
    {
     "name": "stderr",
     "output_type": "stream",
     "text": [
      "c:\\Users\\Saurav\\anaconda3\\Lib\\site-packages\\xgboost\\data.py:440: FutureWarning: is_sparse is deprecated and will be removed in a future version. Check `isinstance(dtype, pd.SparseDtype)` instead.\n",
      "  if is_sparse(data):\n"
     ]
    },
    {
     "name": "stdout",
     "output_type": "stream",
     "text": [
      "[CV 6/10; 6/10] END colsample_bytree=0.8, gamma=7, learning_rate=1.1, max_depth=151, min_child_weight=0, n_estimators=251, reg_alpha=261, reg_lambda=1;, score=0.205 total time=  38.0s\n",
      "[CV 7/10; 6/10] START colsample_bytree=0.8, gamma=7, learning_rate=1.1, max_depth=151, min_child_weight=0, n_estimators=251, reg_alpha=261, reg_lambda=1\n"
     ]
    },
    {
     "name": "stderr",
     "output_type": "stream",
     "text": [
      "c:\\Users\\Saurav\\anaconda3\\Lib\\site-packages\\xgboost\\data.py:440: FutureWarning: is_sparse is deprecated and will be removed in a future version. Check `isinstance(dtype, pd.SparseDtype)` instead.\n",
      "  if is_sparse(data):\n"
     ]
    },
    {
     "name": "stdout",
     "output_type": "stream",
     "text": [
      "[CV 7/10; 6/10] END colsample_bytree=0.8, gamma=7, learning_rate=1.1, max_depth=151, min_child_weight=0, n_estimators=251, reg_alpha=261, reg_lambda=1;, score=0.205 total time=  16.5s\n",
      "[CV 8/10; 6/10] START colsample_bytree=0.8, gamma=7, learning_rate=1.1, max_depth=151, min_child_weight=0, n_estimators=251, reg_alpha=261, reg_lambda=1\n"
     ]
    },
    {
     "name": "stderr",
     "output_type": "stream",
     "text": [
      "c:\\Users\\Saurav\\anaconda3\\Lib\\site-packages\\xgboost\\data.py:440: FutureWarning: is_sparse is deprecated and will be removed in a future version. Check `isinstance(dtype, pd.SparseDtype)` instead.\n",
      "  if is_sparse(data):\n"
     ]
    },
    {
     "name": "stdout",
     "output_type": "stream",
     "text": [
      "[CV 8/10; 6/10] END colsample_bytree=0.8, gamma=7, learning_rate=1.1, max_depth=151, min_child_weight=0, n_estimators=251, reg_alpha=261, reg_lambda=1;, score=0.205 total time=  21.6s\n",
      "[CV 9/10; 6/10] START colsample_bytree=0.8, gamma=7, learning_rate=1.1, max_depth=151, min_child_weight=0, n_estimators=251, reg_alpha=261, reg_lambda=1\n"
     ]
    },
    {
     "name": "stderr",
     "output_type": "stream",
     "text": [
      "c:\\Users\\Saurav\\anaconda3\\Lib\\site-packages\\xgboost\\data.py:440: FutureWarning: is_sparse is deprecated and will be removed in a future version. Check `isinstance(dtype, pd.SparseDtype)` instead.\n",
      "  if is_sparse(data):\n"
     ]
    },
    {
     "name": "stdout",
     "output_type": "stream",
     "text": [
      "[CV 9/10; 6/10] END colsample_bytree=0.8, gamma=7, learning_rate=1.1, max_depth=151, min_child_weight=0, n_estimators=251, reg_alpha=261, reg_lambda=1;, score=0.205 total time=  22.9s\n",
      "[CV 10/10; 6/10] START colsample_bytree=0.8, gamma=7, learning_rate=1.1, max_depth=151, min_child_weight=0, n_estimators=251, reg_alpha=261, reg_lambda=1\n"
     ]
    },
    {
     "name": "stderr",
     "output_type": "stream",
     "text": [
      "c:\\Users\\Saurav\\anaconda3\\Lib\\site-packages\\xgboost\\data.py:440: FutureWarning: is_sparse is deprecated and will be removed in a future version. Check `isinstance(dtype, pd.SparseDtype)` instead.\n",
      "  if is_sparse(data):\n"
     ]
    },
    {
     "name": "stdout",
     "output_type": "stream",
     "text": [
      "[CV 10/10; 6/10] END colsample_bytree=0.8, gamma=7, learning_rate=1.1, max_depth=151, min_child_weight=0, n_estimators=251, reg_alpha=261, reg_lambda=1;, score=0.205 total time=  22.0s\n",
      "[CV 1/10; 7/10] START colsample_bytree=0.7000000000000001, gamma=1, learning_rate=0.6000000000000001, max_depth=101, min_child_weight=10, n_estimators=51, reg_alpha=281, reg_lambda=0\n"
     ]
    },
    {
     "name": "stderr",
     "output_type": "stream",
     "text": [
      "c:\\Users\\Saurav\\anaconda3\\Lib\\site-packages\\xgboost\\data.py:440: FutureWarning: is_sparse is deprecated and will be removed in a future version. Check `isinstance(dtype, pd.SparseDtype)` instead.\n",
      "  if is_sparse(data):\n"
     ]
    },
    {
     "name": "stdout",
     "output_type": "stream",
     "text": [
      "[CV 1/10; 7/10] END colsample_bytree=0.7000000000000001, gamma=1, learning_rate=0.6000000000000001, max_depth=101, min_child_weight=10, n_estimators=51, reg_alpha=281, reg_lambda=0;, score=0.204 total time=   3.9s\n",
      "[CV 2/10; 7/10] START colsample_bytree=0.7000000000000001, gamma=1, learning_rate=0.6000000000000001, max_depth=101, min_child_weight=10, n_estimators=51, reg_alpha=281, reg_lambda=0\n"
     ]
    },
    {
     "name": "stderr",
     "output_type": "stream",
     "text": [
      "c:\\Users\\Saurav\\anaconda3\\Lib\\site-packages\\xgboost\\data.py:440: FutureWarning: is_sparse is deprecated and will be removed in a future version. Check `isinstance(dtype, pd.SparseDtype)` instead.\n",
      "  if is_sparse(data):\n"
     ]
    },
    {
     "name": "stdout",
     "output_type": "stream",
     "text": [
      "[CV 2/10; 7/10] END colsample_bytree=0.7000000000000001, gamma=1, learning_rate=0.6000000000000001, max_depth=101, min_child_weight=10, n_estimators=51, reg_alpha=281, reg_lambda=0;, score=0.204 total time=   3.3s\n",
      "[CV 3/10; 7/10] START colsample_bytree=0.7000000000000001, gamma=1, learning_rate=0.6000000000000001, max_depth=101, min_child_weight=10, n_estimators=51, reg_alpha=281, reg_lambda=0\n"
     ]
    },
    {
     "name": "stderr",
     "output_type": "stream",
     "text": [
      "c:\\Users\\Saurav\\anaconda3\\Lib\\site-packages\\xgboost\\data.py:440: FutureWarning: is_sparse is deprecated and will be removed in a future version. Check `isinstance(dtype, pd.SparseDtype)` instead.\n",
      "  if is_sparse(data):\n"
     ]
    },
    {
     "name": "stdout",
     "output_type": "stream",
     "text": [
      "[CV 3/10; 7/10] END colsample_bytree=0.7000000000000001, gamma=1, learning_rate=0.6000000000000001, max_depth=101, min_child_weight=10, n_estimators=51, reg_alpha=281, reg_lambda=0;, score=0.200 total time=   2.5s\n",
      "[CV 4/10; 7/10] START colsample_bytree=0.7000000000000001, gamma=1, learning_rate=0.6000000000000001, max_depth=101, min_child_weight=10, n_estimators=51, reg_alpha=281, reg_lambda=0\n"
     ]
    },
    {
     "name": "stderr",
     "output_type": "stream",
     "text": [
      "c:\\Users\\Saurav\\anaconda3\\Lib\\site-packages\\xgboost\\data.py:440: FutureWarning: is_sparse is deprecated and will be removed in a future version. Check `isinstance(dtype, pd.SparseDtype)` instead.\n",
      "  if is_sparse(data):\n"
     ]
    },
    {
     "name": "stdout",
     "output_type": "stream",
     "text": [
      "[CV 4/10; 7/10] END colsample_bytree=0.7000000000000001, gamma=1, learning_rate=0.6000000000000001, max_depth=101, min_child_weight=10, n_estimators=51, reg_alpha=281, reg_lambda=0;, score=0.200 total time=   2.5s\n",
      "[CV 5/10; 7/10] START colsample_bytree=0.7000000000000001, gamma=1, learning_rate=0.6000000000000001, max_depth=101, min_child_weight=10, n_estimators=51, reg_alpha=281, reg_lambda=0\n"
     ]
    },
    {
     "name": "stderr",
     "output_type": "stream",
     "text": [
      "c:\\Users\\Saurav\\anaconda3\\Lib\\site-packages\\xgboost\\data.py:440: FutureWarning: is_sparse is deprecated and will be removed in a future version. Check `isinstance(dtype, pd.SparseDtype)` instead.\n",
      "  if is_sparse(data):\n"
     ]
    },
    {
     "name": "stdout",
     "output_type": "stream",
     "text": [
      "[CV 5/10; 7/10] END colsample_bytree=0.7000000000000001, gamma=1, learning_rate=0.6000000000000001, max_depth=101, min_child_weight=10, n_estimators=51, reg_alpha=281, reg_lambda=0;, score=0.200 total time=   2.5s\n",
      "[CV 6/10; 7/10] START colsample_bytree=0.7000000000000001, gamma=1, learning_rate=0.6000000000000001, max_depth=101, min_child_weight=10, n_estimators=51, reg_alpha=281, reg_lambda=0\n"
     ]
    },
    {
     "name": "stderr",
     "output_type": "stream",
     "text": [
      "c:\\Users\\Saurav\\anaconda3\\Lib\\site-packages\\xgboost\\data.py:440: FutureWarning: is_sparse is deprecated and will be removed in a future version. Check `isinstance(dtype, pd.SparseDtype)` instead.\n",
      "  if is_sparse(data):\n"
     ]
    },
    {
     "name": "stdout",
     "output_type": "stream",
     "text": [
      "[CV 6/10; 7/10] END colsample_bytree=0.7000000000000001, gamma=1, learning_rate=0.6000000000000001, max_depth=101, min_child_weight=10, n_estimators=51, reg_alpha=281, reg_lambda=0;, score=0.205 total time=   2.4s\n",
      "[CV 7/10; 7/10] START colsample_bytree=0.7000000000000001, gamma=1, learning_rate=0.6000000000000001, max_depth=101, min_child_weight=10, n_estimators=51, reg_alpha=281, reg_lambda=0\n"
     ]
    },
    {
     "name": "stderr",
     "output_type": "stream",
     "text": [
      "c:\\Users\\Saurav\\anaconda3\\Lib\\site-packages\\xgboost\\data.py:440: FutureWarning: is_sparse is deprecated and will be removed in a future version. Check `isinstance(dtype, pd.SparseDtype)` instead.\n",
      "  if is_sparse(data):\n"
     ]
    },
    {
     "name": "stdout",
     "output_type": "stream",
     "text": [
      "[CV 7/10; 7/10] END colsample_bytree=0.7000000000000001, gamma=1, learning_rate=0.6000000000000001, max_depth=101, min_child_weight=10, n_estimators=51, reg_alpha=281, reg_lambda=0;, score=0.205 total time=   2.4s\n",
      "[CV 8/10; 7/10] START colsample_bytree=0.7000000000000001, gamma=1, learning_rate=0.6000000000000001, max_depth=101, min_child_weight=10, n_estimators=51, reg_alpha=281, reg_lambda=0\n"
     ]
    },
    {
     "name": "stderr",
     "output_type": "stream",
     "text": [
      "c:\\Users\\Saurav\\anaconda3\\Lib\\site-packages\\xgboost\\data.py:440: FutureWarning: is_sparse is deprecated and will be removed in a future version. Check `isinstance(dtype, pd.SparseDtype)` instead.\n",
      "  if is_sparse(data):\n"
     ]
    },
    {
     "name": "stdout",
     "output_type": "stream",
     "text": [
      "[CV 8/10; 7/10] END colsample_bytree=0.7000000000000001, gamma=1, learning_rate=0.6000000000000001, max_depth=101, min_child_weight=10, n_estimators=51, reg_alpha=281, reg_lambda=0;, score=0.205 total time=   2.5s\n",
      "[CV 9/10; 7/10] START colsample_bytree=0.7000000000000001, gamma=1, learning_rate=0.6000000000000001, max_depth=101, min_child_weight=10, n_estimators=51, reg_alpha=281, reg_lambda=0\n"
     ]
    },
    {
     "name": "stderr",
     "output_type": "stream",
     "text": [
      "c:\\Users\\Saurav\\anaconda3\\Lib\\site-packages\\xgboost\\data.py:440: FutureWarning: is_sparse is deprecated and will be removed in a future version. Check `isinstance(dtype, pd.SparseDtype)` instead.\n",
      "  if is_sparse(data):\n"
     ]
    },
    {
     "name": "stdout",
     "output_type": "stream",
     "text": [
      "[CV 9/10; 7/10] END colsample_bytree=0.7000000000000001, gamma=1, learning_rate=0.6000000000000001, max_depth=101, min_child_weight=10, n_estimators=51, reg_alpha=281, reg_lambda=0;, score=0.205 total time=   2.5s\n",
      "[CV 10/10; 7/10] START colsample_bytree=0.7000000000000001, gamma=1, learning_rate=0.6000000000000001, max_depth=101, min_child_weight=10, n_estimators=51, reg_alpha=281, reg_lambda=0\n"
     ]
    },
    {
     "name": "stderr",
     "output_type": "stream",
     "text": [
      "c:\\Users\\Saurav\\anaconda3\\Lib\\site-packages\\xgboost\\data.py:440: FutureWarning: is_sparse is deprecated and will be removed in a future version. Check `isinstance(dtype, pd.SparseDtype)` instead.\n",
      "  if is_sparse(data):\n"
     ]
    },
    {
     "name": "stdout",
     "output_type": "stream",
     "text": [
      "[CV 10/10; 7/10] END colsample_bytree=0.7000000000000001, gamma=1, learning_rate=0.6000000000000001, max_depth=101, min_child_weight=10, n_estimators=51, reg_alpha=281, reg_lambda=0;, score=0.205 total time=   2.5s\n",
      "[CV 1/10; 8/10] START colsample_bytree=0.5, gamma=7, learning_rate=0.0, max_depth=201, min_child_weight=5, n_estimators=101, reg_alpha=61, reg_lambda=4\n"
     ]
    },
    {
     "name": "stderr",
     "output_type": "stream",
     "text": [
      "c:\\Users\\Saurav\\anaconda3\\Lib\\site-packages\\xgboost\\data.py:440: FutureWarning: is_sparse is deprecated and will be removed in a future version. Check `isinstance(dtype, pd.SparseDtype)` instead.\n",
      "  if is_sparse(data):\n"
     ]
    },
    {
     "name": "stdout",
     "output_type": "stream",
     "text": [
      "[CV 1/10; 8/10] END colsample_bytree=0.5, gamma=7, learning_rate=0.0, max_depth=201, min_child_weight=5, n_estimators=101, reg_alpha=61, reg_lambda=4;, score=0.204 total time=  11.2s\n",
      "[CV 2/10; 8/10] START colsample_bytree=0.5, gamma=7, learning_rate=0.0, max_depth=201, min_child_weight=5, n_estimators=101, reg_alpha=61, reg_lambda=4\n"
     ]
    },
    {
     "name": "stderr",
     "output_type": "stream",
     "text": [
      "c:\\Users\\Saurav\\anaconda3\\Lib\\site-packages\\xgboost\\data.py:440: FutureWarning: is_sparse is deprecated and will be removed in a future version. Check `isinstance(dtype, pd.SparseDtype)` instead.\n",
      "  if is_sparse(data):\n"
     ]
    },
    {
     "name": "stdout",
     "output_type": "stream",
     "text": [
      "[CV 2/10; 8/10] END colsample_bytree=0.5, gamma=7, learning_rate=0.0, max_depth=201, min_child_weight=5, n_estimators=101, reg_alpha=61, reg_lambda=4;, score=0.204 total time=  12.6s\n",
      "[CV 3/10; 8/10] START colsample_bytree=0.5, gamma=7, learning_rate=0.0, max_depth=201, min_child_weight=5, n_estimators=101, reg_alpha=61, reg_lambda=4\n"
     ]
    },
    {
     "name": "stderr",
     "output_type": "stream",
     "text": [
      "c:\\Users\\Saurav\\anaconda3\\Lib\\site-packages\\xgboost\\data.py:440: FutureWarning: is_sparse is deprecated and will be removed in a future version. Check `isinstance(dtype, pd.SparseDtype)` instead.\n",
      "  if is_sparse(data):\n"
     ]
    },
    {
     "name": "stdout",
     "output_type": "stream",
     "text": [
      "[CV 3/10; 8/10] END colsample_bytree=0.5, gamma=7, learning_rate=0.0, max_depth=201, min_child_weight=5, n_estimators=101, reg_alpha=61, reg_lambda=4;, score=0.200 total time=  15.6s\n",
      "[CV 4/10; 8/10] START colsample_bytree=0.5, gamma=7, learning_rate=0.0, max_depth=201, min_child_weight=5, n_estimators=101, reg_alpha=61, reg_lambda=4\n"
     ]
    },
    {
     "name": "stderr",
     "output_type": "stream",
     "text": [
      "c:\\Users\\Saurav\\anaconda3\\Lib\\site-packages\\xgboost\\data.py:440: FutureWarning: is_sparse is deprecated and will be removed in a future version. Check `isinstance(dtype, pd.SparseDtype)` instead.\n",
      "  if is_sparse(data):\n"
     ]
    },
    {
     "name": "stdout",
     "output_type": "stream",
     "text": [
      "[CV 4/10; 8/10] END colsample_bytree=0.5, gamma=7, learning_rate=0.0, max_depth=201, min_child_weight=5, n_estimators=101, reg_alpha=61, reg_lambda=4;, score=0.200 total time=  17.9s\n",
      "[CV 5/10; 8/10] START colsample_bytree=0.5, gamma=7, learning_rate=0.0, max_depth=201, min_child_weight=5, n_estimators=101, reg_alpha=61, reg_lambda=4\n"
     ]
    },
    {
     "name": "stderr",
     "output_type": "stream",
     "text": [
      "c:\\Users\\Saurav\\anaconda3\\Lib\\site-packages\\xgboost\\data.py:440: FutureWarning: is_sparse is deprecated and will be removed in a future version. Check `isinstance(dtype, pd.SparseDtype)` instead.\n",
      "  if is_sparse(data):\n"
     ]
    },
    {
     "name": "stdout",
     "output_type": "stream",
     "text": [
      "[CV 5/10; 8/10] END colsample_bytree=0.5, gamma=7, learning_rate=0.0, max_depth=201, min_child_weight=5, n_estimators=101, reg_alpha=61, reg_lambda=4;, score=0.200 total time=  16.0s\n",
      "[CV 6/10; 8/10] START colsample_bytree=0.5, gamma=7, learning_rate=0.0, max_depth=201, min_child_weight=5, n_estimators=101, reg_alpha=61, reg_lambda=4\n"
     ]
    },
    {
     "name": "stderr",
     "output_type": "stream",
     "text": [
      "c:\\Users\\Saurav\\anaconda3\\Lib\\site-packages\\xgboost\\data.py:440: FutureWarning: is_sparse is deprecated and will be removed in a future version. Check `isinstance(dtype, pd.SparseDtype)` instead.\n",
      "  if is_sparse(data):\n"
     ]
    },
    {
     "name": "stdout",
     "output_type": "stream",
     "text": [
      "[CV 6/10; 8/10] END colsample_bytree=0.5, gamma=7, learning_rate=0.0, max_depth=201, min_child_weight=5, n_estimators=101, reg_alpha=61, reg_lambda=4;, score=0.205 total time=  10.8s\n",
      "[CV 7/10; 8/10] START colsample_bytree=0.5, gamma=7, learning_rate=0.0, max_depth=201, min_child_weight=5, n_estimators=101, reg_alpha=61, reg_lambda=4\n"
     ]
    },
    {
     "name": "stderr",
     "output_type": "stream",
     "text": [
      "c:\\Users\\Saurav\\anaconda3\\Lib\\site-packages\\xgboost\\data.py:440: FutureWarning: is_sparse is deprecated and will be removed in a future version. Check `isinstance(dtype, pd.SparseDtype)` instead.\n",
      "  if is_sparse(data):\n"
     ]
    },
    {
     "name": "stdout",
     "output_type": "stream",
     "text": [
      "[CV 7/10; 8/10] END colsample_bytree=0.5, gamma=7, learning_rate=0.0, max_depth=201, min_child_weight=5, n_estimators=101, reg_alpha=61, reg_lambda=4;, score=0.205 total time=   9.8s\n",
      "[CV 8/10; 8/10] START colsample_bytree=0.5, gamma=7, learning_rate=0.0, max_depth=201, min_child_weight=5, n_estimators=101, reg_alpha=61, reg_lambda=4\n"
     ]
    },
    {
     "name": "stderr",
     "output_type": "stream",
     "text": [
      "c:\\Users\\Saurav\\anaconda3\\Lib\\site-packages\\xgboost\\data.py:440: FutureWarning: is_sparse is deprecated and will be removed in a future version. Check `isinstance(dtype, pd.SparseDtype)` instead.\n",
      "  if is_sparse(data):\n"
     ]
    },
    {
     "name": "stdout",
     "output_type": "stream",
     "text": [
      "[CV 8/10; 8/10] END colsample_bytree=0.5, gamma=7, learning_rate=0.0, max_depth=201, min_child_weight=5, n_estimators=101, reg_alpha=61, reg_lambda=4;, score=0.205 total time=  11.1s\n",
      "[CV 9/10; 8/10] START colsample_bytree=0.5, gamma=7, learning_rate=0.0, max_depth=201, min_child_weight=5, n_estimators=101, reg_alpha=61, reg_lambda=4\n"
     ]
    },
    {
     "name": "stderr",
     "output_type": "stream",
     "text": [
      "c:\\Users\\Saurav\\anaconda3\\Lib\\site-packages\\xgboost\\data.py:440: FutureWarning: is_sparse is deprecated and will be removed in a future version. Check `isinstance(dtype, pd.SparseDtype)` instead.\n",
      "  if is_sparse(data):\n"
     ]
    },
    {
     "name": "stdout",
     "output_type": "stream",
     "text": [
      "[CV 9/10; 8/10] END colsample_bytree=0.5, gamma=7, learning_rate=0.0, max_depth=201, min_child_weight=5, n_estimators=101, reg_alpha=61, reg_lambda=4;, score=0.205 total time=  12.3s\n",
      "[CV 10/10; 8/10] START colsample_bytree=0.5, gamma=7, learning_rate=0.0, max_depth=201, min_child_weight=5, n_estimators=101, reg_alpha=61, reg_lambda=4\n"
     ]
    },
    {
     "name": "stderr",
     "output_type": "stream",
     "text": [
      "c:\\Users\\Saurav\\anaconda3\\Lib\\site-packages\\xgboost\\data.py:440: FutureWarning: is_sparse is deprecated and will be removed in a future version. Check `isinstance(dtype, pd.SparseDtype)` instead.\n",
      "  if is_sparse(data):\n"
     ]
    },
    {
     "name": "stdout",
     "output_type": "stream",
     "text": [
      "[CV 10/10; 8/10] END colsample_bytree=0.5, gamma=7, learning_rate=0.0, max_depth=201, min_child_weight=5, n_estimators=101, reg_alpha=61, reg_lambda=4;, score=0.205 total time=  14.9s\n",
      "[CV 1/10; 9/10] START colsample_bytree=0.1, gamma=1, learning_rate=0.7000000000000001, max_depth=201, min_child_weight=30, n_estimators=101, reg_alpha=121, reg_lambda=4\n"
     ]
    },
    {
     "name": "stderr",
     "output_type": "stream",
     "text": [
      "c:\\Users\\Saurav\\anaconda3\\Lib\\site-packages\\xgboost\\data.py:440: FutureWarning: is_sparse is deprecated and will be removed in a future version. Check `isinstance(dtype, pd.SparseDtype)` instead.\n",
      "  if is_sparse(data):\n"
     ]
    },
    {
     "name": "stdout",
     "output_type": "stream",
     "text": [
      "[CV 1/10; 9/10] END colsample_bytree=0.1, gamma=1, learning_rate=0.7000000000000001, max_depth=201, min_child_weight=30, n_estimators=101, reg_alpha=121, reg_lambda=4;, score=0.622 total time=   3.5s\n",
      "[CV 2/10; 9/10] START colsample_bytree=0.1, gamma=1, learning_rate=0.7000000000000001, max_depth=201, min_child_weight=30, n_estimators=101, reg_alpha=121, reg_lambda=4\n"
     ]
    },
    {
     "name": "stderr",
     "output_type": "stream",
     "text": [
      "c:\\Users\\Saurav\\anaconda3\\Lib\\site-packages\\xgboost\\data.py:440: FutureWarning: is_sparse is deprecated and will be removed in a future version. Check `isinstance(dtype, pd.SparseDtype)` instead.\n",
      "  if is_sparse(data):\n"
     ]
    },
    {
     "name": "stdout",
     "output_type": "stream",
     "text": [
      "[CV 2/10; 9/10] END colsample_bytree=0.1, gamma=1, learning_rate=0.7000000000000001, max_depth=201, min_child_weight=30, n_estimators=101, reg_alpha=121, reg_lambda=4;, score=0.602 total time=   3.6s\n",
      "[CV 3/10; 9/10] START colsample_bytree=0.1, gamma=1, learning_rate=0.7000000000000001, max_depth=201, min_child_weight=30, n_estimators=101, reg_alpha=121, reg_lambda=4\n"
     ]
    },
    {
     "name": "stderr",
     "output_type": "stream",
     "text": [
      "c:\\Users\\Saurav\\anaconda3\\Lib\\site-packages\\xgboost\\data.py:440: FutureWarning: is_sparse is deprecated and will be removed in a future version. Check `isinstance(dtype, pd.SparseDtype)` instead.\n",
      "  if is_sparse(data):\n"
     ]
    },
    {
     "name": "stdout",
     "output_type": "stream",
     "text": [
      "[CV 3/10; 9/10] END colsample_bytree=0.1, gamma=1, learning_rate=0.7000000000000001, max_depth=201, min_child_weight=30, n_estimators=101, reg_alpha=121, reg_lambda=4;, score=0.626 total time=   3.3s\n",
      "[CV 4/10; 9/10] START colsample_bytree=0.1, gamma=1, learning_rate=0.7000000000000001, max_depth=201, min_child_weight=30, n_estimators=101, reg_alpha=121, reg_lambda=4\n"
     ]
    },
    {
     "name": "stderr",
     "output_type": "stream",
     "text": [
      "c:\\Users\\Saurav\\anaconda3\\Lib\\site-packages\\xgboost\\data.py:440: FutureWarning: is_sparse is deprecated and will be removed in a future version. Check `isinstance(dtype, pd.SparseDtype)` instead.\n",
      "  if is_sparse(data):\n"
     ]
    },
    {
     "name": "stdout",
     "output_type": "stream",
     "text": [
      "[CV 4/10; 9/10] END colsample_bytree=0.1, gamma=1, learning_rate=0.7000000000000001, max_depth=201, min_child_weight=30, n_estimators=101, reg_alpha=121, reg_lambda=4;, score=0.651 total time=   3.3s\n",
      "[CV 5/10; 9/10] START colsample_bytree=0.1, gamma=1, learning_rate=0.7000000000000001, max_depth=201, min_child_weight=30, n_estimators=101, reg_alpha=121, reg_lambda=4\n"
     ]
    },
    {
     "name": "stderr",
     "output_type": "stream",
     "text": [
      "c:\\Users\\Saurav\\anaconda3\\Lib\\site-packages\\xgboost\\data.py:440: FutureWarning: is_sparse is deprecated and will be removed in a future version. Check `isinstance(dtype, pd.SparseDtype)` instead.\n",
      "  if is_sparse(data):\n"
     ]
    },
    {
     "name": "stdout",
     "output_type": "stream",
     "text": [
      "[CV 5/10; 9/10] END colsample_bytree=0.1, gamma=1, learning_rate=0.7000000000000001, max_depth=201, min_child_weight=30, n_estimators=101, reg_alpha=121, reg_lambda=4;, score=0.631 total time=   3.2s\n",
      "[CV 6/10; 9/10] START colsample_bytree=0.1, gamma=1, learning_rate=0.7000000000000001, max_depth=201, min_child_weight=30, n_estimators=101, reg_alpha=121, reg_lambda=4\n"
     ]
    },
    {
     "name": "stderr",
     "output_type": "stream",
     "text": [
      "c:\\Users\\Saurav\\anaconda3\\Lib\\site-packages\\xgboost\\data.py:440: FutureWarning: is_sparse is deprecated and will be removed in a future version. Check `isinstance(dtype, pd.SparseDtype)` instead.\n",
      "  if is_sparse(data):\n"
     ]
    },
    {
     "name": "stdout",
     "output_type": "stream",
     "text": [
      "[CV 6/10; 9/10] END colsample_bytree=0.1, gamma=1, learning_rate=0.7000000000000001, max_depth=201, min_child_weight=30, n_estimators=101, reg_alpha=121, reg_lambda=4;, score=0.631 total time=   3.2s\n",
      "[CV 7/10; 9/10] START colsample_bytree=0.1, gamma=1, learning_rate=0.7000000000000001, max_depth=201, min_child_weight=30, n_estimators=101, reg_alpha=121, reg_lambda=4\n"
     ]
    },
    {
     "name": "stderr",
     "output_type": "stream",
     "text": [
      "c:\\Users\\Saurav\\anaconda3\\Lib\\site-packages\\xgboost\\data.py:440: FutureWarning: is_sparse is deprecated and will be removed in a future version. Check `isinstance(dtype, pd.SparseDtype)` instead.\n",
      "  if is_sparse(data):\n"
     ]
    },
    {
     "name": "stdout",
     "output_type": "stream",
     "text": [
      "[CV 7/10; 9/10] END colsample_bytree=0.1, gamma=1, learning_rate=0.7000000000000001, max_depth=201, min_child_weight=30, n_estimators=101, reg_alpha=121, reg_lambda=4;, score=0.667 total time=   3.4s\n",
      "[CV 8/10; 9/10] START colsample_bytree=0.1, gamma=1, learning_rate=0.7000000000000001, max_depth=201, min_child_weight=30, n_estimators=101, reg_alpha=121, reg_lambda=4\n"
     ]
    },
    {
     "name": "stderr",
     "output_type": "stream",
     "text": [
      "c:\\Users\\Saurav\\anaconda3\\Lib\\site-packages\\xgboost\\data.py:440: FutureWarning: is_sparse is deprecated and will be removed in a future version. Check `isinstance(dtype, pd.SparseDtype)` instead.\n",
      "  if is_sparse(data):\n"
     ]
    },
    {
     "name": "stdout",
     "output_type": "stream",
     "text": [
      "[CV 8/10; 9/10] END colsample_bytree=0.1, gamma=1, learning_rate=0.7000000000000001, max_depth=201, min_child_weight=30, n_estimators=101, reg_alpha=121, reg_lambda=4;, score=0.672 total time=   3.2s\n",
      "[CV 9/10; 9/10] START colsample_bytree=0.1, gamma=1, learning_rate=0.7000000000000001, max_depth=201, min_child_weight=30, n_estimators=101, reg_alpha=121, reg_lambda=4\n"
     ]
    },
    {
     "name": "stderr",
     "output_type": "stream",
     "text": [
      "c:\\Users\\Saurav\\anaconda3\\Lib\\site-packages\\xgboost\\data.py:440: FutureWarning: is_sparse is deprecated and will be removed in a future version. Check `isinstance(dtype, pd.SparseDtype)` instead.\n",
      "  if is_sparse(data):\n"
     ]
    },
    {
     "name": "stdout",
     "output_type": "stream",
     "text": [
      "[CV 9/10; 9/10] END colsample_bytree=0.1, gamma=1, learning_rate=0.7000000000000001, max_depth=201, min_child_weight=30, n_estimators=101, reg_alpha=121, reg_lambda=4;, score=0.656 total time=   3.2s\n",
      "[CV 10/10; 9/10] START colsample_bytree=0.1, gamma=1, learning_rate=0.7000000000000001, max_depth=201, min_child_weight=30, n_estimators=101, reg_alpha=121, reg_lambda=4\n"
     ]
    },
    {
     "name": "stderr",
     "output_type": "stream",
     "text": [
      "c:\\Users\\Saurav\\anaconda3\\Lib\\site-packages\\xgboost\\data.py:440: FutureWarning: is_sparse is deprecated and will be removed in a future version. Check `isinstance(dtype, pd.SparseDtype)` instead.\n",
      "  if is_sparse(data):\n"
     ]
    },
    {
     "name": "stdout",
     "output_type": "stream",
     "text": [
      "[CV 10/10; 9/10] END colsample_bytree=0.1, gamma=1, learning_rate=0.7000000000000001, max_depth=201, min_child_weight=30, n_estimators=101, reg_alpha=121, reg_lambda=4;, score=0.667 total time=   3.3s\n",
      "[CV 1/10; 10/10] START colsample_bytree=0.5, gamma=4, learning_rate=1.3, max_depth=351, min_child_weight=10, n_estimators=151, reg_alpha=81, reg_lambda=3\n"
     ]
    },
    {
     "name": "stderr",
     "output_type": "stream",
     "text": [
      "c:\\Users\\Saurav\\anaconda3\\Lib\\site-packages\\xgboost\\data.py:440: FutureWarning: is_sparse is deprecated and will be removed in a future version. Check `isinstance(dtype, pd.SparseDtype)` instead.\n",
      "  if is_sparse(data):\n"
     ]
    },
    {
     "name": "stdout",
     "output_type": "stream",
     "text": [
      "[CV 1/10; 10/10] END colsample_bytree=0.5, gamma=4, learning_rate=1.3, max_depth=351, min_child_weight=10, n_estimators=151, reg_alpha=81, reg_lambda=3;, score=0.638 total time=  12.6s\n",
      "[CV 2/10; 10/10] START colsample_bytree=0.5, gamma=4, learning_rate=1.3, max_depth=351, min_child_weight=10, n_estimators=151, reg_alpha=81, reg_lambda=3\n"
     ]
    },
    {
     "name": "stderr",
     "output_type": "stream",
     "text": [
      "c:\\Users\\Saurav\\anaconda3\\Lib\\site-packages\\xgboost\\data.py:440: FutureWarning: is_sparse is deprecated and will be removed in a future version. Check `isinstance(dtype, pd.SparseDtype)` instead.\n",
      "  if is_sparse(data):\n"
     ]
    },
    {
     "name": "stdout",
     "output_type": "stream",
     "text": [
      "[CV 2/10; 10/10] END colsample_bytree=0.5, gamma=4, learning_rate=1.3, max_depth=351, min_child_weight=10, n_estimators=151, reg_alpha=81, reg_lambda=3;, score=0.556 total time=   9.3s\n",
      "[CV 3/10; 10/10] START colsample_bytree=0.5, gamma=4, learning_rate=1.3, max_depth=351, min_child_weight=10, n_estimators=151, reg_alpha=81, reg_lambda=3\n"
     ]
    },
    {
     "name": "stderr",
     "output_type": "stream",
     "text": [
      "c:\\Users\\Saurav\\anaconda3\\Lib\\site-packages\\xgboost\\data.py:440: FutureWarning: is_sparse is deprecated and will be removed in a future version. Check `isinstance(dtype, pd.SparseDtype)` instead.\n",
      "  if is_sparse(data):\n"
     ]
    },
    {
     "name": "stdout",
     "output_type": "stream",
     "text": [
      "[CV 3/10; 10/10] END colsample_bytree=0.5, gamma=4, learning_rate=1.3, max_depth=351, min_child_weight=10, n_estimators=151, reg_alpha=81, reg_lambda=3;, score=0.631 total time=   9.7s\n",
      "[CV 4/10; 10/10] START colsample_bytree=0.5, gamma=4, learning_rate=1.3, max_depth=351, min_child_weight=10, n_estimators=151, reg_alpha=81, reg_lambda=3\n"
     ]
    },
    {
     "name": "stderr",
     "output_type": "stream",
     "text": [
      "c:\\Users\\Saurav\\anaconda3\\Lib\\site-packages\\xgboost\\data.py:440: FutureWarning: is_sparse is deprecated and will be removed in a future version. Check `isinstance(dtype, pd.SparseDtype)` instead.\n",
      "  if is_sparse(data):\n"
     ]
    },
    {
     "name": "stdout",
     "output_type": "stream",
     "text": [
      "[CV 4/10; 10/10] END colsample_bytree=0.5, gamma=4, learning_rate=1.3, max_depth=351, min_child_weight=10, n_estimators=151, reg_alpha=81, reg_lambda=3;, score=0.708 total time=  10.1s\n",
      "[CV 5/10; 10/10] START colsample_bytree=0.5, gamma=4, learning_rate=1.3, max_depth=351, min_child_weight=10, n_estimators=151, reg_alpha=81, reg_lambda=3\n"
     ]
    },
    {
     "name": "stderr",
     "output_type": "stream",
     "text": [
      "c:\\Users\\Saurav\\anaconda3\\Lib\\site-packages\\xgboost\\data.py:440: FutureWarning: is_sparse is deprecated and will be removed in a future version. Check `isinstance(dtype, pd.SparseDtype)` instead.\n",
      "  if is_sparse(data):\n"
     ]
    },
    {
     "name": "stdout",
     "output_type": "stream",
     "text": [
      "[CV 5/10; 10/10] END colsample_bytree=0.5, gamma=4, learning_rate=1.3, max_depth=351, min_child_weight=10, n_estimators=151, reg_alpha=81, reg_lambda=3;, score=0.631 total time=  11.9s\n",
      "[CV 6/10; 10/10] START colsample_bytree=0.5, gamma=4, learning_rate=1.3, max_depth=351, min_child_weight=10, n_estimators=151, reg_alpha=81, reg_lambda=3\n"
     ]
    },
    {
     "name": "stderr",
     "output_type": "stream",
     "text": [
      "c:\\Users\\Saurav\\anaconda3\\Lib\\site-packages\\xgboost\\data.py:440: FutureWarning: is_sparse is deprecated and will be removed in a future version. Check `isinstance(dtype, pd.SparseDtype)` instead.\n",
      "  if is_sparse(data):\n"
     ]
    },
    {
     "name": "stdout",
     "output_type": "stream",
     "text": [
      "[CV 6/10; 10/10] END colsample_bytree=0.5, gamma=4, learning_rate=1.3, max_depth=351, min_child_weight=10, n_estimators=151, reg_alpha=81, reg_lambda=3;, score=0.682 total time=  13.3s\n",
      "[CV 7/10; 10/10] START colsample_bytree=0.5, gamma=4, learning_rate=1.3, max_depth=351, min_child_weight=10, n_estimators=151, reg_alpha=81, reg_lambda=3\n"
     ]
    },
    {
     "name": "stderr",
     "output_type": "stream",
     "text": [
      "c:\\Users\\Saurav\\anaconda3\\Lib\\site-packages\\xgboost\\data.py:440: FutureWarning: is_sparse is deprecated and will be removed in a future version. Check `isinstance(dtype, pd.SparseDtype)` instead.\n",
      "  if is_sparse(data):\n"
     ]
    },
    {
     "name": "stdout",
     "output_type": "stream",
     "text": [
      "[CV 7/10; 10/10] END colsample_bytree=0.5, gamma=4, learning_rate=1.3, max_depth=351, min_child_weight=10, n_estimators=151, reg_alpha=81, reg_lambda=3;, score=0.662 total time=  14.9s\n",
      "[CV 8/10; 10/10] START colsample_bytree=0.5, gamma=4, learning_rate=1.3, max_depth=351, min_child_weight=10, n_estimators=151, reg_alpha=81, reg_lambda=3\n"
     ]
    },
    {
     "name": "stderr",
     "output_type": "stream",
     "text": [
      "c:\\Users\\Saurav\\anaconda3\\Lib\\site-packages\\xgboost\\data.py:440: FutureWarning: is_sparse is deprecated and will be removed in a future version. Check `isinstance(dtype, pd.SparseDtype)` instead.\n",
      "  if is_sparse(data):\n"
     ]
    },
    {
     "name": "stdout",
     "output_type": "stream",
     "text": [
      "[CV 8/10; 10/10] END colsample_bytree=0.5, gamma=4, learning_rate=1.3, max_depth=351, min_child_weight=10, n_estimators=151, reg_alpha=81, reg_lambda=3;, score=0.662 total time=  14.6s\n",
      "[CV 9/10; 10/10] START colsample_bytree=0.5, gamma=4, learning_rate=1.3, max_depth=351, min_child_weight=10, n_estimators=151, reg_alpha=81, reg_lambda=3\n"
     ]
    },
    {
     "name": "stderr",
     "output_type": "stream",
     "text": [
      "c:\\Users\\Saurav\\anaconda3\\Lib\\site-packages\\xgboost\\data.py:440: FutureWarning: is_sparse is deprecated and will be removed in a future version. Check `isinstance(dtype, pd.SparseDtype)` instead.\n",
      "  if is_sparse(data):\n"
     ]
    },
    {
     "name": "stdout",
     "output_type": "stream",
     "text": [
      "[CV 9/10; 10/10] END colsample_bytree=0.5, gamma=4, learning_rate=1.3, max_depth=351, min_child_weight=10, n_estimators=151, reg_alpha=81, reg_lambda=3;, score=0.605 total time=  10.8s\n",
      "[CV 10/10; 10/10] START colsample_bytree=0.5, gamma=4, learning_rate=1.3, max_depth=351, min_child_weight=10, n_estimators=151, reg_alpha=81, reg_lambda=3\n"
     ]
    },
    {
     "name": "stderr",
     "output_type": "stream",
     "text": [
      "c:\\Users\\Saurav\\anaconda3\\Lib\\site-packages\\xgboost\\data.py:440: FutureWarning: is_sparse is deprecated and will be removed in a future version. Check `isinstance(dtype, pd.SparseDtype)` instead.\n",
      "  if is_sparse(data):\n"
     ]
    },
    {
     "name": "stdout",
     "output_type": "stream",
     "text": [
      "[CV 10/10; 10/10] END colsample_bytree=0.5, gamma=4, learning_rate=1.3, max_depth=351, min_child_weight=10, n_estimators=151, reg_alpha=81, reg_lambda=3;, score=0.672 total time=   8.8s\n"
     ]
    },
    {
     "name": "stderr",
     "output_type": "stream",
     "text": [
      "c:\\Users\\Saurav\\anaconda3\\Lib\\site-packages\\xgboost\\data.py:440: FutureWarning: is_sparse is deprecated and will be removed in a future version. Check `isinstance(dtype, pd.SparseDtype)` instead.\n",
      "  if is_sparse(data):\n"
     ]
    },
    {
     "name": "stdout",
     "output_type": "stream",
     "text": [
      "Fitting 10 folds for each of 10 candidates, totalling 100 fits\n",
      "[CV 1/10; 1/10] START colsample_bytree=0.2, gamma=4, learning_rate=1.2000000000000002, max_depth=351, min_child_weight=15, n_estimators=101, reg_alpha=121, reg_lambda=4\n"
     ]
    },
    {
     "name": "stderr",
     "output_type": "stream",
     "text": [
      "c:\\Users\\Saurav\\anaconda3\\Lib\\site-packages\\xgboost\\data.py:440: FutureWarning: is_sparse is deprecated and will be removed in a future version. Check `isinstance(dtype, pd.SparseDtype)` instead.\n",
      "  if is_sparse(data):\n"
     ]
    },
    {
     "name": "stdout",
     "output_type": "stream",
     "text": [
      "[CV 1/10; 1/10] END colsample_bytree=0.2, gamma=4, learning_rate=1.2000000000000002, max_depth=351, min_child_weight=15, n_estimators=101, reg_alpha=121, reg_lambda=4;, score=0.638 total time=   2.8s\n",
      "[CV 2/10; 1/10] START colsample_bytree=0.2, gamma=4, learning_rate=1.2000000000000002, max_depth=351, min_child_weight=15, n_estimators=101, reg_alpha=121, reg_lambda=4\n"
     ]
    },
    {
     "name": "stderr",
     "output_type": "stream",
     "text": [
      "c:\\Users\\Saurav\\anaconda3\\Lib\\site-packages\\xgboost\\data.py:440: FutureWarning: is_sparse is deprecated and will be removed in a future version. Check `isinstance(dtype, pd.SparseDtype)` instead.\n",
      "  if is_sparse(data):\n"
     ]
    },
    {
     "name": "stdout",
     "output_type": "stream",
     "text": [
      "[CV 2/10; 1/10] END colsample_bytree=0.2, gamma=4, learning_rate=1.2000000000000002, max_depth=351, min_child_weight=15, n_estimators=101, reg_alpha=121, reg_lambda=4;, score=0.612 total time=   3.0s\n",
      "[CV 3/10; 1/10] START colsample_bytree=0.2, gamma=4, learning_rate=1.2000000000000002, max_depth=351, min_child_weight=15, n_estimators=101, reg_alpha=121, reg_lambda=4\n"
     ]
    },
    {
     "name": "stderr",
     "output_type": "stream",
     "text": [
      "c:\\Users\\Saurav\\anaconda3\\Lib\\site-packages\\xgboost\\data.py:440: FutureWarning: is_sparse is deprecated and will be removed in a future version. Check `isinstance(dtype, pd.SparseDtype)` instead.\n",
      "  if is_sparse(data):\n"
     ]
    },
    {
     "name": "stdout",
     "output_type": "stream",
     "text": [
      "[CV 3/10; 1/10] END colsample_bytree=0.2, gamma=4, learning_rate=1.2000000000000002, max_depth=351, min_child_weight=15, n_estimators=101, reg_alpha=121, reg_lambda=4;, score=0.631 total time=   3.2s\n",
      "[CV 4/10; 1/10] START colsample_bytree=0.2, gamma=4, learning_rate=1.2000000000000002, max_depth=351, min_child_weight=15, n_estimators=101, reg_alpha=121, reg_lambda=4\n"
     ]
    },
    {
     "name": "stderr",
     "output_type": "stream",
     "text": [
      "c:\\Users\\Saurav\\anaconda3\\Lib\\site-packages\\xgboost\\data.py:440: FutureWarning: is_sparse is deprecated and will be removed in a future version. Check `isinstance(dtype, pd.SparseDtype)` instead.\n",
      "  if is_sparse(data):\n"
     ]
    },
    {
     "name": "stdout",
     "output_type": "stream",
     "text": [
      "[CV 4/10; 1/10] END colsample_bytree=0.2, gamma=4, learning_rate=1.2000000000000002, max_depth=351, min_child_weight=15, n_estimators=101, reg_alpha=121, reg_lambda=4;, score=0.667 total time=   3.3s\n",
      "[CV 5/10; 1/10] START colsample_bytree=0.2, gamma=4, learning_rate=1.2000000000000002, max_depth=351, min_child_weight=15, n_estimators=101, reg_alpha=121, reg_lambda=4\n"
     ]
    },
    {
     "name": "stderr",
     "output_type": "stream",
     "text": [
      "c:\\Users\\Saurav\\anaconda3\\Lib\\site-packages\\xgboost\\data.py:440: FutureWarning: is_sparse is deprecated and will be removed in a future version. Check `isinstance(dtype, pd.SparseDtype)` instead.\n",
      "  if is_sparse(data):\n"
     ]
    },
    {
     "name": "stdout",
     "output_type": "stream",
     "text": [
      "[CV 5/10; 1/10] END colsample_bytree=0.2, gamma=4, learning_rate=1.2000000000000002, max_depth=351, min_child_weight=15, n_estimators=101, reg_alpha=121, reg_lambda=4;, score=0.631 total time=   3.4s\n",
      "[CV 6/10; 1/10] START colsample_bytree=0.2, gamma=4, learning_rate=1.2000000000000002, max_depth=351, min_child_weight=15, n_estimators=101, reg_alpha=121, reg_lambda=4\n"
     ]
    },
    {
     "name": "stderr",
     "output_type": "stream",
     "text": [
      "c:\\Users\\Saurav\\anaconda3\\Lib\\site-packages\\xgboost\\data.py:440: FutureWarning: is_sparse is deprecated and will be removed in a future version. Check `isinstance(dtype, pd.SparseDtype)` instead.\n",
      "  if is_sparse(data):\n"
     ]
    },
    {
     "name": "stdout",
     "output_type": "stream",
     "text": [
      "[CV 6/10; 1/10] END colsample_bytree=0.2, gamma=4, learning_rate=1.2000000000000002, max_depth=351, min_child_weight=15, n_estimators=101, reg_alpha=121, reg_lambda=4;, score=0.656 total time=   4.0s\n",
      "[CV 7/10; 1/10] START colsample_bytree=0.2, gamma=4, learning_rate=1.2000000000000002, max_depth=351, min_child_weight=15, n_estimators=101, reg_alpha=121, reg_lambda=4\n"
     ]
    },
    {
     "name": "stderr",
     "output_type": "stream",
     "text": [
      "c:\\Users\\Saurav\\anaconda3\\Lib\\site-packages\\xgboost\\data.py:440: FutureWarning: is_sparse is deprecated and will be removed in a future version. Check `isinstance(dtype, pd.SparseDtype)` instead.\n",
      "  if is_sparse(data):\n"
     ]
    },
    {
     "name": "stdout",
     "output_type": "stream",
     "text": [
      "[CV 7/10; 1/10] END colsample_bytree=0.2, gamma=4, learning_rate=1.2000000000000002, max_depth=351, min_child_weight=15, n_estimators=101, reg_alpha=121, reg_lambda=4;, score=0.667 total time=   4.1s\n",
      "[CV 8/10; 1/10] START colsample_bytree=0.2, gamma=4, learning_rate=1.2000000000000002, max_depth=351, min_child_weight=15, n_estimators=101, reg_alpha=121, reg_lambda=4\n"
     ]
    },
    {
     "name": "stderr",
     "output_type": "stream",
     "text": [
      "c:\\Users\\Saurav\\anaconda3\\Lib\\site-packages\\xgboost\\data.py:440: FutureWarning: is_sparse is deprecated and will be removed in a future version. Check `isinstance(dtype, pd.SparseDtype)` instead.\n",
      "  if is_sparse(data):\n"
     ]
    },
    {
     "name": "stdout",
     "output_type": "stream",
     "text": [
      "[CV 8/10; 1/10] END colsample_bytree=0.2, gamma=4, learning_rate=1.2000000000000002, max_depth=351, min_child_weight=15, n_estimators=101, reg_alpha=121, reg_lambda=4;, score=0.672 total time=   4.3s\n",
      "[CV 9/10; 1/10] START colsample_bytree=0.2, gamma=4, learning_rate=1.2000000000000002, max_depth=351, min_child_weight=15, n_estimators=101, reg_alpha=121, reg_lambda=4\n"
     ]
    },
    {
     "name": "stderr",
     "output_type": "stream",
     "text": [
      "c:\\Users\\Saurav\\anaconda3\\Lib\\site-packages\\xgboost\\data.py:440: FutureWarning: is_sparse is deprecated and will be removed in a future version. Check `isinstance(dtype, pd.SparseDtype)` instead.\n",
      "  if is_sparse(data):\n"
     ]
    },
    {
     "name": "stdout",
     "output_type": "stream",
     "text": [
      "[CV 9/10; 1/10] END colsample_bytree=0.2, gamma=4, learning_rate=1.2000000000000002, max_depth=351, min_child_weight=15, n_estimators=101, reg_alpha=121, reg_lambda=4;, score=0.667 total time=   4.1s\n",
      "[CV 10/10; 1/10] START colsample_bytree=0.2, gamma=4, learning_rate=1.2000000000000002, max_depth=351, min_child_weight=15, n_estimators=101, reg_alpha=121, reg_lambda=4\n"
     ]
    },
    {
     "name": "stderr",
     "output_type": "stream",
     "text": [
      "c:\\Users\\Saurav\\anaconda3\\Lib\\site-packages\\xgboost\\data.py:440: FutureWarning: is_sparse is deprecated and will be removed in a future version. Check `isinstance(dtype, pd.SparseDtype)` instead.\n",
      "  if is_sparse(data):\n"
     ]
    },
    {
     "name": "stdout",
     "output_type": "stream",
     "text": [
      "[CV 10/10; 1/10] END colsample_bytree=0.2, gamma=4, learning_rate=1.2000000000000002, max_depth=351, min_child_weight=15, n_estimators=101, reg_alpha=121, reg_lambda=4;, score=0.677 total time=   4.1s\n",
      "[CV 1/10; 2/10] START colsample_bytree=0.8, gamma=4, learning_rate=0.9, max_depth=201, min_child_weight=5, n_estimators=151, reg_alpha=1, reg_lambda=4\n"
     ]
    },
    {
     "name": "stderr",
     "output_type": "stream",
     "text": [
      "c:\\Users\\Saurav\\anaconda3\\Lib\\site-packages\\xgboost\\data.py:440: FutureWarning: is_sparse is deprecated and will be removed in a future version. Check `isinstance(dtype, pd.SparseDtype)` instead.\n",
      "  if is_sparse(data):\n"
     ]
    },
    {
     "name": "stdout",
     "output_type": "stream",
     "text": [
      "[CV 1/10; 2/10] END colsample_bytree=0.8, gamma=4, learning_rate=0.9, max_depth=201, min_child_weight=5, n_estimators=151, reg_alpha=1, reg_lambda=4;, score=0.796 total time=  32.5s\n",
      "[CV 2/10; 2/10] START colsample_bytree=0.8, gamma=4, learning_rate=0.9, max_depth=201, min_child_weight=5, n_estimators=151, reg_alpha=1, reg_lambda=4\n"
     ]
    },
    {
     "name": "stderr",
     "output_type": "stream",
     "text": [
      "c:\\Users\\Saurav\\anaconda3\\Lib\\site-packages\\xgboost\\data.py:440: FutureWarning: is_sparse is deprecated and will be removed in a future version. Check `isinstance(dtype, pd.SparseDtype)` instead.\n",
      "  if is_sparse(data):\n"
     ]
    },
    {
     "name": "stdout",
     "output_type": "stream",
     "text": [
      "[CV 2/10; 2/10] END colsample_bytree=0.8, gamma=4, learning_rate=0.9, max_depth=201, min_child_weight=5, n_estimators=151, reg_alpha=1, reg_lambda=4;, score=0.740 total time=  25.1s\n",
      "[CV 3/10; 2/10] START colsample_bytree=0.8, gamma=4, learning_rate=0.9, max_depth=201, min_child_weight=5, n_estimators=151, reg_alpha=1, reg_lambda=4\n"
     ]
    },
    {
     "name": "stderr",
     "output_type": "stream",
     "text": [
      "c:\\Users\\Saurav\\anaconda3\\Lib\\site-packages\\xgboost\\data.py:440: FutureWarning: is_sparse is deprecated and will be removed in a future version. Check `isinstance(dtype, pd.SparseDtype)` instead.\n",
      "  if is_sparse(data):\n"
     ]
    },
    {
     "name": "stdout",
     "output_type": "stream",
     "text": [
      "[CV 3/10; 2/10] END colsample_bytree=0.8, gamma=4, learning_rate=0.9, max_depth=201, min_child_weight=5, n_estimators=151, reg_alpha=1, reg_lambda=4;, score=0.805 total time=  34.1s\n",
      "[CV 4/10; 2/10] START colsample_bytree=0.8, gamma=4, learning_rate=0.9, max_depth=201, min_child_weight=5, n_estimators=151, reg_alpha=1, reg_lambda=4\n"
     ]
    },
    {
     "name": "stderr",
     "output_type": "stream",
     "text": [
      "c:\\Users\\Saurav\\anaconda3\\Lib\\site-packages\\xgboost\\data.py:440: FutureWarning: is_sparse is deprecated and will be removed in a future version. Check `isinstance(dtype, pd.SparseDtype)` instead.\n",
      "  if is_sparse(data):\n"
     ]
    },
    {
     "name": "stdout",
     "output_type": "stream",
     "text": [
      "[CV 4/10; 2/10] END colsample_bytree=0.8, gamma=4, learning_rate=0.9, max_depth=201, min_child_weight=5, n_estimators=151, reg_alpha=1, reg_lambda=4;, score=0.831 total time=  32.8s\n",
      "[CV 5/10; 2/10] START colsample_bytree=0.8, gamma=4, learning_rate=0.9, max_depth=201, min_child_weight=5, n_estimators=151, reg_alpha=1, reg_lambda=4\n"
     ]
    },
    {
     "name": "stderr",
     "output_type": "stream",
     "text": [
      "c:\\Users\\Saurav\\anaconda3\\Lib\\site-packages\\xgboost\\data.py:440: FutureWarning: is_sparse is deprecated and will be removed in a future version. Check `isinstance(dtype, pd.SparseDtype)` instead.\n",
      "  if is_sparse(data):\n"
     ]
    },
    {
     "name": "stdout",
     "output_type": "stream",
     "text": [
      "[CV 5/10; 2/10] END colsample_bytree=0.8, gamma=4, learning_rate=0.9, max_depth=201, min_child_weight=5, n_estimators=151, reg_alpha=1, reg_lambda=4;, score=0.805 total time=  23.8s\n",
      "[CV 6/10; 2/10] START colsample_bytree=0.8, gamma=4, learning_rate=0.9, max_depth=201, min_child_weight=5, n_estimators=151, reg_alpha=1, reg_lambda=4\n"
     ]
    },
    {
     "name": "stderr",
     "output_type": "stream",
     "text": [
      "c:\\Users\\Saurav\\anaconda3\\Lib\\site-packages\\xgboost\\data.py:440: FutureWarning: is_sparse is deprecated and will be removed in a future version. Check `isinstance(dtype, pd.SparseDtype)` instead.\n",
      "  if is_sparse(data):\n"
     ]
    },
    {
     "name": "stdout",
     "output_type": "stream",
     "text": [
      "[CV 6/10; 2/10] END colsample_bytree=0.8, gamma=4, learning_rate=0.9, max_depth=201, min_child_weight=5, n_estimators=151, reg_alpha=1, reg_lambda=4;, score=0.800 total time=  33.0s\n",
      "[CV 7/10; 2/10] START colsample_bytree=0.8, gamma=4, learning_rate=0.9, max_depth=201, min_child_weight=5, n_estimators=151, reg_alpha=1, reg_lambda=4\n"
     ]
    },
    {
     "name": "stderr",
     "output_type": "stream",
     "text": [
      "c:\\Users\\Saurav\\anaconda3\\Lib\\site-packages\\xgboost\\data.py:440: FutureWarning: is_sparse is deprecated and will be removed in a future version. Check `isinstance(dtype, pd.SparseDtype)` instead.\n",
      "  if is_sparse(data):\n"
     ]
    },
    {
     "name": "stdout",
     "output_type": "stream",
     "text": [
      "[CV 7/10; 2/10] END colsample_bytree=0.8, gamma=4, learning_rate=0.9, max_depth=201, min_child_weight=5, n_estimators=151, reg_alpha=1, reg_lambda=4;, score=0.769 total time=  34.5s\n",
      "[CV 8/10; 2/10] START colsample_bytree=0.8, gamma=4, learning_rate=0.9, max_depth=201, min_child_weight=5, n_estimators=151, reg_alpha=1, reg_lambda=4\n"
     ]
    },
    {
     "name": "stderr",
     "output_type": "stream",
     "text": [
      "c:\\Users\\Saurav\\anaconda3\\Lib\\site-packages\\xgboost\\data.py:440: FutureWarning: is_sparse is deprecated and will be removed in a future version. Check `isinstance(dtype, pd.SparseDtype)` instead.\n",
      "  if is_sparse(data):\n"
     ]
    },
    {
     "name": "stdout",
     "output_type": "stream",
     "text": [
      "[CV 8/10; 2/10] END colsample_bytree=0.8, gamma=4, learning_rate=0.9, max_depth=201, min_child_weight=5, n_estimators=151, reg_alpha=1, reg_lambda=4;, score=0.790 total time=  25.0s\n",
      "[CV 9/10; 2/10] START colsample_bytree=0.8, gamma=4, learning_rate=0.9, max_depth=201, min_child_weight=5, n_estimators=151, reg_alpha=1, reg_lambda=4\n"
     ]
    },
    {
     "name": "stderr",
     "output_type": "stream",
     "text": [
      "c:\\Users\\Saurav\\anaconda3\\Lib\\site-packages\\xgboost\\data.py:440: FutureWarning: is_sparse is deprecated and will be removed in a future version. Check `isinstance(dtype, pd.SparseDtype)` instead.\n",
      "  if is_sparse(data):\n"
     ]
    },
    {
     "name": "stdout",
     "output_type": "stream",
     "text": [
      "[CV 9/10; 2/10] END colsample_bytree=0.8, gamma=4, learning_rate=0.9, max_depth=201, min_child_weight=5, n_estimators=151, reg_alpha=1, reg_lambda=4;, score=0.764 total time=  34.1s\n",
      "[CV 10/10; 2/10] START colsample_bytree=0.8, gamma=4, learning_rate=0.9, max_depth=201, min_child_weight=5, n_estimators=151, reg_alpha=1, reg_lambda=4\n"
     ]
    },
    {
     "name": "stderr",
     "output_type": "stream",
     "text": [
      "c:\\Users\\Saurav\\anaconda3\\Lib\\site-packages\\xgboost\\data.py:440: FutureWarning: is_sparse is deprecated and will be removed in a future version. Check `isinstance(dtype, pd.SparseDtype)` instead.\n",
      "  if is_sparse(data):\n"
     ]
    },
    {
     "name": "stdout",
     "output_type": "stream",
     "text": [
      "[CV 10/10; 2/10] END colsample_bytree=0.8, gamma=4, learning_rate=0.9, max_depth=201, min_child_weight=5, n_estimators=151, reg_alpha=1, reg_lambda=4;, score=0.815 total time=  35.2s\n",
      "[CV 1/10; 3/10] START colsample_bytree=0.4, gamma=1, learning_rate=0.1, max_depth=1, min_child_weight=30, n_estimators=351, reg_alpha=61, reg_lambda=0\n"
     ]
    },
    {
     "name": "stderr",
     "output_type": "stream",
     "text": [
      "c:\\Users\\Saurav\\anaconda3\\Lib\\site-packages\\xgboost\\data.py:440: FutureWarning: is_sparse is deprecated and will be removed in a future version. Check `isinstance(dtype, pd.SparseDtype)` instead.\n",
      "  if is_sparse(data):\n"
     ]
    },
    {
     "name": "stdout",
     "output_type": "stream",
     "text": [
      "[CV 1/10; 3/10] END colsample_bytree=0.4, gamma=1, learning_rate=0.1, max_depth=1, min_child_weight=30, n_estimators=351, reg_alpha=61, reg_lambda=0;, score=0.648 total time=  11.2s\n",
      "[CV 2/10; 3/10] START colsample_bytree=0.4, gamma=1, learning_rate=0.1, max_depth=1, min_child_weight=30, n_estimators=351, reg_alpha=61, reg_lambda=0\n"
     ]
    },
    {
     "name": "stderr",
     "output_type": "stream",
     "text": [
      "c:\\Users\\Saurav\\anaconda3\\Lib\\site-packages\\xgboost\\data.py:440: FutureWarning: is_sparse is deprecated and will be removed in a future version. Check `isinstance(dtype, pd.SparseDtype)` instead.\n",
      "  if is_sparse(data):\n"
     ]
    },
    {
     "name": "stdout",
     "output_type": "stream",
     "text": [
      "[CV 2/10; 3/10] END colsample_bytree=0.4, gamma=1, learning_rate=0.1, max_depth=1, min_child_weight=30, n_estimators=351, reg_alpha=61, reg_lambda=0;, score=0.597 total time=  11.4s\n",
      "[CV 3/10; 3/10] START colsample_bytree=0.4, gamma=1, learning_rate=0.1, max_depth=1, min_child_weight=30, n_estimators=351, reg_alpha=61, reg_lambda=0\n"
     ]
    },
    {
     "name": "stderr",
     "output_type": "stream",
     "text": [
      "c:\\Users\\Saurav\\anaconda3\\Lib\\site-packages\\xgboost\\data.py:440: FutureWarning: is_sparse is deprecated and will be removed in a future version. Check `isinstance(dtype, pd.SparseDtype)` instead.\n",
      "  if is_sparse(data):\n"
     ]
    },
    {
     "name": "stdout",
     "output_type": "stream",
     "text": [
      "[CV 3/10; 3/10] END colsample_bytree=0.4, gamma=1, learning_rate=0.1, max_depth=1, min_child_weight=30, n_estimators=351, reg_alpha=61, reg_lambda=0;, score=0.662 total time=  13.6s\n",
      "[CV 4/10; 3/10] START colsample_bytree=0.4, gamma=1, learning_rate=0.1, max_depth=1, min_child_weight=30, n_estimators=351, reg_alpha=61, reg_lambda=0\n"
     ]
    },
    {
     "name": "stderr",
     "output_type": "stream",
     "text": [
      "c:\\Users\\Saurav\\anaconda3\\Lib\\site-packages\\xgboost\\data.py:440: FutureWarning: is_sparse is deprecated and will be removed in a future version. Check `isinstance(dtype, pd.SparseDtype)` instead.\n",
      "  if is_sparse(data):\n"
     ]
    },
    {
     "name": "stdout",
     "output_type": "stream",
     "text": [
      "[CV 4/10; 3/10] END colsample_bytree=0.4, gamma=1, learning_rate=0.1, max_depth=1, min_child_weight=30, n_estimators=351, reg_alpha=61, reg_lambda=0;, score=0.703 total time=  17.4s\n",
      "[CV 5/10; 3/10] START colsample_bytree=0.4, gamma=1, learning_rate=0.1, max_depth=1, min_child_weight=30, n_estimators=351, reg_alpha=61, reg_lambda=0\n"
     ]
    },
    {
     "name": "stderr",
     "output_type": "stream",
     "text": [
      "c:\\Users\\Saurav\\anaconda3\\Lib\\site-packages\\xgboost\\data.py:440: FutureWarning: is_sparse is deprecated and will be removed in a future version. Check `isinstance(dtype, pd.SparseDtype)` instead.\n",
      "  if is_sparse(data):\n"
     ]
    },
    {
     "name": "stdout",
     "output_type": "stream",
     "text": [
      "[CV 5/10; 3/10] END colsample_bytree=0.4, gamma=1, learning_rate=0.1, max_depth=1, min_child_weight=30, n_estimators=351, reg_alpha=61, reg_lambda=0;, score=0.667 total time=  18.0s\n",
      "[CV 6/10; 3/10] START colsample_bytree=0.4, gamma=1, learning_rate=0.1, max_depth=1, min_child_weight=30, n_estimators=351, reg_alpha=61, reg_lambda=0\n"
     ]
    },
    {
     "name": "stderr",
     "output_type": "stream",
     "text": [
      "c:\\Users\\Saurav\\anaconda3\\Lib\\site-packages\\xgboost\\data.py:440: FutureWarning: is_sparse is deprecated and will be removed in a future version. Check `isinstance(dtype, pd.SparseDtype)` instead.\n",
      "  if is_sparse(data):\n"
     ]
    },
    {
     "name": "stdout",
     "output_type": "stream",
     "text": [
      "[CV 6/10; 3/10] END colsample_bytree=0.4, gamma=1, learning_rate=0.1, max_depth=1, min_child_weight=30, n_estimators=351, reg_alpha=61, reg_lambda=0;, score=0.662 total time=  16.9s\n",
      "[CV 7/10; 3/10] START colsample_bytree=0.4, gamma=1, learning_rate=0.1, max_depth=1, min_child_weight=30, n_estimators=351, reg_alpha=61, reg_lambda=0\n"
     ]
    },
    {
     "name": "stderr",
     "output_type": "stream",
     "text": [
      "c:\\Users\\Saurav\\anaconda3\\Lib\\site-packages\\xgboost\\data.py:440: FutureWarning: is_sparse is deprecated and will be removed in a future version. Check `isinstance(dtype, pd.SparseDtype)` instead.\n",
      "  if is_sparse(data):\n"
     ]
    },
    {
     "name": "stdout",
     "output_type": "stream",
     "text": [
      "[CV 7/10; 3/10] END colsample_bytree=0.4, gamma=1, learning_rate=0.1, max_depth=1, min_child_weight=30, n_estimators=351, reg_alpha=61, reg_lambda=0;, score=0.677 total time=  11.2s\n",
      "[CV 8/10; 3/10] START colsample_bytree=0.4, gamma=1, learning_rate=0.1, max_depth=1, min_child_weight=30, n_estimators=351, reg_alpha=61, reg_lambda=0\n"
     ]
    },
    {
     "name": "stderr",
     "output_type": "stream",
     "text": [
      "c:\\Users\\Saurav\\anaconda3\\Lib\\site-packages\\xgboost\\data.py:440: FutureWarning: is_sparse is deprecated and will be removed in a future version. Check `isinstance(dtype, pd.SparseDtype)` instead.\n",
      "  if is_sparse(data):\n"
     ]
    },
    {
     "name": "stdout",
     "output_type": "stream",
     "text": [
      "[CV 8/10; 3/10] END colsample_bytree=0.4, gamma=1, learning_rate=0.1, max_depth=1, min_child_weight=30, n_estimators=351, reg_alpha=61, reg_lambda=0;, score=0.718 total time=  11.2s\n",
      "[CV 9/10; 3/10] START colsample_bytree=0.4, gamma=1, learning_rate=0.1, max_depth=1, min_child_weight=30, n_estimators=351, reg_alpha=61, reg_lambda=0\n"
     ]
    },
    {
     "name": "stderr",
     "output_type": "stream",
     "text": [
      "c:\\Users\\Saurav\\anaconda3\\Lib\\site-packages\\xgboost\\data.py:440: FutureWarning: is_sparse is deprecated and will be removed in a future version. Check `isinstance(dtype, pd.SparseDtype)` instead.\n",
      "  if is_sparse(data):\n"
     ]
    },
    {
     "name": "stdout",
     "output_type": "stream",
     "text": [
      "[CV 9/10; 3/10] END colsample_bytree=0.4, gamma=1, learning_rate=0.1, max_depth=1, min_child_weight=30, n_estimators=351, reg_alpha=61, reg_lambda=0;, score=0.662 total time=  12.5s\n",
      "[CV 10/10; 3/10] START colsample_bytree=0.4, gamma=1, learning_rate=0.1, max_depth=1, min_child_weight=30, n_estimators=351, reg_alpha=61, reg_lambda=0\n"
     ]
    },
    {
     "name": "stderr",
     "output_type": "stream",
     "text": [
      "c:\\Users\\Saurav\\anaconda3\\Lib\\site-packages\\xgboost\\data.py:440: FutureWarning: is_sparse is deprecated and will be removed in a future version. Check `isinstance(dtype, pd.SparseDtype)` instead.\n",
      "  if is_sparse(data):\n"
     ]
    },
    {
     "name": "stdout",
     "output_type": "stream",
     "text": [
      "[CV 10/10; 3/10] END colsample_bytree=0.4, gamma=1, learning_rate=0.1, max_depth=1, min_child_weight=30, n_estimators=351, reg_alpha=61, reg_lambda=0;, score=0.692 total time=  16.5s\n",
      "[CV 1/10; 4/10] START colsample_bytree=0.30000000000000004, gamma=1, learning_rate=0.9, max_depth=51, min_child_weight=20, n_estimators=351, reg_alpha=121, reg_lambda=1\n"
     ]
    },
    {
     "name": "stderr",
     "output_type": "stream",
     "text": [
      "c:\\Users\\Saurav\\anaconda3\\Lib\\site-packages\\xgboost\\data.py:440: FutureWarning: is_sparse is deprecated and will be removed in a future version. Check `isinstance(dtype, pd.SparseDtype)` instead.\n",
      "  if is_sparse(data):\n"
     ]
    },
    {
     "name": "stdout",
     "output_type": "stream",
     "text": [
      "[CV 1/10; 4/10] END colsample_bytree=0.30000000000000004, gamma=1, learning_rate=0.9, max_depth=51, min_child_weight=20, n_estimators=351, reg_alpha=121, reg_lambda=1;, score=0.638 total time=  16.9s\n",
      "[CV 2/10; 4/10] START colsample_bytree=0.30000000000000004, gamma=1, learning_rate=0.9, max_depth=51, min_child_weight=20, n_estimators=351, reg_alpha=121, reg_lambda=1\n"
     ]
    },
    {
     "name": "stderr",
     "output_type": "stream",
     "text": [
      "c:\\Users\\Saurav\\anaconda3\\Lib\\site-packages\\xgboost\\data.py:440: FutureWarning: is_sparse is deprecated and will be removed in a future version. Check `isinstance(dtype, pd.SparseDtype)` instead.\n",
      "  if is_sparse(data):\n"
     ]
    },
    {
     "name": "stdout",
     "output_type": "stream",
     "text": [
      "[CV 2/10; 4/10] END colsample_bytree=0.30000000000000004, gamma=1, learning_rate=0.9, max_depth=51, min_child_weight=20, n_estimators=351, reg_alpha=121, reg_lambda=1;, score=0.602 total time=  16.1s\n",
      "[CV 3/10; 4/10] START colsample_bytree=0.30000000000000004, gamma=1, learning_rate=0.9, max_depth=51, min_child_weight=20, n_estimators=351, reg_alpha=121, reg_lambda=1\n"
     ]
    },
    {
     "name": "stderr",
     "output_type": "stream",
     "text": [
      "c:\\Users\\Saurav\\anaconda3\\Lib\\site-packages\\xgboost\\data.py:440: FutureWarning: is_sparse is deprecated and will be removed in a future version. Check `isinstance(dtype, pd.SparseDtype)` instead.\n",
      "  if is_sparse(data):\n"
     ]
    },
    {
     "name": "stdout",
     "output_type": "stream",
     "text": [
      "[CV 3/10; 4/10] END colsample_bytree=0.30000000000000004, gamma=1, learning_rate=0.9, max_depth=51, min_child_weight=20, n_estimators=351, reg_alpha=121, reg_lambda=1;, score=0.631 total time=  13.0s\n",
      "[CV 4/10; 4/10] START colsample_bytree=0.30000000000000004, gamma=1, learning_rate=0.9, max_depth=51, min_child_weight=20, n_estimators=351, reg_alpha=121, reg_lambda=1\n"
     ]
    },
    {
     "name": "stderr",
     "output_type": "stream",
     "text": [
      "c:\\Users\\Saurav\\anaconda3\\Lib\\site-packages\\xgboost\\data.py:440: FutureWarning: is_sparse is deprecated and will be removed in a future version. Check `isinstance(dtype, pd.SparseDtype)` instead.\n",
      "  if is_sparse(data):\n"
     ]
    },
    {
     "name": "stdout",
     "output_type": "stream",
     "text": [
      "[CV 4/10; 4/10] END colsample_bytree=0.30000000000000004, gamma=1, learning_rate=0.9, max_depth=51, min_child_weight=20, n_estimators=351, reg_alpha=121, reg_lambda=1;, score=0.687 total time=  10.2s\n",
      "[CV 5/10; 4/10] START colsample_bytree=0.30000000000000004, gamma=1, learning_rate=0.9, max_depth=51, min_child_weight=20, n_estimators=351, reg_alpha=121, reg_lambda=1\n"
     ]
    },
    {
     "name": "stderr",
     "output_type": "stream",
     "text": [
      "c:\\Users\\Saurav\\anaconda3\\Lib\\site-packages\\xgboost\\data.py:440: FutureWarning: is_sparse is deprecated and will be removed in a future version. Check `isinstance(dtype, pd.SparseDtype)` instead.\n",
      "  if is_sparse(data):\n"
     ]
    },
    {
     "name": "stdout",
     "output_type": "stream",
     "text": [
      "[CV 5/10; 4/10] END colsample_bytree=0.30000000000000004, gamma=1, learning_rate=0.9, max_depth=51, min_child_weight=20, n_estimators=351, reg_alpha=121, reg_lambda=1;, score=0.646 total time=  10.3s\n",
      "[CV 6/10; 4/10] START colsample_bytree=0.30000000000000004, gamma=1, learning_rate=0.9, max_depth=51, min_child_weight=20, n_estimators=351, reg_alpha=121, reg_lambda=1\n"
     ]
    },
    {
     "name": "stderr",
     "output_type": "stream",
     "text": [
      "c:\\Users\\Saurav\\anaconda3\\Lib\\site-packages\\xgboost\\data.py:440: FutureWarning: is_sparse is deprecated and will be removed in a future version. Check `isinstance(dtype, pd.SparseDtype)` instead.\n",
      "  if is_sparse(data):\n"
     ]
    },
    {
     "name": "stdout",
     "output_type": "stream",
     "text": [
      "[CV 6/10; 4/10] END colsample_bytree=0.30000000000000004, gamma=1, learning_rate=0.9, max_depth=51, min_child_weight=20, n_estimators=351, reg_alpha=121, reg_lambda=1;, score=0.646 total time=  11.6s\n",
      "[CV 7/10; 4/10] START colsample_bytree=0.30000000000000004, gamma=1, learning_rate=0.9, max_depth=51, min_child_weight=20, n_estimators=351, reg_alpha=121, reg_lambda=1\n"
     ]
    },
    {
     "name": "stderr",
     "output_type": "stream",
     "text": [
      "c:\\Users\\Saurav\\anaconda3\\Lib\\site-packages\\xgboost\\data.py:440: FutureWarning: is_sparse is deprecated and will be removed in a future version. Check `isinstance(dtype, pd.SparseDtype)` instead.\n",
      "  if is_sparse(data):\n"
     ]
    },
    {
     "name": "stdout",
     "output_type": "stream",
     "text": [
      "[CV 7/10; 4/10] END colsample_bytree=0.30000000000000004, gamma=1, learning_rate=0.9, max_depth=51, min_child_weight=20, n_estimators=351, reg_alpha=121, reg_lambda=1;, score=0.662 total time=  15.5s\n",
      "[CV 8/10; 4/10] START colsample_bytree=0.30000000000000004, gamma=1, learning_rate=0.9, max_depth=51, min_child_weight=20, n_estimators=351, reg_alpha=121, reg_lambda=1\n"
     ]
    },
    {
     "name": "stderr",
     "output_type": "stream",
     "text": [
      "c:\\Users\\Saurav\\anaconda3\\Lib\\site-packages\\xgboost\\data.py:440: FutureWarning: is_sparse is deprecated and will be removed in a future version. Check `isinstance(dtype, pd.SparseDtype)` instead.\n",
      "  if is_sparse(data):\n"
     ]
    },
    {
     "name": "stdout",
     "output_type": "stream",
     "text": [
      "[CV 8/10; 4/10] END colsample_bytree=0.30000000000000004, gamma=1, learning_rate=0.9, max_depth=51, min_child_weight=20, n_estimators=351, reg_alpha=121, reg_lambda=1;, score=0.667 total time=  16.7s\n",
      "[CV 9/10; 4/10] START colsample_bytree=0.30000000000000004, gamma=1, learning_rate=0.9, max_depth=51, min_child_weight=20, n_estimators=351, reg_alpha=121, reg_lambda=1\n"
     ]
    },
    {
     "name": "stderr",
     "output_type": "stream",
     "text": [
      "c:\\Users\\Saurav\\anaconda3\\Lib\\site-packages\\xgboost\\data.py:440: FutureWarning: is_sparse is deprecated and will be removed in a future version. Check `isinstance(dtype, pd.SparseDtype)` instead.\n",
      "  if is_sparse(data):\n"
     ]
    },
    {
     "name": "stdout",
     "output_type": "stream",
     "text": [
      "[CV 9/10; 4/10] END colsample_bytree=0.30000000000000004, gamma=1, learning_rate=0.9, max_depth=51, min_child_weight=20, n_estimators=351, reg_alpha=121, reg_lambda=1;, score=0.662 total time=  16.1s\n",
      "[CV 10/10; 4/10] START colsample_bytree=0.30000000000000004, gamma=1, learning_rate=0.9, max_depth=51, min_child_weight=20, n_estimators=351, reg_alpha=121, reg_lambda=1\n"
     ]
    },
    {
     "name": "stderr",
     "output_type": "stream",
     "text": [
      "c:\\Users\\Saurav\\anaconda3\\Lib\\site-packages\\xgboost\\data.py:440: FutureWarning: is_sparse is deprecated and will be removed in a future version. Check `isinstance(dtype, pd.SparseDtype)` instead.\n",
      "  if is_sparse(data):\n"
     ]
    },
    {
     "name": "stdout",
     "output_type": "stream",
     "text": [
      "[CV 10/10; 4/10] END colsample_bytree=0.30000000000000004, gamma=1, learning_rate=0.9, max_depth=51, min_child_weight=20, n_estimators=351, reg_alpha=121, reg_lambda=1;, score=0.677 total time=  12.0s\n",
      "[CV 1/10; 5/10] START colsample_bytree=0.8, gamma=7, learning_rate=1.8, max_depth=201, min_child_weight=0, n_estimators=301, reg_alpha=141, reg_lambda=2\n"
     ]
    },
    {
     "name": "stderr",
     "output_type": "stream",
     "text": [
      "c:\\Users\\Saurav\\anaconda3\\Lib\\site-packages\\xgboost\\data.py:440: FutureWarning: is_sparse is deprecated and will be removed in a future version. Check `isinstance(dtype, pd.SparseDtype)` instead.\n",
      "  if is_sparse(data):\n"
     ]
    },
    {
     "name": "stdout",
     "output_type": "stream",
     "text": [
      "[CV 1/10; 5/10] END colsample_bytree=0.8, gamma=7, learning_rate=1.8, max_depth=201, min_child_weight=0, n_estimators=301, reg_alpha=141, reg_lambda=2;, score=0.449 total time= 3.2min\n",
      "[CV 2/10; 5/10] START colsample_bytree=0.8, gamma=7, learning_rate=1.8, max_depth=201, min_child_weight=0, n_estimators=301, reg_alpha=141, reg_lambda=2\n"
     ]
    },
    {
     "name": "stderr",
     "output_type": "stream",
     "text": [
      "c:\\Users\\Saurav\\anaconda3\\Lib\\site-packages\\xgboost\\data.py:440: FutureWarning: is_sparse is deprecated and will be removed in a future version. Check `isinstance(dtype, pd.SparseDtype)` instead.\n",
      "  if is_sparse(data):\n"
     ]
    },
    {
     "name": "stdout",
     "output_type": "stream",
     "text": [
      "[CV 2/10; 5/10] END colsample_bytree=0.8, gamma=7, learning_rate=1.8, max_depth=201, min_child_weight=0, n_estimators=301, reg_alpha=141, reg_lambda=2;, score=0.413 total time= 3.3min\n",
      "[CV 3/10; 5/10] START colsample_bytree=0.8, gamma=7, learning_rate=1.8, max_depth=201, min_child_weight=0, n_estimators=301, reg_alpha=141, reg_lambda=2\n"
     ]
    },
    {
     "name": "stderr",
     "output_type": "stream",
     "text": [
      "c:\\Users\\Saurav\\anaconda3\\Lib\\site-packages\\xgboost\\data.py:440: FutureWarning: is_sparse is deprecated and will be removed in a future version. Check `isinstance(dtype, pd.SparseDtype)` instead.\n",
      "  if is_sparse(data):\n"
     ]
    },
    {
     "name": "stdout",
     "output_type": "stream",
     "text": [
      "[CV 3/10; 5/10] END colsample_bytree=0.8, gamma=7, learning_rate=1.8, max_depth=201, min_child_weight=0, n_estimators=301, reg_alpha=141, reg_lambda=2;, score=0.451 total time=12.6min\n",
      "[CV 4/10; 5/10] START colsample_bytree=0.8, gamma=7, learning_rate=1.8, max_depth=201, min_child_weight=0, n_estimators=301, reg_alpha=141, reg_lambda=2\n"
     ]
    },
    {
     "name": "stderr",
     "output_type": "stream",
     "text": [
      "c:\\Users\\Saurav\\anaconda3\\Lib\\site-packages\\xgboost\\data.py:440: FutureWarning: is_sparse is deprecated and will be removed in a future version. Check `isinstance(dtype, pd.SparseDtype)` instead.\n",
      "  if is_sparse(data):\n"
     ]
    },
    {
     "name": "stdout",
     "output_type": "stream",
     "text": [
      "[CV 4/10; 5/10] END colsample_bytree=0.8, gamma=7, learning_rate=1.8, max_depth=201, min_child_weight=0, n_estimators=301, reg_alpha=141, reg_lambda=2;, score=0.462 total time= 4.0min\n",
      "[CV 5/10; 5/10] START colsample_bytree=0.8, gamma=7, learning_rate=1.8, max_depth=201, min_child_weight=0, n_estimators=301, reg_alpha=141, reg_lambda=2\n"
     ]
    },
    {
     "name": "stderr",
     "output_type": "stream",
     "text": [
      "c:\\Users\\Saurav\\anaconda3\\Lib\\site-packages\\xgboost\\data.py:440: FutureWarning: is_sparse is deprecated and will be removed in a future version. Check `isinstance(dtype, pd.SparseDtype)` instead.\n",
      "  if is_sparse(data):\n"
     ]
    },
    {
     "name": "stdout",
     "output_type": "stream",
     "text": [
      "[CV 5/10; 5/10] END colsample_bytree=0.8, gamma=7, learning_rate=1.8, max_depth=201, min_child_weight=0, n_estimators=301, reg_alpha=141, reg_lambda=2;, score=0.431 total time= 3.7min\n",
      "[CV 6/10; 5/10] START colsample_bytree=0.8, gamma=7, learning_rate=1.8, max_depth=201, min_child_weight=0, n_estimators=301, reg_alpha=141, reg_lambda=2\n"
     ]
    },
    {
     "name": "stderr",
     "output_type": "stream",
     "text": [
      "c:\\Users\\Saurav\\anaconda3\\Lib\\site-packages\\xgboost\\data.py:440: FutureWarning: is_sparse is deprecated and will be removed in a future version. Check `isinstance(dtype, pd.SparseDtype)` instead.\n",
      "  if is_sparse(data):\n"
     ]
    },
    {
     "name": "stdout",
     "output_type": "stream",
     "text": [
      "[CV 6/10; 5/10] END colsample_bytree=0.8, gamma=7, learning_rate=1.8, max_depth=201, min_child_weight=0, n_estimators=301, reg_alpha=141, reg_lambda=2;, score=0.436 total time= 3.4min\n",
      "[CV 7/10; 5/10] START colsample_bytree=0.8, gamma=7, learning_rate=1.8, max_depth=201, min_child_weight=0, n_estimators=301, reg_alpha=141, reg_lambda=2\n"
     ]
    },
    {
     "name": "stderr",
     "output_type": "stream",
     "text": [
      "c:\\Users\\Saurav\\anaconda3\\Lib\\site-packages\\xgboost\\data.py:440: FutureWarning: is_sparse is deprecated and will be removed in a future version. Check `isinstance(dtype, pd.SparseDtype)` instead.\n",
      "  if is_sparse(data):\n"
     ]
    },
    {
     "name": "stdout",
     "output_type": "stream",
     "text": [
      "[CV 7/10; 5/10] END colsample_bytree=0.8, gamma=7, learning_rate=1.8, max_depth=201, min_child_weight=0, n_estimators=301, reg_alpha=141, reg_lambda=2;, score=0.462 total time= 3.5min\n",
      "[CV 8/10; 5/10] START colsample_bytree=0.8, gamma=7, learning_rate=1.8, max_depth=201, min_child_weight=0, n_estimators=301, reg_alpha=141, reg_lambda=2\n"
     ]
    },
    {
     "name": "stderr",
     "output_type": "stream",
     "text": [
      "c:\\Users\\Saurav\\anaconda3\\Lib\\site-packages\\xgboost\\data.py:440: FutureWarning: is_sparse is deprecated and will be removed in a future version. Check `isinstance(dtype, pd.SparseDtype)` instead.\n",
      "  if is_sparse(data):\n"
     ]
    },
    {
     "name": "stdout",
     "output_type": "stream",
     "text": [
      "[CV 8/10; 5/10] END colsample_bytree=0.8, gamma=7, learning_rate=1.8, max_depth=201, min_child_weight=0, n_estimators=301, reg_alpha=141, reg_lambda=2;, score=0.462 total time= 3.3min\n",
      "[CV 9/10; 5/10] START colsample_bytree=0.8, gamma=7, learning_rate=1.8, max_depth=201, min_child_weight=0, n_estimators=301, reg_alpha=141, reg_lambda=2\n"
     ]
    },
    {
     "name": "stderr",
     "output_type": "stream",
     "text": [
      "c:\\Users\\Saurav\\anaconda3\\Lib\\site-packages\\xgboost\\data.py:440: FutureWarning: is_sparse is deprecated and will be removed in a future version. Check `isinstance(dtype, pd.SparseDtype)` instead.\n",
      "  if is_sparse(data):\n"
     ]
    },
    {
     "name": "stdout",
     "output_type": "stream",
     "text": [
      "[CV 9/10; 5/10] END colsample_bytree=0.8, gamma=7, learning_rate=1.8, max_depth=201, min_child_weight=0, n_estimators=301, reg_alpha=141, reg_lambda=2;, score=0.431 total time= 3.4min\n",
      "[CV 10/10; 5/10] START colsample_bytree=0.8, gamma=7, learning_rate=1.8, max_depth=201, min_child_weight=0, n_estimators=301, reg_alpha=141, reg_lambda=2\n"
     ]
    },
    {
     "name": "stderr",
     "output_type": "stream",
     "text": [
      "c:\\Users\\Saurav\\anaconda3\\Lib\\site-packages\\xgboost\\data.py:440: FutureWarning: is_sparse is deprecated and will be removed in a future version. Check `isinstance(dtype, pd.SparseDtype)` instead.\n",
      "  if is_sparse(data):\n"
     ]
    },
    {
     "name": "stdout",
     "output_type": "stream",
     "text": [
      "[CV 10/10; 5/10] END colsample_bytree=0.8, gamma=7, learning_rate=1.8, max_depth=201, min_child_weight=0, n_estimators=301, reg_alpha=141, reg_lambda=2;, score=0.436 total time= 3.3min\n",
      "[CV 1/10; 6/10] START colsample_bytree=0.9, gamma=1, learning_rate=0.5, max_depth=251, min_child_weight=15, n_estimators=301, reg_alpha=41, reg_lambda=2\n"
     ]
    },
    {
     "name": "stderr",
     "output_type": "stream",
     "text": [
      "c:\\Users\\Saurav\\anaconda3\\Lib\\site-packages\\xgboost\\data.py:440: FutureWarning: is_sparse is deprecated and will be removed in a future version. Check `isinstance(dtype, pd.SparseDtype)` instead.\n",
      "  if is_sparse(data):\n"
     ]
    },
    {
     "name": "stdout",
     "output_type": "stream",
     "text": [
      "[CV 1/10; 6/10] END colsample_bytree=0.9, gamma=1, learning_rate=0.5, max_depth=251, min_child_weight=15, n_estimators=301, reg_alpha=41, reg_lambda=2;, score=0.714 total time=  36.4s\n",
      "[CV 2/10; 6/10] START colsample_bytree=0.9, gamma=1, learning_rate=0.5, max_depth=251, min_child_weight=15, n_estimators=301, reg_alpha=41, reg_lambda=2\n"
     ]
    },
    {
     "name": "stderr",
     "output_type": "stream",
     "text": [
      "c:\\Users\\Saurav\\anaconda3\\Lib\\site-packages\\xgboost\\data.py:440: FutureWarning: is_sparse is deprecated and will be removed in a future version. Check `isinstance(dtype, pd.SparseDtype)` instead.\n",
      "  if is_sparse(data):\n"
     ]
    },
    {
     "name": "stdout",
     "output_type": "stream",
     "text": [
      "[CV 2/10; 6/10] END colsample_bytree=0.9, gamma=1, learning_rate=0.5, max_depth=251, min_child_weight=15, n_estimators=301, reg_alpha=41, reg_lambda=2;, score=0.684 total time=  33.1s\n",
      "[CV 3/10; 6/10] START colsample_bytree=0.9, gamma=1, learning_rate=0.5, max_depth=251, min_child_weight=15, n_estimators=301, reg_alpha=41, reg_lambda=2\n"
     ]
    },
    {
     "name": "stderr",
     "output_type": "stream",
     "text": [
      "c:\\Users\\Saurav\\anaconda3\\Lib\\site-packages\\xgboost\\data.py:440: FutureWarning: is_sparse is deprecated and will be removed in a future version. Check `isinstance(dtype, pd.SparseDtype)` instead.\n",
      "  if is_sparse(data):\n"
     ]
    },
    {
     "name": "stdout",
     "output_type": "stream",
     "text": [
      "[CV 3/10; 6/10] END colsample_bytree=0.9, gamma=1, learning_rate=0.5, max_depth=251, min_child_weight=15, n_estimators=301, reg_alpha=41, reg_lambda=2;, score=0.708 total time=  30.6s\n",
      "[CV 4/10; 6/10] START colsample_bytree=0.9, gamma=1, learning_rate=0.5, max_depth=251, min_child_weight=15, n_estimators=301, reg_alpha=41, reg_lambda=2\n"
     ]
    },
    {
     "name": "stderr",
     "output_type": "stream",
     "text": [
      "c:\\Users\\Saurav\\anaconda3\\Lib\\site-packages\\xgboost\\data.py:440: FutureWarning: is_sparse is deprecated and will be removed in a future version. Check `isinstance(dtype, pd.SparseDtype)` instead.\n",
      "  if is_sparse(data):\n"
     ]
    },
    {
     "name": "stdout",
     "output_type": "stream",
     "text": [
      "[CV 4/10; 6/10] END colsample_bytree=0.9, gamma=1, learning_rate=0.5, max_depth=251, min_child_weight=15, n_estimators=301, reg_alpha=41, reg_lambda=2;, score=0.769 total time=  45.0s\n",
      "[CV 5/10; 6/10] START colsample_bytree=0.9, gamma=1, learning_rate=0.5, max_depth=251, min_child_weight=15, n_estimators=301, reg_alpha=41, reg_lambda=2\n"
     ]
    },
    {
     "name": "stderr",
     "output_type": "stream",
     "text": [
      "c:\\Users\\Saurav\\anaconda3\\Lib\\site-packages\\xgboost\\data.py:440: FutureWarning: is_sparse is deprecated and will be removed in a future version. Check `isinstance(dtype, pd.SparseDtype)` instead.\n",
      "  if is_sparse(data):\n"
     ]
    },
    {
     "name": "stdout",
     "output_type": "stream",
     "text": [
      "[CV 5/10; 6/10] END colsample_bytree=0.9, gamma=1, learning_rate=0.5, max_depth=251, min_child_weight=15, n_estimators=301, reg_alpha=41, reg_lambda=2;, score=0.718 total time=  30.1s\n",
      "[CV 6/10; 6/10] START colsample_bytree=0.9, gamma=1, learning_rate=0.5, max_depth=251, min_child_weight=15, n_estimators=301, reg_alpha=41, reg_lambda=2\n"
     ]
    },
    {
     "name": "stderr",
     "output_type": "stream",
     "text": [
      "c:\\Users\\Saurav\\anaconda3\\Lib\\site-packages\\xgboost\\data.py:440: FutureWarning: is_sparse is deprecated and will be removed in a future version. Check `isinstance(dtype, pd.SparseDtype)` instead.\n",
      "  if is_sparse(data):\n"
     ]
    },
    {
     "name": "stdout",
     "output_type": "stream",
     "text": [
      "[CV 6/10; 6/10] END colsample_bytree=0.9, gamma=1, learning_rate=0.5, max_depth=251, min_child_weight=15, n_estimators=301, reg_alpha=41, reg_lambda=2;, score=0.744 total time=  46.2s\n",
      "[CV 7/10; 6/10] START colsample_bytree=0.9, gamma=1, learning_rate=0.5, max_depth=251, min_child_weight=15, n_estimators=301, reg_alpha=41, reg_lambda=2\n"
     ]
    },
    {
     "name": "stderr",
     "output_type": "stream",
     "text": [
      "c:\\Users\\Saurav\\anaconda3\\Lib\\site-packages\\xgboost\\data.py:440: FutureWarning: is_sparse is deprecated and will be removed in a future version. Check `isinstance(dtype, pd.SparseDtype)` instead.\n",
      "  if is_sparse(data):\n"
     ]
    },
    {
     "name": "stdout",
     "output_type": "stream",
     "text": [
      "[CV 7/10; 6/10] END colsample_bytree=0.9, gamma=1, learning_rate=0.5, max_depth=251, min_child_weight=15, n_estimators=301, reg_alpha=41, reg_lambda=2;, score=0.733 total time=  24.4s\n",
      "[CV 8/10; 6/10] START colsample_bytree=0.9, gamma=1, learning_rate=0.5, max_depth=251, min_child_weight=15, n_estimators=301, reg_alpha=41, reg_lambda=2\n"
     ]
    },
    {
     "name": "stderr",
     "output_type": "stream",
     "text": [
      "c:\\Users\\Saurav\\anaconda3\\Lib\\site-packages\\xgboost\\data.py:440: FutureWarning: is_sparse is deprecated and will be removed in a future version. Check `isinstance(dtype, pd.SparseDtype)` instead.\n",
      "  if is_sparse(data):\n"
     ]
    },
    {
     "name": "stdout",
     "output_type": "stream",
     "text": [
      "[CV 8/10; 6/10] END colsample_bytree=0.9, gamma=1, learning_rate=0.5, max_depth=251, min_child_weight=15, n_estimators=301, reg_alpha=41, reg_lambda=2;, score=0.744 total time=  35.1s\n",
      "[CV 9/10; 6/10] START colsample_bytree=0.9, gamma=1, learning_rate=0.5, max_depth=251, min_child_weight=15, n_estimators=301, reg_alpha=41, reg_lambda=2\n"
     ]
    },
    {
     "name": "stderr",
     "output_type": "stream",
     "text": [
      "c:\\Users\\Saurav\\anaconda3\\Lib\\site-packages\\xgboost\\data.py:440: FutureWarning: is_sparse is deprecated and will be removed in a future version. Check `isinstance(dtype, pd.SparseDtype)` instead.\n",
      "  if is_sparse(data):\n"
     ]
    },
    {
     "name": "stdout",
     "output_type": "stream",
     "text": [
      "[CV 9/10; 6/10] END colsample_bytree=0.9, gamma=1, learning_rate=0.5, max_depth=251, min_child_weight=15, n_estimators=301, reg_alpha=41, reg_lambda=2;, score=0.723 total time=  35.7s\n",
      "[CV 10/10; 6/10] START colsample_bytree=0.9, gamma=1, learning_rate=0.5, max_depth=251, min_child_weight=15, n_estimators=301, reg_alpha=41, reg_lambda=2\n"
     ]
    },
    {
     "name": "stderr",
     "output_type": "stream",
     "text": [
      "c:\\Users\\Saurav\\anaconda3\\Lib\\site-packages\\xgboost\\data.py:440: FutureWarning: is_sparse is deprecated and will be removed in a future version. Check `isinstance(dtype, pd.SparseDtype)` instead.\n",
      "  if is_sparse(data):\n"
     ]
    },
    {
     "name": "stdout",
     "output_type": "stream",
     "text": [
      "[CV 10/10; 6/10] END colsample_bytree=0.9, gamma=1, learning_rate=0.5, max_depth=251, min_child_weight=15, n_estimators=301, reg_alpha=41, reg_lambda=2;, score=0.749 total time=  23.2s\n",
      "[CV 1/10; 7/10] START colsample_bytree=0.0, gamma=1, learning_rate=1.4000000000000001, max_depth=51, min_child_weight=35, n_estimators=201, reg_alpha=1, reg_lambda=3\n"
     ]
    },
    {
     "name": "stderr",
     "output_type": "stream",
     "text": [
      "c:\\Users\\Saurav\\anaconda3\\Lib\\site-packages\\xgboost\\data.py:440: FutureWarning: is_sparse is deprecated and will be removed in a future version. Check `isinstance(dtype, pd.SparseDtype)` instead.\n",
      "  if is_sparse(data):\n"
     ]
    },
    {
     "name": "stdout",
     "output_type": "stream",
     "text": [
      "[CV 1/10; 7/10] END colsample_bytree=0.0, gamma=1, learning_rate=1.4000000000000001, max_depth=51, min_child_weight=35, n_estimators=201, reg_alpha=1, reg_lambda=3;, score=0.245 total time=   3.1s\n",
      "[CV 2/10; 7/10] START colsample_bytree=0.0, gamma=1, learning_rate=1.4000000000000001, max_depth=51, min_child_weight=35, n_estimators=201, reg_alpha=1, reg_lambda=3\n"
     ]
    },
    {
     "name": "stderr",
     "output_type": "stream",
     "text": [
      "c:\\Users\\Saurav\\anaconda3\\Lib\\site-packages\\xgboost\\data.py:440: FutureWarning: is_sparse is deprecated and will be removed in a future version. Check `isinstance(dtype, pd.SparseDtype)` instead.\n",
      "  if is_sparse(data):\n"
     ]
    },
    {
     "name": "stdout",
     "output_type": "stream",
     "text": [
      "[CV 2/10; 7/10] END colsample_bytree=0.0, gamma=1, learning_rate=1.4000000000000001, max_depth=51, min_child_weight=35, n_estimators=201, reg_alpha=1, reg_lambda=3;, score=0.260 total time=   3.2s\n",
      "[CV 3/10; 7/10] START colsample_bytree=0.0, gamma=1, learning_rate=1.4000000000000001, max_depth=51, min_child_weight=35, n_estimators=201, reg_alpha=1, reg_lambda=3\n"
     ]
    },
    {
     "name": "stderr",
     "output_type": "stream",
     "text": [
      "c:\\Users\\Saurav\\anaconda3\\Lib\\site-packages\\xgboost\\data.py:440: FutureWarning: is_sparse is deprecated and will be removed in a future version. Check `isinstance(dtype, pd.SparseDtype)` instead.\n",
      "  if is_sparse(data):\n"
     ]
    },
    {
     "name": "stdout",
     "output_type": "stream",
     "text": [
      "[CV 3/10; 7/10] END colsample_bytree=0.0, gamma=1, learning_rate=1.4000000000000001, max_depth=51, min_child_weight=35, n_estimators=201, reg_alpha=1, reg_lambda=3;, score=0.251 total time=   3.5s\n",
      "[CV 4/10; 7/10] START colsample_bytree=0.0, gamma=1, learning_rate=1.4000000000000001, max_depth=51, min_child_weight=35, n_estimators=201, reg_alpha=1, reg_lambda=3\n"
     ]
    },
    {
     "name": "stderr",
     "output_type": "stream",
     "text": [
      "c:\\Users\\Saurav\\anaconda3\\Lib\\site-packages\\xgboost\\data.py:440: FutureWarning: is_sparse is deprecated and will be removed in a future version. Check `isinstance(dtype, pd.SparseDtype)` instead.\n",
      "  if is_sparse(data):\n"
     ]
    },
    {
     "name": "stdout",
     "output_type": "stream",
     "text": [
      "[CV 4/10; 7/10] END colsample_bytree=0.0, gamma=1, learning_rate=1.4000000000000001, max_depth=51, min_child_weight=35, n_estimators=201, reg_alpha=1, reg_lambda=3;, score=0.272 total time=   3.6s\n",
      "[CV 5/10; 7/10] START colsample_bytree=0.0, gamma=1, learning_rate=1.4000000000000001, max_depth=51, min_child_weight=35, n_estimators=201, reg_alpha=1, reg_lambda=3\n"
     ]
    },
    {
     "name": "stderr",
     "output_type": "stream",
     "text": [
      "c:\\Users\\Saurav\\anaconda3\\Lib\\site-packages\\xgboost\\data.py:440: FutureWarning: is_sparse is deprecated and will be removed in a future version. Check `isinstance(dtype, pd.SparseDtype)` instead.\n",
      "  if is_sparse(data):\n"
     ]
    },
    {
     "name": "stdout",
     "output_type": "stream",
     "text": [
      "[CV 5/10; 7/10] END colsample_bytree=0.0, gamma=1, learning_rate=1.4000000000000001, max_depth=51, min_child_weight=35, n_estimators=201, reg_alpha=1, reg_lambda=3;, score=0.210 total time=   4.0s\n",
      "[CV 6/10; 7/10] START colsample_bytree=0.0, gamma=1, learning_rate=1.4000000000000001, max_depth=51, min_child_weight=35, n_estimators=201, reg_alpha=1, reg_lambda=3\n"
     ]
    },
    {
     "name": "stderr",
     "output_type": "stream",
     "text": [
      "c:\\Users\\Saurav\\anaconda3\\Lib\\site-packages\\xgboost\\data.py:440: FutureWarning: is_sparse is deprecated and will be removed in a future version. Check `isinstance(dtype, pd.SparseDtype)` instead.\n",
      "  if is_sparse(data):\n"
     ]
    },
    {
     "name": "stdout",
     "output_type": "stream",
     "text": [
      "[CV 6/10; 7/10] END colsample_bytree=0.0, gamma=1, learning_rate=1.4000000000000001, max_depth=51, min_child_weight=35, n_estimators=201, reg_alpha=1, reg_lambda=3;, score=0.246 total time=   4.2s\n",
      "[CV 7/10; 7/10] START colsample_bytree=0.0, gamma=1, learning_rate=1.4000000000000001, max_depth=51, min_child_weight=35, n_estimators=201, reg_alpha=1, reg_lambda=3\n"
     ]
    },
    {
     "name": "stderr",
     "output_type": "stream",
     "text": [
      "c:\\Users\\Saurav\\anaconda3\\Lib\\site-packages\\xgboost\\data.py:440: FutureWarning: is_sparse is deprecated and will be removed in a future version. Check `isinstance(dtype, pd.SparseDtype)` instead.\n",
      "  if is_sparse(data):\n"
     ]
    },
    {
     "name": "stdout",
     "output_type": "stream",
     "text": [
      "[CV 7/10; 7/10] END colsample_bytree=0.0, gamma=1, learning_rate=1.4000000000000001, max_depth=51, min_child_weight=35, n_estimators=201, reg_alpha=1, reg_lambda=3;, score=0.267 total time=   5.0s\n",
      "[CV 8/10; 7/10] START colsample_bytree=0.0, gamma=1, learning_rate=1.4000000000000001, max_depth=51, min_child_weight=35, n_estimators=201, reg_alpha=1, reg_lambda=3\n"
     ]
    },
    {
     "name": "stderr",
     "output_type": "stream",
     "text": [
      "c:\\Users\\Saurav\\anaconda3\\Lib\\site-packages\\xgboost\\data.py:440: FutureWarning: is_sparse is deprecated and will be removed in a future version. Check `isinstance(dtype, pd.SparseDtype)` instead.\n",
      "  if is_sparse(data):\n"
     ]
    },
    {
     "name": "stdout",
     "output_type": "stream",
     "text": [
      "[CV 8/10; 7/10] END colsample_bytree=0.0, gamma=1, learning_rate=1.4000000000000001, max_depth=51, min_child_weight=35, n_estimators=201, reg_alpha=1, reg_lambda=3;, score=0.251 total time=   6.8s\n",
      "[CV 9/10; 7/10] START colsample_bytree=0.0, gamma=1, learning_rate=1.4000000000000001, max_depth=51, min_child_weight=35, n_estimators=201, reg_alpha=1, reg_lambda=3\n"
     ]
    },
    {
     "name": "stderr",
     "output_type": "stream",
     "text": [
      "c:\\Users\\Saurav\\anaconda3\\Lib\\site-packages\\xgboost\\data.py:440: FutureWarning: is_sparse is deprecated and will be removed in a future version. Check `isinstance(dtype, pd.SparseDtype)` instead.\n",
      "  if is_sparse(data):\n"
     ]
    },
    {
     "name": "stdout",
     "output_type": "stream",
     "text": [
      "[CV 9/10; 7/10] END colsample_bytree=0.0, gamma=1, learning_rate=1.4000000000000001, max_depth=51, min_child_weight=35, n_estimators=201, reg_alpha=1, reg_lambda=3;, score=0.262 total time=   6.1s\n",
      "[CV 10/10; 7/10] START colsample_bytree=0.0, gamma=1, learning_rate=1.4000000000000001, max_depth=51, min_child_weight=35, n_estimators=201, reg_alpha=1, reg_lambda=3\n"
     ]
    },
    {
     "name": "stderr",
     "output_type": "stream",
     "text": [
      "c:\\Users\\Saurav\\anaconda3\\Lib\\site-packages\\xgboost\\data.py:440: FutureWarning: is_sparse is deprecated and will be removed in a future version. Check `isinstance(dtype, pd.SparseDtype)` instead.\n",
      "  if is_sparse(data):\n"
     ]
    },
    {
     "name": "stdout",
     "output_type": "stream",
     "text": [
      "[CV 10/10; 7/10] END colsample_bytree=0.0, gamma=1, learning_rate=1.4000000000000001, max_depth=51, min_child_weight=35, n_estimators=201, reg_alpha=1, reg_lambda=3;, score=0.215 total time=   5.6s\n",
      "[CV 1/10; 8/10] START colsample_bytree=0.2, gamma=1, learning_rate=0.9, max_depth=151, min_child_weight=10, n_estimators=151, reg_alpha=161, reg_lambda=4\n"
     ]
    },
    {
     "name": "stderr",
     "output_type": "stream",
     "text": [
      "c:\\Users\\Saurav\\anaconda3\\Lib\\site-packages\\xgboost\\data.py:440: FutureWarning: is_sparse is deprecated and will be removed in a future version. Check `isinstance(dtype, pd.SparseDtype)` instead.\n",
      "  if is_sparse(data):\n"
     ]
    },
    {
     "name": "stdout",
     "output_type": "stream",
     "text": [
      "[CV 1/10; 8/10] END colsample_bytree=0.2, gamma=1, learning_rate=0.9, max_depth=151, min_child_weight=10, n_estimators=151, reg_alpha=161, reg_lambda=4;, score=0.418 total time=   6.2s\n",
      "[CV 2/10; 8/10] START colsample_bytree=0.2, gamma=1, learning_rate=0.9, max_depth=151, min_child_weight=10, n_estimators=151, reg_alpha=161, reg_lambda=4\n"
     ]
    },
    {
     "name": "stderr",
     "output_type": "stream",
     "text": [
      "c:\\Users\\Saurav\\anaconda3\\Lib\\site-packages\\xgboost\\data.py:440: FutureWarning: is_sparse is deprecated and will be removed in a future version. Check `isinstance(dtype, pd.SparseDtype)` instead.\n",
      "  if is_sparse(data):\n"
     ]
    },
    {
     "name": "stdout",
     "output_type": "stream",
     "text": [
      "[CV 2/10; 8/10] END colsample_bytree=0.2, gamma=1, learning_rate=0.9, max_depth=151, min_child_weight=10, n_estimators=151, reg_alpha=161, reg_lambda=4;, score=0.429 total time=   6.2s\n",
      "[CV 3/10; 8/10] START colsample_bytree=0.2, gamma=1, learning_rate=0.9, max_depth=151, min_child_weight=10, n_estimators=151, reg_alpha=161, reg_lambda=4\n"
     ]
    },
    {
     "name": "stderr",
     "output_type": "stream",
     "text": [
      "c:\\Users\\Saurav\\anaconda3\\Lib\\site-packages\\xgboost\\data.py:440: FutureWarning: is_sparse is deprecated and will be removed in a future version. Check `isinstance(dtype, pd.SparseDtype)` instead.\n",
      "  if is_sparse(data):\n"
     ]
    },
    {
     "name": "stdout",
     "output_type": "stream",
     "text": [
      "[CV 3/10; 8/10] END colsample_bytree=0.2, gamma=1, learning_rate=0.9, max_depth=151, min_child_weight=10, n_estimators=151, reg_alpha=161, reg_lambda=4;, score=0.410 total time=   5.6s\n",
      "[CV 4/10; 8/10] START colsample_bytree=0.2, gamma=1, learning_rate=0.9, max_depth=151, min_child_weight=10, n_estimators=151, reg_alpha=161, reg_lambda=4\n"
     ]
    },
    {
     "name": "stderr",
     "output_type": "stream",
     "text": [
      "c:\\Users\\Saurav\\anaconda3\\Lib\\site-packages\\xgboost\\data.py:440: FutureWarning: is_sparse is deprecated and will be removed in a future version. Check `isinstance(dtype, pd.SparseDtype)` instead.\n",
      "  if is_sparse(data):\n"
     ]
    },
    {
     "name": "stdout",
     "output_type": "stream",
     "text": [
      "[CV 4/10; 8/10] END colsample_bytree=0.2, gamma=1, learning_rate=0.9, max_depth=151, min_child_weight=10, n_estimators=151, reg_alpha=161, reg_lambda=4;, score=0.431 total time=   3.9s\n",
      "[CV 5/10; 8/10] START colsample_bytree=0.2, gamma=1, learning_rate=0.9, max_depth=151, min_child_weight=10, n_estimators=151, reg_alpha=161, reg_lambda=4\n"
     ]
    },
    {
     "name": "stderr",
     "output_type": "stream",
     "text": [
      "c:\\Users\\Saurav\\anaconda3\\Lib\\site-packages\\xgboost\\data.py:440: FutureWarning: is_sparse is deprecated and will be removed in a future version. Check `isinstance(dtype, pd.SparseDtype)` instead.\n",
      "  if is_sparse(data):\n"
     ]
    },
    {
     "name": "stdout",
     "output_type": "stream",
     "text": [
      "[CV 5/10; 8/10] END colsample_bytree=0.2, gamma=1, learning_rate=0.9, max_depth=151, min_child_weight=10, n_estimators=151, reg_alpha=161, reg_lambda=4;, score=0.451 total time=   3.9s\n",
      "[CV 6/10; 8/10] START colsample_bytree=0.2, gamma=1, learning_rate=0.9, max_depth=151, min_child_weight=10, n_estimators=151, reg_alpha=161, reg_lambda=4\n"
     ]
    },
    {
     "name": "stderr",
     "output_type": "stream",
     "text": [
      "c:\\Users\\Saurav\\anaconda3\\Lib\\site-packages\\xgboost\\data.py:440: FutureWarning: is_sparse is deprecated and will be removed in a future version. Check `isinstance(dtype, pd.SparseDtype)` instead.\n",
      "  if is_sparse(data):\n"
     ]
    },
    {
     "name": "stdout",
     "output_type": "stream",
     "text": [
      "[CV 6/10; 8/10] END colsample_bytree=0.2, gamma=1, learning_rate=0.9, max_depth=151, min_child_weight=10, n_estimators=151, reg_alpha=161, reg_lambda=4;, score=0.441 total time=   3.8s\n",
      "[CV 7/10; 8/10] START colsample_bytree=0.2, gamma=1, learning_rate=0.9, max_depth=151, min_child_weight=10, n_estimators=151, reg_alpha=161, reg_lambda=4\n"
     ]
    },
    {
     "name": "stderr",
     "output_type": "stream",
     "text": [
      "c:\\Users\\Saurav\\anaconda3\\Lib\\site-packages\\xgboost\\data.py:440: FutureWarning: is_sparse is deprecated and will be removed in a future version. Check `isinstance(dtype, pd.SparseDtype)` instead.\n",
      "  if is_sparse(data):\n"
     ]
    },
    {
     "name": "stdout",
     "output_type": "stream",
     "text": [
      "[CV 7/10; 8/10] END colsample_bytree=0.2, gamma=1, learning_rate=0.9, max_depth=151, min_child_weight=10, n_estimators=151, reg_alpha=161, reg_lambda=4;, score=0.446 total time=   4.0s\n",
      "[CV 8/10; 8/10] START colsample_bytree=0.2, gamma=1, learning_rate=0.9, max_depth=151, min_child_weight=10, n_estimators=151, reg_alpha=161, reg_lambda=4\n"
     ]
    },
    {
     "name": "stderr",
     "output_type": "stream",
     "text": [
      "c:\\Users\\Saurav\\anaconda3\\Lib\\site-packages\\xgboost\\data.py:440: FutureWarning: is_sparse is deprecated and will be removed in a future version. Check `isinstance(dtype, pd.SparseDtype)` instead.\n",
      "  if is_sparse(data):\n"
     ]
    },
    {
     "name": "stdout",
     "output_type": "stream",
     "text": [
      "[CV 8/10; 8/10] END colsample_bytree=0.2, gamma=1, learning_rate=0.9, max_depth=151, min_child_weight=10, n_estimators=151, reg_alpha=161, reg_lambda=4;, score=0.451 total time=   3.9s\n",
      "[CV 9/10; 8/10] START colsample_bytree=0.2, gamma=1, learning_rate=0.9, max_depth=151, min_child_weight=10, n_estimators=151, reg_alpha=161, reg_lambda=4\n"
     ]
    },
    {
     "name": "stderr",
     "output_type": "stream",
     "text": [
      "c:\\Users\\Saurav\\anaconda3\\Lib\\site-packages\\xgboost\\data.py:440: FutureWarning: is_sparse is deprecated and will be removed in a future version. Check `isinstance(dtype, pd.SparseDtype)` instead.\n",
      "  if is_sparse(data):\n"
     ]
    },
    {
     "name": "stdout",
     "output_type": "stream",
     "text": [
      "[CV 9/10; 8/10] END colsample_bytree=0.2, gamma=1, learning_rate=0.9, max_depth=151, min_child_weight=10, n_estimators=151, reg_alpha=161, reg_lambda=4;, score=0.446 total time=   3.9s\n",
      "[CV 10/10; 8/10] START colsample_bytree=0.2, gamma=1, learning_rate=0.9, max_depth=151, min_child_weight=10, n_estimators=151, reg_alpha=161, reg_lambda=4\n"
     ]
    },
    {
     "name": "stderr",
     "output_type": "stream",
     "text": [
      "c:\\Users\\Saurav\\anaconda3\\Lib\\site-packages\\xgboost\\data.py:440: FutureWarning: is_sparse is deprecated and will be removed in a future version. Check `isinstance(dtype, pd.SparseDtype)` instead.\n",
      "  if is_sparse(data):\n"
     ]
    },
    {
     "name": "stdout",
     "output_type": "stream",
     "text": [
      "[CV 10/10; 8/10] END colsample_bytree=0.2, gamma=1, learning_rate=0.9, max_depth=151, min_child_weight=10, n_estimators=151, reg_alpha=161, reg_lambda=4;, score=0.436 total time=   3.9s\n",
      "[CV 1/10; 9/10] START colsample_bytree=0.1, gamma=4, learning_rate=0.5, max_depth=151, min_child_weight=5, n_estimators=101, reg_alpha=361, reg_lambda=0\n"
     ]
    },
    {
     "name": "stderr",
     "output_type": "stream",
     "text": [
      "c:\\Users\\Saurav\\anaconda3\\Lib\\site-packages\\xgboost\\data.py:440: FutureWarning: is_sparse is deprecated and will be removed in a future version. Check `isinstance(dtype, pd.SparseDtype)` instead.\n",
      "  if is_sparse(data):\n"
     ]
    },
    {
     "name": "stdout",
     "output_type": "stream",
     "text": [
      "[CV 1/10; 9/10] END colsample_bytree=0.1, gamma=4, learning_rate=0.5, max_depth=151, min_child_weight=5, n_estimators=101, reg_alpha=361, reg_lambda=0;, score=0.204 total time=   2.1s\n",
      "[CV 2/10; 9/10] START colsample_bytree=0.1, gamma=4, learning_rate=0.5, max_depth=151, min_child_weight=5, n_estimators=101, reg_alpha=361, reg_lambda=0\n"
     ]
    },
    {
     "name": "stderr",
     "output_type": "stream",
     "text": [
      "c:\\Users\\Saurav\\anaconda3\\Lib\\site-packages\\xgboost\\data.py:440: FutureWarning: is_sparse is deprecated and will be removed in a future version. Check `isinstance(dtype, pd.SparseDtype)` instead.\n",
      "  if is_sparse(data):\n"
     ]
    },
    {
     "name": "stdout",
     "output_type": "stream",
     "text": [
      "[CV 2/10; 9/10] END colsample_bytree=0.1, gamma=4, learning_rate=0.5, max_depth=151, min_child_weight=5, n_estimators=101, reg_alpha=361, reg_lambda=0;, score=0.204 total time=   2.3s\n",
      "[CV 3/10; 9/10] START colsample_bytree=0.1, gamma=4, learning_rate=0.5, max_depth=151, min_child_weight=5, n_estimators=101, reg_alpha=361, reg_lambda=0\n"
     ]
    },
    {
     "name": "stderr",
     "output_type": "stream",
     "text": [
      "c:\\Users\\Saurav\\anaconda3\\Lib\\site-packages\\xgboost\\data.py:440: FutureWarning: is_sparse is deprecated and will be removed in a future version. Check `isinstance(dtype, pd.SparseDtype)` instead.\n",
      "  if is_sparse(data):\n"
     ]
    },
    {
     "name": "stdout",
     "output_type": "stream",
     "text": [
      "[CV 3/10; 9/10] END colsample_bytree=0.1, gamma=4, learning_rate=0.5, max_depth=151, min_child_weight=5, n_estimators=101, reg_alpha=361, reg_lambda=0;, score=0.200 total time=   2.2s\n",
      "[CV 4/10; 9/10] START colsample_bytree=0.1, gamma=4, learning_rate=0.5, max_depth=151, min_child_weight=5, n_estimators=101, reg_alpha=361, reg_lambda=0\n"
     ]
    },
    {
     "name": "stderr",
     "output_type": "stream",
     "text": [
      "c:\\Users\\Saurav\\anaconda3\\Lib\\site-packages\\xgboost\\data.py:440: FutureWarning: is_sparse is deprecated and will be removed in a future version. Check `isinstance(dtype, pd.SparseDtype)` instead.\n",
      "  if is_sparse(data):\n"
     ]
    },
    {
     "name": "stdout",
     "output_type": "stream",
     "text": [
      "[CV 4/10; 9/10] END colsample_bytree=0.1, gamma=4, learning_rate=0.5, max_depth=151, min_child_weight=5, n_estimators=101, reg_alpha=361, reg_lambda=0;, score=0.200 total time=   2.2s\n",
      "[CV 5/10; 9/10] START colsample_bytree=0.1, gamma=4, learning_rate=0.5, max_depth=151, min_child_weight=5, n_estimators=101, reg_alpha=361, reg_lambda=0\n"
     ]
    },
    {
     "name": "stderr",
     "output_type": "stream",
     "text": [
      "c:\\Users\\Saurav\\anaconda3\\Lib\\site-packages\\xgboost\\data.py:440: FutureWarning: is_sparse is deprecated and will be removed in a future version. Check `isinstance(dtype, pd.SparseDtype)` instead.\n",
      "  if is_sparse(data):\n"
     ]
    },
    {
     "name": "stdout",
     "output_type": "stream",
     "text": [
      "[CV 5/10; 9/10] END colsample_bytree=0.1, gamma=4, learning_rate=0.5, max_depth=151, min_child_weight=5, n_estimators=101, reg_alpha=361, reg_lambda=0;, score=0.200 total time=   2.4s\n",
      "[CV 6/10; 9/10] START colsample_bytree=0.1, gamma=4, learning_rate=0.5, max_depth=151, min_child_weight=5, n_estimators=101, reg_alpha=361, reg_lambda=0\n"
     ]
    },
    {
     "name": "stderr",
     "output_type": "stream",
     "text": [
      "c:\\Users\\Saurav\\anaconda3\\Lib\\site-packages\\xgboost\\data.py:440: FutureWarning: is_sparse is deprecated and will be removed in a future version. Check `isinstance(dtype, pd.SparseDtype)` instead.\n",
      "  if is_sparse(data):\n"
     ]
    },
    {
     "name": "stdout",
     "output_type": "stream",
     "text": [
      "[CV 6/10; 9/10] END colsample_bytree=0.1, gamma=4, learning_rate=0.5, max_depth=151, min_child_weight=5, n_estimators=101, reg_alpha=361, reg_lambda=0;, score=0.205 total time=   2.4s\n",
      "[CV 7/10; 9/10] START colsample_bytree=0.1, gamma=4, learning_rate=0.5, max_depth=151, min_child_weight=5, n_estimators=101, reg_alpha=361, reg_lambda=0\n"
     ]
    },
    {
     "name": "stderr",
     "output_type": "stream",
     "text": [
      "c:\\Users\\Saurav\\anaconda3\\Lib\\site-packages\\xgboost\\data.py:440: FutureWarning: is_sparse is deprecated and will be removed in a future version. Check `isinstance(dtype, pd.SparseDtype)` instead.\n",
      "  if is_sparse(data):\n"
     ]
    },
    {
     "name": "stdout",
     "output_type": "stream",
     "text": [
      "[CV 7/10; 9/10] END colsample_bytree=0.1, gamma=4, learning_rate=0.5, max_depth=151, min_child_weight=5, n_estimators=101, reg_alpha=361, reg_lambda=0;, score=0.205 total time=   2.5s\n",
      "[CV 8/10; 9/10] START colsample_bytree=0.1, gamma=4, learning_rate=0.5, max_depth=151, min_child_weight=5, n_estimators=101, reg_alpha=361, reg_lambda=0\n"
     ]
    },
    {
     "name": "stderr",
     "output_type": "stream",
     "text": [
      "c:\\Users\\Saurav\\anaconda3\\Lib\\site-packages\\xgboost\\data.py:440: FutureWarning: is_sparse is deprecated and will be removed in a future version. Check `isinstance(dtype, pd.SparseDtype)` instead.\n",
      "  if is_sparse(data):\n"
     ]
    },
    {
     "name": "stdout",
     "output_type": "stream",
     "text": [
      "[CV 8/10; 9/10] END colsample_bytree=0.1, gamma=4, learning_rate=0.5, max_depth=151, min_child_weight=5, n_estimators=101, reg_alpha=361, reg_lambda=0;, score=0.205 total time=   2.6s\n",
      "[CV 9/10; 9/10] START colsample_bytree=0.1, gamma=4, learning_rate=0.5, max_depth=151, min_child_weight=5, n_estimators=101, reg_alpha=361, reg_lambda=0\n"
     ]
    },
    {
     "name": "stderr",
     "output_type": "stream",
     "text": [
      "c:\\Users\\Saurav\\anaconda3\\Lib\\site-packages\\xgboost\\data.py:440: FutureWarning: is_sparse is deprecated and will be removed in a future version. Check `isinstance(dtype, pd.SparseDtype)` instead.\n",
      "  if is_sparse(data):\n"
     ]
    },
    {
     "name": "stdout",
     "output_type": "stream",
     "text": [
      "[CV 9/10; 9/10] END colsample_bytree=0.1, gamma=4, learning_rate=0.5, max_depth=151, min_child_weight=5, n_estimators=101, reg_alpha=361, reg_lambda=0;, score=0.205 total time=   2.5s\n",
      "[CV 10/10; 9/10] START colsample_bytree=0.1, gamma=4, learning_rate=0.5, max_depth=151, min_child_weight=5, n_estimators=101, reg_alpha=361, reg_lambda=0\n"
     ]
    },
    {
     "name": "stderr",
     "output_type": "stream",
     "text": [
      "c:\\Users\\Saurav\\anaconda3\\Lib\\site-packages\\xgboost\\data.py:440: FutureWarning: is_sparse is deprecated and will be removed in a future version. Check `isinstance(dtype, pd.SparseDtype)` instead.\n",
      "  if is_sparse(data):\n"
     ]
    },
    {
     "name": "stdout",
     "output_type": "stream",
     "text": [
      "[CV 10/10; 9/10] END colsample_bytree=0.1, gamma=4, learning_rate=0.5, max_depth=151, min_child_weight=5, n_estimators=101, reg_alpha=361, reg_lambda=0;, score=0.205 total time=   4.2s\n",
      "[CV 1/10; 10/10] START colsample_bytree=0.9, gamma=1, learning_rate=0.8, max_depth=351, min_child_weight=15, n_estimators=1, reg_alpha=161, reg_lambda=3\n",
      "[CV 1/10; 10/10] END colsample_bytree=0.9, gamma=1, learning_rate=0.8, max_depth=351, min_child_weight=15, n_estimators=1, reg_alpha=161, reg_lambda=3;, score=0.449 total time=   0.1s\n",
      "[CV 2/10; 10/10] START colsample_bytree=0.9, gamma=1, learning_rate=0.8, max_depth=351, min_child_weight=15, n_estimators=1, reg_alpha=161, reg_lambda=3\n"
     ]
    },
    {
     "name": "stderr",
     "output_type": "stream",
     "text": [
      "c:\\Users\\Saurav\\anaconda3\\Lib\\site-packages\\xgboost\\data.py:440: FutureWarning: is_sparse is deprecated and will be removed in a future version. Check `isinstance(dtype, pd.SparseDtype)` instead.\n",
      "  if is_sparse(data):\n",
      "c:\\Users\\Saurav\\anaconda3\\Lib\\site-packages\\xgboost\\data.py:440: FutureWarning: is_sparse is deprecated and will be removed in a future version. Check `isinstance(dtype, pd.SparseDtype)` instead.\n",
      "  if is_sparse(data):\n"
     ]
    },
    {
     "name": "stdout",
     "output_type": "stream",
     "text": [
      "[CV 2/10; 10/10] END colsample_bytree=0.9, gamma=1, learning_rate=0.8, max_depth=351, min_child_weight=15, n_estimators=1, reg_alpha=161, reg_lambda=3;, score=0.439 total time=   0.1s\n",
      "[CV 3/10; 10/10] START colsample_bytree=0.9, gamma=1, learning_rate=0.8, max_depth=351, min_child_weight=15, n_estimators=1, reg_alpha=161, reg_lambda=3\n",
      "[CV 3/10; 10/10] END colsample_bytree=0.9, gamma=1, learning_rate=0.8, max_depth=351, min_child_weight=15, n_estimators=1, reg_alpha=161, reg_lambda=3;, score=0.462 total time=   0.1s\n",
      "[CV 4/10; 10/10] START colsample_bytree=0.9, gamma=1, learning_rate=0.8, max_depth=351, min_child_weight=15, n_estimators=1, reg_alpha=161, reg_lambda=3\n"
     ]
    },
    {
     "name": "stderr",
     "output_type": "stream",
     "text": [
      "c:\\Users\\Saurav\\anaconda3\\Lib\\site-packages\\xgboost\\data.py:440: FutureWarning: is_sparse is deprecated and will be removed in a future version. Check `isinstance(dtype, pd.SparseDtype)` instead.\n",
      "  if is_sparse(data):\n",
      "c:\\Users\\Saurav\\anaconda3\\Lib\\site-packages\\xgboost\\data.py:440: FutureWarning: is_sparse is deprecated and will be removed in a future version. Check `isinstance(dtype, pd.SparseDtype)` instead.\n",
      "  if is_sparse(data):\n"
     ]
    },
    {
     "name": "stdout",
     "output_type": "stream",
     "text": [
      "[CV 4/10; 10/10] END colsample_bytree=0.9, gamma=1, learning_rate=0.8, max_depth=351, min_child_weight=15, n_estimators=1, reg_alpha=161, reg_lambda=3;, score=0.456 total time=   0.1s\n",
      "[CV 5/10; 10/10] START colsample_bytree=0.9, gamma=1, learning_rate=0.8, max_depth=351, min_child_weight=15, n_estimators=1, reg_alpha=161, reg_lambda=3\n",
      "[CV 5/10; 10/10] END colsample_bytree=0.9, gamma=1, learning_rate=0.8, max_depth=351, min_child_weight=15, n_estimators=1, reg_alpha=161, reg_lambda=3;, score=0.431 total time=   0.1s\n"
     ]
    },
    {
     "name": "stderr",
     "output_type": "stream",
     "text": [
      "c:\\Users\\Saurav\\anaconda3\\Lib\\site-packages\\xgboost\\data.py:440: FutureWarning: is_sparse is deprecated and will be removed in a future version. Check `isinstance(dtype, pd.SparseDtype)` instead.\n",
      "  if is_sparse(data):\n",
      "c:\\Users\\Saurav\\anaconda3\\Lib\\site-packages\\xgboost\\data.py:440: FutureWarning: is_sparse is deprecated and will be removed in a future version. Check `isinstance(dtype, pd.SparseDtype)` instead.\n",
      "  if is_sparse(data):\n"
     ]
    },
    {
     "name": "stdout",
     "output_type": "stream",
     "text": [
      "[CV 6/10; 10/10] START colsample_bytree=0.9, gamma=1, learning_rate=0.8, max_depth=351, min_child_weight=15, n_estimators=1, reg_alpha=161, reg_lambda=3\n",
      "[CV 6/10; 10/10] END colsample_bytree=0.9, gamma=1, learning_rate=0.8, max_depth=351, min_child_weight=15, n_estimators=1, reg_alpha=161, reg_lambda=3;, score=0.462 total time=   0.1s\n",
      "[CV 7/10; 10/10] START colsample_bytree=0.9, gamma=1, learning_rate=0.8, max_depth=351, min_child_weight=15, n_estimators=1, reg_alpha=161, reg_lambda=3\n"
     ]
    },
    {
     "name": "stderr",
     "output_type": "stream",
     "text": [
      "c:\\Users\\Saurav\\anaconda3\\Lib\\site-packages\\xgboost\\data.py:440: FutureWarning: is_sparse is deprecated and will be removed in a future version. Check `isinstance(dtype, pd.SparseDtype)` instead.\n",
      "  if is_sparse(data):\n"
     ]
    },
    {
     "name": "stdout",
     "output_type": "stream",
     "text": [
      "[CV 7/10; 10/10] END colsample_bytree=0.9, gamma=1, learning_rate=0.8, max_depth=351, min_child_weight=15, n_estimators=1, reg_alpha=161, reg_lambda=3;, score=0.472 total time=   0.1s\n",
      "[CV 8/10; 10/10] START colsample_bytree=0.9, gamma=1, learning_rate=0.8, max_depth=351, min_child_weight=15, n_estimators=1, reg_alpha=161, reg_lambda=3\n",
      "[CV 8/10; 10/10] END colsample_bytree=0.9, gamma=1, learning_rate=0.8, max_depth=351, min_child_weight=15, n_estimators=1, reg_alpha=161, reg_lambda=3;, score=0.467 total time=   0.1s\n",
      "[CV 9/10; 10/10] START colsample_bytree=0.9, gamma=1, learning_rate=0.8, max_depth=351, min_child_weight=15, n_estimators=1, reg_alpha=161, reg_lambda=3\n"
     ]
    },
    {
     "name": "stderr",
     "output_type": "stream",
     "text": [
      "c:\\Users\\Saurav\\anaconda3\\Lib\\site-packages\\xgboost\\data.py:440: FutureWarning: is_sparse is deprecated and will be removed in a future version. Check `isinstance(dtype, pd.SparseDtype)` instead.\n",
      "  if is_sparse(data):\n",
      "c:\\Users\\Saurav\\anaconda3\\Lib\\site-packages\\xgboost\\data.py:440: FutureWarning: is_sparse is deprecated and will be removed in a future version. Check `isinstance(dtype, pd.SparseDtype)` instead.\n",
      "  if is_sparse(data):\n"
     ]
    },
    {
     "name": "stdout",
     "output_type": "stream",
     "text": [
      "[CV 9/10; 10/10] END colsample_bytree=0.9, gamma=1, learning_rate=0.8, max_depth=351, min_child_weight=15, n_estimators=1, reg_alpha=161, reg_lambda=3;, score=0.446 total time=   0.1s\n",
      "[CV 10/10; 10/10] START colsample_bytree=0.9, gamma=1, learning_rate=0.8, max_depth=351, min_child_weight=15, n_estimators=1, reg_alpha=161, reg_lambda=3\n"
     ]
    },
    {
     "name": "stderr",
     "output_type": "stream",
     "text": [
      "c:\\Users\\Saurav\\anaconda3\\Lib\\site-packages\\xgboost\\data.py:440: FutureWarning: is_sparse is deprecated and will be removed in a future version. Check `isinstance(dtype, pd.SparseDtype)` instead.\n",
      "  if is_sparse(data):\n"
     ]
    },
    {
     "name": "stdout",
     "output_type": "stream",
     "text": [
      "[CV 10/10; 10/10] END colsample_bytree=0.9, gamma=1, learning_rate=0.8, max_depth=351, min_child_weight=15, n_estimators=1, reg_alpha=161, reg_lambda=3;, score=0.441 total time=   0.1s\n"
     ]
    },
    {
     "name": "stderr",
     "output_type": "stream",
     "text": [
      "c:\\Users\\Saurav\\anaconda3\\Lib\\site-packages\\xgboost\\data.py:440: FutureWarning: is_sparse is deprecated and will be removed in a future version. Check `isinstance(dtype, pd.SparseDtype)` instead.\n",
      "  if is_sparse(data):\n"
     ]
    }
   ],
   "source": [
    "model_accuracies = {}\n",
    "range_epochs = 5\n",
    "random_search_cv(model_accuracies,range_epochs,sampleTrain_dtm,y_train)"
   ]
  },
  {
   "cell_type": "code",
   "execution_count": 193,
   "metadata": {},
   "outputs": [
    {
     "data": {
      "text/plain": [
       "[<matplotlib.lines.Line2D at 0x1ff2e8ba790>]"
      ]
     },
     "execution_count": 193,
     "metadata": {},
     "output_type": "execute_result"
    },
    {
     "data": {
      "image/png": "[encoded data removed]",
      "text/plain": [
       "<Figure size 640x480 with 1 Axes>"
      ]
     },
     "metadata": {},
     "output_type": "display_data"
    }
   ],
   "source": [
    "accuracies = []\n",
    "for key,value in model_accuracies.items():\n",
    "  accuracies.append(value)\n",
    "\n",
    "plt.plot(accuracies)"
   ]
  },
  {
   "cell_type": "code",
   "execution_count": 194,
   "metadata": {},
   "outputs": [
    {
     "data": {
      "text/plain": [
       "[0.6445159602302459,\n",
       " 0.6496153846153847,\n",
       " 0.7300523286237572,\n",
       " 0.7592490842490842,\n",
       " 0.7915201465201465]"
      ]
     },
     "execution_count": 194,
     "metadata": {},
     "output_type": "execute_result"
    }
   ],
   "source": [
    "accuracies.sort()\n",
    "accuracies"
   ]
  },
  {
   "cell_type": "code",
   "execution_count": 195,
   "metadata": {},
   "outputs": [
    {
     "data": {
      "text/plain": [
       "{'reg_lambda': 4,\n",
       " 'reg_alpha': 1,\n",
       " 'n_estimators': 151,\n",
       " 'min_child_weight': 5,\n",
       " 'max_depth': 201,\n",
       " 'learning_rate': 0.9,\n",
       " 'gamma': 4,\n",
       " 'colsample_bytree': 0.8}"
      ]
     },
     "execution_count": 195,
     "metadata": {},
     "output_type": "execute_result"
    }
   ],
   "source": [
    "count = 0\n",
    "for key,val in model_accuracies.items():\n",
    "    best_model_param = key.best_params_\n",
    "best_model_param"
   ]
  },
  {
   "cell_type": "code",
   "execution_count": 198,
   "metadata": {},
   "outputs": [
    {
     "name": "stderr",
     "output_type": "stream",
     "text": [
      "c:\\Users\\Saurav\\anaconda3\\Lib\\site-packages\\xgboost\\data.py:440: FutureWarning: is_sparse is deprecated and will be removed in a future version. Check `isinstance(dtype, pd.SparseDtype)` instead.\n",
      "  if is_sparse(data):\n"
     ]
    },
    {
     "name": "stdout",
     "output_type": "stream",
     "text": [
      "Accuracy: 0.79\n",
      "[[83  3 10  2  4]\n",
      " [ 4 77  8  0  5]\n",
      " [ 4  0 55  0 17]\n",
      " [ 0  0  4 86  9]\n",
      " [ 2  1 22  6 87]]\n"
     ]
    }
   ],
   "source": [
    "import numpy as np\n",
    "import pandas as pd\n",
    "from sklearn.model_selection import train_test_split\n",
    "from xgboost import XGBClassifier\n",
    "from sklearn import metrics\n",
    "\n",
    "\n",
    "\n",
    "xgb_classifier = XGBClassifier(\n",
    "    **best_model_param\n",
    "    # n_estimators=400,  \n",
    "    # max_depth=4,         \n",
    "    # learning_rate = 0.1,\n",
    "    # reg_alpha=0.01,          \n",
    "    # reg_lambda=1\n",
    ")\n",
    "\n",
    "xgb_classifier.fit(sampleTrain_dtm, y_train)\n",
    "\n",
    "y_pred = xgb_classifier.predict(sampleTest_dtm)\n",
    "\n",
    "accuracy = metrics.accuracy_score(y_test, y_pred)\n",
    "print(f\"Accuracy: {accuracy:.2f}\")\n",
    "\n",
    "confusion_mat = metrics.confusion_matrix(y_test, y_pred)\n",
    "print(confusion_mat)\n",
    "\n",
    "cm_disp = metrics.ConfusionMatrixDisplay(confusion_matrix=confusion_mat,display_labels=[\"0\",\"1\",\"2\",\"3\",\"4\"])\n",
    "cm_disp.plot()\n",
    "print(confusion_mat)\n",
    "print()\n",
    "print(\"Precision\",metrics.precision_score(y_test,y_pred))\n",
    "print()\n",
    "print(\"Recall\",metrics.recall_score(y_test,y_pred))\n",
    "print(\"F1 Score\",metrics.f1_score(y_test,y_pred))"
   ]
  },
  {
   "cell_type": "code",
   "execution_count": null,
   "metadata": {},
   "outputs": [],
   "source": []
  },
  {
   "cell_type": "markdown",
   "metadata": {},
   "source": [
    "# DL Models"
   ]
  },
  {
   "cell_type": "code",
   "execution_count": 172,
   "metadata": {},
   "outputs": [],
   "source": [
    "import numpy as np\n",
    "\n",
    "from keras.preprocessing.text import Tokenizer\n",
    "from keras.utils import pad_sequences\n",
    "\n",
    "from keras import Sequential\n",
    "from keras.layers import Dense,SimpleRNN,Flatten,Embedding, LSTM\n",
    "from sklearn.model_selection import train_test_split\n"
   ]
  },
  {
   "cell_type": "markdown",
   "metadata": {},
   "source": [
    "# Tokenizer"
   ]
  },
  {
   "cell_type": "code",
   "execution_count": 268,
   "metadata": {},
   "outputs": [],
   "source": [
    "tokenizer = Tokenizer()\n",
    "tokenizer.fit_on_texts(df_cleaned[\"Letters\"])"
   ]
  },
  {
   "cell_type": "code",
   "execution_count": 174,
   "metadata": {},
   "outputs": [
    {
     "data": {
      "text/plain": [
       "{'the': 1,\n",
       " 'of': 2,\n",
       " 'and': 3,\n",
       " 'to': 4,\n",
       " 'in': 5,\n",
       " 'a': 6,\n",
       " 'for': 7,\n",
       " 'that': 8,\n",
       " 'is': 9,\n",
       " 'by': 10,\n",
       " 'on': 11,\n",
       " 'with': 12,\n",
       " 'be': 13,\n",
       " 'from': 14,\n",
       " 'as': 15,\n",
       " 'are': 16,\n",
       " 'this': 17,\n",
       " 'at': 18,\n",
       " 'was': 19,\n",
       " 'have': 20,\n",
       " 'i': 21,\n",
       " 'we': 22,\n",
       " 'or': 23,\n",
       " 'were': 24,\n",
       " 'an': 25,\n",
       " 'tobacco': 26,\n",
       " 'smoking': 27,\n",
       " '1': 28,\n",
       " 'you': 29,\n",
       " 'not': 30,\n",
       " 'it': 31,\n",
       " 'has': 32,\n",
       " '2': 33,\n",
       " 'been': 34,\n",
       " 'which': 35,\n",
       " 'he': 36,\n",
       " 'will': 37,\n",
       " 'new': 38,\n",
       " 'these': 39,\n",
       " 'may': 40,\n",
       " 'cancer': 41,\n",
       " '‘the': 42,\n",
       " 'but': 43,\n",
       " '3': 44,\n",
       " 'no': 45,\n",
       " 'smoke': 46,\n",
       " 'your': 47,\n",
       " 'cells': 48,\n",
       " 'they': 49,\n",
       " 'cigarette': 50,\n",
       " 'te': 51,\n",
       " 'more': 52,\n",
       " '4': 53,\n",
       " 'can': 54,\n",
       " 'one': 55,\n",
       " 'than': 56,\n",
       " 'our': 57,\n",
       " 'would': 58,\n",
       " 'other': 59,\n",
       " 'all': 60,\n",
       " '8': 61,\n",
       " 'research': 62,\n",
       " '10': 63,\n",
       " 'health': 64,\n",
       " 're': 65,\n",
       " 'if': 66,\n",
       " 'al': 67,\n",
       " 'also': 68,\n",
       " 'j': 69,\n",
       " 'any': 70,\n",
       " 'who': 71,\n",
       " 'ae': 72,\n",
       " 'ee': 73,\n",
       " '0': 74,\n",
       " 'us': 75,\n",
       " 'its': 76,\n",
       " 'et': 77,\n",
       " 'about': 78,\n",
       " 'date': 79,\n",
       " 'their': 80,\n",
       " 'lung': 81,\n",
       " 'some': 82,\n",
       " 'dr': 83,\n",
       " 'said': 84,\n",
       " 'subject': 85,\n",
       " 'york': 86,\n",
       " 'study': 87,\n",
       " 'me': 88,\n",
       " 'smokers': 89,\n",
       " 'ofthe': 90,\n",
       " 'cigarettes': 91,\n",
       " 'when': 92,\n",
       " 'only': 93,\n",
       " 'such': 94,\n",
       " 'there': 95,\n",
       " 'm': 96,\n",
       " '—': 97,\n",
       " 's': 98,\n",
       " 'two': 99,\n",
       " 'both': 100,\n",
       " 'de': 101,\n",
       " 'nicotine': 102,\n",
       " 'e': 103,\n",
       " 'used': 104,\n",
       " 'cell': 105,\n",
       " 't': 106,\n",
       " '5': 107,\n",
       " 'studies': 108,\n",
       " 'c': 109,\n",
       " 'per': 110,\n",
       " '©': 111,\n",
       " 'mr': 112,\n",
       " '7': 113,\n",
       " 'r': 114,\n",
       " 'had': 115,\n",
       " 'so': 116,\n",
       " 'should': 117,\n",
       " 'b': 118,\n",
       " 'years': 119,\n",
       " 'human': 120,\n",
       " 'do': 121,\n",
       " 'between': 122,\n",
       " 'please': 123,\n",
       " 'se': 124,\n",
       " 'pm': 125,\n",
       " 'up': 126,\n",
       " 'am': 127,\n",
       " 'protein': 128,\n",
       " 'ie': 129,\n",
       " 'most': 130,\n",
       " 'use': 131,\n",
       " 'time': 132,\n",
       " '6': 133,\n",
       " 'sent': 134,\n",
       " 'dna': 135,\n",
       " '9': 136,\n",
       " 'last': 137,\n",
       " 'into': 138,\n",
       " 'ot': 139,\n",
       " 'after': 140,\n",
       " 'out': 141,\n",
       " 'philip': 142,\n",
       " 'w': 143,\n",
       " 'co': 144,\n",
       " 'year': 145,\n",
       " 'found': 146,\n",
       " 'f': 147,\n",
       " 'report': 148,\n",
       " 'data': 149,\n",
       " 'could': 150,\n",
       " 'usa': 151,\n",
       " 'l': 152,\n",
       " 'exposure': 153,\n",
       " 'university': 154,\n",
       " 'public': 155,\n",
       " '20': 156,\n",
       " 'many': 157,\n",
       " 'company': 158,\n",
       " 'during': 159,\n",
       " 'information': 160,\n",
       " 'products': 161,\n",
       " 'state': 162,\n",
       " 'those': 163,\n",
       " 'what': 164,\n",
       " 'results': 165,\n",
       " 'high': 166,\n",
       " 'oe': 167,\n",
       " 'now': 168,\n",
       " 'p': 169,\n",
       " 'his': 170,\n",
       " 'department': 171,\n",
       " 'morris': 172,\n",
       " 'industry': 173,\n",
       " 'people': 174,\n",
       " 'each': 175,\n",
       " 'over': 176,\n",
       " 'disease': 177,\n",
       " 'work': 178,\n",
       " 'however': 179,\n",
       " 'activity': 180,\n",
       " 'ing': 181,\n",
       " 'dear': 182,\n",
       " 'o': 183,\n",
       " 'see': 184,\n",
       " 'd': 185,\n",
       " 'american': 186,\n",
       " '12': 187,\n",
       " 'g': 188,\n",
       " 'levels': 189,\n",
       " 'through': 190,\n",
       " 'product': 191,\n",
       " 'received': 192,\n",
       " 'effects': 193,\n",
       " 'ce': 194,\n",
       " 'group': 195,\n",
       " 'advertising': 196,\n",
       " 'fo': 197,\n",
       " 'medical': 198,\n",
       " 'because': 199,\n",
       " 'know': 200,\n",
       " 'under': 201,\n",
       " 'ne': 202,\n",
       " 'effect': 203,\n",
       " 'well': 204,\n",
       " 'my': 205,\n",
       " 'very': 206,\n",
       " 'ad': 207,\n",
       " '“the': 208,\n",
       " 'among': 209,\n",
       " 'number': 210,\n",
       " 'st': 211,\n",
       " 'low': 212,\n",
       " 'inthe': 213,\n",
       " 'age': 214,\n",
       " 'h': 215,\n",
       " '18': 216,\n",
       " 'them': 217,\n",
       " 'since': 218,\n",
       " 'how': 219,\n",
       " 'gene': 220,\n",
       " 'then': 221,\n",
       " 'made': 222,\n",
       " 'first': 223,\n",
       " 'fe': 224,\n",
       " 'program': 225,\n",
       " 'general': 226,\n",
       " '15': 227,\n",
       " 'factor': 228,\n",
       " 'several': 229,\n",
       " 'using': 230,\n",
       " 'present': 231,\n",
       " 'es': 232,\n",
       " 'eee': 233,\n",
       " 'inc': 234,\n",
       " 'national': 235,\n",
       " 'page': 236,\n",
       " 'growth': 237,\n",
       " 'end': 238,\n",
       " 'test': 239,\n",
       " 'risk': 240,\n",
       " 'three': 241,\n",
       " 'shown': 242,\n",
       " '13': 243,\n",
       " 'ny': 244,\n",
       " 'binding': 245,\n",
       " 'n': 246,\n",
       " 'increased': 247,\n",
       " 'th': 248,\n",
       " 'factors': 249,\n",
       " 'women': 250,\n",
       " 'expression': 251,\n",
       " '30': 252,\n",
       " 'meeting': 253,\n",
       " 'center': 254,\n",
       " 'air': 255,\n",
       " 'like': 256,\n",
       " 'increase': 257,\n",
       " 'following': 258,\n",
       " 'reported': 259,\n",
       " 'same': 260,\n",
       " 'com': 261,\n",
       " 'major': 262,\n",
       " 'con': 263,\n",
       " 'make': 264,\n",
       " 'john': 265,\n",
       " 'march': 266,\n",
       " 'receptor': 267,\n",
       " 'x': 268,\n",
       " 'federal': 269,\n",
       " 'get': 270,\n",
       " '2000': 271,\n",
       " 'response': 272,\n",
       " 'states': 273,\n",
       " 'review': 274,\n",
       " 'ay': 275,\n",
       " 'being': 276,\n",
       " 'before': 277,\n",
       " 'system': 278,\n",
       " 'rate': 279,\n",
       " '25': 280,\n",
       " 'whether': 281,\n",
       " 'need': 282,\n",
       " 'even': 283,\n",
       " 'while': 284,\n",
       " 'ts': 285,\n",
       " 'letter': 286,\n",
       " 'medicine': 287,\n",
       " 'pe': 288,\n",
       " 'institute': 289,\n",
       " 'methods': 290,\n",
       " '11': 291,\n",
       " 'tar': 292,\n",
       " 'washington': 293,\n",
       " 'tn': 294,\n",
       " 'sales': 295,\n",
       " '‘of': 296,\n",
       " '19': 297,\n",
       " '‘and': 298,\n",
       " 'analysis': 299,\n",
       " 'tion': 300,\n",
       " 'form': 301,\n",
       " 'en': 302,\n",
       " 'ia': 303,\n",
       " '16': 304,\n",
       " 'cause': 305,\n",
       " 'proteins': 306,\n",
       " 'addition': 307,\n",
       " 'im': 308,\n",
       " 'y': 309,\n",
       " 'higher': 310,\n",
       " 'much': 311,\n",
       " 'less': 312,\n",
       " 'here': 313,\n",
       " 'development': 314,\n",
       " 'changes': 315,\n",
       " 'associated': 316,\n",
       " 'october': 317,\n",
       " 'er': 318,\n",
       " '100': 319,\n",
       " 'ta': 320,\n",
       " 'possible': 321,\n",
       " 'against': 322,\n",
       " 'week': 323,\n",
       " 'paper': 324,\n",
       " 'does': 325,\n",
       " 'materials': 326,\n",
       " 'support': 327,\n",
       " 'order': 328,\n",
       " 'within': 329,\n",
       " 'day': 330,\n",
       " 'af': 331,\n",
       " '17': 332,\n",
       " 'ca': 333,\n",
       " 'she': 334,\n",
       " 'june': 335,\n",
       " 'recent': 336,\n",
       " 'nonsmokers': 337,\n",
       " 'control': 338,\n",
       " 'percent': 339,\n",
       " 'without': 340,\n",
       " '14': 341,\n",
       " 'where': 342,\n",
       " 'copy': 343,\n",
       " 'role': 344,\n",
       " 'ban': 345,\n",
       " 'part': 346,\n",
       " 'might': 347,\n",
       " 'primary': 348,\n",
       " 'important': 349,\n",
       " 'companies': 350,\n",
       " 'january': 351,\n",
       " 'way': 352,\n",
       " 'om': 353,\n",
       " 'total': 354,\n",
       " 'level': 355,\n",
       " '24': 356,\n",
       " 'ine': 357,\n",
       " 'just': 358,\n",
       " 'call': 359,\n",
       " 'site': 360,\n",
       " 'association': 361,\n",
       " 'evidence': 362,\n",
       " 'specific': 363,\n",
       " 'heart': 364,\n",
       " 'men': 365,\n",
       " 'function': 366,\n",
       " '21': 367,\n",
       " 'md': 368,\n",
       " 'rat': 369,\n",
       " 'july': 370,\n",
       " 'normal': 371,\n",
       " 'take': 372,\n",
       " 'blood': 373,\n",
       " 'young': 374,\n",
       " 'proposed': 375,\n",
       " 'patients': 376,\n",
       " 'united': 377,\n",
       " 'avenue': 378,\n",
       " 'action': 379,\n",
       " '1988': 380,\n",
       " '1989': 381,\n",
       " 'second': 382,\n",
       " 'news': 383,\n",
       " 'various': 384,\n",
       " 'free': 385,\n",
       " 'tumor': 386,\n",
       " 'mice': 387,\n",
       " 'four': 388,\n",
       " '28': 389,\n",
       " '40': 390,\n",
       " 'production': 391,\n",
       " 'november': 392,\n",
       " 'times': 393,\n",
       " 'available': 394,\n",
       " 'result': 395,\n",
       " 'ea': 396,\n",
       " '1987': 397,\n",
       " 'set': 398,\n",
       " 'today': 399,\n",
       " 'jo': 400,\n",
       " 'president': 401,\n",
       " 'method': 402,\n",
       " 'process': 403,\n",
       " 'wo': 404,\n",
       " 'reynolds': 405,\n",
       " '‘': 406,\n",
       " '22': 407,\n",
       " 'must': 408,\n",
       " 'long': 409,\n",
       " 'ef': 410,\n",
       " 'good': 411,\n",
       " 'provide': 412,\n",
       " 'including': 413,\n",
       " 'mm': 414,\n",
       " 'receptors': 415,\n",
       " 'project': 416,\n",
       " 'press': 417,\n",
       " 'april': 418,\n",
       " 'box': 419,\n",
       " '23': 420,\n",
       " 'did': 421,\n",
       " 'ss': 422,\n",
       " 'february': 423,\n",
       " 'let': 424,\n",
       " 'genes': 425,\n",
       " 'ma': 426,\n",
       " 'fom': 427,\n",
       " 'death': 428,\n",
       " 'further': 429,\n",
       " 'introduction': 430,\n",
       " 'produced': 431,\n",
       " 'given': 432,\n",
       " 'ets': 433,\n",
       " 'school': 434,\n",
       " 'po': 435,\n",
       " 'nd': 436,\n",
       " 'days': 437,\n",
       " 'showed': 438,\n",
       " 'show': 439,\n",
       " 'street': 440,\n",
       " 'standard': 441,\n",
       " 'say': 442,\n",
       " 'ate': 443,\n",
       " 'either': 444,\n",
       " 'observed': 445,\n",
       " 'based': 446,\n",
       " 'september': 447,\n",
       " 'pro': 448,\n",
       " 'case': 449,\n",
       " 'area': 450,\n",
       " 'due': 451,\n",
       " 'business': 452,\n",
       " 'another': 453,\n",
       " 'k': 454,\n",
       " 'attached': 455,\n",
       " 'says': 456,\n",
       " 'director': 457,\n",
       " 'sa': 458,\n",
       " 'august': 459,\n",
       " 'best': 460,\n",
       " 'council': 461,\n",
       " 'plan': 462,\n",
       " 'robert': 463,\n",
       " '26': 464,\n",
       " 'although': 465,\n",
       " 'go': 466,\n",
       " 'society': 467,\n",
       " 'period': 468,\n",
       " 'children': 469,\n",
       " 'wil': 470,\n",
       " 'different': 471,\n",
       " 'compared': 472,\n",
       " 'eae': 473,\n",
       " 'change': 474,\n",
       " 'le': 475,\n",
       " 'known': 476,\n",
       " 'volume': 477,\n",
       " 'similar': 478,\n",
       " '«': 479,\n",
       " 'think': 480,\n",
       " 'note': 481,\n",
       " '1982': 482,\n",
       " '1986': 483,\n",
       " 'pack': 484,\n",
       " 'aa': 485,\n",
       " 'david': 486,\n",
       " 'find': 487,\n",
       " 'environmental': 488,\n",
       " 'obtained': 489,\n",
       " 'ms': 490,\n",
       " 'enclosed': 491,\n",
       " 'want': 492,\n",
       " 'government': 493,\n",
       " 'board': 494,\n",
       " 'december': 495,\n",
       " 'molecular': 496,\n",
       " '50': 497,\n",
       " 'california': 498,\n",
       " 'help': 499,\n",
       " 'current': 500,\n",
       " 'original': 501,\n",
       " 'brands': 502,\n",
       " 'fr': 503,\n",
       " 'ge': 504,\n",
       " 'thanks': 505,\n",
       " '1990': 506,\n",
       " 'brand': 507,\n",
       " 'activation': 508,\n",
       " 'ty': 509,\n",
       " 'material': 510,\n",
       " 'sincerely': 511,\n",
       " '1985': 512,\n",
       " 'come': 513,\n",
       " 'drug': 514,\n",
       " 'surgeon': 515,\n",
       " '1984': 516,\n",
       " 'message': 517,\n",
       " 'ar': 518,\n",
       " 'containing': 519,\n",
       " 'weight': 520,\n",
       " '1994': 521,\n",
       " 'market': 522,\n",
       " 'next': 523,\n",
       " 'fact': 524,\n",
       " 'exposed': 525,\n",
       " 'large': 526,\n",
       " '1992': 527,\n",
       " 'cent': 528,\n",
       " 'etal': 529,\n",
       " 'few': 530,\n",
       " 'yet': 531,\n",
       " 'issue': 532,\n",
       " 'na': 533,\n",
       " 'type': 534,\n",
       " 'forthe': 535,\n",
       " 'questions': 536,\n",
       " 'law': 537,\n",
       " 'lower': 538,\n",
       " 'ed': 539,\n",
       " '1995': 540,\n",
       " 've': 541,\n",
       " 'include': 542,\n",
       " 'determine': 543,\n",
       " 'therefore': 544,\n",
       " 'animals': 545,\n",
       " 'five': 546,\n",
       " 'ey': 547,\n",
       " 'million': 548,\n",
       " 'committee': 549,\n",
       " 'small': 550,\n",
       " 'division': 551,\n",
       " 'act': 552,\n",
       " 'previously': 553,\n",
       " 'youth': 554,\n",
       " 'every': 555,\n",
       " 'dont': 556,\n",
       " 'regulation': 557,\n",
       " 'thus': 558,\n",
       " 'rates': 559,\n",
       " 'tothe': 560,\n",
       " 'sample': 561,\n",
       " 'friday': 562,\n",
       " 'samples': 563,\n",
       " 'proposal': 564,\n",
       " 'food': 565,\n",
       " '‘a': 566,\n",
       " 'man': 567,\n",
       " 'camel': 568,\n",
       " 'right': 569,\n",
       " 'added': 570,\n",
       " 'publications': 571,\n",
       " 'treatment': 572,\n",
       " 'la': 573,\n",
       " '27': 574,\n",
       " 'smoked': 575,\n",
       " 'ap': 576,\n",
       " 'direct': 577,\n",
       " 'cases': 578,\n",
       " 'experimental': 579,\n",
       " 'give': 580,\n",
       " '1996': 581,\n",
       " 'ex': 582,\n",
       " 'os': 583,\n",
       " '1s': 584,\n",
       " 'recently': 585,\n",
       " 'groups': 586,\n",
       " 'media': 587,\n",
       " 'significant': 588,\n",
       " 'diseases': 589,\n",
       " 'sites': 590,\n",
       " 'serum': 591,\n",
       " 'far': 592,\n",
       " 'point': 593,\n",
       " 'average': 594,\n",
       " 'potential': 595,\n",
       " 'involved': 596,\n",
       " '1980': 597,\n",
       " 'members': 598,\n",
       " 'additional': 599,\n",
       " 'prepared': 600,\n",
       " 'cc': 601,\n",
       " 'filter': 602,\n",
       " 'el': 603,\n",
       " 'areas': 604,\n",
       " 'city': 605,\n",
       " '1993': 606,\n",
       " 'presence': 607,\n",
       " 'laboratory': 608,\n",
       " 'region': 609,\n",
       " 'early': 610,\n",
       " 'concentrations': 611,\n",
       " 'modified': 612,\n",
       " 'reduced': 613,\n",
       " '1991': 614,\n",
       " 'dc': 615,\n",
       " 'described': 616,\n",
       " 'passive': 617,\n",
       " 'pa': 618,\n",
       " 'tax': 619,\n",
       " 'related': 620,\n",
       " 'according': 621,\n",
       " 'already': 622,\n",
       " 'office': 623,\n",
       " 'past': 624,\n",
       " 'care': 625,\n",
       " 'journal': 626,\n",
       " 'rats': 627,\n",
       " 'kinase': 628,\n",
       " 'her': 629,\n",
       " 'programs': 630,\n",
       " 'winston': 631,\n",
       " 'monday': 632,\n",
       " 'tt': 633,\n",
       " 'amount': 634,\n",
       " 'reports': 635,\n",
       " '1999': 636,\n",
       " 'section': 637,\n",
       " 'problems': 638,\n",
       " 'legal': 639,\n",
       " 'respiratory': 640,\n",
       " 'chemical': 641,\n",
       " 'smoker': 642,\n",
       " 'acid': 643,\n",
       " 'great': 644,\n",
       " 'sequence': 645,\n",
       " 'agency': 646,\n",
       " '29': 647,\n",
       " 'light': 648,\n",
       " 'fda': 649,\n",
       " 'model': 650,\n",
       " 'chain': 651,\n",
       " 'developed': 652,\n",
       " 'warning': 653,\n",
       " 'cost': 654,\n",
       " 'ue': 655,\n",
       " 'active': 656,\n",
       " 'upon': 657,\n",
       " 'cellular': 658,\n",
       " 'basis': 659,\n",
       " 'conditions': 660,\n",
       " 'court': 661,\n",
       " 'line': 662,\n",
       " 'mg': 663,\n",
       " 'back': 664,\n",
       " 'body': 665,\n",
       " 'il': 666,\n",
       " 'called': 667,\n",
       " 'tne': 668,\n",
       " 'down': 669,\n",
       " 'carbon': 670,\n",
       " 'v': 671,\n",
       " 'types': 672,\n",
       " 'ut': 673,\n",
       " 'rna': 674,\n",
       " 'bill': 675,\n",
       " 'house': 676,\n",
       " 'indicate': 677,\n",
       " 'wa': 678,\n",
       " 'tor': 679,\n",
       " 'tho': 680,\n",
       " 'tat': 681,\n",
       " 'place': 682,\n",
       " 'reaction': 683,\n",
       " 'application': 684,\n",
       " 'complex': 685,\n",
       " 'determined': 686,\n",
       " 'interest': 687,\n",
       " 'off': 688,\n",
       " 'contains': 689,\n",
       " 'thatthe': 690,\n",
       " 'oy': 691,\n",
       " 'scientific': 692,\n",
       " 'certain': 693,\n",
       " 'county': 694,\n",
       " 'vitro': 695,\n",
       " 'suggest': 696,\n",
       " 'ina': 697,\n",
       " 'oo': 698,\n",
       " 'plasma': 699,\n",
       " 'demonstrated': 700,\n",
       " 'services': 701,\n",
       " 'causes': 702,\n",
       " '2001': 703,\n",
       " 'rom': 704,\n",
       " 'problem': 705,\n",
       " 'virginia': 706,\n",
       " 'conference': 707,\n",
       " 'issues': 708,\n",
       " 'water': 709,\n",
       " 'taste': 710,\n",
       " 'example': 711,\n",
       " 'request': 712,\n",
       " 'provided': 713,\n",
       " 'required': 714,\n",
       " 'ability': 715,\n",
       " 'induced': 716,\n",
       " '¢': 717,\n",
       " 'adult': 718,\n",
       " 'oa': 719,\n",
       " 'believe': 720,\n",
       " 'marketing': 721,\n",
       " 'membrane': 722,\n",
       " 'white': 723,\n",
       " 'park': 724,\n",
       " 'north': 725,\n",
       " 'release': 726,\n",
       " 'ane': 727,\n",
       " 'ean': 728,\n",
       " 'own': 729,\n",
       " 'tha': 730,\n",
       " 'chronic': 731,\n",
       " 'marlboro': 732,\n",
       " 'yours': 733,\n",
       " 'weeks': 734,\n",
       " 'tee': 735,\n",
       " 'prevention': 736,\n",
       " 'produce': 737,\n",
       " 'able': 738,\n",
       " 'hospital': 739,\n",
       " 'service': 740,\n",
       " 'send': 741,\n",
       " '35': 742,\n",
       " 'vol': 743,\n",
       " 'dose': 744,\n",
       " '60': 745,\n",
       " 'ow': 746,\n",
       " '1998': 747,\n",
       " 'ere': 748,\n",
       " 'never': 749,\n",
       " 'synthesis': 750,\n",
       " 'michael': 751,\n",
       " '»': 752,\n",
       " 'congress': 753,\n",
       " '31': 754,\n",
       " 'mouse': 755,\n",
       " 'ete': 756,\n",
       " 'ps': 757,\n",
       " 'ther': 758,\n",
       " 'formation': 759,\n",
       " 'above': 760,\n",
       " 'publication': 761,\n",
       " 'pulmonary': 762,\n",
       " 'richard': 763,\n",
       " 'fw': 764,\n",
       " 'asked': 765,\n",
       " 'science': 766,\n",
       " 'eg': 767,\n",
       " 'previous': 768,\n",
       " '1981': 769,\n",
       " 'wednesday': 770,\n",
       " 'lines': 771,\n",
       " 'cel': 772,\n",
       " '200': 773,\n",
       " '1983': 774,\n",
       " 'single': 775,\n",
       " 'flow': 776,\n",
       " 'mo': 777,\n",
       " 'ene': 778,\n",
       " 'relationship': 779,\n",
       " 'jr': 780,\n",
       " 'experiments': 781,\n",
       " 'below': 782,\n",
       " 'subjects': 783,\n",
       " 'distribution': 784,\n",
       " 'common': 785,\n",
       " 'regarding': 786,\n",
       " 'un': 787,\n",
       " 'too': 788,\n",
       " 'final': 789,\n",
       " 'done': 790,\n",
       " 'nc': 791,\n",
       " 'ads': 792,\n",
       " 'importance': 793,\n",
       " 'ou': 794,\n",
       " 'often': 795,\n",
       " 'ths': 796,\n",
       " 'taken': 797,\n",
       " 'relative': 798,\n",
       " 'medium': 799,\n",
       " 'surface': 800,\n",
       " 'local': 801,\n",
       " 'question': 802,\n",
       " 'virus': 803,\n",
       " '00': 804,\n",
       " 'und': 805,\n",
       " 'studied': 806,\n",
       " 'suggested': 807,\n",
       " 'least': 808,\n",
       " 'population': 809,\n",
       " 'presented': 810,\n",
       " 'full': 811,\n",
       " 'gas': 812,\n",
       " 'tested': 813,\n",
       " 'expected': 814,\n",
       " 'karen': 815,\n",
       " 'going': 816,\n",
       " 'nt': 817,\n",
       " 'grant': 818,\n",
       " 'survey': 819,\n",
       " 'future': 820,\n",
       " 'expressed': 821,\n",
       " 'coronary': 822,\n",
       " 'compounds': 823,\n",
       " 'share': 824,\n",
       " 'target': 825,\n",
       " 'complete': 826,\n",
       " 'old': 827,\n",
       " 'abstract': 828,\n",
       " 'san': 829,\n",
       " '80': 830,\n",
       " 'ave': 831,\n",
       " 'testing': 832,\n",
       " 'key': 833,\n",
       " 'increases': 834,\n",
       " 'retail': 835,\n",
       " 'fn': 836,\n",
       " 'why': 837,\n",
       " 'price': 838,\n",
       " 'sald': 839,\n",
       " 'tests': 840,\n",
       " '1997': 841,\n",
       " 'world': 842,\n",
       " 'matter': 843,\n",
       " 'ye': 844,\n",
       " 'tuesday': 845,\n",
       " 'others': 846,\n",
       " 'later': 847,\n",
       " 'op': 848,\n",
       " 'west': 849,\n",
       " 'ol': 850,\n",
       " 'tom': 851,\n",
       " 'executive': 852,\n",
       " 'hi': 853,\n",
       " 'tumors': 854,\n",
       " 'mark': 855,\n",
       " 'seen': 856,\n",
       " 'third': 857,\n",
       " 'fa': 858,\n",
       " 'him': 859,\n",
       " 'black': 860,\n",
       " 'hope': 861,\n",
       " 'ii': 862,\n",
       " 'identified': 863,\n",
       " 'wih': 864,\n",
       " 'ag': 865,\n",
       " 'indicated': 866,\n",
       " 'individual': 867,\n",
       " '‘this': 868,\n",
       " 'ai': 869,\n",
       " 'hat': 870,\n",
       " 'animal': 871,\n",
       " 'until': 872,\n",
       " 'male': 873,\n",
       " 'phase': 874,\n",
       " '“': 875,\n",
       " 'necessary': 876,\n",
       " 'size': 877,\n",
       " 'enzyme': 878,\n",
       " 'together': 879,\n",
       " 'room': 880,\n",
       " 'costs': 881,\n",
       " 'discuss': 882,\n",
       " '‘to': 883,\n",
       " 'put': 884,\n",
       " 'ever': 885,\n",
       " 'tissue': 886,\n",
       " 'administration': 887,\n",
       " 'file': 888,\n",
       " 'va': 889,\n",
       " 'birth': 890,\n",
       " 'pat': 891,\n",
       " 'smith': 892,\n",
       " 'io': 893,\n",
       " 'generals': 894,\n",
       " '1979': 895,\n",
       " 'yo': 896,\n",
       " 'top': 897,\n",
       " 'words': 898,\n",
       " 'mike': 899,\n",
       " 'thursday': 900,\n",
       " 'touched': 901,\n",
       " 'los': 902,\n",
       " 'a8': 903,\n",
       " 'promotion': 904,\n",
       " 'months': 905,\n",
       " 'ws': 906,\n",
       " 'address': 907,\n",
       " 'contain': 908,\n",
       " 'appears': 909,\n",
       " 'prior': 910,\n",
       " 'findings': 911,\n",
       " 'caused': 912,\n",
       " 'annual': 913,\n",
       " 'tae': 914,\n",
       " 'ba': 915,\n",
       " 'deaths': 916,\n",
       " 'trom': 917,\n",
       " 'fax': 918,\n",
       " 'vivo': 919,\n",
       " 'fs': 920,\n",
       " 'bs': 921,\n",
       " '1978': 922,\n",
       " '°': 923,\n",
       " 'concentration': 924,\n",
       " 'lights': 925,\n",
       " 'course': 926,\n",
       " 'summary': 927,\n",
       " 'hy': 928,\n",
       " 'thank': 929,\n",
       " 'sure': 930,\n",
       " 'ha': 931,\n",
       " 'copies': 932,\n",
       " 'table': 933,\n",
       " 'pressure': 934,\n",
       " 'thet': 935,\n",
       " 'menthol': 936,\n",
       " 'oh': 937,\n",
       " 'family': 938,\n",
       " 'atthe': 939,\n",
       " 'transcription': 940,\n",
       " 'life': 941,\n",
       " 'probably': 942,\n",
       " 'flavor': 943,\n",
       " 'brown': 944,\n",
       " 'corp': 945,\n",
       " 'series': 946,\n",
       " 'ten': 947,\n",
       " 'ite': 948,\n",
       " 'appear': 949,\n",
       " 'domain': 950,\n",
       " 'manager': 951,\n",
       " 'status': 952,\n",
       " 'contract': 953,\n",
       " 'agreement': 954,\n",
       " 'currently': 955,\n",
       " 'home': 956,\n",
       " 'ig': 957,\n",
       " 'induction': 958,\n",
       " '90': 959,\n",
       " 'eo': 960,\n",
       " 'still': 961,\n",
       " 'quality': 962,\n",
       " 'attention': 963,\n",
       " 'require': 964,\n",
       " 'directly': 965,\n",
       " 'approach': 966,\n",
       " 'procedure': 967,\n",
       " 'followed': 968,\n",
       " 'cal': 969,\n",
       " 'sn': 970,\n",
       " 'team': 971,\n",
       " 'considered': 972,\n",
       " 'vice': 973,\n",
       " 'special': 974,\n",
       " 'timn': 975,\n",
       " 'mean': 976,\n",
       " 'keep': 977,\n",
       " 'pay': 978,\n",
       " 'campaign': 979,\n",
       " 'conducted': 980,\n",
       " 'ng': 981,\n",
       " 'published': 982,\n",
       " 'approximately': 983,\n",
       " 'via': 984,\n",
       " 'mi': 985,\n",
       " 'ton': 986,\n",
       " 'money': 987,\n",
       " 'clinical': 988,\n",
       " 'working': 989,\n",
       " 'non': 990,\n",
       " 'list': 991,\n",
       " 'culture': 992,\n",
       " 'events': 993,\n",
       " 'rj': 994,\n",
       " 'forward': 995,\n",
       " 'little': 996,\n",
       " 'forms': 997,\n",
       " 'ra': 998,\n",
       " 'james': 999,\n",
       " 'che': 1000,\n",
       " ...}"
      ]
     },
     "execution_count": 174,
     "metadata": {},
     "output_type": "execute_result"
    }
   ],
   "source": [
    "tokenizer.word_index"
   ]
  },
  {
   "cell_type": "code",
   "execution_count": 175,
   "metadata": {},
   "outputs": [
    {
     "data": {
      "text/plain": [
       "2441"
      ]
     },
     "execution_count": 175,
     "metadata": {},
     "output_type": "execute_result"
    }
   ],
   "source": [
    "# count no of sentences or rows\n",
    "tokenizer.document_count"
   ]
  },
  {
   "cell_type": "code",
   "execution_count": 290,
   "metadata": {},
   "outputs": [],
   "source": [
    "X_train_sequences = tokenizer.texts_to_sequences(X_train)\n"
   ]
  },
  {
   "cell_type": "code",
   "execution_count": 270,
   "metadata": {},
   "outputs": [],
   "source": [
    "X_test_sequences = tokenizer.texts_to_sequences(X_test)"
   ]
  },
  {
   "cell_type": "code",
   "execution_count": 271,
   "metadata": {},
   "outputs": [],
   "source": [
    "X_train_padded_sequences = pad_sequences(sequences=X_train_sequences,padding=\"post\",maxlen=100)\n",
    "X_test_padded_sequences = pad_sequences(sequences=X_test_sequences,padding=\"post\",maxlen=100)"
   ]
  },
  {
   "cell_type": "code",
   "execution_count": 272,
   "metadata": {},
   "outputs": [
    {
     "data": {
      "text/plain": [
       "((1952, 100), (489, 100))"
      ]
     },
     "execution_count": 272,
     "metadata": {},
     "output_type": "execute_result"
    }
   ],
   "source": [
    "X_train_padded_sequences.shape,X_test_padded_sequences.shape"
   ]
  },
  {
   "cell_type": "markdown",
   "metadata": {},
   "source": [
    "# Model Building DL"
   ]
  },
  {
   "cell_type": "code",
   "execution_count": 305,
   "metadata": {},
   "outputs": [],
   "source": [
    "\n",
    "vocab_size = len(tokenizer.word_index) + 1\n",
    "model = Sequential()\n",
    "model.add(Embedding(input_dim=vocab_size, output_dim=50, input_length=100))\n",
    "model.add(LSTM(units=50, return_sequences=True))\n",
    "model.add(LSTM(units=50))\n",
    "model.add(Dense(units=5, activation='softmax'))"
   ]
  },
  {
   "cell_type": "code",
   "execution_count": null,
   "metadata": {},
   "outputs": [],
   "source": []
  },
  {
   "cell_type": "code",
   "execution_count": 306,
   "metadata": {},
   "outputs": [],
   "source": [
    "model.compile(loss='sparse_categorical_crossentropy',optimizer='adam',metrics=['accuracy'])"
   ]
  },
  {
   "cell_type": "code",
   "execution_count": 307,
   "metadata": {},
   "outputs": [
    {
     "name": "stdout",
     "output_type": "stream",
     "text": [
      "Epoch 1/20\n"
     ]
    },
    {
     "name": "stdout",
     "output_type": "stream",
     "text": [
      "61/61 [==============================] - 16s 164ms/step - loss: 1.4833 - accuracy: 0.3253 - val_loss: 1.3985 - val_accuracy: 0.3885\n",
      "Epoch 2/20\n",
      "61/61 [==============================] - 8s 137ms/step - loss: 1.1385 - accuracy: 0.5364 - val_loss: 1.2253 - val_accuracy: 0.4908\n",
      "Epoch 3/20\n",
      "61/61 [==============================] - 8s 136ms/step - loss: 0.7840 - accuracy: 0.7157 - val_loss: 1.2804 - val_accuracy: 0.5256\n",
      "Epoch 4/20\n",
      "61/61 [==============================] - 8s 132ms/step - loss: 0.4805 - accuracy: 0.8525 - val_loss: 1.3016 - val_accuracy: 0.5603\n",
      "Epoch 5/20\n",
      "61/61 [==============================] - 10s 168ms/step - loss: 0.3390 - accuracy: 0.9042 - val_loss: 1.4935 - val_accuracy: 0.5460\n",
      "Epoch 6/20\n",
      "61/61 [==============================] - 8s 134ms/step - loss: 0.2716 - accuracy: 0.9206 - val_loss: 1.6571 - val_accuracy: 0.5562\n",
      "Epoch 7/20\n",
      "61/61 [==============================] - 10s 166ms/step - loss: 0.3490 - accuracy: 0.8940 - val_loss: 1.3219 - val_accuracy: 0.6094\n",
      "Epoch 8/20\n",
      "61/61 [==============================] - 14s 237ms/step - loss: 0.2491 - accuracy: 0.9278 - val_loss: 1.6844 - val_accuracy: 0.5828\n",
      "Epoch 9/20\n",
      "61/61 [==============================] - 14s 225ms/step - loss: 0.1713 - accuracy: 0.9483 - val_loss: 1.5308 - val_accuracy: 0.5746\n",
      "Epoch 10/20\n",
      "61/61 [==============================] - 12s 191ms/step - loss: 0.1669 - accuracy: 0.9524 - val_loss: 1.6838 - val_accuracy: 0.5624\n",
      "Epoch 11/20\n",
      "61/61 [==============================] - 9s 139ms/step - loss: 0.1289 - accuracy: 0.9616 - val_loss: 1.6793 - val_accuracy: 0.5808\n",
      "Epoch 12/20\n",
      "61/61 [==============================] - 8s 139ms/step - loss: 0.1557 - accuracy: 0.9559 - val_loss: 1.5617 - val_accuracy: 0.5787\n",
      "Epoch 13/20\n",
      "61/61 [==============================] - 8s 126ms/step - loss: 0.1344 - accuracy: 0.9631 - val_loss: 1.5108 - val_accuracy: 0.5951\n",
      "Epoch 14/20\n",
      "61/61 [==============================] - 8s 124ms/step - loss: 0.1515 - accuracy: 0.9565 - val_loss: 1.6645 - val_accuracy: 0.6094\n",
      "Epoch 15/20\n",
      "61/61 [==============================] - 8s 125ms/step - loss: 0.1186 - accuracy: 0.9667 - val_loss: 1.7560 - val_accuracy: 0.5808\n",
      "Epoch 16/20\n",
      "61/61 [==============================] - 10s 157ms/step - loss: 0.0992 - accuracy: 0.9677 - val_loss: 1.9203 - val_accuracy: 0.5746\n",
      "Epoch 17/20\n",
      "61/61 [==============================] - 9s 151ms/step - loss: 0.1053 - accuracy: 0.9636 - val_loss: 1.7202 - val_accuracy: 0.5890\n",
      "Epoch 18/20\n",
      "61/61 [==============================] - 9s 147ms/step - loss: 0.0964 - accuracy: 0.9641 - val_loss: 1.8728 - val_accuracy: 0.5583\n",
      "Epoch 19/20\n",
      "61/61 [==============================] - 11s 173ms/step - loss: 0.0910 - accuracy: 0.9693 - val_loss: 1.7503 - val_accuracy: 0.5890\n",
      "Epoch 20/20\n",
      "61/61 [==============================] - 11s 179ms/step - loss: 0.0687 - accuracy: 0.9723 - val_loss: 1.8632 - val_accuracy: 0.5706\n"
     ]
    },
    {
     "data": {
      "text/plain": [
       "<keras.src.callbacks.History at 0x1ff268c1810>"
      ]
     },
     "execution_count": 307,
     "metadata": {},
     "output_type": "execute_result"
    }
   ],
   "source": [
    "model.fit(X_train_padded_sequences,y_train,epochs=20,validation_data=(X_test_padded_sequences,y_test))\n"
   ]
  },
  {
   "cell_type": "code",
   "execution_count": null,
   "metadata": {},
   "outputs": [],
   "source": [
    "# Using LSTM we achieve highest accuracy of around 97%"
   ]
  }
 ],
 "metadata": {
  "kernelspec": {
   "display_name": "base",
   "language": "python",
   "name": "python3"
  },
  "language_info": {
   "codemirror_mode": {
    "name": "ipython",
    "version": 3
   },
   "file_extension": ".py",
   "mimetype": "text/x-python",
   "name": "python",
   "nbconvert_exporter": "python",
   "pygments_lexer": "ipython3",
   "version": "3.11.5"
  }
 },
 "nbformat": 4,
 "nbformat_minor": 2
}
